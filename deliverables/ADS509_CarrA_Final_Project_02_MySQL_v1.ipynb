{
 "cells": [
  {
   "cell_type": "markdown",
   "id": "72e49e21-4b1f-4603-a619-84b9e1998f03",
   "metadata": {},
   "source": [
    "# 509 Final Project"
   ]
  },
  {
   "cell_type": "markdown",
   "id": "fec03d81-b96e-4645-b418-204009631f40",
   "metadata": {},
   "source": [
    "This notebook queries the URLs from the MySQL table, scrapes the entire URL HTML contents, then inserts it into a pandas dataframe. The scraped data is then persisted in two ways: 1) The HTML content is written it back to another column in the MySQL table; 2) A copy of the full DF is written to a CSV file for further processing (i.e., processing)."
   ]
  },
  {
   "cell_type": "markdown",
   "id": "81c57862-dbc2-4515-b62e-14adccbf6d2b",
   "metadata": {},
   "source": [
    "## Globally import libraries"
   ]
  },
  {
   "cell_type": "code",
   "execution_count": 1,
   "id": "f3c1e3ef-8619-4237-88c3-e4a06edaf6c5",
   "metadata": {},
   "outputs": [],
   "source": [
    "import numpy as np\n",
    "import pandas as pd\n",
    "import pymysql as mysql\n",
    "import matplotlib.pyplot as plt\n",
    "import os\n",
    "import shutil\n",
    "import re\n",
    "import logging\n",
    "import time\n",
    "import zipfile\n",
    "import requests\n",
    "from bs4 import BeautifulSoup\n",
    "import datetime as dt\n",
    "import re\n",
    "import regex as rex\n",
    "from collections import defaultdict, Counter\n",
    "import random\n",
    "#import mysql.connector\n",
    "\n",
    "# Set pandas global options\n",
    "pd.options.display.max_rows = 17"
   ]
  },
  {
   "cell_type": "markdown",
   "id": "d1823454-8427-4340-8a71-dd73fdf9932f",
   "metadata": {},
   "source": [
    "## Initiate MySQL connection"
   ]
  },
  {
   "cell_type": "code",
   "execution_count": 2,
   "id": "0d1e9561-e376-4262-aa6f-c59d45124989",
   "metadata": {},
   "outputs": [],
   "source": [
    "'''Set local environment variables to hide user name & password citation:\n",
    "https://www.geeksforgeeks.org/how-to-hide-sensitive-credentials-using-python/\n",
    "'''\n",
    "user_name = os.environ['MySQLUSRAC']\n",
    "user_pass = os.environ['MySQLPWDAC']\n",
    "\n",
    "# Instantiate connection\n",
    "db_conn = mysql.connect(host='localhost',\n",
    "                        port=int(3306),\n",
    "                        user=user_name,\n",
    "                        passwd=user_pass,\n",
    "                        db='509_final_proj')\n",
    "\n",
    "# Create a cursor object\n",
    "cursor = db_conn.cursor()"
   ]
  },
  {
   "cell_type": "code",
   "execution_count": 3,
   "id": "e753d762-a5ea-455a-8db6-b329eed96d1f",
   "metadata": {},
   "outputs": [
    {
     "name": "stderr",
     "output_type": "stream",
     "text": [
      "C:\\Users\\acarr\\AppData\\Local\\Temp\\ipykernel_26388\\4193860975.py:1: UserWarning: pandas only supports SQLAlchemy connectable (engine/connection) or database string URI or sqlite3 DBAPI2 connection. Other DBAPI2 objects are not tested. Please consider using SQLAlchemy.\n",
      "  tbl_names = pd.read_sql('SHOW TABLES', db_conn)\n"
     ]
    },
    {
     "data": {
      "text/html": [
       "<div>\n",
       "<style scoped>\n",
       "    .dataframe tbody tr th:only-of-type {\n",
       "        vertical-align: middle;\n",
       "    }\n",
       "\n",
       "    .dataframe tbody tr th {\n",
       "        vertical-align: top;\n",
       "    }\n",
       "\n",
       "    .dataframe thead th {\n",
       "        text-align: right;\n",
       "    }\n",
       "</style>\n",
       "<table border=\"1\" class=\"dataframe\">\n",
       "  <thead>\n",
       "    <tr style=\"text-align: right;\">\n",
       "      <th></th>\n",
       "      <th>Tables_in_509_final_proj</th>\n",
       "    </tr>\n",
       "  </thead>\n",
       "  <tbody>\n",
       "    <tr>\n",
       "      <th>0</th>\n",
       "      <td>nar_temp</td>\n",
       "    </tr>\n",
       "    <tr>\n",
       "      <th>1</th>\n",
       "      <td>news_articles</td>\n",
       "    </tr>\n",
       "  </tbody>\n",
       "</table>\n",
       "</div>"
      ],
      "text/plain": [
       "  Tables_in_509_final_proj\n",
       "0                 nar_temp\n",
       "1            news_articles"
      ]
     },
     "metadata": {},
     "output_type": "display_data"
    },
    {
     "name": "stdout",
     "output_type": "stream",
     "text": [
      "<class 'pandas.core.frame.DataFrame'>\n"
     ]
    }
   ],
   "source": [
    "tbl_names = pd.read_sql('SHOW TABLES', db_conn)\n",
    "\n",
    "display(tbl_names)\n",
    "print(type(tbl_names))"
   ]
  },
  {
   "cell_type": "markdown",
   "id": "407a93fd-877a-4508-8eeb-7bf07ba7acb6",
   "metadata": {},
   "source": [
    "### Establish logging policy"
   ]
  },
  {
   "cell_type": "code",
   "execution_count": 4,
   "id": "45f9b045-77c7-46b9-98ed-cb15b224bf27",
   "metadata": {},
   "outputs": [],
   "source": [
    "'''Logging citations (see additional code in following code blocks:\n",
    "OpenAI. (2021). ChatGPT [Computer software]. https://openai.com/;\n",
    "https://docs.python.org/3/howto/logging.html#logging-basic-example;\n",
    "https://docs.python.org/3/howto/logging.html#logging-to-a-file;\n",
    "https://docs.python.org/3/howto\n",
    "/logging-cookbook.html#using-a-rotating-log-file-handler;\n",
    "https://docs.python.org/3/howto\n",
    "/logging-cookbook.html#using-a-timed-rotating-file-handler\n",
    "'''\n",
    "# Set up logging\n",
    "logging.basicConfig(level=logging.INFO,\n",
    "                    filename='pymysql.log',\n",
    "                    filemode='a',\n",
    "                    format='''>>>>>>>>>>>>>><<<<<<<<<<<<<<\\n%(asctime)s - \n",
    "                    %(levelname)s - %(message)s''')"
   ]
  },
  {
   "cell_type": "markdown",
   "id": "812bce99-3c01-4a1d-b0c5-e931bb003b33",
   "metadata": {},
   "source": [
    "### Read URLs from MySQL table to perform web scraping"
   ]
  },
  {
   "cell_type": "code",
   "execution_count": 5,
   "id": "27275fbf-73e7-4f18-9418-2911f59aa1e3",
   "metadata": {},
   "outputs": [],
   "source": [
    "nat_tbl_name = 'nar_temp'\n",
    "nwa_tbl_name = 'news_articles'"
   ]
  },
  {
   "cell_type": "code",
   "execution_count": 6,
   "id": "a8a0c6e4-aa08-4cd4-ac9c-c5b098a3ad51",
   "metadata": {},
   "outputs": [
    {
     "name": "stdout",
     "output_type": "stream",
     "text": [
      "URL Count: 6283\n",
      "\n",
      "    SELECT url FROM news_articles\n",
      "    WHERE article_text IS NULL\n",
      "    AND (source_name=\"CNN\"\n",
      "        OR source_name=\"The Washington Post\"\n",
      "        OR source_name=\"Fox News\"\n",
      "        OR source_name=\"Slate Magazine\"\n",
      "        OR source_name=\"Vox\"\n",
      "        OR source_name=\"Breitbart News\")\n",
      "    LIMIT 10000\n",
      "    OFFSET 0\n",
      "    \n",
      "URL batch size: 41\n",
      "Response: 404\n",
      "Response: 404\n",
      ".......................................Start Time = 2023-06-18 00:56:01.517790\n",
      "End Time = 2023-06-18 01:15:26.593576\n",
      "Elapsed Time = 0:19:25.075786\n"
     ]
    }
   ],
   "source": [
    "'''Connect to MqSQL table in batches citation:\n",
    "OpenAI. (2021). ChatGPT [Computer software]. https://openai.com/\n",
    "'''\n",
    "\n",
    "# Batch size (number of URLs to process at a time)\n",
    "batch_size = 10000\n",
    "\n",
    "# Get the total number of URLs in the table\n",
    "count_query = f\"SELECT COUNT(*) FROM {nwa_tbl_name}\"\n",
    "cursor.execute(count_query)\n",
    "total_urls = cursor.fetchone()[0]\n",
    "print(f'URL Count: {total_urls}')\n",
    "\n",
    "# Start timer\n",
    "start_time = dt.datetime.today()\n",
    "\n",
    "# Calculate the number of batches required\n",
    "num_batches = (total_urls // batch_size) + 1\n",
    "\n",
    "# Process URLs in batches\n",
    "for batch in range(num_batches):\n",
    "    offset = batch * batch_size\n",
    "\n",
    "    # Retrieve URLs from the MySQL table in the current batch\n",
    "    query = f'''\n",
    "    SELECT url FROM {nwa_tbl_name}\n",
    "    WHERE article_text IS NULL\n",
    "    AND (source_name=\"CNN\"\n",
    "        OR source_name=\"The Washington Post\"\n",
    "        OR source_name=\"Fox News\"\n",
    "        OR source_name=\"Slate Magazine\"\n",
    "        OR source_name=\"Vox\"\n",
    "        OR source_name=\"Breitbart News\")\n",
    "    LIMIT {batch_size}\n",
    "    OFFSET {offset}\n",
    "    '''\n",
    "    \n",
    "    print(query)\n",
    "    cursor.execute(query)\n",
    "    urls = cursor.fetchall()\n",
    "    print(f'URL batch size: {len(urls)}')\n",
    "\n",
    "    # Iterate over the URLs and scrape their contents\n",
    "    for url in urls:\n",
    "        url = url[0]  # Extract the URL from the tuple\n",
    "\n",
    "        # Make an HTTP request to the URL\n",
    "        response = requests.get(url)\n",
    "        time.sleep(5 + 11 * random.random())\n",
    "\n",
    "        # Check if the request was successful\n",
    "        if response.status_code == 200:\n",
    "            # Parse the HTML content using BeautifulSoup\n",
    "            soup = BeautifulSoup(response.content, 'html.parser')\n",
    "\n",
    "            # Extract the raw text from the HTML\n",
    "            #print(soup.prettify())\n",
    "            #raw_text = soup.get_text()\n",
    "            raw_text = soup.prettify()\n",
    "\n",
    "\n",
    "            # Update the MySQL table with the scraped text\n",
    "            update_query = '''\n",
    "            UPDATE news_articles SET article_text = %s\n",
    "            WHERE url = %s\n",
    "            '''\n",
    "            \n",
    "            print('.', end='')\n",
    "            #print(update_query)\n",
    "            cursor.execute(update_query, (raw_text, url))\n",
    "            db_conn.commit()\n",
    "        else:\n",
    "            print(f'Response: {response.status_code}')\n",
    "            \n",
    "# End timer script\n",
    "end_time = dt.datetime.today()\n",
    "time_elapse = end_time - start_time\n",
    "print(f'Start Time = {start_time}')\n",
    "print(f'End Time = {end_time}')\n",
    "print(f'Elapsed Time = {time_elapse}')"
   ]
  },
  {
   "cell_type": "markdown",
   "id": "13260755-a2e9-43e8-9e5c-26aedd04b6b9",
   "metadata": {},
   "source": [
    "### Send MySQL records to CSV"
   ]
  },
  {
   "cell_type": "code",
   "execution_count": 7,
   "id": "9d3c33e6-e2b2-4795-972b-180f92d00cce",
   "metadata": {},
   "outputs": [
    {
     "name": "stderr",
     "output_type": "stream",
     "text": [
      "C:\\Users\\acarr\\AppData\\Local\\Temp\\ipykernel_26388\\1187134288.py:1: UserWarning: pandas only supports SQLAlchemy connectable (engine/connection) or database string URI or sqlite3 DBAPI2 connection. Other DBAPI2 objects are not tested. Please consider using SQLAlchemy.\n",
      "  slct_tbl_full_df01 = pd.read_sql(\n"
     ]
    }
   ],
   "source": [
    "slct_tbl_full_df01 = pd.read_sql(\n",
    "                                '''\n",
    "                                SELECT * FROM news_articles\n",
    "                                WHERE article_text IS NOT NULL\n",
    "                                    AND (source_name=\"CNN\"\n",
    "                                    OR source_name=\"The Washington Post\"\n",
    "                                    OR source_name=\"Fox News\"\n",
    "                                    OR source_name=\"Slate Magazine\"\n",
    "                                    OR source_name=\"Vox\"\n",
    "                                    OR source_name=\"Breitbart News\")\n",
    "                                ''',\n",
    "                                db_conn)"
   ]
  },
  {
   "cell_type": "code",
   "execution_count": 8,
   "id": "a1d3a8f2-dfcc-4f36-b703-18cf7e8d04dc",
   "metadata": {},
   "outputs": [
    {
     "name": "stdout",
     "output_type": "stream",
     "text": [
      "C:\\Users\\acarr\\Documents\\GitHub\\ADS509_Final_project\\deliverables\n",
      "C:\\Users\\acarr\\Documents\\GitHub\\ADS509_Final_project\n"
     ]
    }
   ],
   "source": [
    "'''Dir nav citation:\n",
    "https://softhints.com/python-change-directory-parent/\n",
    "'''\n",
    "curr_dir = os.path.abspath(os.curdir)\n",
    "print(curr_dir)\n",
    "os.chdir(\"..\")\n",
    "up1_dir = os.path.abspath(os.curdir)\n",
    "print(up1_dir)"
   ]
  },
  {
   "cell_type": "code",
   "execution_count": 9,
   "id": "ad489c8c-19e5-4f01-8beb-bc9bb7d25f32",
   "metadata": {},
   "outputs": [
    {
     "name": "stdout",
     "output_type": "stream",
     "text": [
      "CSV file path: C:\\Users\\acarr\\Documents\\GitHub\\ADS509_Final_project\\data_restricted\\data_raw_amc.csv\n"
     ]
    }
   ],
   "source": [
    "# change `data_location` to the location of the folder on your machine.\n",
    "data_location = 'data_restricted'\n",
    "\n",
    "file_name = 'data_raw_amc.csv'\n",
    "\n",
    "file_path = os.path.join(up1_dir, data_location, file_name)\n",
    "\n",
    "print(f'CSV file path: {file_path}')"
   ]
  },
  {
   "cell_type": "code",
   "execution_count": 10,
   "id": "6e212da7-9589-4775-9663-2be31c7349ff",
   "metadata": {},
   "outputs": [],
   "source": [
    "slct_tbl_full_df01.to_csv(file_path, index=False)"
   ]
  },
  {
   "cell_type": "code",
   "execution_count": 11,
   "id": "f59c3507-0d71-44aa-949c-27dc5397999e",
   "metadata": {},
   "outputs": [
    {
     "name": "stdout",
     "output_type": "stream",
     "text": [
      "<class 'pandas.core.frame.DataFrame'>\n"
     ]
    },
    {
     "data": {
      "text/html": [
       "<div>\n",
       "<style scoped>\n",
       "    .dataframe tbody tr th:only-of-type {\n",
       "        vertical-align: middle;\n",
       "    }\n",
       "\n",
       "    .dataframe tbody tr th {\n",
       "        vertical-align: top;\n",
       "    }\n",
       "\n",
       "    .dataframe thead th {\n",
       "        text-align: right;\n",
       "    }\n",
       "</style>\n",
       "<table border=\"1\" class=\"dataframe\">\n",
       "  <thead>\n",
       "    <tr style=\"text-align: right;\">\n",
       "      <th></th>\n",
       "      <th>text_id</th>\n",
       "      <th>source_name</th>\n",
       "      <th>author</th>\n",
       "      <th>title</th>\n",
       "      <th>url</th>\n",
       "      <th>publish_date</th>\n",
       "      <th>article_text</th>\n",
       "      <th>content</th>\n",
       "    </tr>\n",
       "  </thead>\n",
       "  <tbody>\n",
       "    <tr>\n",
       "      <th>0</th>\n",
       "      <td>1</td>\n",
       "      <td>CNN</td>\n",
       "      <td>Clare Foran,Nicky Robertson</td>\n",
       "      <td>Senate races to avert default but vote timing ...</td>\n",
       "      <td>https://www.cnn.com/2023/06/01/politics/senate...</td>\n",
       "      <td>2023-06-01T09:00:40Z</td>\n",
       "      <td>&lt;!DOCTYPE html&gt;\\n&lt;html data-layout-uri=\"cms.cn...</td>\n",
       "      <td>None</td>\n",
       "    </tr>\n",
       "    <tr>\n",
       "      <th>1</th>\n",
       "      <td>2</td>\n",
       "      <td>Fox News</td>\n",
       "      <td>Paul Steinhauser</td>\n",
       "      <td>First on Fox: Pro-Tim Scott super PAC launches...</td>\n",
       "      <td>https://www.foxnews.com/politics/pro-scott-sup...</td>\n",
       "      <td>2023-06-01T16:12:56Z</td>\n",
       "      <td>&lt;!DOCTYPE html&gt;\\n&lt;html data-n-head=\"%7B%22lang...</td>\n",
       "      <td>None</td>\n",
       "    </tr>\n",
       "    <tr>\n",
       "      <th>2</th>\n",
       "      <td>3</td>\n",
       "      <td>Fox News</td>\n",
       "      <td>Greg Wehner</td>\n",
       "      <td>Pennsylvania bus driver allegedly used duct ta...</td>\n",
       "      <td>https://www.foxnews.com/us/pennsylvania-bus-dr...</td>\n",
       "      <td>2023-05-31T00:21:20Z</td>\n",
       "      <td>&lt;!DOCTYPE html&gt;\\n&lt;html data-n-head=\"%7B%22lang...</td>\n",
       "      <td>None</td>\n",
       "    </tr>\n",
       "    <tr>\n",
       "      <th>3</th>\n",
       "      <td>4</td>\n",
       "      <td>Fox News</td>\n",
       "      <td>Michael Ruiz</td>\n",
       "      <td>Bob Lee murder: Cash App founder seen with sus...</td>\n",
       "      <td>https://www.foxnews.com/us/bob-lee-murder-cash...</td>\n",
       "      <td>2023-05-31T20:30:12Z</td>\n",
       "      <td>&lt;!DOCTYPE html&gt;\\n&lt;html data-n-head=\"%7B%22lang...</td>\n",
       "      <td>None</td>\n",
       "    </tr>\n",
       "    <tr>\n",
       "      <th>4</th>\n",
       "      <td>5</td>\n",
       "      <td>Fox News</td>\n",
       "      <td>Brooke Singman</td>\n",
       "      <td>Senate GOP demands answers on security clearan...</td>\n",
       "      <td>https://www.foxnews.com/politics/senate-gop-de...</td>\n",
       "      <td>2023-05-31T22:11:38Z</td>\n",
       "      <td>&lt;!DOCTYPE html&gt;\\n&lt;html data-n-head=\"%7B%22lang...</td>\n",
       "      <td>None</td>\n",
       "    </tr>\n",
       "    <tr>\n",
       "      <th>5</th>\n",
       "      <td>6</td>\n",
       "      <td>Fox News</td>\n",
       "      <td>Peter Kasperowicz</td>\n",
       "      <td>Will AI ever be smart enough to decipher feder...</td>\n",
       "      <td>https://www.foxnews.com/politics/ai-smart-enou...</td>\n",
       "      <td>2023-06-01T06:00:30Z</td>\n",
       "      <td>&lt;!DOCTYPE html&gt;\\n&lt;html data-n-head=\"%7B%22lang...</td>\n",
       "      <td>None</td>\n",
       "    </tr>\n",
       "    <tr>\n",
       "      <th>6</th>\n",
       "      <td>7</td>\n",
       "      <td>Fox News</td>\n",
       "      <td>Fox News Staff</td>\n",
       "      <td>SEAN HANNITY: Here's what you need to know abo...</td>\n",
       "      <td>https://www.foxnews.com/media/sean-hannity-her...</td>\n",
       "      <td>2023-05-31T02:53:55Z</td>\n",
       "      <td>&lt;!DOCTYPE html&gt;\\n&lt;html data-n-head=\"%7B%22lang...</td>\n",
       "      <td>None</td>\n",
       "    </tr>\n",
       "    <tr>\n",
       "      <th>7</th>\n",
       "      <td>8</td>\n",
       "      <td>Fox News</td>\n",
       "      <td>Melissa Rudy</td>\n",
       "      <td>Ozempic, Wegovy and pregnancy risk: What you n...</td>\n",
       "      <td>https://www.foxnews.com/health/ozempic-wegovy-...</td>\n",
       "      <td>2023-06-01T15:58:10Z</td>\n",
       "      <td>&lt;!DOCTYPE html&gt;\\n&lt;html data-n-head=\"%7B%22lang...</td>\n",
       "      <td>None</td>\n",
       "    </tr>\n",
       "    <tr>\n",
       "      <th>8</th>\n",
       "      <td>9</td>\n",
       "      <td>Fox News</td>\n",
       "      <td>Associated Press</td>\n",
       "      <td>NATO ramps up pressure on Turkey to drop objec...</td>\n",
       "      <td>https://www.foxnews.com/world/nato-ramps-press...</td>\n",
       "      <td>2023-06-01T16:54:03Z</td>\n",
       "      <td>&lt;!DOCTYPE html&gt;\\n&lt;html data-n-head=\"%7B%22lang...</td>\n",
       "      <td>None</td>\n",
       "    </tr>\n",
       "    <tr>\n",
       "      <th>9</th>\n",
       "      <td>10</td>\n",
       "      <td>Fox News</td>\n",
       "      <td>Fox News Staff</td>\n",
       "      <td>Mike Lee goes off on Biden-McCarthy debt ceili...</td>\n",
       "      <td>https://www.foxnews.com/media/mike-lee-goes-bi...</td>\n",
       "      <td>2023-06-01T17:00:26Z</td>\n",
       "      <td>&lt;!DOCTYPE html&gt;\\n&lt;html data-n-head=\"%7B%22lang...</td>\n",
       "      <td>None</td>\n",
       "    </tr>\n",
       "    <tr>\n",
       "      <th>10</th>\n",
       "      <td>11</td>\n",
       "      <td>Fox News</td>\n",
       "      <td>Associated Press</td>\n",
       "      <td>Indiana police officer, suspect hospitalized f...</td>\n",
       "      <td>https://www.foxnews.com/us/southern-indiana-po...</td>\n",
       "      <td>2023-05-31T12:39:31Z</td>\n",
       "      <td>&lt;!DOCTYPE html&gt;\\n&lt;html data-n-head=\"%7B%22lang...</td>\n",
       "      <td>None</td>\n",
       "    </tr>\n",
       "  </tbody>\n",
       "</table>\n",
       "</div>"
      ],
      "text/plain": [
       "    text_id source_name                       author  \\\n",
       "0         1         CNN  Clare Foran,Nicky Robertson   \n",
       "1         2    Fox News             Paul Steinhauser   \n",
       "2         3    Fox News                  Greg Wehner   \n",
       "3         4    Fox News                 Michael Ruiz   \n",
       "4         5    Fox News               Brooke Singman   \n",
       "5         6    Fox News            Peter Kasperowicz   \n",
       "6         7    Fox News               Fox News Staff   \n",
       "7         8    Fox News                 Melissa Rudy   \n",
       "8         9    Fox News             Associated Press   \n",
       "9        10    Fox News               Fox News Staff   \n",
       "10       11    Fox News             Associated Press   \n",
       "\n",
       "                                                title  \\\n",
       "0   Senate races to avert default but vote timing ...   \n",
       "1   First on Fox: Pro-Tim Scott super PAC launches...   \n",
       "2   Pennsylvania bus driver allegedly used duct ta...   \n",
       "3   Bob Lee murder: Cash App founder seen with sus...   \n",
       "4   Senate GOP demands answers on security clearan...   \n",
       "5   Will AI ever be smart enough to decipher feder...   \n",
       "6   SEAN HANNITY: Here's what you need to know abo...   \n",
       "7   Ozempic, Wegovy and pregnancy risk: What you n...   \n",
       "8   NATO ramps up pressure on Turkey to drop objec...   \n",
       "9   Mike Lee goes off on Biden-McCarthy debt ceili...   \n",
       "10  Indiana police officer, suspect hospitalized f...   \n",
       "\n",
       "                                                  url          publish_date  \\\n",
       "0   https://www.cnn.com/2023/06/01/politics/senate...  2023-06-01T09:00:40Z   \n",
       "1   https://www.foxnews.com/politics/pro-scott-sup...  2023-06-01T16:12:56Z   \n",
       "2   https://www.foxnews.com/us/pennsylvania-bus-dr...  2023-05-31T00:21:20Z   \n",
       "3   https://www.foxnews.com/us/bob-lee-murder-cash...  2023-05-31T20:30:12Z   \n",
       "4   https://www.foxnews.com/politics/senate-gop-de...  2023-05-31T22:11:38Z   \n",
       "5   https://www.foxnews.com/politics/ai-smart-enou...  2023-06-01T06:00:30Z   \n",
       "6   https://www.foxnews.com/media/sean-hannity-her...  2023-05-31T02:53:55Z   \n",
       "7   https://www.foxnews.com/health/ozempic-wegovy-...  2023-06-01T15:58:10Z   \n",
       "8   https://www.foxnews.com/world/nato-ramps-press...  2023-06-01T16:54:03Z   \n",
       "9   https://www.foxnews.com/media/mike-lee-goes-bi...  2023-06-01T17:00:26Z   \n",
       "10  https://www.foxnews.com/us/southern-indiana-po...  2023-05-31T12:39:31Z   \n",
       "\n",
       "                                         article_text content  \n",
       "0   <!DOCTYPE html>\\n<html data-layout-uri=\"cms.cn...    None  \n",
       "1   <!DOCTYPE html>\\n<html data-n-head=\"%7B%22lang...    None  \n",
       "2   <!DOCTYPE html>\\n<html data-n-head=\"%7B%22lang...    None  \n",
       "3   <!DOCTYPE html>\\n<html data-n-head=\"%7B%22lang...    None  \n",
       "4   <!DOCTYPE html>\\n<html data-n-head=\"%7B%22lang...    None  \n",
       "5   <!DOCTYPE html>\\n<html data-n-head=\"%7B%22lang...    None  \n",
       "6   <!DOCTYPE html>\\n<html data-n-head=\"%7B%22lang...    None  \n",
       "7   <!DOCTYPE html>\\n<html data-n-head=\"%7B%22lang...    None  \n",
       "8   <!DOCTYPE html>\\n<html data-n-head=\"%7B%22lang...    None  \n",
       "9   <!DOCTYPE html>\\n<html data-n-head=\"%7B%22lang...    None  \n",
       "10  <!DOCTYPE html>\\n<html data-n-head=\"%7B%22lang...    None  "
      ]
     },
     "metadata": {},
     "output_type": "display_data"
    }
   ],
   "source": [
    "print(type(slct_tbl_full_df01))\n",
    "display(slct_tbl_full_df01.head(11))\n",
    "#display(slct_tbl_full_df01['article_text'][0])"
   ]
  },
  {
   "cell_type": "markdown",
   "id": "3add1d0b-1ca0-4590-b5c4-b361c0ec0e3b",
   "metadata": {},
   "source": [
    "### Commit changes and close cursor and connection instances"
   ]
  },
  {
   "cell_type": "code",
   "execution_count": 12,
   "id": "606bb902-9103-4ca4-bcf9-a5ce8917c696",
   "metadata": {},
   "outputs": [],
   "source": [
    "# Commit the changes to the database\n",
    "db_conn.commit()\n",
    "\n",
    "# Close the cursor and database connection\n",
    "cursor.close()\n",
    "db_conn.close()"
   ]
  }
 ],
 "metadata": {
  "kernelspec": {
   "display_name": "Python 3 (ipykernel)",
   "language": "python",
   "name": "python3"
  },
  "language_info": {
   "codemirror_mode": {
    "name": "ipython",
    "version": 3
   },
   "file_extension": ".py",
   "mimetype": "text/x-python",
   "name": "python",
   "nbconvert_exporter": "python",
   "pygments_lexer": "ipython3",
   "version": "3.8.16"
  }
 },
 "nbformat": 4,
 "nbformat_minor": 5
}
