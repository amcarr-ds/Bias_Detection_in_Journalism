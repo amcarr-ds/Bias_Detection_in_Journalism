{
 "cells": [
  {
   "cell_type": "markdown",
   "id": "72e49e21-4b1f-4603-a619-84b9e1998f03",
   "metadata": {},
   "source": [
    "# 509 Final Project"
   ]
  },
  {
   "cell_type": "markdown",
   "id": "41799b8c-019d-4d02-914a-107c15e3c572",
   "metadata": {},
   "source": [
    "## Rsolve dependencies"
   ]
  },
  {
   "cell_type": "markdown",
   "id": "81c57862-dbc2-4515-b62e-14adccbf6d2b",
   "metadata": {},
   "source": [
    "## Globally import libraries"
   ]
  },
  {
   "cell_type": "code",
   "execution_count": null,
   "id": "f3c1e3ef-8619-4237-88c3-e4a06edaf6c5",
   "metadata": {},
   "outputs": [],
   "source": [
    "import numpy as np\n",
    "import pandas as pd\n",
    "import pymysql as mysql\n",
    "import matplotlib.pyplot as plt\n",
    "import os\n",
    "import shutil\n",
    "import re\n",
    "import logging\n",
    "import time\n",
    "import zipfile\n",
    "import requests\n",
    "from bs4 import BeautifulSoup\n",
    "import datetime\n",
    "import re\n",
    "import regex as rex\n",
    "from collections import defaultdict, Counter\n",
    "import random\n",
    "#import mysql.connector\n",
    "\n",
    "# Set pandas global options\n",
    "pd.options.display.max_rows = 17"
   ]
  },
  {
   "cell_type": "markdown",
   "id": "d1823454-8427-4340-8a71-dd73fdf9932f",
   "metadata": {},
   "source": [
    "## Initiate MySQL connection"
   ]
  },
  {
   "cell_type": "code",
   "execution_count": null,
   "id": "0d1e9561-e376-4262-aa6f-c59d45124989",
   "metadata": {},
   "outputs": [],
   "source": [
    "'''Set local environment variables to hide user name & password citation:\n",
    "https://www.geeksforgeeks.org/how-to-hide-sensitive-credentials-using-python/'''\n",
    "\n",
    "user_name = os.environ['MySQLUSRAC']\n",
    "user_pass = os.environ['MySQLPWDAC']\n",
    "\n",
    "# Instantiate connection\n",
    "db_conn = mysql.connect(host='localhost',\n",
    "                        port=int(3306),\n",
    "                        user=user_name,\n",
    "                        passwd=user_pass,\n",
    "                        db='509_final_proj')\n",
    "\n",
    "# Create a cursor object\n",
    "cursor = db_conn.cursor()"
   ]
  },
  {
   "cell_type": "code",
   "execution_count": null,
   "id": "e753d762-a5ea-455a-8db6-b329eed96d1f",
   "metadata": {},
   "outputs": [],
   "source": [
    "tbl_names = pd.read_sql('SHOW TABLES', db_conn)\n",
    "\n",
    "display(tbl_names)\n",
    "print(type(tbl_names))"
   ]
  },
  {
   "cell_type": "markdown",
   "id": "407a93fd-877a-4508-8eeb-7bf07ba7acb6",
   "metadata": {},
   "source": [
    "### Establish logging policy"
   ]
  },
  {
   "cell_type": "code",
   "execution_count": null,
   "id": "45f9b045-77c7-46b9-98ed-cb15b224bf27",
   "metadata": {},
   "outputs": [],
   "source": [
    "'''Logging citations (see additional code in following code blocks:\n",
    "OpenAI. (2021). ChatGPT [Computer software]. https://openai.com/;\n",
    "https://docs.python.org/3/howto/logging.html#logging-basic-example;\n",
    "https://docs.python.org/3/howto/logging.html#logging-to-a-file;\n",
    "https://docs.python.org/3/howto/logging-cookbook.html#using-a-rotating-log-file-handler;\n",
    "https://docs.python.org/3/howto/logging-cookbook.html#using-a-timed-rotating-file-handler'''\n",
    "\n",
    "# Set up logging\n",
    "logging.basicConfig(level=logging.INFO,\n",
    "                    filename='pymysql.log',\n",
    "                    filemode='a',\n",
    "                    format='>>>>>>>>>>>>>><<<<<<<<<<<<<<\\n%(asctime)s - %(levelname)s - %(message)s')"
   ]
  },
  {
   "cell_type": "markdown",
   "id": "812bce99-3c01-4a1d-b0c5-e931bb003b33",
   "metadata": {},
   "source": [
    "## Read URLs from MySQL table to perform web scraping"
   ]
  },
  {
   "cell_type": "code",
   "execution_count": null,
   "id": "1f7752a4-387f-459d-b59e-aca21d57c9ea",
   "metadata": {},
   "outputs": [],
   "source": [
    "'''Set local environment variables to hide user name & password citation:\n",
    "https://www.geeksforgeeks.org/how-to-hide-sensitive-credentials-using-python/'''\n",
    "\n",
    "user_name = os.environ['MySQLUSRAC']\n",
    "user_pass = os.environ['MySQLPWDAC']\n",
    "\n",
    "# Instantiate connection\n",
    "db_conn = mysql.connect(host='localhost',\n",
    "                        port=int(3306),\n",
    "                        user=user_name,\n",
    "                        passwd=user_pass,\n",
    "                        db='509_final_proj')\n",
    "\n",
    "# Create a cursor object\n",
    "cursor = db_conn.cursor()"
   ]
  },
  {
   "cell_type": "code",
   "execution_count": null,
   "id": "56daa972-357f-48b5-888b-846660b1aff5",
   "metadata": {},
   "outputs": [],
   "source": [
    "nat_tbl_name = 'nar_temp'\n",
    "nwa_tbl_name = 'news_articles'\n",
    "\n",
    "'''Connect to MqSQL table in batches citation:\n",
    "OpenAI'''\n",
    "# Batch size (number of URLs to process at a time)\n",
    "batch_size = 10\n",
    "\n",
    "# Get the total number of URLs in the table\n",
    "count_query = f\"SELECT COUNT(*) FROM {nwa_tbl_name}\"\n",
    "cursor.execute(count_query)\n",
    "total_urls = cursor.fetchone()[0]\n",
    "print(f'URL Count: {total_urls}')\n",
    "\n",
    "# Calculate the number of batches required\n",
    "num_batches = (total_urls // batch_size) + 1\n",
    "\n",
    "# Process URLs in batches\n",
    "for batch in range(num_batches):\n",
    "    offset = batch * batch_size\n",
    "\n",
    "    # Retrieve URLs from the MySQL table in the current batch\n",
    "    query = f\"SELECT url FROM {nwa_tbl_name} LIMIT {batch_size} OFFSET {offset}\"\n",
    "    print(query)\n",
    "    cursor.execute(query)\n",
    "    urls = cursor.fetchall()\n",
    "    print(f'URL batch: {urls}')\n",
    "\n",
    "    # Iterate over the URLs and scrape their contents\n",
    "    for url in urls:\n",
    "        url = url[0]  # Extract the URL from the tuple\n",
    "\n",
    "        # Make an HTTP request to the URL\n",
    "        response = requests.get(url)\n",
    "        time.sleep(5 + 10 * random.random())\n",
    "\n",
    "        # Check if the request was successful\n",
    "        if response.status_code == 200:\n",
    "            # Parse the HTML content using BeautifulSoup\n",
    "            soup = BeautifulSoup(response.content, 'html.parser')\n",
    "\n",
    "            # Extract the raw text from the HTML\n",
    "            #print(soup.prettify())\n",
    "            #raw_text = soup.get_text()\n",
    "            raw_text = soup.prettify()\n",
    "\n",
    "\n",
    "            # Update the MySQL table with the scraped text\n",
    "            update_query = \"UPDATE news_articles SET article_text = %s WHERE url = %s\"\n",
    "            print(update_query)\n",
    "            cursor.execute(update_query, (raw_text, url))\n",
    "            db_conn.commit()\n",
    "        else:\n",
    "            print(f'Response: {response.status_code}')"
   ]
  },
  {
   "cell_type": "markdown",
   "id": "3add1d0b-1ca0-4590-b5c4-b361c0ec0e3b",
   "metadata": {},
   "source": [
    "### Commit changes and close cursor and connection instances"
   ]
  },
  {
   "cell_type": "code",
   "execution_count": null,
   "id": "606bb902-9103-4ca4-bcf9-a5ce8917c696",
   "metadata": {},
   "outputs": [],
   "source": [
    "# Commit the changes to the database\n",
    "db_conn.commit()\n",
    "\n",
    "# Close the cursor and database connection\n",
    "cursor.close()\n",
    "db_conn.close()"
   ]
  }
 ],
 "metadata": {
  "kernelspec": {
   "display_name": "Python 3 (ipykernel)",
   "language": "python",
   "name": "python3"
  },
  "language_info": {
   "codemirror_mode": {
    "name": "ipython",
    "version": 3
   },
   "file_extension": ".py",
   "mimetype": "text/x-python",
   "name": "python",
   "nbconvert_exporter": "python",
   "pygments_lexer": "ipython3",
   "version": "3.8.16"
  }
 },
 "nbformat": 4,
 "nbformat_minor": 5
}
