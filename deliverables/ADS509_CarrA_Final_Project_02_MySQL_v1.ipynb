{
 "cells": [
  {
   "cell_type": "markdown",
   "id": "72e49e21-4b1f-4603-a619-84b9e1998f03",
   "metadata": {},
   "source": [
    "# 509 Final Project"
   ]
  },
  {
   "cell_type": "markdown",
   "id": "fec03d81-b96e-4645-b418-204009631f40",
   "metadata": {},
   "source": [
    "This notebook queries the URLs from the MySQL table, scrapes the entire URL HTML contents, then inserts it into a pandas dataframe. The scraped data is then persisted in two ways: 1) The HTML content is written it back to another column in the MySQL table; 2) A copy of the full DF is written to a CSV file for further processing (i.e., processing)."
   ]
  },
  {
   "cell_type": "markdown",
   "id": "81c57862-dbc2-4515-b62e-14adccbf6d2b",
   "metadata": {},
   "source": [
    "## Globally import libraries"
   ]
  },
  {
   "cell_type": "code",
   "execution_count": 1,
   "id": "f3c1e3ef-8619-4237-88c3-e4a06edaf6c5",
   "metadata": {},
   "outputs": [],
   "source": [
    "import numpy as np\n",
    "import pandas as pd\n",
    "import pymysql as mysql\n",
    "import matplotlib.pyplot as plt\n",
    "import os\n",
    "import shutil\n",
    "import re\n",
    "import logging\n",
    "import time\n",
    "import zipfile\n",
    "import requests\n",
    "from bs4 import BeautifulSoup\n",
    "import datetime as dt\n",
    "import re\n",
    "import regex as rex\n",
    "from collections import defaultdict, Counter\n",
    "import random\n",
    "#import mysql.connector\n",
    "\n",
    "# Set pandas global options\n",
    "pd.options.display.max_rows = 17"
   ]
  },
  {
   "cell_type": "markdown",
   "id": "d1823454-8427-4340-8a71-dd73fdf9932f",
   "metadata": {},
   "source": [
    "## Initiate MySQL connection"
   ]
  },
  {
   "cell_type": "code",
   "execution_count": 2,
   "id": "0d1e9561-e376-4262-aa6f-c59d45124989",
   "metadata": {},
   "outputs": [],
   "source": [
    "'''Set local environment variables to hide user name & password citation:\n",
    "https://www.geeksforgeeks.org/how-to-hide-sensitive-credentials-using-python/\n",
    "'''\n",
    "user_name = os.environ['MySQLUSRAC']\n",
    "user_pass = os.environ['MySQLPWDAC']\n",
    "\n",
    "# Instantiate connection\n",
    "db_conn = mysql.connect(host='localhost',\n",
    "                        port=int(3306),\n",
    "                        user=user_name,\n",
    "                        passwd=user_pass,\n",
    "                        db='509_final_proj')\n",
    "\n",
    "# Create a cursor object\n",
    "cursor = db_conn.cursor()"
   ]
  },
  {
   "cell_type": "code",
   "execution_count": 3,
   "id": "e753d762-a5ea-455a-8db6-b329eed96d1f",
   "metadata": {},
   "outputs": [
    {
     "name": "stderr",
     "output_type": "stream",
     "text": [
      "C:\\Users\\acarr\\AppData\\Local\\Temp\\ipykernel_28820\\4193860975.py:1: UserWarning: pandas only supports SQLAlchemy connectable (engine/connection) or database string URI or sqlite3 DBAPI2 connection. Other DBAPI2 objects are not tested. Please consider using SQLAlchemy.\n",
      "  tbl_names = pd.read_sql('SHOW TABLES', db_conn)\n"
     ]
    },
    {
     "data": {
      "text/html": [
       "<div>\n",
       "<style scoped>\n",
       "    .dataframe tbody tr th:only-of-type {\n",
       "        vertical-align: middle;\n",
       "    }\n",
       "\n",
       "    .dataframe tbody tr th {\n",
       "        vertical-align: top;\n",
       "    }\n",
       "\n",
       "    .dataframe thead th {\n",
       "        text-align: right;\n",
       "    }\n",
       "</style>\n",
       "<table border=\"1\" class=\"dataframe\">\n",
       "  <thead>\n",
       "    <tr style=\"text-align: right;\">\n",
       "      <th></th>\n",
       "      <th>Tables_in_509_final_proj</th>\n",
       "    </tr>\n",
       "  </thead>\n",
       "  <tbody>\n",
       "    <tr>\n",
       "      <th>0</th>\n",
       "      <td>nar_temp</td>\n",
       "    </tr>\n",
       "    <tr>\n",
       "      <th>1</th>\n",
       "      <td>news_articles</td>\n",
       "    </tr>\n",
       "  </tbody>\n",
       "</table>\n",
       "</div>"
      ],
      "text/plain": [
       "  Tables_in_509_final_proj\n",
       "0                 nar_temp\n",
       "1            news_articles"
      ]
     },
     "metadata": {},
     "output_type": "display_data"
    },
    {
     "name": "stdout",
     "output_type": "stream",
     "text": [
      "<class 'pandas.core.frame.DataFrame'>\n"
     ]
    }
   ],
   "source": [
    "tbl_names = pd.read_sql('SHOW TABLES', db_conn)\n",
    "\n",
    "display(tbl_names)\n",
    "print(type(tbl_names))"
   ]
  },
  {
   "cell_type": "markdown",
   "id": "407a93fd-877a-4508-8eeb-7bf07ba7acb6",
   "metadata": {},
   "source": [
    "### Establish logging policy"
   ]
  },
  {
   "cell_type": "code",
   "execution_count": 4,
   "id": "45f9b045-77c7-46b9-98ed-cb15b224bf27",
   "metadata": {},
   "outputs": [],
   "source": [
    "'''Logging citations (see additional code in following code blocks:\n",
    "OpenAI. (2021). ChatGPT [Computer software]. https://openai.com/;\n",
    "https://docs.python.org/3/howto/logging.html#logging-basic-example;\n",
    "https://docs.python.org/3/howto/logging.html#logging-to-a-file;\n",
    "https://docs.python.org/3/howto\n",
    "/logging-cookbook.html#using-a-rotating-log-file-handler;\n",
    "https://docs.python.org/3/howto\n",
    "/logging-cookbook.html#using-a-timed-rotating-file-handler\n",
    "'''\n",
    "# Set up logging\n",
    "logging.basicConfig(level=logging.INFO,\n",
    "                    filename='pymysql.log',\n",
    "                    filemode='a',\n",
    "                    format='''>>>>>>>>>>>>>><<<<<<<<<<<<<<\\n%(asctime)s - \n",
    "                    %(levelname)s - %(message)s''')"
   ]
  },
  {
   "cell_type": "markdown",
   "id": "812bce99-3c01-4a1d-b0c5-e931bb003b33",
   "metadata": {},
   "source": [
    "### Read URLs from MySQL table to perform web scraping"
   ]
  },
  {
   "cell_type": "code",
   "execution_count": 5,
   "id": "27275fbf-73e7-4f18-9418-2911f59aa1e3",
   "metadata": {},
   "outputs": [],
   "source": [
    "nat_tbl_name = 'nar_temp'\n",
    "nwa_tbl_name = 'news_articles'"
   ]
  },
  {
   "cell_type": "code",
   "execution_count": 6,
   "id": "a8a0c6e4-aa08-4cd4-ac9c-c5b098a3ad51",
   "metadata": {},
   "outputs": [
    {
     "name": "stdout",
     "output_type": "stream",
     "text": [
      "URL Count: 5805\n",
      "\n",
      "    SELECT url FROM news_articles\n",
      "    WHERE article_text IS NULL\n",
      "    AND (source_name=\"CNN\"\n",
      "        OR source_name=\"The Washington Post\"\n",
      "        OR source_name=\"Fox News\"\n",
      "        OR source_name=\"Breitbart News\")\n",
      "    LIMIT 10000\n",
      "    OFFSET 0\n",
      "    \n",
      "URL batch size: 692\n",
      "Response: 404\n",
      "...................................................................................................................................................Response: 404\n",
      "..............................................................................................................................................................................."
     ]
    },
    {
     "ename": "ConnectionError",
     "evalue": "HTTPSConnectionPool(host='www.foxnews.com', port=443): Max retries exceeded with url: /politics/joe-manchin-vows-fight-bidens-war-appliances-not-supporting-any-craziness (Caused by NewConnectionError('<urllib3.connection.HTTPSConnection object at 0x00000189882B1AF0>: Failed to establish a new connection: [WinError 10060] A connection attempt failed because the connected party did not properly respond after a period of time, or established connection failed because connected host has failed to respond'))",
     "output_type": "error",
     "traceback": [
      "\u001b[1;31m---------------------------------------------------------------------------\u001b[0m",
      "\u001b[1;31mTimeoutError\u001b[0m                              Traceback (most recent call last)",
      "File \u001b[1;32m~\\anaconda3\\envs\\ds-py38-tf\\lib\\site-packages\\urllib3\\connection.py:174\u001b[0m, in \u001b[0;36mHTTPConnection._new_conn\u001b[1;34m(self)\u001b[0m\n\u001b[0;32m    173\u001b[0m \u001b[38;5;28;01mtry\u001b[39;00m:\n\u001b[1;32m--> 174\u001b[0m     conn \u001b[38;5;241m=\u001b[39m \u001b[43mconnection\u001b[49m\u001b[38;5;241;43m.\u001b[39;49m\u001b[43mcreate_connection\u001b[49m\u001b[43m(\u001b[49m\n\u001b[0;32m    175\u001b[0m \u001b[43m        \u001b[49m\u001b[43m(\u001b[49m\u001b[38;5;28;43mself\u001b[39;49m\u001b[38;5;241;43m.\u001b[39;49m\u001b[43m_dns_host\u001b[49m\u001b[43m,\u001b[49m\u001b[43m \u001b[49m\u001b[38;5;28;43mself\u001b[39;49m\u001b[38;5;241;43m.\u001b[39;49m\u001b[43mport\u001b[49m\u001b[43m)\u001b[49m\u001b[43m,\u001b[49m\u001b[43m \u001b[49m\u001b[38;5;28;43mself\u001b[39;49m\u001b[38;5;241;43m.\u001b[39;49m\u001b[43mtimeout\u001b[49m\u001b[43m,\u001b[49m\u001b[43m \u001b[49m\u001b[38;5;241;43m*\u001b[39;49m\u001b[38;5;241;43m*\u001b[39;49m\u001b[43mextra_kw\u001b[49m\n\u001b[0;32m    176\u001b[0m \u001b[43m    \u001b[49m\u001b[43m)\u001b[49m\n\u001b[0;32m    178\u001b[0m \u001b[38;5;28;01mexcept\u001b[39;00m SocketTimeout:\n",
      "File \u001b[1;32m~\\anaconda3\\envs\\ds-py38-tf\\lib\\site-packages\\urllib3\\util\\connection.py:95\u001b[0m, in \u001b[0;36mcreate_connection\u001b[1;34m(address, timeout, source_address, socket_options)\u001b[0m\n\u001b[0;32m     94\u001b[0m \u001b[38;5;28;01mif\u001b[39;00m err \u001b[38;5;129;01mis\u001b[39;00m \u001b[38;5;129;01mnot\u001b[39;00m \u001b[38;5;28;01mNone\u001b[39;00m:\n\u001b[1;32m---> 95\u001b[0m     \u001b[38;5;28;01mraise\u001b[39;00m err\n\u001b[0;32m     97\u001b[0m \u001b[38;5;28;01mraise\u001b[39;00m socket\u001b[38;5;241m.\u001b[39merror(\u001b[38;5;124m\"\u001b[39m\u001b[38;5;124mgetaddrinfo returns an empty list\u001b[39m\u001b[38;5;124m\"\u001b[39m)\n",
      "File \u001b[1;32m~\\anaconda3\\envs\\ds-py38-tf\\lib\\site-packages\\urllib3\\util\\connection.py:85\u001b[0m, in \u001b[0;36mcreate_connection\u001b[1;34m(address, timeout, source_address, socket_options)\u001b[0m\n\u001b[0;32m     84\u001b[0m     sock\u001b[38;5;241m.\u001b[39mbind(source_address)\n\u001b[1;32m---> 85\u001b[0m \u001b[43msock\u001b[49m\u001b[38;5;241;43m.\u001b[39;49m\u001b[43mconnect\u001b[49m\u001b[43m(\u001b[49m\u001b[43msa\u001b[49m\u001b[43m)\u001b[49m\n\u001b[0;32m     86\u001b[0m \u001b[38;5;28;01mreturn\u001b[39;00m sock\n",
      "\u001b[1;31mTimeoutError\u001b[0m: [WinError 10060] A connection attempt failed because the connected party did not properly respond after a period of time, or established connection failed because connected host has failed to respond",
      "\nDuring handling of the above exception, another exception occurred:\n",
      "\u001b[1;31mNewConnectionError\u001b[0m                        Traceback (most recent call last)",
      "File \u001b[1;32m~\\anaconda3\\envs\\ds-py38-tf\\lib\\site-packages\\urllib3\\connectionpool.py:703\u001b[0m, in \u001b[0;36mHTTPConnectionPool.urlopen\u001b[1;34m(self, method, url, body, headers, retries, redirect, assert_same_host, timeout, pool_timeout, release_conn, chunked, body_pos, **response_kw)\u001b[0m\n\u001b[0;32m    702\u001b[0m \u001b[38;5;66;03m# Make the request on the httplib connection object.\u001b[39;00m\n\u001b[1;32m--> 703\u001b[0m httplib_response \u001b[38;5;241m=\u001b[39m \u001b[38;5;28;43mself\u001b[39;49m\u001b[38;5;241;43m.\u001b[39;49m\u001b[43m_make_request\u001b[49m\u001b[43m(\u001b[49m\n\u001b[0;32m    704\u001b[0m \u001b[43m    \u001b[49m\u001b[43mconn\u001b[49m\u001b[43m,\u001b[49m\n\u001b[0;32m    705\u001b[0m \u001b[43m    \u001b[49m\u001b[43mmethod\u001b[49m\u001b[43m,\u001b[49m\n\u001b[0;32m    706\u001b[0m \u001b[43m    \u001b[49m\u001b[43murl\u001b[49m\u001b[43m,\u001b[49m\n\u001b[0;32m    707\u001b[0m \u001b[43m    \u001b[49m\u001b[43mtimeout\u001b[49m\u001b[38;5;241;43m=\u001b[39;49m\u001b[43mtimeout_obj\u001b[49m\u001b[43m,\u001b[49m\n\u001b[0;32m    708\u001b[0m \u001b[43m    \u001b[49m\u001b[43mbody\u001b[49m\u001b[38;5;241;43m=\u001b[39;49m\u001b[43mbody\u001b[49m\u001b[43m,\u001b[49m\n\u001b[0;32m    709\u001b[0m \u001b[43m    \u001b[49m\u001b[43mheaders\u001b[49m\u001b[38;5;241;43m=\u001b[39;49m\u001b[43mheaders\u001b[49m\u001b[43m,\u001b[49m\n\u001b[0;32m    710\u001b[0m \u001b[43m    \u001b[49m\u001b[43mchunked\u001b[49m\u001b[38;5;241;43m=\u001b[39;49m\u001b[43mchunked\u001b[49m\u001b[43m,\u001b[49m\n\u001b[0;32m    711\u001b[0m \u001b[43m\u001b[49m\u001b[43m)\u001b[49m\n\u001b[0;32m    713\u001b[0m \u001b[38;5;66;03m# If we're going to release the connection in ``finally:``, then\u001b[39;00m\n\u001b[0;32m    714\u001b[0m \u001b[38;5;66;03m# the response doesn't need to know about the connection. Otherwise\u001b[39;00m\n\u001b[0;32m    715\u001b[0m \u001b[38;5;66;03m# it will also try to release it and we'll have a double-release\u001b[39;00m\n\u001b[0;32m    716\u001b[0m \u001b[38;5;66;03m# mess.\u001b[39;00m\n",
      "File \u001b[1;32m~\\anaconda3\\envs\\ds-py38-tf\\lib\\site-packages\\urllib3\\connectionpool.py:386\u001b[0m, in \u001b[0;36mHTTPConnectionPool._make_request\u001b[1;34m(self, conn, method, url, timeout, chunked, **httplib_request_kw)\u001b[0m\n\u001b[0;32m    385\u001b[0m \u001b[38;5;28;01mtry\u001b[39;00m:\n\u001b[1;32m--> 386\u001b[0m     \u001b[38;5;28;43mself\u001b[39;49m\u001b[38;5;241;43m.\u001b[39;49m\u001b[43m_validate_conn\u001b[49m\u001b[43m(\u001b[49m\u001b[43mconn\u001b[49m\u001b[43m)\u001b[49m\n\u001b[0;32m    387\u001b[0m \u001b[38;5;28;01mexcept\u001b[39;00m (SocketTimeout, BaseSSLError) \u001b[38;5;28;01mas\u001b[39;00m e:\n\u001b[0;32m    388\u001b[0m     \u001b[38;5;66;03m# Py2 raises this as a BaseSSLError, Py3 raises it as socket timeout.\u001b[39;00m\n",
      "File \u001b[1;32m~\\anaconda3\\envs\\ds-py38-tf\\lib\\site-packages\\urllib3\\connectionpool.py:1042\u001b[0m, in \u001b[0;36mHTTPSConnectionPool._validate_conn\u001b[1;34m(self, conn)\u001b[0m\n\u001b[0;32m   1041\u001b[0m \u001b[38;5;28;01mif\u001b[39;00m \u001b[38;5;129;01mnot\u001b[39;00m \u001b[38;5;28mgetattr\u001b[39m(conn, \u001b[38;5;124m\"\u001b[39m\u001b[38;5;124msock\u001b[39m\u001b[38;5;124m\"\u001b[39m, \u001b[38;5;28;01mNone\u001b[39;00m):  \u001b[38;5;66;03m# AppEngine might not have  `.sock`\u001b[39;00m\n\u001b[1;32m-> 1042\u001b[0m     \u001b[43mconn\u001b[49m\u001b[38;5;241;43m.\u001b[39;49m\u001b[43mconnect\u001b[49m\u001b[43m(\u001b[49m\u001b[43m)\u001b[49m\n\u001b[0;32m   1044\u001b[0m \u001b[38;5;28;01mif\u001b[39;00m \u001b[38;5;129;01mnot\u001b[39;00m conn\u001b[38;5;241m.\u001b[39mis_verified:\n",
      "File \u001b[1;32m~\\anaconda3\\envs\\ds-py38-tf\\lib\\site-packages\\urllib3\\connection.py:363\u001b[0m, in \u001b[0;36mHTTPSConnection.connect\u001b[1;34m(self)\u001b[0m\n\u001b[0;32m    361\u001b[0m \u001b[38;5;28;01mdef\u001b[39;00m \u001b[38;5;21mconnect\u001b[39m(\u001b[38;5;28mself\u001b[39m):\n\u001b[0;32m    362\u001b[0m     \u001b[38;5;66;03m# Add certificate verification\u001b[39;00m\n\u001b[1;32m--> 363\u001b[0m     \u001b[38;5;28mself\u001b[39m\u001b[38;5;241m.\u001b[39msock \u001b[38;5;241m=\u001b[39m conn \u001b[38;5;241m=\u001b[39m \u001b[38;5;28;43mself\u001b[39;49m\u001b[38;5;241;43m.\u001b[39;49m\u001b[43m_new_conn\u001b[49m\u001b[43m(\u001b[49m\u001b[43m)\u001b[49m\n\u001b[0;32m    364\u001b[0m     hostname \u001b[38;5;241m=\u001b[39m \u001b[38;5;28mself\u001b[39m\u001b[38;5;241m.\u001b[39mhost\n",
      "File \u001b[1;32m~\\anaconda3\\envs\\ds-py38-tf\\lib\\site-packages\\urllib3\\connection.py:186\u001b[0m, in \u001b[0;36mHTTPConnection._new_conn\u001b[1;34m(self)\u001b[0m\n\u001b[0;32m    185\u001b[0m \u001b[38;5;28;01mexcept\u001b[39;00m SocketError \u001b[38;5;28;01mas\u001b[39;00m e:\n\u001b[1;32m--> 186\u001b[0m     \u001b[38;5;28;01mraise\u001b[39;00m NewConnectionError(\n\u001b[0;32m    187\u001b[0m         \u001b[38;5;28mself\u001b[39m, \u001b[38;5;124m\"\u001b[39m\u001b[38;5;124mFailed to establish a new connection: \u001b[39m\u001b[38;5;132;01m%s\u001b[39;00m\u001b[38;5;124m\"\u001b[39m \u001b[38;5;241m%\u001b[39m e\n\u001b[0;32m    188\u001b[0m     )\n\u001b[0;32m    190\u001b[0m \u001b[38;5;28;01mreturn\u001b[39;00m conn\n",
      "\u001b[1;31mNewConnectionError\u001b[0m: <urllib3.connection.HTTPSConnection object at 0x00000189882B1AF0>: Failed to establish a new connection: [WinError 10060] A connection attempt failed because the connected party did not properly respond after a period of time, or established connection failed because connected host has failed to respond",
      "\nDuring handling of the above exception, another exception occurred:\n",
      "\u001b[1;31mMaxRetryError\u001b[0m                             Traceback (most recent call last)",
      "File \u001b[1;32m~\\anaconda3\\envs\\ds-py38-tf\\lib\\site-packages\\requests\\adapters.py:489\u001b[0m, in \u001b[0;36mHTTPAdapter.send\u001b[1;34m(self, request, stream, timeout, verify, cert, proxies)\u001b[0m\n\u001b[0;32m    488\u001b[0m \u001b[38;5;28;01mif\u001b[39;00m \u001b[38;5;129;01mnot\u001b[39;00m chunked:\n\u001b[1;32m--> 489\u001b[0m     resp \u001b[38;5;241m=\u001b[39m \u001b[43mconn\u001b[49m\u001b[38;5;241;43m.\u001b[39;49m\u001b[43murlopen\u001b[49m\u001b[43m(\u001b[49m\n\u001b[0;32m    490\u001b[0m \u001b[43m        \u001b[49m\u001b[43mmethod\u001b[49m\u001b[38;5;241;43m=\u001b[39;49m\u001b[43mrequest\u001b[49m\u001b[38;5;241;43m.\u001b[39;49m\u001b[43mmethod\u001b[49m\u001b[43m,\u001b[49m\n\u001b[0;32m    491\u001b[0m \u001b[43m        \u001b[49m\u001b[43murl\u001b[49m\u001b[38;5;241;43m=\u001b[39;49m\u001b[43murl\u001b[49m\u001b[43m,\u001b[49m\n\u001b[0;32m    492\u001b[0m \u001b[43m        \u001b[49m\u001b[43mbody\u001b[49m\u001b[38;5;241;43m=\u001b[39;49m\u001b[43mrequest\u001b[49m\u001b[38;5;241;43m.\u001b[39;49m\u001b[43mbody\u001b[49m\u001b[43m,\u001b[49m\n\u001b[0;32m    493\u001b[0m \u001b[43m        \u001b[49m\u001b[43mheaders\u001b[49m\u001b[38;5;241;43m=\u001b[39;49m\u001b[43mrequest\u001b[49m\u001b[38;5;241;43m.\u001b[39;49m\u001b[43mheaders\u001b[49m\u001b[43m,\u001b[49m\n\u001b[0;32m    494\u001b[0m \u001b[43m        \u001b[49m\u001b[43mredirect\u001b[49m\u001b[38;5;241;43m=\u001b[39;49m\u001b[38;5;28;43;01mFalse\u001b[39;49;00m\u001b[43m,\u001b[49m\n\u001b[0;32m    495\u001b[0m \u001b[43m        \u001b[49m\u001b[43massert_same_host\u001b[49m\u001b[38;5;241;43m=\u001b[39;49m\u001b[38;5;28;43;01mFalse\u001b[39;49;00m\u001b[43m,\u001b[49m\n\u001b[0;32m    496\u001b[0m \u001b[43m        \u001b[49m\u001b[43mpreload_content\u001b[49m\u001b[38;5;241;43m=\u001b[39;49m\u001b[38;5;28;43;01mFalse\u001b[39;49;00m\u001b[43m,\u001b[49m\n\u001b[0;32m    497\u001b[0m \u001b[43m        \u001b[49m\u001b[43mdecode_content\u001b[49m\u001b[38;5;241;43m=\u001b[39;49m\u001b[38;5;28;43;01mFalse\u001b[39;49;00m\u001b[43m,\u001b[49m\n\u001b[0;32m    498\u001b[0m \u001b[43m        \u001b[49m\u001b[43mretries\u001b[49m\u001b[38;5;241;43m=\u001b[39;49m\u001b[38;5;28;43mself\u001b[39;49m\u001b[38;5;241;43m.\u001b[39;49m\u001b[43mmax_retries\u001b[49m\u001b[43m,\u001b[49m\n\u001b[0;32m    499\u001b[0m \u001b[43m        \u001b[49m\u001b[43mtimeout\u001b[49m\u001b[38;5;241;43m=\u001b[39;49m\u001b[43mtimeout\u001b[49m\u001b[43m,\u001b[49m\n\u001b[0;32m    500\u001b[0m \u001b[43m    \u001b[49m\u001b[43m)\u001b[49m\n\u001b[0;32m    502\u001b[0m \u001b[38;5;66;03m# Send the request.\u001b[39;00m\n\u001b[0;32m    503\u001b[0m \u001b[38;5;28;01melse\u001b[39;00m:\n",
      "File \u001b[1;32m~\\anaconda3\\envs\\ds-py38-tf\\lib\\site-packages\\urllib3\\connectionpool.py:787\u001b[0m, in \u001b[0;36mHTTPConnectionPool.urlopen\u001b[1;34m(self, method, url, body, headers, retries, redirect, assert_same_host, timeout, pool_timeout, release_conn, chunked, body_pos, **response_kw)\u001b[0m\n\u001b[0;32m    785\u001b[0m     e \u001b[38;5;241m=\u001b[39m ProtocolError(\u001b[38;5;124m\"\u001b[39m\u001b[38;5;124mConnection aborted.\u001b[39m\u001b[38;5;124m\"\u001b[39m, e)\n\u001b[1;32m--> 787\u001b[0m retries \u001b[38;5;241m=\u001b[39m \u001b[43mretries\u001b[49m\u001b[38;5;241;43m.\u001b[39;49m\u001b[43mincrement\u001b[49m\u001b[43m(\u001b[49m\n\u001b[0;32m    788\u001b[0m \u001b[43m    \u001b[49m\u001b[43mmethod\u001b[49m\u001b[43m,\u001b[49m\u001b[43m \u001b[49m\u001b[43murl\u001b[49m\u001b[43m,\u001b[49m\u001b[43m \u001b[49m\u001b[43merror\u001b[49m\u001b[38;5;241;43m=\u001b[39;49m\u001b[43me\u001b[49m\u001b[43m,\u001b[49m\u001b[43m \u001b[49m\u001b[43m_pool\u001b[49m\u001b[38;5;241;43m=\u001b[39;49m\u001b[38;5;28;43mself\u001b[39;49m\u001b[43m,\u001b[49m\u001b[43m \u001b[49m\u001b[43m_stacktrace\u001b[49m\u001b[38;5;241;43m=\u001b[39;49m\u001b[43msys\u001b[49m\u001b[38;5;241;43m.\u001b[39;49m\u001b[43mexc_info\u001b[49m\u001b[43m(\u001b[49m\u001b[43m)\u001b[49m\u001b[43m[\u001b[49m\u001b[38;5;241;43m2\u001b[39;49m\u001b[43m]\u001b[49m\n\u001b[0;32m    789\u001b[0m \u001b[43m\u001b[49m\u001b[43m)\u001b[49m\n\u001b[0;32m    790\u001b[0m retries\u001b[38;5;241m.\u001b[39msleep()\n",
      "File \u001b[1;32m~\\anaconda3\\envs\\ds-py38-tf\\lib\\site-packages\\urllib3\\util\\retry.py:592\u001b[0m, in \u001b[0;36mRetry.increment\u001b[1;34m(self, method, url, response, error, _pool, _stacktrace)\u001b[0m\n\u001b[0;32m    591\u001b[0m \u001b[38;5;28;01mif\u001b[39;00m new_retry\u001b[38;5;241m.\u001b[39mis_exhausted():\n\u001b[1;32m--> 592\u001b[0m     \u001b[38;5;28;01mraise\u001b[39;00m MaxRetryError(_pool, url, error \u001b[38;5;129;01mor\u001b[39;00m ResponseError(cause))\n\u001b[0;32m    594\u001b[0m log\u001b[38;5;241m.\u001b[39mdebug(\u001b[38;5;124m\"\u001b[39m\u001b[38;5;124mIncremented Retry for (url=\u001b[39m\u001b[38;5;124m'\u001b[39m\u001b[38;5;132;01m%s\u001b[39;00m\u001b[38;5;124m'\u001b[39m\u001b[38;5;124m): \u001b[39m\u001b[38;5;132;01m%r\u001b[39;00m\u001b[38;5;124m\"\u001b[39m, url, new_retry)\n",
      "\u001b[1;31mMaxRetryError\u001b[0m: HTTPSConnectionPool(host='www.foxnews.com', port=443): Max retries exceeded with url: /politics/joe-manchin-vows-fight-bidens-war-appliances-not-supporting-any-craziness (Caused by NewConnectionError('<urllib3.connection.HTTPSConnection object at 0x00000189882B1AF0>: Failed to establish a new connection: [WinError 10060] A connection attempt failed because the connected party did not properly respond after a period of time, or established connection failed because connected host has failed to respond'))",
      "\nDuring handling of the above exception, another exception occurred:\n",
      "\u001b[1;31mConnectionError\u001b[0m                           Traceback (most recent call last)",
      "Cell \u001b[1;32mIn[6], line 46\u001b[0m\n\u001b[0;32m     43\u001b[0m url \u001b[38;5;241m=\u001b[39m url[\u001b[38;5;241m0\u001b[39m]  \u001b[38;5;66;03m# Extract the URL from the tuple\u001b[39;00m\n\u001b[0;32m     45\u001b[0m \u001b[38;5;66;03m# Make an HTTP request to the URL\u001b[39;00m\n\u001b[1;32m---> 46\u001b[0m response \u001b[38;5;241m=\u001b[39m \u001b[43mrequests\u001b[49m\u001b[38;5;241;43m.\u001b[39;49m\u001b[43mget\u001b[49m\u001b[43m(\u001b[49m\u001b[43murl\u001b[49m\u001b[43m)\u001b[49m\n\u001b[0;32m     47\u001b[0m time\u001b[38;5;241m.\u001b[39msleep(\u001b[38;5;241m5\u001b[39m \u001b[38;5;241m+\u001b[39m \u001b[38;5;241m11\u001b[39m \u001b[38;5;241m*\u001b[39m random\u001b[38;5;241m.\u001b[39mrandom())\n\u001b[0;32m     49\u001b[0m \u001b[38;5;66;03m# Check if the request was successful\u001b[39;00m\n",
      "File \u001b[1;32m~\\anaconda3\\envs\\ds-py38-tf\\lib\\site-packages\\requests\\api.py:73\u001b[0m, in \u001b[0;36mget\u001b[1;34m(url, params, **kwargs)\u001b[0m\n\u001b[0;32m     62\u001b[0m \u001b[38;5;28;01mdef\u001b[39;00m \u001b[38;5;21mget\u001b[39m(url, params\u001b[38;5;241m=\u001b[39m\u001b[38;5;28;01mNone\u001b[39;00m, \u001b[38;5;241m*\u001b[39m\u001b[38;5;241m*\u001b[39mkwargs):\n\u001b[0;32m     63\u001b[0m     \u001b[38;5;124mr\u001b[39m\u001b[38;5;124;03m\"\"\"Sends a GET request.\u001b[39;00m\n\u001b[0;32m     64\u001b[0m \n\u001b[0;32m     65\u001b[0m \u001b[38;5;124;03m    :param url: URL for the new :class:`Request` object.\u001b[39;00m\n\u001b[1;32m   (...)\u001b[0m\n\u001b[0;32m     70\u001b[0m \u001b[38;5;124;03m    :rtype: requests.Response\u001b[39;00m\n\u001b[0;32m     71\u001b[0m \u001b[38;5;124;03m    \"\"\"\u001b[39;00m\n\u001b[1;32m---> 73\u001b[0m     \u001b[38;5;28;01mreturn\u001b[39;00m \u001b[43mrequest\u001b[49m\u001b[43m(\u001b[49m\u001b[38;5;124;43m\"\u001b[39;49m\u001b[38;5;124;43mget\u001b[39;49m\u001b[38;5;124;43m\"\u001b[39;49m\u001b[43m,\u001b[49m\u001b[43m \u001b[49m\u001b[43murl\u001b[49m\u001b[43m,\u001b[49m\u001b[43m \u001b[49m\u001b[43mparams\u001b[49m\u001b[38;5;241;43m=\u001b[39;49m\u001b[43mparams\u001b[49m\u001b[43m,\u001b[49m\u001b[43m \u001b[49m\u001b[38;5;241;43m*\u001b[39;49m\u001b[38;5;241;43m*\u001b[39;49m\u001b[43mkwargs\u001b[49m\u001b[43m)\u001b[49m\n",
      "File \u001b[1;32m~\\anaconda3\\envs\\ds-py38-tf\\lib\\site-packages\\requests\\api.py:59\u001b[0m, in \u001b[0;36mrequest\u001b[1;34m(method, url, **kwargs)\u001b[0m\n\u001b[0;32m     55\u001b[0m \u001b[38;5;66;03m# By using the 'with' statement we are sure the session is closed, thus we\u001b[39;00m\n\u001b[0;32m     56\u001b[0m \u001b[38;5;66;03m# avoid leaving sockets open which can trigger a ResourceWarning in some\u001b[39;00m\n\u001b[0;32m     57\u001b[0m \u001b[38;5;66;03m# cases, and look like a memory leak in others.\u001b[39;00m\n\u001b[0;32m     58\u001b[0m \u001b[38;5;28;01mwith\u001b[39;00m sessions\u001b[38;5;241m.\u001b[39mSession() \u001b[38;5;28;01mas\u001b[39;00m session:\n\u001b[1;32m---> 59\u001b[0m     \u001b[38;5;28;01mreturn\u001b[39;00m \u001b[43msession\u001b[49m\u001b[38;5;241;43m.\u001b[39;49m\u001b[43mrequest\u001b[49m\u001b[43m(\u001b[49m\u001b[43mmethod\u001b[49m\u001b[38;5;241;43m=\u001b[39;49m\u001b[43mmethod\u001b[49m\u001b[43m,\u001b[49m\u001b[43m \u001b[49m\u001b[43murl\u001b[49m\u001b[38;5;241;43m=\u001b[39;49m\u001b[43murl\u001b[49m\u001b[43m,\u001b[49m\u001b[43m \u001b[49m\u001b[38;5;241;43m*\u001b[39;49m\u001b[38;5;241;43m*\u001b[39;49m\u001b[43mkwargs\u001b[49m\u001b[43m)\u001b[49m\n",
      "File \u001b[1;32m~\\anaconda3\\envs\\ds-py38-tf\\lib\\site-packages\\requests\\sessions.py:587\u001b[0m, in \u001b[0;36mSession.request\u001b[1;34m(self, method, url, params, data, headers, cookies, files, auth, timeout, allow_redirects, proxies, hooks, stream, verify, cert, json)\u001b[0m\n\u001b[0;32m    582\u001b[0m send_kwargs \u001b[38;5;241m=\u001b[39m {\n\u001b[0;32m    583\u001b[0m     \u001b[38;5;124m\"\u001b[39m\u001b[38;5;124mtimeout\u001b[39m\u001b[38;5;124m\"\u001b[39m: timeout,\n\u001b[0;32m    584\u001b[0m     \u001b[38;5;124m\"\u001b[39m\u001b[38;5;124mallow_redirects\u001b[39m\u001b[38;5;124m\"\u001b[39m: allow_redirects,\n\u001b[0;32m    585\u001b[0m }\n\u001b[0;32m    586\u001b[0m send_kwargs\u001b[38;5;241m.\u001b[39mupdate(settings)\n\u001b[1;32m--> 587\u001b[0m resp \u001b[38;5;241m=\u001b[39m \u001b[38;5;28;43mself\u001b[39;49m\u001b[38;5;241;43m.\u001b[39;49m\u001b[43msend\u001b[49m\u001b[43m(\u001b[49m\u001b[43mprep\u001b[49m\u001b[43m,\u001b[49m\u001b[43m \u001b[49m\u001b[38;5;241;43m*\u001b[39;49m\u001b[38;5;241;43m*\u001b[39;49m\u001b[43msend_kwargs\u001b[49m\u001b[43m)\u001b[49m\n\u001b[0;32m    589\u001b[0m \u001b[38;5;28;01mreturn\u001b[39;00m resp\n",
      "File \u001b[1;32m~\\anaconda3\\envs\\ds-py38-tf\\lib\\site-packages\\requests\\sessions.py:701\u001b[0m, in \u001b[0;36mSession.send\u001b[1;34m(self, request, **kwargs)\u001b[0m\n\u001b[0;32m    698\u001b[0m start \u001b[38;5;241m=\u001b[39m preferred_clock()\n\u001b[0;32m    700\u001b[0m \u001b[38;5;66;03m# Send the request\u001b[39;00m\n\u001b[1;32m--> 701\u001b[0m r \u001b[38;5;241m=\u001b[39m \u001b[43madapter\u001b[49m\u001b[38;5;241;43m.\u001b[39;49m\u001b[43msend\u001b[49m\u001b[43m(\u001b[49m\u001b[43mrequest\u001b[49m\u001b[43m,\u001b[49m\u001b[43m \u001b[49m\u001b[38;5;241;43m*\u001b[39;49m\u001b[38;5;241;43m*\u001b[39;49m\u001b[43mkwargs\u001b[49m\u001b[43m)\u001b[49m\n\u001b[0;32m    703\u001b[0m \u001b[38;5;66;03m# Total elapsed time of the request (approximately)\u001b[39;00m\n\u001b[0;32m    704\u001b[0m elapsed \u001b[38;5;241m=\u001b[39m preferred_clock() \u001b[38;5;241m-\u001b[39m start\n",
      "File \u001b[1;32m~\\anaconda3\\envs\\ds-py38-tf\\lib\\site-packages\\requests\\adapters.py:565\u001b[0m, in \u001b[0;36mHTTPAdapter.send\u001b[1;34m(self, request, stream, timeout, verify, cert, proxies)\u001b[0m\n\u001b[0;32m    561\u001b[0m     \u001b[38;5;28;01mif\u001b[39;00m \u001b[38;5;28misinstance\u001b[39m(e\u001b[38;5;241m.\u001b[39mreason, _SSLError):\n\u001b[0;32m    562\u001b[0m         \u001b[38;5;66;03m# This branch is for urllib3 v1.22 and later.\u001b[39;00m\n\u001b[0;32m    563\u001b[0m         \u001b[38;5;28;01mraise\u001b[39;00m SSLError(e, request\u001b[38;5;241m=\u001b[39mrequest)\n\u001b[1;32m--> 565\u001b[0m     \u001b[38;5;28;01mraise\u001b[39;00m \u001b[38;5;167;01mConnectionError\u001b[39;00m(e, request\u001b[38;5;241m=\u001b[39mrequest)\n\u001b[0;32m    567\u001b[0m \u001b[38;5;28;01mexcept\u001b[39;00m ClosedPoolError \u001b[38;5;28;01mas\u001b[39;00m e:\n\u001b[0;32m    568\u001b[0m     \u001b[38;5;28;01mraise\u001b[39;00m \u001b[38;5;167;01mConnectionError\u001b[39;00m(e, request\u001b[38;5;241m=\u001b[39mrequest)\n",
      "\u001b[1;31mConnectionError\u001b[0m: HTTPSConnectionPool(host='www.foxnews.com', port=443): Max retries exceeded with url: /politics/joe-manchin-vows-fight-bidens-war-appliances-not-supporting-any-craziness (Caused by NewConnectionError('<urllib3.connection.HTTPSConnection object at 0x00000189882B1AF0>: Failed to establish a new connection: [WinError 10060] A connection attempt failed because the connected party did not properly respond after a period of time, or established connection failed because connected host has failed to respond'))"
     ]
    }
   ],
   "source": [
    "'''Connect to MqSQL table in batches citation:\n",
    "OpenAI. (2021). ChatGPT [Computer software]. https://openai.com/\n",
    "'''\n",
    "\n",
    "# Batch size (number of URLs to process at a time)\n",
    "batch_size = 10000\n",
    "\n",
    "# Get the total number of URLs in the table\n",
    "count_query = f\"SELECT COUNT(*) FROM {nwa_tbl_name}\"\n",
    "cursor.execute(count_query)\n",
    "total_urls = cursor.fetchone()[0]\n",
    "print(f'URL Count: {total_urls}')\n",
    "\n",
    "# Start timer\n",
    "start_time = dt.datetime.today()\n",
    "\n",
    "# Calculate the number of batches required\n",
    "num_batches = (total_urls // batch_size) + 1\n",
    "\n",
    "# Process URLs in batches\n",
    "for batch in range(num_batches):\n",
    "    offset = batch * batch_size\n",
    "\n",
    "    # Retrieve URLs from the MySQL table in the current batch\n",
    "    query = f'''\n",
    "    SELECT url FROM {nwa_tbl_name}\n",
    "    WHERE article_text IS NULL\n",
    "    AND (source_name=\"CNN\"\n",
    "        OR source_name=\"The Washington Post\"\n",
    "        OR source_name=\"Fox News\"\n",
    "        OR source_name=\"Breitbart News\")\n",
    "    LIMIT {batch_size}\n",
    "    OFFSET {offset}\n",
    "    '''\n",
    "    \n",
    "    print(query)\n",
    "    cursor.execute(query)\n",
    "    urls = cursor.fetchall()\n",
    "    print(f'URL batch size: {len(urls)}')\n",
    "\n",
    "    # Iterate over the URLs and scrape their contents\n",
    "    for url in urls:\n",
    "        url = url[0]  # Extract the URL from the tuple\n",
    "\n",
    "        # Make an HTTP request to the URL\n",
    "        response = requests.get(url)\n",
    "        time.sleep(5 + 11 * random.random())\n",
    "\n",
    "        # Check if the request was successful\n",
    "        if response.status_code == 200:\n",
    "            # Parse the HTML content using BeautifulSoup\n",
    "            soup = BeautifulSoup(response.content, 'html.parser')\n",
    "\n",
    "            # Extract the raw text from the HTML\n",
    "            #print(soup.prettify())\n",
    "            #raw_text = soup.get_text()\n",
    "            raw_text = soup.prettify()\n",
    "\n",
    "\n",
    "            # Update the MySQL table with the scraped text\n",
    "            update_query = '''\n",
    "            UPDATE news_articles SET article_text = %s\n",
    "            WHERE url = %s\n",
    "            '''\n",
    "            \n",
    "            print('.', end='')\n",
    "            #print(update_query)\n",
    "            cursor.execute(update_query, (raw_text, url))\n",
    "            db_conn.commit()\n",
    "        else:\n",
    "            print(f'Response: {response.status_code}')\n",
    "            \n",
    "# End timer script\n",
    "end_time = dt.datetime.today()\n",
    "time_elapse = end_time - start_time\n",
    "print(f'Start Time = {start_time}')\n",
    "print(f'End Time = {end_time}')\n",
    "print(f'Elapsed Time = {time_elapse}')"
   ]
  },
  {
   "cell_type": "markdown",
   "id": "13260755-a2e9-43e8-9e5c-26aedd04b6b9",
   "metadata": {},
   "source": [
    "### Send MySQL records to CSV"
   ]
  },
  {
   "cell_type": "code",
   "execution_count": 7,
   "id": "9d3c33e6-e2b2-4795-972b-180f92d00cce",
   "metadata": {},
   "outputs": [
    {
     "name": "stderr",
     "output_type": "stream",
     "text": [
      "C:\\Users\\acarr\\AppData\\Local\\Temp\\ipykernel_28820\\310228248.py:1: UserWarning: pandas only supports SQLAlchemy connectable (engine/connection) or database string URI or sqlite3 DBAPI2 connection. Other DBAPI2 objects are not tested. Please consider using SQLAlchemy.\n",
      "  slct_tbl_full_df01 = pd.read_sql(\n"
     ]
    }
   ],
   "source": [
    "slct_tbl_full_df01 = pd.read_sql(\n",
    "                                '''\n",
    "                                SELECT * FROM news_articles\n",
    "                                WHERE article_text IS NOT NULL\n",
    "                                    AND (source_name=\"CNN\"\n",
    "                                    OR source_name=\"The Washington Post\"\n",
    "                                    OR source_name=\"Fox News\"\n",
    "                                    OR source_name=\"Breitbart News\")\n",
    "                                ''',\n",
    "                                db_conn)"
   ]
  },
  {
   "cell_type": "code",
   "execution_count": 8,
   "id": "a1d3a8f2-dfcc-4f36-b703-18cf7e8d04dc",
   "metadata": {},
   "outputs": [
    {
     "name": "stdout",
     "output_type": "stream",
     "text": [
      "C:\\Users\\acarr\\Documents\\GitHub\\ADS509_Final_project\\deliverables\n",
      "C:\\Users\\acarr\\Documents\\GitHub\\ADS509_Final_project\n"
     ]
    }
   ],
   "source": [
    "'''Dir nav citation:\n",
    "https://softhints.com/python-change-directory-parent/\n",
    "'''\n",
    "curr_dir = os.path.abspath(os.curdir)\n",
    "print(curr_dir)\n",
    "os.chdir(\"..\")\n",
    "up1_dir = os.path.abspath(os.curdir)\n",
    "print(up1_dir)"
   ]
  },
  {
   "cell_type": "code",
   "execution_count": 9,
   "id": "ad489c8c-19e5-4f01-8beb-bc9bb7d25f32",
   "metadata": {},
   "outputs": [
    {
     "name": "stdout",
     "output_type": "stream",
     "text": [
      "CSV file path: C:\\Users\\acarr\\Documents\\GitHub\\ADS509_Final_project\\data_restricted\\data_raw_amc.csv\n"
     ]
    }
   ],
   "source": [
    "# change `data_location` to the location of the folder on your machine.\n",
    "data_location = 'data_restricted'\n",
    "\n",
    "file_name = 'data_raw_amc.csv'\n",
    "\n",
    "file_path = os.path.join(up1_dir, data_location, file_name)\n",
    "\n",
    "print(f'CSV file path: {file_path}')"
   ]
  },
  {
   "cell_type": "code",
   "execution_count": 10,
   "id": "6e212da7-9589-4775-9663-2be31c7349ff",
   "metadata": {},
   "outputs": [],
   "source": [
    "slct_tbl_full_df01.to_csv(file_path, index=False)"
   ]
  },
  {
   "cell_type": "code",
   "execution_count": 11,
   "id": "f59c3507-0d71-44aa-949c-27dc5397999e",
   "metadata": {},
   "outputs": [
    {
     "name": "stdout",
     "output_type": "stream",
     "text": [
      "<class 'pandas.core.frame.DataFrame'>\n"
     ]
    },
    {
     "data": {
      "text/html": [
       "<div>\n",
       "<style scoped>\n",
       "    .dataframe tbody tr th:only-of-type {\n",
       "        vertical-align: middle;\n",
       "    }\n",
       "\n",
       "    .dataframe tbody tr th {\n",
       "        vertical-align: top;\n",
       "    }\n",
       "\n",
       "    .dataframe thead th {\n",
       "        text-align: right;\n",
       "    }\n",
       "</style>\n",
       "<table border=\"1\" class=\"dataframe\">\n",
       "  <thead>\n",
       "    <tr style=\"text-align: right;\">\n",
       "      <th></th>\n",
       "      <th>text_id</th>\n",
       "      <th>source_name</th>\n",
       "      <th>author</th>\n",
       "      <th>title</th>\n",
       "      <th>url</th>\n",
       "      <th>publish_date</th>\n",
       "      <th>article_text</th>\n",
       "      <th>content</th>\n",
       "    </tr>\n",
       "  </thead>\n",
       "  <tbody>\n",
       "    <tr>\n",
       "      <th>0</th>\n",
       "      <td>1</td>\n",
       "      <td>CNN</td>\n",
       "      <td>Clare Foran,Nicky Robertson</td>\n",
       "      <td>Senate races to avert default but vote timing ...</td>\n",
       "      <td>https://www.cnn.com/2023/06/01/politics/senate...</td>\n",
       "      <td>2023-06-01T09:00:40Z</td>\n",
       "      <td>&lt;!DOCTYPE html&gt;\\n&lt;html data-layout-uri=\"cms.cn...</td>\n",
       "      <td>None</td>\n",
       "    </tr>\n",
       "    <tr>\n",
       "      <th>1</th>\n",
       "      <td>2</td>\n",
       "      <td>Fox News</td>\n",
       "      <td>Paul Steinhauser</td>\n",
       "      <td>First on Fox: Pro-Tim Scott super PAC launches...</td>\n",
       "      <td>https://www.foxnews.com/politics/pro-scott-sup...</td>\n",
       "      <td>2023-06-01T16:12:56Z</td>\n",
       "      <td>&lt;!DOCTYPE html&gt;\\n&lt;html data-n-head=\"%7B%22lang...</td>\n",
       "      <td>None</td>\n",
       "    </tr>\n",
       "    <tr>\n",
       "      <th>2</th>\n",
       "      <td>3</td>\n",
       "      <td>Fox News</td>\n",
       "      <td>Greg Wehner</td>\n",
       "      <td>Pennsylvania bus driver allegedly used duct ta...</td>\n",
       "      <td>https://www.foxnews.com/us/pennsylvania-bus-dr...</td>\n",
       "      <td>2023-05-31T00:21:20Z</td>\n",
       "      <td>&lt;!DOCTYPE html&gt;\\n&lt;html data-n-head=\"%7B%22lang...</td>\n",
       "      <td>None</td>\n",
       "    </tr>\n",
       "    <tr>\n",
       "      <th>3</th>\n",
       "      <td>4</td>\n",
       "      <td>Fox News</td>\n",
       "      <td>Michael Ruiz</td>\n",
       "      <td>Bob Lee murder: Cash App founder seen with sus...</td>\n",
       "      <td>https://www.foxnews.com/us/bob-lee-murder-cash...</td>\n",
       "      <td>2023-05-31T20:30:12Z</td>\n",
       "      <td>&lt;!DOCTYPE html&gt;\\n&lt;html data-n-head=\"%7B%22lang...</td>\n",
       "      <td>None</td>\n",
       "    </tr>\n",
       "    <tr>\n",
       "      <th>4</th>\n",
       "      <td>5</td>\n",
       "      <td>Fox News</td>\n",
       "      <td>Brooke Singman</td>\n",
       "      <td>Senate GOP demands answers on security clearan...</td>\n",
       "      <td>https://www.foxnews.com/politics/senate-gop-de...</td>\n",
       "      <td>2023-05-31T22:11:38Z</td>\n",
       "      <td>&lt;!DOCTYPE html&gt;\\n&lt;html data-n-head=\"%7B%22lang...</td>\n",
       "      <td>None</td>\n",
       "    </tr>\n",
       "    <tr>\n",
       "      <th>5</th>\n",
       "      <td>6</td>\n",
       "      <td>Fox News</td>\n",
       "      <td>Peter Kasperowicz</td>\n",
       "      <td>Will AI ever be smart enough to decipher feder...</td>\n",
       "      <td>https://www.foxnews.com/politics/ai-smart-enou...</td>\n",
       "      <td>2023-06-01T06:00:30Z</td>\n",
       "      <td>&lt;!DOCTYPE html&gt;\\n&lt;html data-n-head=\"%7B%22lang...</td>\n",
       "      <td>None</td>\n",
       "    </tr>\n",
       "    <tr>\n",
       "      <th>6</th>\n",
       "      <td>7</td>\n",
       "      <td>Fox News</td>\n",
       "      <td>Fox News Staff</td>\n",
       "      <td>SEAN HANNITY: Here's what you need to know abo...</td>\n",
       "      <td>https://www.foxnews.com/media/sean-hannity-her...</td>\n",
       "      <td>2023-05-31T02:53:55Z</td>\n",
       "      <td>&lt;!DOCTYPE html&gt;\\n&lt;html data-n-head=\"%7B%22lang...</td>\n",
       "      <td>None</td>\n",
       "    </tr>\n",
       "    <tr>\n",
       "      <th>7</th>\n",
       "      <td>8</td>\n",
       "      <td>Fox News</td>\n",
       "      <td>Melissa Rudy</td>\n",
       "      <td>Ozempic, Wegovy and pregnancy risk: What you n...</td>\n",
       "      <td>https://www.foxnews.com/health/ozempic-wegovy-...</td>\n",
       "      <td>2023-06-01T15:58:10Z</td>\n",
       "      <td>&lt;!DOCTYPE html&gt;\\n&lt;html data-n-head=\"%7B%22lang...</td>\n",
       "      <td>None</td>\n",
       "    </tr>\n",
       "    <tr>\n",
       "      <th>8</th>\n",
       "      <td>9</td>\n",
       "      <td>Fox News</td>\n",
       "      <td>Associated Press</td>\n",
       "      <td>NATO ramps up pressure on Turkey to drop objec...</td>\n",
       "      <td>https://www.foxnews.com/world/nato-ramps-press...</td>\n",
       "      <td>2023-06-01T16:54:03Z</td>\n",
       "      <td>&lt;!DOCTYPE html&gt;\\n&lt;html data-n-head=\"%7B%22lang...</td>\n",
       "      <td>None</td>\n",
       "    </tr>\n",
       "    <tr>\n",
       "      <th>9</th>\n",
       "      <td>10</td>\n",
       "      <td>Fox News</td>\n",
       "      <td>Fox News Staff</td>\n",
       "      <td>Mike Lee goes off on Biden-McCarthy debt ceili...</td>\n",
       "      <td>https://www.foxnews.com/media/mike-lee-goes-bi...</td>\n",
       "      <td>2023-06-01T17:00:26Z</td>\n",
       "      <td>&lt;!DOCTYPE html&gt;\\n&lt;html data-n-head=\"%7B%22lang...</td>\n",
       "      <td>None</td>\n",
       "    </tr>\n",
       "    <tr>\n",
       "      <th>10</th>\n",
       "      <td>11</td>\n",
       "      <td>Fox News</td>\n",
       "      <td>Associated Press</td>\n",
       "      <td>Indiana police officer, suspect hospitalized f...</td>\n",
       "      <td>https://www.foxnews.com/us/southern-indiana-po...</td>\n",
       "      <td>2023-05-31T12:39:31Z</td>\n",
       "      <td>&lt;!DOCTYPE html&gt;\\n&lt;html data-n-head=\"%7B%22lang...</td>\n",
       "      <td>None</td>\n",
       "    </tr>\n",
       "  </tbody>\n",
       "</table>\n",
       "</div>"
      ],
      "text/plain": [
       "    text_id source_name                       author  \\\n",
       "0         1         CNN  Clare Foran,Nicky Robertson   \n",
       "1         2    Fox News             Paul Steinhauser   \n",
       "2         3    Fox News                  Greg Wehner   \n",
       "3         4    Fox News                 Michael Ruiz   \n",
       "4         5    Fox News               Brooke Singman   \n",
       "5         6    Fox News            Peter Kasperowicz   \n",
       "6         7    Fox News               Fox News Staff   \n",
       "7         8    Fox News                 Melissa Rudy   \n",
       "8         9    Fox News             Associated Press   \n",
       "9        10    Fox News               Fox News Staff   \n",
       "10       11    Fox News             Associated Press   \n",
       "\n",
       "                                                title  \\\n",
       "0   Senate races to avert default but vote timing ...   \n",
       "1   First on Fox: Pro-Tim Scott super PAC launches...   \n",
       "2   Pennsylvania bus driver allegedly used duct ta...   \n",
       "3   Bob Lee murder: Cash App founder seen with sus...   \n",
       "4   Senate GOP demands answers on security clearan...   \n",
       "5   Will AI ever be smart enough to decipher feder...   \n",
       "6   SEAN HANNITY: Here's what you need to know abo...   \n",
       "7   Ozempic, Wegovy and pregnancy risk: What you n...   \n",
       "8   NATO ramps up pressure on Turkey to drop objec...   \n",
       "9   Mike Lee goes off on Biden-McCarthy debt ceili...   \n",
       "10  Indiana police officer, suspect hospitalized f...   \n",
       "\n",
       "                                                  url          publish_date  \\\n",
       "0   https://www.cnn.com/2023/06/01/politics/senate...  2023-06-01T09:00:40Z   \n",
       "1   https://www.foxnews.com/politics/pro-scott-sup...  2023-06-01T16:12:56Z   \n",
       "2   https://www.foxnews.com/us/pennsylvania-bus-dr...  2023-05-31T00:21:20Z   \n",
       "3   https://www.foxnews.com/us/bob-lee-murder-cash...  2023-05-31T20:30:12Z   \n",
       "4   https://www.foxnews.com/politics/senate-gop-de...  2023-05-31T22:11:38Z   \n",
       "5   https://www.foxnews.com/politics/ai-smart-enou...  2023-06-01T06:00:30Z   \n",
       "6   https://www.foxnews.com/media/sean-hannity-her...  2023-05-31T02:53:55Z   \n",
       "7   https://www.foxnews.com/health/ozempic-wegovy-...  2023-06-01T15:58:10Z   \n",
       "8   https://www.foxnews.com/world/nato-ramps-press...  2023-06-01T16:54:03Z   \n",
       "9   https://www.foxnews.com/media/mike-lee-goes-bi...  2023-06-01T17:00:26Z   \n",
       "10  https://www.foxnews.com/us/southern-indiana-po...  2023-05-31T12:39:31Z   \n",
       "\n",
       "                                         article_text content  \n",
       "0   <!DOCTYPE html>\\n<html data-layout-uri=\"cms.cn...    None  \n",
       "1   <!DOCTYPE html>\\n<html data-n-head=\"%7B%22lang...    None  \n",
       "2   <!DOCTYPE html>\\n<html data-n-head=\"%7B%22lang...    None  \n",
       "3   <!DOCTYPE html>\\n<html data-n-head=\"%7B%22lang...    None  \n",
       "4   <!DOCTYPE html>\\n<html data-n-head=\"%7B%22lang...    None  \n",
       "5   <!DOCTYPE html>\\n<html data-n-head=\"%7B%22lang...    None  \n",
       "6   <!DOCTYPE html>\\n<html data-n-head=\"%7B%22lang...    None  \n",
       "7   <!DOCTYPE html>\\n<html data-n-head=\"%7B%22lang...    None  \n",
       "8   <!DOCTYPE html>\\n<html data-n-head=\"%7B%22lang...    None  \n",
       "9   <!DOCTYPE html>\\n<html data-n-head=\"%7B%22lang...    None  \n",
       "10  <!DOCTYPE html>\\n<html data-n-head=\"%7B%22lang...    None  "
      ]
     },
     "metadata": {},
     "output_type": "display_data"
    }
   ],
   "source": [
    "print(type(slct_tbl_full_df01))\n",
    "display(slct_tbl_full_df01.head(11))\n",
    "#display(slct_tbl_full_df01['article_text'][0])"
   ]
  },
  {
   "cell_type": "markdown",
   "id": "3add1d0b-1ca0-4590-b5c4-b361c0ec0e3b",
   "metadata": {},
   "source": [
    "### Commit changes and close cursor and connection instances"
   ]
  },
  {
   "cell_type": "code",
   "execution_count": 12,
   "id": "606bb902-9103-4ca4-bcf9-a5ce8917c696",
   "metadata": {},
   "outputs": [],
   "source": [
    "# Commit the changes to the database\n",
    "db_conn.commit()\n",
    "\n",
    "# Close the cursor and database connection\n",
    "cursor.close()\n",
    "db_conn.close()"
   ]
  }
 ],
 "metadata": {
  "kernelspec": {
   "display_name": "Python 3 (ipykernel)",
   "language": "python",
   "name": "python3"
  },
  "language_info": {
   "codemirror_mode": {
    "name": "ipython",
    "version": 3
   },
   "file_extension": ".py",
   "mimetype": "text/x-python",
   "name": "python",
   "nbconvert_exporter": "python",
   "pygments_lexer": "ipython3",
   "version": "3.8.16"
  }
 },
 "nbformat": 4,
 "nbformat_minor": 5
}
