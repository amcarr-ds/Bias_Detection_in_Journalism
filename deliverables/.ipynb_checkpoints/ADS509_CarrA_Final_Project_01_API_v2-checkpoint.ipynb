{
 "cells": [
  {
   "cell_type": "markdown",
   "id": "72e49e21-4b1f-4603-a619-84b9e1998f03",
   "metadata": {},
   "source": [
    "# 509 Final Project"
   ]
  },
  {
   "cell_type": "markdown",
   "id": "41799b8c-019d-4d02-914a-107c15e3c572",
   "metadata": {},
   "source": [
    "## Rsolve dependencies"
   ]
  },
  {
   "cell_type": "code",
   "execution_count": 1,
   "id": "156706dd-43a9-49ff-8fa3-f61f0dc9cb5c",
   "metadata": {},
   "outputs": [
    {
     "name": "stdout",
     "output_type": "stream",
     "text": [
      "Requirement already satisfied: newsapi-python in c:\\users\\acarr\\anaconda3\\envs\\ds-py38-tf\\lib\\site-packages (0.2.7)\n",
      "Requirement already satisfied: requests<3.0.0 in c:\\users\\acarr\\anaconda3\\envs\\ds-py38-tf\\lib\\site-packages (from newsapi-python) (2.28.1)\n",
      "Requirement already satisfied: certifi>=2017.4.17 in c:\\users\\acarr\\anaconda3\\envs\\ds-py38-tf\\lib\\site-packages (from requests<3.0.0->newsapi-python) (2023.5.7)\n",
      "Requirement already satisfied: urllib3<1.27,>=1.21.1 in c:\\users\\acarr\\anaconda3\\envs\\ds-py38-tf\\lib\\site-packages (from requests<3.0.0->newsapi-python) (1.26.15)\n",
      "Requirement already satisfied: charset-normalizer<3,>=2 in c:\\users\\acarr\\anaconda3\\envs\\ds-py38-tf\\lib\\site-packages (from requests<3.0.0->newsapi-python) (2.0.4)\n",
      "Requirement already satisfied: idna<4,>=2.5 in c:\\users\\acarr\\anaconda3\\envs\\ds-py38-tf\\lib\\site-packages (from requests<3.0.0->newsapi-python) (3.4)\n"
     ]
    }
   ],
   "source": [
    "! pip install newsapi-python"
   ]
  },
  {
   "cell_type": "markdown",
   "id": "81c57862-dbc2-4515-b62e-14adccbf6d2b",
   "metadata": {},
   "source": [
    "## Globally import libraries"
   ]
  },
  {
   "cell_type": "code",
   "execution_count": 2,
   "id": "f3c1e3ef-8619-4237-88c3-e4a06edaf6c5",
   "metadata": {},
   "outputs": [],
   "source": [
    "import numpy as np\n",
    "import pandas as pd\n",
    "import pymysql as mysql\n",
    "import matplotlib.pyplot as plt\n",
    "import os\n",
    "import shutil\n",
    "import re\n",
    "import logging\n",
    "import time\n",
    "import zipfile\n",
    "import requests\n",
    "from bs4 import BeautifulSoup\n",
    "import datetime as dt\n",
    "import re\n",
    "import regex as rex\n",
    "from collections import defaultdict, Counter\n",
    "import random\n",
    "#import mysql.connector\n",
    "\n",
    "# Set pandas global options\n",
    "pd.options.display.max_rows = 17"
   ]
  },
  {
   "cell_type": "code",
   "execution_count": 3,
   "id": "5362756a-b723-45c8-8ddf-96c76c525b90",
   "metadata": {},
   "outputs": [
    {
     "name": "stdout",
     "output_type": "stream",
     "text": [
      "2023-06-13\n",
      "<class 'datetime.date'>\n"
     ]
    }
   ],
   "source": [
    "today = dt.date.today()\n",
    "print(today)\n",
    "print(type(today))"
   ]
  },
  {
   "cell_type": "markdown",
   "id": "b8787f58-5e3f-4200-b947-3fc11d9b00e1",
   "metadata": {},
   "source": [
    "## Connect to NewsAPI client"
   ]
  },
  {
   "cell_type": "code",
   "execution_count": 4,
   "id": "5fae3237-1881-4b51-8ef3-89d519df07e4",
   "metadata": {},
   "outputs": [],
   "source": [
    "from newsapi import NewsApiClient\n",
    "\n",
    "api_key = os.environ['NewsAPIKey']\n",
    "\n",
    "# Init\n",
    "newsapi = NewsApiClient(api_key=api_key)"
   ]
  },
  {
   "cell_type": "markdown",
   "id": "0ace829b-46ef-4364-98ca-e8bddf331a8a",
   "metadata": {},
   "source": [
    "## Pull article info from API"
   ]
  },
  {
   "cell_type": "markdown",
   "id": "15ca0d3c-fdab-4394-9f01-0c58fac0b409",
   "metadata": {},
   "source": [
    "# /v2/top-headlines/sources\n",
    "sources = newsapi.get_sources()\n",
    "print(sources)"
   ]
  },
  {
   "cell_type": "code",
   "execution_count": 5,
   "id": "ee1b41dd-e69a-40b7-baaa-ab45308d24e7",
   "metadata": {},
   "outputs": [],
   "source": [
    "def news_api_urls(q=None,\n",
    "                  s=None,\n",
    "                  d_from='2023-05-01',\n",
    "                  d_to='2023-05-31',\n",
    "                  api_lst=[]):\n",
    "    all_articles = newsapi.get_everything(q=q,\n",
    "                                          sources=s,\n",
    "                                          from_param=d_from,\n",
    "                                          to=d_to,\n",
    "                                          language='en',\n",
    "                                          sort_by='relevancy',\n",
    "                                          page=1)\n",
    "\n",
    "    print(type(all_articles))\n",
    "    print(all_articles)\n",
    "    #print('Article list: ', all_articles['articles'])\n",
    "    for article in all_articles['articles']:\n",
    "        print('Source ID:', article['source']['id'])\n",
    "        print('Source name:', article['source']['name'])\n",
    "        print('Author:', article['author'])\n",
    "        print('Title:', article['title'])\n",
    "        print('URL:', article['url'])\n",
    "        print('Publish date:', article['publishedAt'])\n",
    "        print('Article text:', article['content'], '\\n')\n",
    "\n",
    "    # Create a list of tuples from the dictionary data\n",
    "    source_data01 = [(a['source']['name'],\n",
    "                      a['author'],\n",
    "                      a['title'],\n",
    "                      a['url'],\n",
    "                      a['publishedAt'],\n",
    "                      a['content'])\n",
    "                     for a in all_articles['articles']]\n",
    "\n",
    "    api_lst.extend(source_data01)\n",
    "    #print(api_lst)\n",
    "    print(len(api_lst))"
   ]
  },
  {
   "cell_type": "markdown",
   "id": "3e798fa2-c6c3-403a-9447-45ce85b22b02",
   "metadata": {},
   "source": [
    "## Connect to API to access URLs"
   ]
  },
  {
   "cell_type": "markdown",
   "id": "8eb7d5cf-9cdf-48a6-859d-3ea5fd230015",
   "metadata": {},
   "source": [
    "### Set API filter parameters"
   ]
  },
  {
   "cell_type": "code",
   "execution_count": 6,
   "id": "15a1330d-6e03-4e1f-b2c6-6393d2a89ba8",
   "metadata": {},
   "outputs": [],
   "source": [
    "# Citation comes from Allsides Media Bias Chart\n",
    "#source_lst = ['cnn', 'reuters', 'fox-news']\n",
    "#source_lst = ['cnn', 'newsweek', 'fox-news']\n",
    "#source_lst = ['newsweek']\n",
    "source_lst = ['cnn', 'the-washington-post', 'fox-news', 'breitbart-news']\n",
    "#source_lst = ['cnn', 'fox-news']\n",
    "#source_lst = ['breitbart-news']\n",
    "\n",
    "#date_lst = ['2023-06-03', '2023-06-02']\n",
    "date_lst = ['2023-06-07', '2023-06-06', '2023-06-05', '2023-06-04']\n",
    "#date_lst = ['2023-06-03', '2023-06-02', '2023-06-01', '2023-05-31', '2023-05-30', '2023-05-29']\n",
    "#date_lst = ['2023-06-01', '2023-05-31']\n",
    "#date_lst = ['2023-05-30', '2023-05-29']\n",
    "#date_lst = ['2023-05-17', '2023-05-16', '2023-05-15', '2023-05-14', '2023-05-13']\n",
    "#date_lst = ['2023-05-12', '2023-05-11', '2023-05-10', '2023-05-09']\n",
    "#date_lst = ['2023-05-08']\n",
    "#date_lst = ['2023-05-07', '2023-05-06', '2023-05-05']\n",
    "\n",
    "# Comes from academic text (fill in citation from DF)\n",
    "q_word_lst = ['gender OR male OR female OR transgender', 'security AND (social OR national)',\n",
    "              'justice OR surveillance', 'healthcare OR \"health care\"',\n",
    "              '(political AND (bias OR party)) OR republican OR democrat OR election', '(policy AND (drug OR \"affirmative action\")) OR regulate OR regulation']\n",
    "\n",
    "#q_word_lst = ['government']"
   ]
  },
  {
   "cell_type": "markdown",
   "id": "39fe7168-8e57-457b-b8e9-2effd17f2e4b",
   "metadata": {},
   "source": [
    "### Access API"
   ]
  },
  {
   "cell_type": "code",
   "execution_count": null,
   "id": "5960daa3-3823-40f5-8869-1334e040e838",
   "metadata": {},
   "outputs": [
    {
     "name": "stdout",
     "output_type": "stream",
     "text": [
      "Source: cnn\n",
      "Date: 2023-06-07\n",
      "Query word: gender OR male OR female OR transgender\n",
      "<class 'dict'>\n",
      "{'status': 'ok', 'totalResults': 7, 'articles': [{'source': {'id': 'cnn', 'name': 'CNN'}, 'author': 'Kaanita Iyer,Jack Forrest,Devan Cole', 'title': 'Missouri governor signs gender-affirming care ban for minors and anti-trans sports bill', 'description': \"Missouri's Republican Gov. Mike Parson on Wednesday signed into law two bills targeting the rights of transgender people in the state, including a ban on gender-affirming care for minors and a prohibition on trans women and girls from playing on sports teams …\", 'url': 'https://www.cnn.com/2023/06/07/politics/missouri-anti-trans-bills-mike-parson/index.html', 'urlToImage': 'https://media.cnn.com/api/v1/images/stellar/prod/230607145438-mike-parson-file-011823.jpg?c=16x9&q=w_800,c_fill', 'publishedAt': '2023-06-07T19:46:38Z', 'content': 'Missouris Republican Gov. Mike Parson on Wednesday signed into law two bills targeting the rights of transgender people in the state, including a ban on gender-affirming care for minors and a prohibi… [+4808 chars]'}, {'source': {'id': 'cnn', 'name': 'CNN'}, 'author': 'Tara Subramaniam', 'title': \"Brutal killings of two young girls show one of India's biggest problems is getting worse, advocates say\", 'description': \"Indian advocates had hoped the shocking gang-rape of a woman on a Delhi bus in 2012 would mark a watershed moment in the country's approach to violence against women. More than a decade on, many say little has changed.\", 'url': 'https://www.cnn.com/2023/06/07/india/india-violence-against-women-teen-murders-intl-hnk-dst/index.html', 'urlToImage': 'https://media.cnn.com/api/v1/images/stellar/prod/230606221239-01-india-violence-against-women-protest-042823-file-restricted.jpg?c=16x9&q=w_800,c_fill', 'publishedAt': '2023-06-07T04:07:31Z', 'content': 'A teenage girl is stabbed and bludgeoned to death as members of the public walk by. \\r\\nAn even younger girl suffers a similar fate, allegedly at the hands of her own father because she and her mother … [+5885 chars]'}, {'source': {'id': 'cnn', 'name': 'CNN'}, 'author': 'Lisa Respers France', 'title': \"Elliot Page writes about relationship with 'Juno' co-star Olivia Thirlby in his new memoir\", 'description': 'Elliot Page is sharing a lot in his new memoir.', 'url': 'https://www.cnn.com/2023/06/07/entertainment/elliot-page-olivia-thirlby/index.html', 'urlToImage': 'https://media.cnn.com/api/v1/images/stellar/prod/230607140006-elliot-page-olivia-thirlby-split.jpg?c=16x9&q=w_800,c_fill', 'publishedAt': '2023-06-07T16:15:50Z', 'content': 'Elliot Page is sharing a lot in his new memoir.\\r\\nIn Pageboy, the star writes that he was taken aback the moment he saw Juno co-star, Olivia Thirlby.\\r\\nAt the time, he was portraying a pregnant teen gi… [+1122 chars]'}, {'source': {'id': 'cnn', 'name': 'CNN'}, 'author': 'Alisha Ebrahimji,Cheri Mossburg', 'title': 'Three people were arrested outside a California school board meeting after fights between pro- and anti-LGBTQ protestors', 'description': \"While administrators discussed the differences in opinion over the district's LGBTQ+ policies inside a California school board meeting, a brawl broke out outside and at least three people were arrested, police said.\", 'url': 'https://www.cnn.com/2023/06/07/us/glendale-school-meeting-fight-pride-month/index.html', 'urlToImage': 'https://media.cnn.com/api/v1/images/stellar/prod/230607101807-01-glendale-lgbtq-230606.jpg?c=16x9&q=w_800,c_fill', 'publishedAt': '2023-06-07T19:33:48Z', 'content': 'While administrators discussed the differences in opinion over the districts LGBTQ+ policies inside a California school board meeting, a brawl broke out outside and at least three people were arreste… [+3395 chars]'}, {'source': {'id': 'cnn', 'name': 'CNN'}, 'author': 'David Wright,Shania Shelton', 'title': 'North Dakota GOP Gov. Doug Burgum files to run for president in 2024', 'description': 'North Dakota Gov. Doug Burgum on Wednesday filed paperwork to run for president.', 'url': 'https://www.cnn.com/2023/06/07/politics/doug-burgum-announcement/index.html', 'urlToImage': 'https://media.cnn.com/api/v1/images/stellar/prod/230607085819-doug-burgum-north-dakota-file-032720.jpg?c=16x9&q=w_800,c_fill', 'publishedAt': '2023-06-07T13:01:37Z', 'content': 'North Dakota Gov. Doug Burgum on Wednesday filed paperwork to run for president.\\r\\nThe long-shot Republican contender is set to kick off his campaign with an event in Fargo, North Dakota, and earlier … [+2763 chars]'}, {'source': {'id': 'cnn', 'name': 'CNN'}, 'author': 'Steve Contorno', 'title': 'DeSantis visits southern border -- and seizes immigration issue in GOP race through executive power', 'description': 'Florida Gov. Ron DeSantis traveled to southern Arizona on Wednesday -- his first visit to the US-Mexico border as a Republican presidential candidate -- a day after taking credit for a pair of flights that recently carried migrants from Texas to California.', 'url': 'https://www.cnn.com/2023/06/07/politics/desantis-immigration-border/index.html', 'urlToImage': 'https://media.cnn.com/api/v1/images/stellar/prod/230607133548-ron-desantis-060223.jpg?c=16x9&q=w_800,c_fill', 'publishedAt': '2023-06-07T21:10:21Z', 'content': 'Florida Gov. Ron DeSantis traveled to southern Arizona on Wednesday his first visit to the US-Mexico border as a Republican presidential candidate a day after taking credit for a pair of flights that… [+6707 chars]'}, {'source': {'id': 'cnn', 'name': 'CNN'}, 'author': 'Carlotta Dotto,Krystina Shveda,Lou Robinson', 'title': \"A 'once-in-200 years' heat wave caught Southeast Asia off guard. Climate change will make them more common\", 'description': 'Informal economy workers make up the backbone of many societies but are disproportionately affected by extreme weather events, with dangerously high temperatures greatly impacting their health and the already precarious nature of their professions.', 'url': 'https://www.cnn.com/2023/06/06/asia/southeast-asia-heat-wave-humidity-climate-intl-hnk-dst-scn-dg/index.html', 'urlToImage': 'https://media.cnn.com/api/v1/images/stellar/prod/230526111920-03-thailand-heatwave-0425.jpg?c=16x9&q=w_800,c_fill', 'publishedAt': '2023-06-07T01:03:57Z', 'content': 'Every day, countless mopeds criss-cross the congested city of Hanoi, in Vietnam, with commuters traveling to work or motorbike taxis dropping off everything from parcels to cooked food and clients.\\r\\n… [+13055 chars]'}]}\n",
      "Source ID: cnn\n",
      "Source name: CNN\n",
      "Author: Kaanita Iyer,Jack Forrest,Devan Cole\n",
      "Title: Missouri governor signs gender-affirming care ban for minors and anti-trans sports bill\n",
      "URL: https://www.cnn.com/2023/06/07/politics/missouri-anti-trans-bills-mike-parson/index.html\n",
      "Publish date: 2023-06-07T19:46:38Z\n",
      "Article text: Missouris Republican Gov. Mike Parson on Wednesday signed into law two bills targeting the rights of transgender people in the state, including a ban on gender-affirming care for minors and a prohibi… [+4808 chars] \n",
      "\n",
      "Source ID: cnn\n",
      "Source name: CNN\n",
      "Author: Tara Subramaniam\n",
      "Title: Brutal killings of two young girls show one of India's biggest problems is getting worse, advocates say\n",
      "URL: https://www.cnn.com/2023/06/07/india/india-violence-against-women-teen-murders-intl-hnk-dst/index.html\n",
      "Publish date: 2023-06-07T04:07:31Z\n",
      "Article text: A teenage girl is stabbed and bludgeoned to death as members of the public walk by. \n",
      "An even younger girl suffers a similar fate, allegedly at the hands of her own father because she and her mother … [+5885 chars] \n",
      "\n",
      "Source ID: cnn\n",
      "Source name: CNN\n",
      "Author: Lisa Respers France\n",
      "Title: Elliot Page writes about relationship with 'Juno' co-star Olivia Thirlby in his new memoir\n",
      "URL: https://www.cnn.com/2023/06/07/entertainment/elliot-page-olivia-thirlby/index.html\n",
      "Publish date: 2023-06-07T16:15:50Z\n",
      "Article text: Elliot Page is sharing a lot in his new memoir.\n",
      "In Pageboy, the star writes that he was taken aback the moment he saw Juno co-star, Olivia Thirlby.\n",
      "At the time, he was portraying a pregnant teen gi… [+1122 chars] \n",
      "\n",
      "Source ID: cnn\n",
      "Source name: CNN\n",
      "Author: Alisha Ebrahimji,Cheri Mossburg\n",
      "Title: Three people were arrested outside a California school board meeting after fights between pro- and anti-LGBTQ protestors\n",
      "URL: https://www.cnn.com/2023/06/07/us/glendale-school-meeting-fight-pride-month/index.html\n",
      "Publish date: 2023-06-07T19:33:48Z\n",
      "Article text: While administrators discussed the differences in opinion over the districts LGBTQ+ policies inside a California school board meeting, a brawl broke out outside and at least three people were arreste… [+3395 chars] \n",
      "\n",
      "Source ID: cnn\n",
      "Source name: CNN\n",
      "Author: David Wright,Shania Shelton\n",
      "Title: North Dakota GOP Gov. Doug Burgum files to run for president in 2024\n",
      "URL: https://www.cnn.com/2023/06/07/politics/doug-burgum-announcement/index.html\n",
      "Publish date: 2023-06-07T13:01:37Z\n",
      "Article text: North Dakota Gov. Doug Burgum on Wednesday filed paperwork to run for president.\n",
      "The long-shot Republican contender is set to kick off his campaign with an event in Fargo, North Dakota, and earlier … [+2763 chars] \n",
      "\n",
      "Source ID: cnn\n",
      "Source name: CNN\n",
      "Author: Steve Contorno\n",
      "Title: DeSantis visits southern border -- and seizes immigration issue in GOP race through executive power\n",
      "URL: https://www.cnn.com/2023/06/07/politics/desantis-immigration-border/index.html\n",
      "Publish date: 2023-06-07T21:10:21Z\n",
      "Article text: Florida Gov. Ron DeSantis traveled to southern Arizona on Wednesday his first visit to the US-Mexico border as a Republican presidential candidate a day after taking credit for a pair of flights that… [+6707 chars] \n",
      "\n",
      "Source ID: cnn\n",
      "Source name: CNN\n",
      "Author: Carlotta Dotto,Krystina Shveda,Lou Robinson\n",
      "Title: A 'once-in-200 years' heat wave caught Southeast Asia off guard. Climate change will make them more common\n",
      "URL: https://www.cnn.com/2023/06/06/asia/southeast-asia-heat-wave-humidity-climate-intl-hnk-dst-scn-dg/index.html\n",
      "Publish date: 2023-06-07T01:03:57Z\n",
      "Article text: Every day, countless mopeds criss-cross the congested city of Hanoi, in Vietnam, with commuters traveling to work or motorbike taxis dropping off everything from parcels to cooked food and clients.\n",
      "… [+13055 chars] \n",
      "\n",
      "7\n",
      "cnn 2023-06-07 gender OR male OR female OR transgender\n",
      "Query word: security AND (social OR national)\n",
      "<class 'dict'>\n",
      "{'status': 'ok', 'totalResults': 12, 'articles': [{'source': {'id': 'cnn', 'name': 'CNN'}, 'author': 'Jessie Yeung', 'title': '12.9 million Chinese students take college entrance exam as pressures mount', 'description': 'For nearly 13 million high school students across China, Wednesday marks a day that could make or break their plans for college and the increasingly...', 'url': 'https://www.cnn.com/2023/06/06/business/china-gaokao-college-exam-jobs-intl-hnk?cid=external-feeds_iluminar_yahoo', 'urlToImage': 'https://media.zenfs.com/en/cnn_business_articles_218/1ea439c9ce0766ce21f74ecef8700ed2', 'publishedAt': '2023-06-07T03:12:43Z', 'content': 'For nearly 13 million high school students across China, Wednesday marks a day that could make or break their plans for college and the increasingly competitive job market beyond.\\r\\nA high score in th… [+3945 chars]'}, {'source': {'id': 'cnn', 'name': 'CNN'}, 'author': 'Jessie Yeung,Candice Zhu', 'title': '12.9 million Chinese students take college entrance exam as pressures mount', 'description': 'For nearly 13 million high school students across China, Wednesday marks a day that could make or break their plans for college and the increasingly competitive job market beyond.', 'url': 'https://www.cnn.com/2023/06/06/business/china-gaokao-college-exam-jobs-intl-hnk/index.html', 'urlToImage': 'https://media.cnn.com/api/v1/images/stellar/prod/230606064457-gaokao-studying-china-file-restricted-060523.jpg?c=16x9&q=w_800,c_fill', 'publishedAt': '2023-06-07T03:12:43Z', 'content': 'For nearly 13 million high school students across China, Wednesday marks a day that could make or break their plans for college and the increasingly competitive job market beyond.\\r\\nA high score in th… [+3741 chars]'}, {'source': {'id': 'cnn', 'name': 'CNN'}, 'author': 'Brian Fung', 'title': 'The US Senate is working to get up to speed on AI basics ahead of any legislation', 'description': 'The US Senate is inching forward on a plan to regulate artificial intelligence, after months of seeing how ChatGPT and similar tools stand to supercharge — or disrupt— wide swaths of society.', 'url': 'https://www.cnn.com/2023/06/07/tech/senate-ai-plan/index.html', 'urlToImage': 'https://media.cnn.com/api/v1/images/stellar/prod/230607150456-us-capitol-0530.jpg?c=16x9&q=w_800,c_fill', 'publishedAt': '2023-06-07T19:33:12Z', 'content': 'The US Senate is inching forward on a plan to regulate artificial intelligence, after months of seeing how ChatGPT and similar tools stand to supercharge or disrupt wide swaths of society. \\r\\nBut desp… [+4090 chars]'}, {'source': {'id': 'cnn', 'name': 'CNN'}, 'author': 'Gul Tuysuz', 'title': \"What Turkey's new cabinet says about where the country is headed\", 'description': 'Turkish President Recep Tayyip Erdogan swore in a new cabinet over the weekend, ushering in what he has called \"a new period of glory\" for the Turkish Republic as it begins its second century, and one that he hopes will cement his rule over the nation of 85 m…', 'url': 'https://www.cnn.com/2023/06/07/middleeast/turkey-erdogan-new-cabinet-mime-intl/index.html', 'urlToImage': 'https://media.cnn.com/api/v1/images/stellar/prod/230607040502-01-erdogan-cabinet-060623-restricted.jpg?c=16x9&q=w_800,c_fill', 'publishedAt': '2023-06-07T12:42:26Z', 'content': 'Editors Note: A version of this story appears in CNNs Meanwhile in the Middle East newsletter, a three-times-a-week look inside the regions biggest stories. Sign up here.\\r\\nTurkish President Recep Tay… [+6926 chars]'}, {'source': {'id': 'cnn', 'name': 'CNN'}, 'author': 'Nimi Princewill', 'title': 'Senegal shuts consulates abroad amid attacks and political tensions', 'description': \"Senegal's foreign ministry announced Tuesday it was temporarily closing its overseas consulates amid raging political tensions that have fueled attacks on its diplomatic missions in Paris, Bordeaux, Milan and New York.\", 'url': 'https://www.cnn.com/2023/06/07/africa/senegal-shuts-consulates-abroad-intl/index.html', 'urlToImage': 'https://media.cnn.com/api/v1/images/stellar/prod/230605082349-06-senegal-protests-0603.jpg?c=16x9&q=w_800,c_fill', 'publishedAt': '2023-06-07T15:38:43Z', 'content': 'Senegals foreign ministry announced Tuesday it was temporarily closing its overseas consulates amid raging political tensions that have fueled attacks on its diplomatic missions in Paris, Bordeaux, M… [+3804 chars]'}, {'source': {'id': 'cnn', 'name': 'CNN'}, 'author': 'Simone McCarthy', 'title': 'India and China are kicking out each others’ journalists in the latest strain on ties', 'description': 'India and China are fast heading toward having few or no accredited journalists on the ground in each others’ country – the latest sign of fraying relations ...', 'url': 'https://www.cnn.com/2023/06/06/media/india-china-journalist-visas-intl-hnk?cid=external-feeds_iluminar_yahoo', 'urlToImage': 'https://media.zenfs.com/en/cnn_business_articles_218/3557f0c417c5b0763333328d200a7106', 'publishedAt': '2023-06-07T04:27:32Z', 'content': 'India and China are fast heading toward having few or no accredited journalists on the ground in each others country the latest sign of fraying relations between the worlds two most populous nations.… [+7796 chars]'}, {'source': {'id': 'cnn', 'name': 'CNN'}, 'author': 'Brian Fung', 'title': 'First on CNN: Pornhub asks users and Big Tech for help as states adopt age verification laws', 'description': \"Pornhub last month withdrew from Utah over a new law requiring adult sites to verify users' ages and holding them liable for serving their content to minors. Similar legislation is set to take effect next month in Arkansas, Mississippi and Virginia.\", 'url': 'https://www.cnn.com/2023/06/07/tech/pornhub-age-verification-laws/index.html', 'urlToImage': 'https://media.cnn.com/api/v1/images/stellar/prod/230606133639-pornhub-verification-restricted.jpg?c=16x9&q=w_800,c_fill', 'publishedAt': '2023-06-07T13:25:38Z', 'content': 'In the two-minute video, adult performer Cherie Deville stares into the camera and intones soberly to viewers, for the second time in a month, that policymakers are coming for their porn. \\r\\nClick the… [+7800 chars]'}, {'source': {'id': 'cnn', 'name': 'CNN'}, 'author': 'Devan Cole', 'title': 'Financial disclosures show Supreme Court justices traveled extensively in 2022', 'description': 'Supreme Court Justices Amy Coney Barrett, Brett Kavanaugh and Neil Gorsuch were flown to Italy. Justice Ketanji Brown Jackson received a $1,200 \"congratulatory floral arrangement\" from Oprah Winfrey. And Justice Sonia Sotomayor received nearly $150,000 in boo…', 'url': 'https://www.cnn.com/2023/06/07/politics/supreme-court-2022-financial-disclosure-forms-justices/index.html', 'urlToImage': 'https://media.cnn.com/api/v1/images/stellar/prod/221007160438-02-us-supreme-court-class-photo-221007.jpg?c=16x9&q=w_800,c_fill', 'publishedAt': '2023-06-07T19:19:43Z', 'content': 'Supreme Court Justices Amy Coney Barrett, Brett Kavanaugh and Neil Gorsuch were flown to Italy. Justice Ketanji Brown Jackson received a $1,200 congratulatory floral arrangement from Oprah Winfrey. A… [+2774 chars]'}, {'source': {'id': 'cnn', 'name': 'CNN'}, 'author': 'Haley Britzky', 'title': 'Watchdog report finds former Pentagon official created a toxic work environment', 'description': 'A newly released Defense Department inspector general investigation found that a former senior Pentagon leader berated and belittled subordinates, cursed at them, made some employees cry, and generally created a toxic work environment.', 'url': 'https://www.cnn.com/2023/06/07/politics/cutrone-inspector-general-report/index.html', 'urlToImage': 'https://media.cnn.com/api/v1/images/stellar/prod/230607133100-michael-cutrone-file-110520.jpg?c=16x9&q=w_800,c_fill', 'publishedAt': '2023-06-07T19:50:35Z', 'content': 'A newly released Defense Department inspector general investigation found that a former senior Pentagon leader berated and belittled subordinates, cursed at them, made some employees cry, and general… [+3923 chars]'}, {'source': {'id': 'cnn', 'name': 'CNN'}, 'author': 'Marshall Cohen', 'title': 'What to know about the Florida grand jury in the Trump documents probe', 'description': 'We learned this week that special counsel Jack Smith, who is investigating former President Donald Trump for potentially mishandling classified documents, is using a second grand jury in Miami to gather new evidence.', 'url': 'https://www.cnn.com/2023/06/07/politics/trump-documents-florida-grand-jury-explainer/index.html', 'urlToImage': 'https://media.cnn.com/api/v1/images/stellar/prod/230403155319-trump-classified-documents-file.jpg?c=16x9&q=w_800,c_fill', 'publishedAt': '2023-06-07T23:23:51Z', 'content': 'We learned this week that special counsel Jack Smith, who is investigating former President Donald Trump for potentially mishandling classified documents, is using a second grand jury in Miami to gat… [+4908 chars]'}, {'source': {'id': 'cnn', 'name': 'CNN'}, 'author': 'Simone McCarthy', 'title': \"India and China are kicking out each others' journalists in the latest strain on ties\", 'description': \"India and China are fast heading toward having few or no accredited journalists on the ground in each others' country -- the latest sign of fraying relations between the world's two most populous nations.\", 'url': 'https://www.cnn.com/2023/06/06/media/india-china-journalist-visas-intl-hnk/index.html', 'urlToImage': 'https://media.cnn.com/api/v1/images/stellar/prod/230606214508-01-politburo-china-journalists-102322-file-restricted.jpg?c=16x9&q=w_800,c_fill', 'publishedAt': '2023-06-07T03:52:55Z', 'content': 'India and China are fast heading toward having few or no accredited journalists on the ground in each others country the latest sign of fraying relations between the worlds two most populous nations.… [+7713 chars]'}, {'source': {'id': 'cnn', 'name': 'CNN'}, 'author': 'Josh Pennington,Jo Shelley,Olga Voitovych,Julia Kesaieva,Helen Regan', 'title': \"Collapse of Ukraine's Nova Kakhovka dam an 'ecological catastrophe'\", 'description': 'The collapse of the Nova Kakhovka dam in southern Ukraine has sparked fears of an ecological catastrophe,  with Ukrainian President Volodymyr Zelensky describing the situation as “an environmental bomb of mass destruction.”', 'url': 'https://www.cnn.com/2023/06/07/europe/ukraine-nova-kakhovka-dam-environment-damage-intl-hnk/index.html', 'urlToImage': 'https://media.cnn.com/api/v1/images/stellar/prod/230606221757-01-kherson-dam-flood-ukr-060623.jpg?c=16x9&q=w_800,c_fill', 'publishedAt': '2023-06-07T06:16:48Z', 'content': 'The collapse of the Nova Kakhovka dam in southern Ukraine has sparked fears of an ecological catastrophe, with Ukrainian President Volodymyr Zelensky describing the situation as an environmental bomb… [+7746 chars]'}]}\n",
      "Source ID: cnn\n",
      "Source name: CNN\n",
      "Author: Jessie Yeung\n",
      "Title: 12.9 million Chinese students take college entrance exam as pressures mount\n",
      "URL: https://www.cnn.com/2023/06/06/business/china-gaokao-college-exam-jobs-intl-hnk?cid=external-feeds_iluminar_yahoo\n",
      "Publish date: 2023-06-07T03:12:43Z\n",
      "Article text: For nearly 13 million high school students across China, Wednesday marks a day that could make or break their plans for college and the increasingly competitive job market beyond.\n",
      "A high score in th… [+3945 chars] \n",
      "\n",
      "Source ID: cnn\n",
      "Source name: CNN\n",
      "Author: Jessie Yeung,Candice Zhu\n",
      "Title: 12.9 million Chinese students take college entrance exam as pressures mount\n",
      "URL: https://www.cnn.com/2023/06/06/business/china-gaokao-college-exam-jobs-intl-hnk/index.html\n",
      "Publish date: 2023-06-07T03:12:43Z\n",
      "Article text: For nearly 13 million high school students across China, Wednesday marks a day that could make or break their plans for college and the increasingly competitive job market beyond.\n",
      "A high score in th… [+3741 chars] \n",
      "\n",
      "Source ID: cnn\n",
      "Source name: CNN\n",
      "Author: Brian Fung\n",
      "Title: The US Senate is working to get up to speed on AI basics ahead of any legislation\n",
      "URL: https://www.cnn.com/2023/06/07/tech/senate-ai-plan/index.html\n",
      "Publish date: 2023-06-07T19:33:12Z\n",
      "Article text: The US Senate is inching forward on a plan to regulate artificial intelligence, after months of seeing how ChatGPT and similar tools stand to supercharge or disrupt wide swaths of society. \n",
      "But desp… [+4090 chars] \n",
      "\n",
      "Source ID: cnn\n",
      "Source name: CNN\n",
      "Author: Gul Tuysuz\n",
      "Title: What Turkey's new cabinet says about where the country is headed\n",
      "URL: https://www.cnn.com/2023/06/07/middleeast/turkey-erdogan-new-cabinet-mime-intl/index.html\n",
      "Publish date: 2023-06-07T12:42:26Z\n",
      "Article text: Editors Note: A version of this story appears in CNNs Meanwhile in the Middle East newsletter, a three-times-a-week look inside the regions biggest stories. Sign up here.\n",
      "Turkish President Recep Tay… [+6926 chars] \n",
      "\n",
      "Source ID: cnn\n",
      "Source name: CNN\n",
      "Author: Nimi Princewill\n",
      "Title: Senegal shuts consulates abroad amid attacks and political tensions\n",
      "URL: https://www.cnn.com/2023/06/07/africa/senegal-shuts-consulates-abroad-intl/index.html\n",
      "Publish date: 2023-06-07T15:38:43Z\n",
      "Article text: Senegals foreign ministry announced Tuesday it was temporarily closing its overseas consulates amid raging political tensions that have fueled attacks on its diplomatic missions in Paris, Bordeaux, M… [+3804 chars] \n",
      "\n",
      "Source ID: cnn\n",
      "Source name: CNN\n",
      "Author: Simone McCarthy\n",
      "Title: India and China are kicking out each others’ journalists in the latest strain on ties\n",
      "URL: https://www.cnn.com/2023/06/06/media/india-china-journalist-visas-intl-hnk?cid=external-feeds_iluminar_yahoo\n",
      "Publish date: 2023-06-07T04:27:32Z\n",
      "Article text: India and China are fast heading toward having few or no accredited journalists on the ground in each others country the latest sign of fraying relations between the worlds two most populous nations.… [+7796 chars] \n",
      "\n",
      "Source ID: cnn\n",
      "Source name: CNN\n",
      "Author: Brian Fung\n",
      "Title: First on CNN: Pornhub asks users and Big Tech for help as states adopt age verification laws\n",
      "URL: https://www.cnn.com/2023/06/07/tech/pornhub-age-verification-laws/index.html\n",
      "Publish date: 2023-06-07T13:25:38Z\n",
      "Article text: In the two-minute video, adult performer Cherie Deville stares into the camera and intones soberly to viewers, for the second time in a month, that policymakers are coming for their porn. \n",
      "Click the… [+7800 chars] \n",
      "\n",
      "Source ID: cnn\n",
      "Source name: CNN\n",
      "Author: Devan Cole\n",
      "Title: Financial disclosures show Supreme Court justices traveled extensively in 2022\n",
      "URL: https://www.cnn.com/2023/06/07/politics/supreme-court-2022-financial-disclosure-forms-justices/index.html\n",
      "Publish date: 2023-06-07T19:19:43Z\n",
      "Article text: Supreme Court Justices Amy Coney Barrett, Brett Kavanaugh and Neil Gorsuch were flown to Italy. Justice Ketanji Brown Jackson received a $1,200 congratulatory floral arrangement from Oprah Winfrey. A… [+2774 chars] \n",
      "\n",
      "Source ID: cnn\n",
      "Source name: CNN\n",
      "Author: Haley Britzky\n",
      "Title: Watchdog report finds former Pentagon official created a toxic work environment\n",
      "URL: https://www.cnn.com/2023/06/07/politics/cutrone-inspector-general-report/index.html\n",
      "Publish date: 2023-06-07T19:50:35Z\n",
      "Article text: A newly released Defense Department inspector general investigation found that a former senior Pentagon leader berated and belittled subordinates, cursed at them, made some employees cry, and general… [+3923 chars] \n",
      "\n",
      "Source ID: cnn\n",
      "Source name: CNN\n",
      "Author: Marshall Cohen\n",
      "Title: What to know about the Florida grand jury in the Trump documents probe\n",
      "URL: https://www.cnn.com/2023/06/07/politics/trump-documents-florida-grand-jury-explainer/index.html\n",
      "Publish date: 2023-06-07T23:23:51Z\n",
      "Article text: We learned this week that special counsel Jack Smith, who is investigating former President Donald Trump for potentially mishandling classified documents, is using a second grand jury in Miami to gat… [+4908 chars] \n",
      "\n",
      "Source ID: cnn\n",
      "Source name: CNN\n",
      "Author: Simone McCarthy\n",
      "Title: India and China are kicking out each others' journalists in the latest strain on ties\n",
      "URL: https://www.cnn.com/2023/06/06/media/india-china-journalist-visas-intl-hnk/index.html\n",
      "Publish date: 2023-06-07T03:52:55Z\n",
      "Article text: India and China are fast heading toward having few or no accredited journalists on the ground in each others country the latest sign of fraying relations between the worlds two most populous nations.… [+7713 chars] \n",
      "\n",
      "Source ID: cnn\n",
      "Source name: CNN\n",
      "Author: Josh Pennington,Jo Shelley,Olga Voitovych,Julia Kesaieva,Helen Regan\n",
      "Title: Collapse of Ukraine's Nova Kakhovka dam an 'ecological catastrophe'\n",
      "URL: https://www.cnn.com/2023/06/07/europe/ukraine-nova-kakhovka-dam-environment-damage-intl-hnk/index.html\n",
      "Publish date: 2023-06-07T06:16:48Z\n",
      "Article text: The collapse of the Nova Kakhovka dam in southern Ukraine has sparked fears of an ecological catastrophe, with Ukrainian President Volodymyr Zelensky describing the situation as an environmental bomb… [+7746 chars] \n",
      "\n",
      "19\n",
      "cnn 2023-06-07 security AND (social OR national)\n",
      "Query word: justice OR surveillance\n"
     ]
    }
   ],
   "source": [
    "api_record_lst01 = []\n",
    "for s in source_lst:\n",
    "    print(f'Source: {s}')\n",
    "    for d in date_lst:\n",
    "        print(f'Date: {d}')\n",
    "        for q in q_word_lst:\n",
    "            print(f'Query word: {q}')\n",
    "            time.sleep(5 + 11 * random.random())\n",
    "            news_api_urls(q=q,\n",
    "                          s=s,\n",
    "                          d_from=d,\n",
    "                          d_to=d,\n",
    "                          api_lst=api_record_lst01)\n",
    "            print(s, d, q)\n",
    "    time.sleep(10 + 13 * random.random())\n",
    "\n",
    "print(api_record_lst01)\n",
    "print(len(api_record_lst01))"
   ]
  },
  {
   "cell_type": "code",
   "execution_count": null,
   "id": "84a04f8c-c5d3-4236-998a-a13bf09c0c23",
   "metadata": {},
   "outputs": [],
   "source": [
    "print(api_record_lst01)\n",
    "print(len(api_record_lst01))"
   ]
  },
  {
   "cell_type": "code",
   "execution_count": null,
   "id": "0f82433d-b1a9-4c22-b3b1-ac3c8208e8aa",
   "metadata": {},
   "outputs": [],
   "source": [
    "#api_record_lst01 = [(1, 1, 1), (2, 2, 2), (3, 3, 3), (1, 1, 1), (4, 4, 4), (3, 3, 3)]\n",
    "#print(api_record_lst01)\n",
    "api_record_set01 = set(api_record_lst01)\n",
    "print(api_record_set01)\n",
    "api_record_lst02 = list(api_record_set01)\n",
    "print(api_record_lst02)\n",
    "print(len(api_record_lst02))"
   ]
  },
  {
   "cell_type": "markdown",
   "id": "bff0feec-4930-4d28-a6c2-d83288b781b7",
   "metadata": {},
   "source": [
    "## Initiate MySQL connection"
   ]
  },
  {
   "cell_type": "code",
   "execution_count": null,
   "id": "0d1e9561-e376-4262-aa6f-c59d45124989",
   "metadata": {},
   "outputs": [],
   "source": [
    "'''Set local environment variables to hide user name & password citation:\n",
    "https://www.geeksforgeeks.org/how-to-hide-sensitive-credentials-using-python/'''\n",
    "\n",
    "user_name = os.environ['MySQLUSRAC']\n",
    "user_pass = os.environ['MySQLPWDAC']\n",
    "\n",
    "# Instantiate connection\n",
    "db_conn = mysql.connect(host='localhost',\n",
    "                        port=int(3306),\n",
    "                        user=user_name,\n",
    "                        passwd=user_pass,\n",
    "                        db='509_final_proj')\n",
    "\n",
    "# Create a cursor object\n",
    "cursor = db_conn.cursor()"
   ]
  },
  {
   "cell_type": "code",
   "execution_count": null,
   "id": "e753d762-a5ea-455a-8db6-b329eed96d1f",
   "metadata": {},
   "outputs": [],
   "source": [
    "tbl_names = pd.read_sql('SHOW TABLES', db_conn)\n",
    "\n",
    "display(tbl_names)\n",
    "print(type(tbl_names))"
   ]
  },
  {
   "cell_type": "markdown",
   "id": "7afd8db1-f81b-4b75-adbf-546c19cfab8b",
   "metadata": {},
   "source": [
    "### Establish logging policy"
   ]
  },
  {
   "cell_type": "code",
   "execution_count": null,
   "id": "45f9b045-77c7-46b9-98ed-cb15b224bf27",
   "metadata": {},
   "outputs": [],
   "source": [
    "'''Logging citations (see additional code in following code blocks:\n",
    "OpenAI. (2021). ChatGPT [Computer software]. https://openai.com/;\n",
    "https://docs.python.org/3/howto/logging.html#logging-basic-example;\n",
    "https://docs.python.org/3/howto/logging.html#logging-to-a-file;\n",
    "https://docs.python.org/3/howto/logging-cookbook.html#using-a-rotating-log-file-handler;\n",
    "https://docs.python.org/3/howto/logging-cookbook.html#using-a-timed-rotating-file-handler'''\n",
    "\n",
    "# Set up logging\n",
    "logging.basicConfig(level=logging.INFO,\n",
    "                    filename='pymysql.log',\n",
    "                    filemode='a',\n",
    "                    format='>>>>>>>>>>>>>><<<<<<<<<<<<<<\\n%(asctime)s - %(levelname)s - %(message)s')"
   ]
  },
  {
   "cell_type": "markdown",
   "id": "e5204295-2b32-45bf-b851-45f40fc5fdcf",
   "metadata": {},
   "source": [
    "### Update individual tables"
   ]
  },
  {
   "cell_type": "markdown",
   "id": "b3e51a9b-96b9-4e0d-ba5f-ef6acc5b60ef",
   "metadata": {},
   "source": [
    "#### Update `news_articles` table from API"
   ]
  },
  {
   "cell_type": "code",
   "execution_count": null,
   "id": "7dead612-d53c-4ea6-b574-1248c09b21aa",
   "metadata": {},
   "outputs": [],
   "source": [
    "nat_tbl_name = 'nar_temp'\n",
    "nwa_tbl_name = 'news_articles'"
   ]
  },
  {
   "cell_type": "code",
   "execution_count": null,
   "id": "d6f4422f-123d-4d05-bcc8-7e41cfe08d5a",
   "metadata": {},
   "outputs": [],
   "source": [
    "'''Using cursor and loading into temp file:\n",
    "OpenAI. (2021). ChatGPT [Computer software]. https://openai.com/;\n",
    "https://pynative.com/python-mysql-insert-data-into-database-table/'''\n",
    "\n",
    "# Execute query and measure execution time\n",
    "start_time = time.time()\n",
    "\n",
    "# Wipe temp table\n",
    "try:\n",
    "    nat_dlt_tble_stmnt = f\"\"\"DELETE FROM {nat_tbl_name}\"\"\"\n",
    "    cursor.execute(nat_dlt_tble_stmnt)\n",
    "    logging.info(f'Successfully executed query:\\n{nat_dlt_tble_stmnt}\\n\\nRecords scanned: {cursor.rowcount}')\n",
    "except mysql.Error as e:\n",
    "    logging.error(f'Error executing query:\\n{nat_dlt_tble_stmnt}\\n\\n{e}')\n",
    "finally:\n",
    "    end_time = time.time()\n",
    "    logging.info(f'Time taken: {end_time - start_time:.3f} seconds\\n>>>>>>>>>>>>>><<<<<<<<<<<<<<\\n\\n')\n",
    "\n",
    "# Execute query and measure execution time\n",
    "start_time = time.time()\n",
    "\n",
    "# Load data from CSV file into a temporary table\n",
    "try:\n",
    "    nat_csv_load_stmnt = f\"\"\"\n",
    "    INSERT INTO {nat_tbl_name}\n",
    "    (\n",
    "    source_name,\n",
    "    author,\n",
    "    title,\n",
    "    url,\n",
    "    publish_date,\n",
    "    content\n",
    "    )\n",
    "    VALUES (%s, %s, %s, %s, %s, %s)\n",
    "    \"\"\"\n",
    "\n",
    "    # Execute the query with multiple values\n",
    "    cursor.executemany(nat_csv_load_stmnt, api_record_lst02)\n",
    "    #cursor.execute(nat_csv_load_stmnt)\n",
    "    logging.info(f'Successfully executed query:\\n{nat_csv_load_stmnt}\\n\\nRecords scanned: {cursor.rowcount}')\n",
    "except mysql.Error as e:\n",
    "    logging.error(f'Error executing query:\\n{nat_csv_load_stmnt}\\n\\n{e}')\n",
    "finally:\n",
    "    end_time = time.time()\n",
    "    logging.info(f'Time taken: {end_time - start_time:.3f} seconds\\n>>>>>>>>>>>>>><<<<<<<<<<<<<<\\n\\n')\n",
    "\n",
    "# Execute query and measure execution time\n",
    "start_time = time.time()\n",
    "\n",
    "# Insert new records into main table\n",
    "try:\n",
    "    nwa_load_stmnt = f\"\"\"\n",
    "    INSERT INTO {nwa_tbl_name}\n",
    "    (\n",
    "    source_name,\n",
    "    author,\n",
    "    title,\n",
    "    url,\n",
    "    publish_date,\n",
    "    content\n",
    "    )\n",
    "    SELECT\n",
    "        tp.source_name,\n",
    "        tp.author,\n",
    "        tp.title,\n",
    "        tp.url,\n",
    "        tp.publish_date,\n",
    "        tp.content\n",
    "    FROM {nat_tbl_name} AS tp\n",
    "    LEFT JOIN {nwa_tbl_name} AS mn\n",
    "        ON tp.title = mn.title\n",
    "            AND CAST(LEFT(tp.publish_date, 10) AS DATE) = CAST(LEFT(mn.publish_date, 10) AS DATE)\n",
    "            AND tp.author = mn.author\n",
    "    \"\"\"\n",
    "    cursor.execute(nwa_load_stmnt)\n",
    "    logging.info(f'Successfully executed query:\\n{nwa_load_stmnt}\\n\\nRecords scanned: {cursor.rowcount}')\n",
    "except mysql.Error as e:\n",
    "    logging.error(f'Error executing query:\\n{nwa_load_stmnt}\\n\\n{e}')\n",
    "finally:\n",
    "    end_time = time.time()\n",
    "    logging.info(f'Time taken: {end_time - start_time:.3f} seconds\\n>>>>>>>>>>>>>><<<<<<<<<<<<<<\\n\\n')\n",
    "\n",
    "# Execute query and measure execution time\n",
    "start_time = time.time()\n",
    "\n",
    "# Wipe temp table\n",
    "try:\n",
    "    cursor.execute(nat_dlt_tble_stmnt)\n",
    "    logging.info(f'Successfully executed query:\\n{nat_dlt_tble_stmnt}\\n\\nRecords scanned: {cursor.rowcount}')\n",
    "except mysql.Error as e:\n",
    "    logging.error(f'Error executing query:\\n{nat_dlt_tble_stmnt}\\n\\n{e}')\n",
    "finally:\n",
    "    end_time = time.time()\n",
    "    logging.info(f'Time taken: {end_time - start_time:.3f} seconds\\n>>>>>>>>>>>>>><<<<<<<<<<<<<<\\n\\n')"
   ]
  },
  {
   "cell_type": "markdown",
   "id": "5699729c-2960-4519-b287-9a6f315a7e35",
   "metadata": {},
   "source": [
    "### Commit changes and close cursor and connection instances"
   ]
  },
  {
   "cell_type": "code",
   "execution_count": null,
   "id": "ce9228f3-083f-4fc1-850d-fc5e4bde40b0",
   "metadata": {},
   "outputs": [],
   "source": [
    "# Commit the changes to the database\n",
    "db_conn.commit()\n",
    "\n",
    "# Close the cursor and database connection\n",
    "cursor.close()\n",
    "db_conn.close()"
   ]
  }
 ],
 "metadata": {
  "kernelspec": {
   "display_name": "Python 3 (ipykernel)",
   "language": "python",
   "name": "python3"
  },
  "language_info": {
   "codemirror_mode": {
    "name": "ipython",
    "version": 3
   },
   "file_extension": ".py",
   "mimetype": "text/x-python",
   "name": "python",
   "nbconvert_exporter": "python",
   "pygments_lexer": "ipython3",
   "version": "3.8.16"
  }
 },
 "nbformat": 4,
 "nbformat_minor": 5
}
