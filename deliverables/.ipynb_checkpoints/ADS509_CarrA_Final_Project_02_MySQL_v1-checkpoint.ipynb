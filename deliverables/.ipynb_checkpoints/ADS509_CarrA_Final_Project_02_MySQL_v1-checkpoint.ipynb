{
 "cells": [
  {
   "cell_type": "markdown",
   "id": "72e49e21-4b1f-4603-a619-84b9e1998f03",
   "metadata": {},
   "source": [
    "# 509 Final Project"
   ]
  },
  {
   "cell_type": "markdown",
   "id": "41799b8c-019d-4d02-914a-107c15e3c572",
   "metadata": {},
   "source": [
    "## Rsolve dependencies"
   ]
  },
  {
   "cell_type": "markdown",
   "id": "81c57862-dbc2-4515-b62e-14adccbf6d2b",
   "metadata": {},
   "source": [
    "## Globally import libraries"
   ]
  },
  {
   "cell_type": "code",
   "execution_count": 1,
   "id": "f3c1e3ef-8619-4237-88c3-e4a06edaf6c5",
   "metadata": {},
   "outputs": [],
   "source": [
    "import numpy as np\n",
    "import pandas as pd\n",
    "import pymysql as mysql\n",
    "import matplotlib.pyplot as plt\n",
    "import os\n",
    "import shutil\n",
    "import re\n",
    "import logging\n",
    "import time\n",
    "import zipfile\n",
    "import requests\n",
    "from bs4 import BeautifulSoup\n",
    "import datetime as dt\n",
    "import re\n",
    "import regex as rex\n",
    "from collections import defaultdict, Counter\n",
    "import random\n",
    "#import mysql.connector\n",
    "\n",
    "# Set pandas global options\n",
    "pd.options.display.max_rows = 17"
   ]
  },
  {
   "cell_type": "markdown",
   "id": "d1823454-8427-4340-8a71-dd73fdf9932f",
   "metadata": {},
   "source": [
    "## Initiate MySQL connection"
   ]
  },
  {
   "cell_type": "code",
   "execution_count": 2,
   "id": "0d1e9561-e376-4262-aa6f-c59d45124989",
   "metadata": {},
   "outputs": [],
   "source": [
    "'''Set local environment variables to hide user name & password citation:\n",
    "https://www.geeksforgeeks.org/how-to-hide-sensitive-credentials-using-python/'''\n",
    "\n",
    "user_name = os.environ['MySQLUSRAC']\n",
    "user_pass = os.environ['MySQLPWDAC']\n",
    "\n",
    "# Instantiate connection\n",
    "db_conn = mysql.connect(host='localhost',\n",
    "                        port=int(3306),\n",
    "                        user=user_name,\n",
    "                        passwd=user_pass,\n",
    "                        db='509_final_proj')\n",
    "\n",
    "# Create a cursor object\n",
    "cursor = db_conn.cursor()"
   ]
  },
  {
   "cell_type": "code",
   "execution_count": 3,
   "id": "e753d762-a5ea-455a-8db6-b329eed96d1f",
   "metadata": {},
   "outputs": [
    {
     "name": "stderr",
     "output_type": "stream",
     "text": [
      "C:\\Users\\acarr\\AppData\\Local\\Temp\\ipykernel_32020\\4193860975.py:1: UserWarning: pandas only supports SQLAlchemy connectable (engine/connection) or database string URI or sqlite3 DBAPI2 connection. Other DBAPI2 objects are not tested. Please consider using SQLAlchemy.\n",
      "  tbl_names = pd.read_sql('SHOW TABLES', db_conn)\n"
     ]
    },
    {
     "data": {
      "text/html": [
       "<div>\n",
       "<style scoped>\n",
       "    .dataframe tbody tr th:only-of-type {\n",
       "        vertical-align: middle;\n",
       "    }\n",
       "\n",
       "    .dataframe tbody tr th {\n",
       "        vertical-align: top;\n",
       "    }\n",
       "\n",
       "    .dataframe thead th {\n",
       "        text-align: right;\n",
       "    }\n",
       "</style>\n",
       "<table border=\"1\" class=\"dataframe\">\n",
       "  <thead>\n",
       "    <tr style=\"text-align: right;\">\n",
       "      <th></th>\n",
       "      <th>Tables_in_509_final_proj</th>\n",
       "    </tr>\n",
       "  </thead>\n",
       "  <tbody>\n",
       "    <tr>\n",
       "      <th>0</th>\n",
       "      <td>nar_temp</td>\n",
       "    </tr>\n",
       "    <tr>\n",
       "      <th>1</th>\n",
       "      <td>news_articles</td>\n",
       "    </tr>\n",
       "  </tbody>\n",
       "</table>\n",
       "</div>"
      ],
      "text/plain": [
       "  Tables_in_509_final_proj\n",
       "0                 nar_temp\n",
       "1            news_articles"
      ]
     },
     "metadata": {},
     "output_type": "display_data"
    },
    {
     "name": "stdout",
     "output_type": "stream",
     "text": [
      "<class 'pandas.core.frame.DataFrame'>\n"
     ]
    }
   ],
   "source": [
    "tbl_names = pd.read_sql('SHOW TABLES', db_conn)\n",
    "\n",
    "display(tbl_names)\n",
    "print(type(tbl_names))"
   ]
  },
  {
   "cell_type": "markdown",
   "id": "407a93fd-877a-4508-8eeb-7bf07ba7acb6",
   "metadata": {},
   "source": [
    "### Establish logging policy"
   ]
  },
  {
   "cell_type": "code",
   "execution_count": 4,
   "id": "45f9b045-77c7-46b9-98ed-cb15b224bf27",
   "metadata": {},
   "outputs": [],
   "source": [
    "'''Logging citations (see additional code in following code blocks:\n",
    "OpenAI. (2021). ChatGPT [Computer software]. https://openai.com/;\n",
    "https://docs.python.org/3/howto/logging.html#logging-basic-example;\n",
    "https://docs.python.org/3/howto/logging.html#logging-to-a-file;\n",
    "https://docs.python.org/3/howto/logging-cookbook.html#using-a-rotating-log-file-handler;\n",
    "https://docs.python.org/3/howto/logging-cookbook.html#using-a-timed-rotating-file-handler'''\n",
    "\n",
    "# Set up logging\n",
    "logging.basicConfig(level=logging.INFO,\n",
    "                    filename='pymysql.log',\n",
    "                    filemode='a',\n",
    "                    format='>>>>>>>>>>>>>><<<<<<<<<<<<<<\\n%(asctime)s - %(levelname)s - %(message)s')"
   ]
  },
  {
   "cell_type": "markdown",
   "id": "812bce99-3c01-4a1d-b0c5-e931bb003b33",
   "metadata": {},
   "source": [
    "## Read URLs from MySQL table to perform web scraping"
   ]
  },
  {
   "cell_type": "code",
   "execution_count": 5,
   "id": "27275fbf-73e7-4f18-9418-2911f59aa1e3",
   "metadata": {},
   "outputs": [],
   "source": [
    "nat_tbl_name = 'nar_temp'\n",
    "nwa_tbl_name = 'news_articles'"
   ]
  },
  {
   "cell_type": "code",
   "execution_count": 6,
   "id": "a8a0c6e4-aa08-4cd4-ac9c-c5b098a3ad51",
   "metadata": {},
   "outputs": [
    {
     "name": "stdout",
     "output_type": "stream",
     "text": [
      "URL Count: 3217\n",
      "\n",
      "    SELECT url FROM news_articles\n",
      "        WHERE article_text IS NULL\n",
      "        AND (source_name=\"CNN\" OR source_name=\"Fox News\" OR source_name=\"Breitbart News\")\n",
      "    LIMIT 10000\n",
      "    OFFSET 0\n",
      "URL batch: (('https://www.foxnews.com/politics/republicans-push-bill-empowering-local-law-enforcement-enforce-immigration-law-title-42',),)\n",
      "Response: 404\n",
      "Start Time = 2023-06-07 16:11:33.401527\n",
      "End Time = 2023-06-07 16:11:55.894397\n",
      "Elapsed Time = 0:00:22.492870\n"
     ]
    }
   ],
   "source": [
    "'''Connect to MqSQL table in batches citation:\n",
    "OpenAI'''\n",
    "# Batch size (number of URLs to process at a time)\n",
    "batch_size = 10000\n",
    "\n",
    "# Get the total number of URLs in the table\n",
    "count_query = f\"SELECT COUNT(*) FROM {nwa_tbl_name}\"\n",
    "cursor.execute(count_query)\n",
    "total_urls = cursor.fetchone()[0]\n",
    "print(f'URL Count: {total_urls}')\n",
    "\n",
    "# Start timer\n",
    "start_time = dt.datetime.today()\n",
    "\n",
    "# Calculate the number of batches required\n",
    "num_batches = (total_urls // batch_size) + 1\n",
    "\n",
    "# Process URLs in batches\n",
    "for batch in range(num_batches):\n",
    "    offset = batch * batch_size\n",
    "\n",
    "    # Retrieve URLs from the MySQL table in the current batch\n",
    "    query = f'''\n",
    "    SELECT url FROM {nwa_tbl_name}\n",
    "        WHERE article_text IS NULL\n",
    "        AND (source_name=\"CNN\" OR source_name=\"The Washington Post\" OR source_name=\"Fox News\" OR source_name=\"Breitbart News\")\n",
    "    LIMIT {batch_size}\n",
    "    OFFSET {offset}'''\n",
    "    print(query)\n",
    "    cursor.execute(query)\n",
    "    urls = cursor.fetchall()\n",
    "    print(f'URL batch: {urls}')\n",
    "\n",
    "    # Iterate over the URLs and scrape their contents\n",
    "    for url in urls:\n",
    "        url = url[0]  # Extract the URL from the tuple\n",
    "\n",
    "        # Make an HTTP request to the URL\n",
    "        response = requests.get(url)\n",
    "        time.sleep(5 + 11 * random.random())\n",
    "\n",
    "        # Check if the request was successful\n",
    "        if response.status_code == 200:\n",
    "            # Parse the HTML content using BeautifulSoup\n",
    "            soup = BeautifulSoup(response.content, 'html.parser')\n",
    "\n",
    "            # Extract the raw text from the HTML\n",
    "            #print(soup.prettify())\n",
    "            #raw_text = soup.get_text()\n",
    "            raw_text = soup.prettify()\n",
    "\n",
    "\n",
    "            # Update the MySQL table with the scraped text\n",
    "            update_query = \"UPDATE news_articles SET article_text = %s WHERE url = %s\"\n",
    "            print(update_query)\n",
    "            cursor.execute(update_query, (raw_text, url))\n",
    "            db_conn.commit()\n",
    "        else:\n",
    "            print(f'Response: {response.status_code}')\n",
    "            \n",
    "# End timer script\n",
    "end_time = dt.datetime.today()\n",
    "time_elapse = end_time - start_time\n",
    "print(f'Start Time = {start_time}')\n",
    "print(f'End Time = {end_time}')\n",
    "print(f'Elapsed Time = {time_elapse}')"
   ]
  },
  {
   "cell_type": "code",
   "execution_count": 7,
   "id": "9d3c33e6-e2b2-4795-972b-180f92d00cce",
   "metadata": {},
   "outputs": [
    {
     "name": "stderr",
     "output_type": "stream",
     "text": [
      "C:\\Users\\acarr\\AppData\\Local\\Temp\\ipykernel_32020\\1418124909.py:1: UserWarning: pandas only supports SQLAlchemy connectable (engine/connection) or database string URI or sqlite3 DBAPI2 connection. Other DBAPI2 objects are not tested. Please consider using SQLAlchemy.\n",
      "  slct_tbl_full_df01 = pd.read_sql('''\n"
     ]
    }
   ],
   "source": [
    "slct_tbl_full_df01 = pd.read_sql('''\n",
    "                                 SELECT * FROM news_articles\n",
    "                                 WHERE article_text IS NOT NULL\n",
    "                                 AND (source_name=\"CNN\" OR source_name=\"Fox News\" OR source_name=\"Breitbart News\")\n",
    "                                 ''',\n",
    "                                 db_conn)"
   ]
  },
  {
   "cell_type": "code",
   "execution_count": 8,
   "id": "a1d3a8f2-dfcc-4f36-b703-18cf7e8d04dc",
   "metadata": {},
   "outputs": [
    {
     "name": "stdout",
     "output_type": "stream",
     "text": [
      "C:\\Users\\acarr\\Documents\\GitHub\\ADS509_Final_project\\deliverables\n",
      "C:\\Users\\acarr\\Documents\\GitHub\\ADS509_Final_project\n"
     ]
    }
   ],
   "source": [
    "'''Dir nav citation:\n",
    "https://softhints.com/python-change-directory-parent/'''\n",
    "curr_dir = os.path.abspath(os.curdir)\n",
    "print(curr_dir)\n",
    "os.chdir(\"..\")\n",
    "up1_dir = os.path.abspath(os.curdir)\n",
    "print(up1_dir)"
   ]
  },
  {
   "cell_type": "code",
   "execution_count": 9,
   "id": "ad489c8c-19e5-4f01-8beb-bc9bb7d25f32",
   "metadata": {},
   "outputs": [
    {
     "name": "stdout",
     "output_type": "stream",
     "text": [
      "CSV file path: C:\\Users\\acarr\\Documents\\GitHub\\ADS509_Final_project\\data_restricted\\data_raw_amc.csv\n"
     ]
    }
   ],
   "source": [
    "# change `data_location` to the location of the folder on your machine.\n",
    "data_location = 'data_restricted'\n",
    "\n",
    "file_name = 'data_raw_amc.csv'\n",
    "\n",
    "file_path = os.path.join(up1_dir, data_location, file_name)\n",
    "\n",
    "print(f'CSV file path: {file_path}')"
   ]
  },
  {
   "cell_type": "code",
   "execution_count": 10,
   "id": "6e212da7-9589-4775-9663-2be31c7349ff",
   "metadata": {},
   "outputs": [],
   "source": [
    "slct_tbl_full_df01.to_csv(file_path, index=False)"
   ]
  },
  {
   "cell_type": "code",
   "execution_count": 11,
   "id": "f59c3507-0d71-44aa-949c-27dc5397999e",
   "metadata": {},
   "outputs": [],
   "source": [
    "print(type(slct_tbl_full_df01))\n",
    "display(slct_tbl_full_df01.head(11))\n",
    "#display(slct_tbl_full_df01['article_text'][0])"
   ]
  },
  {
   "cell_type": "markdown",
   "id": "3add1d0b-1ca0-4590-b5c4-b361c0ec0e3b",
   "metadata": {},
   "source": [
    "### Commit changes and close cursor and connection instances"
   ]
  },
  {
   "cell_type": "code",
   "execution_count": 12,
   "id": "606bb902-9103-4ca4-bcf9-a5ce8917c696",
   "metadata": {},
   "outputs": [],
   "source": [
    "# Commit the changes to the database\n",
    "db_conn.commit()\n",
    "\n",
    "# Close the cursor and database connection\n",
    "cursor.close()\n",
    "db_conn.close()"
   ]
  }
 ],
 "metadata": {
  "kernelspec": {
   "display_name": "Python 3 (ipykernel)",
   "language": "python",
   "name": "python3"
  },
  "language_info": {
   "codemirror_mode": {
    "name": "ipython",
    "version": 3
   },
   "file_extension": ".py",
   "mimetype": "text/x-python",
   "name": "python",
   "nbconvert_exporter": "python",
   "pygments_lexer": "ipython3",
   "version": "3.8.16"
  }
 },
 "nbformat": 4,
 "nbformat_minor": 5
}
