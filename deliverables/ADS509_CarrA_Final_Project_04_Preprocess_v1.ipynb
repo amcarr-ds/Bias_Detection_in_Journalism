{
 "cells": [
  {
   "cell_type": "markdown",
   "id": "72e49e21-4b1f-4603-a619-84b9e1998f03",
   "metadata": {},
   "source": [
    "# 509 Final Project"
   ]
  },
  {
   "cell_type": "markdown",
   "id": "81c57862-dbc2-4515-b62e-14adccbf6d2b",
   "metadata": {},
   "source": [
    "## Globally import libraries"
   ]
  },
  {
   "cell_type": "code",
   "execution_count": 1,
   "id": "f3c1e3ef-8619-4237-88c3-e4a06edaf6c5",
   "metadata": {},
   "outputs": [],
   "source": [
    "import numpy as np\n",
    "import pandas as pd\n",
    "import pymysql as mysql\n",
    "import matplotlib.pyplot as plt\n",
    "import os\n",
    "import shutil\n",
    "import re\n",
    "import logging\n",
    "import time\n",
    "import datetime as dt\n",
    "import zipfile\n",
    "import requests\n",
    "from bs4 import BeautifulSoup\n",
    "import datetime\n",
    "import re\n",
    "import regex as rex\n",
    "from collections import defaultdict, Counter\n",
    "import random\n",
    "import json\n",
    "#import mysql.connector\n",
    "\n",
    "# Set pandas global options\n",
    "pd.options.display.max_rows = 17"
   ]
  },
  {
   "cell_type": "markdown",
   "id": "d1823454-8427-4340-8a71-dd73fdf9932f",
   "metadata": {},
   "source": [
    "## Upload data from CSV"
   ]
  },
  {
   "cell_type": "code",
   "execution_count": 2,
   "id": "f2e909d4-6cad-425c-8cee-2f0bfd303bfa",
   "metadata": {},
   "outputs": [
    {
     "name": "stdout",
     "output_type": "stream",
     "text": [
      "C:\\Users\\acarr\\Documents\\GitHub\\ADS509_Final_project\\deliverables\n",
      "C:\\Users\\acarr\\Documents\\GitHub\\ADS509_Final_project\n"
     ]
    }
   ],
   "source": [
    "'''Dir nav citation:\n",
    "https://softhints.com/python-change-directory-parent/'''\n",
    "curr_dir = os.path.abspath(os.curdir)\n",
    "print(curr_dir)\n",
    "os.chdir(\"..\")\n",
    "up1_dir = os.path.abspath(os.curdir)\n",
    "print(up1_dir)"
   ]
  },
  {
   "cell_type": "code",
   "execution_count": 3,
   "id": "45f949b7-2dbb-4644-a792-35b2edf6c5fb",
   "metadata": {},
   "outputs": [
    {
     "name": "stdout",
     "output_type": "stream",
     "text": [
      "CSV file in path: C:\\Users\\acarr\\Documents\\GitHub\\ADS509_Final_project\\data_restricted\\data_raw_amc.csv\n",
      "CSV file out path: C:\\Users\\acarr\\Documents\\GitHub\\ADS509_Final_project\\data\\data_parsed_amc.csv\n"
     ]
    }
   ],
   "source": [
    "# change `data_location` to the location of the folder on your machine.\n",
    "data_location = 'data'\n",
    "\n",
    "file_in_name01 = 'data_parsed_amc.csv'\n",
    "file_in_name02 = '509_final_proj.csv'\n",
    "\n",
    "file_in_path01 = os.path.join(up1_dir, data_r_location, file_in_name01)\n",
    "file_in_path02 = os.path.join(curr_dir, file_in_name02)\n",
    "\n",
    "print(f'CSV file 1 in path: {file_in_path01}')\n",
    "print(f'CSV file 2 in path: {file_in_path02}')"
   ]
  },
  {
   "cell_type": "code",
   "execution_count": 4,
   "id": "001ea078-0f38-4692-b6bb-318957f1cb63",
   "metadata": {},
   "outputs": [
    {
     "data": {
      "text/html": [
       "<div>\n",
       "<style scoped>\n",
       "    .dataframe tbody tr th:only-of-type {\n",
       "        vertical-align: middle;\n",
       "    }\n",
       "\n",
       "    .dataframe tbody tr th {\n",
       "        vertical-align: top;\n",
       "    }\n",
       "\n",
       "    .dataframe thead th {\n",
       "        text-align: right;\n",
       "    }\n",
       "</style>\n",
       "<table border=\"1\" class=\"dataframe\">\n",
       "  <thead>\n",
       "    <tr style=\"text-align: right;\">\n",
       "      <th></th>\n",
       "      <th>text_id</th>\n",
       "      <th>source_name</th>\n",
       "      <th>author</th>\n",
       "      <th>title</th>\n",
       "      <th>url</th>\n",
       "      <th>publish_date</th>\n",
       "      <th>article_text</th>\n",
       "      <th>content</th>\n",
       "    </tr>\n",
       "  </thead>\n",
       "  <tbody>\n",
       "    <tr>\n",
       "      <th>0</th>\n",
       "      <td>1</td>\n",
       "      <td>CNN</td>\n",
       "      <td>Clare Foran,Nicky Robertson</td>\n",
       "      <td>Senate races to avert default but vote timing ...</td>\n",
       "      <td>https://www.cnn.com/2023/06/01/politics/senate...</td>\n",
       "      <td>2023-06-01T09:00:40Z</td>\n",
       "      <td>&lt;!DOCTYPE html&gt;\\n&lt;html data-layout-uri=\"cms.cn...</td>\n",
       "      <td>NaN</td>\n",
       "    </tr>\n",
       "    <tr>\n",
       "      <th>1</th>\n",
       "      <td>2</td>\n",
       "      <td>Fox News</td>\n",
       "      <td>Paul Steinhauser</td>\n",
       "      <td>First on Fox: Pro-Tim Scott super PAC launches...</td>\n",
       "      <td>https://www.foxnews.com/politics/pro-scott-sup...</td>\n",
       "      <td>2023-06-01T16:12:56Z</td>\n",
       "      <td>&lt;!DOCTYPE html&gt;\\n&lt;html data-n-head=\"%7B%22lang...</td>\n",
       "      <td>NaN</td>\n",
       "    </tr>\n",
       "    <tr>\n",
       "      <th>2</th>\n",
       "      <td>3</td>\n",
       "      <td>Fox News</td>\n",
       "      <td>Greg Wehner</td>\n",
       "      <td>Pennsylvania bus driver allegedly used duct ta...</td>\n",
       "      <td>https://www.foxnews.com/us/pennsylvania-bus-dr...</td>\n",
       "      <td>2023-05-31T00:21:20Z</td>\n",
       "      <td>&lt;!DOCTYPE html&gt;\\n&lt;html data-n-head=\"%7B%22lang...</td>\n",
       "      <td>NaN</td>\n",
       "    </tr>\n",
       "    <tr>\n",
       "      <th>3</th>\n",
       "      <td>4</td>\n",
       "      <td>Fox News</td>\n",
       "      <td>Michael Ruiz</td>\n",
       "      <td>Bob Lee murder: Cash App founder seen with sus...</td>\n",
       "      <td>https://www.foxnews.com/us/bob-lee-murder-cash...</td>\n",
       "      <td>2023-05-31T20:30:12Z</td>\n",
       "      <td>&lt;!DOCTYPE html&gt;\\n&lt;html data-n-head=\"%7B%22lang...</td>\n",
       "      <td>NaN</td>\n",
       "    </tr>\n",
       "    <tr>\n",
       "      <th>4</th>\n",
       "      <td>5</td>\n",
       "      <td>Fox News</td>\n",
       "      <td>Brooke Singman</td>\n",
       "      <td>Senate GOP demands answers on security clearan...</td>\n",
       "      <td>https://www.foxnews.com/politics/senate-gop-de...</td>\n",
       "      <td>2023-05-31T22:11:38Z</td>\n",
       "      <td>&lt;!DOCTYPE html&gt;\\n&lt;html data-n-head=\"%7B%22lang...</td>\n",
       "      <td>NaN</td>\n",
       "    </tr>\n",
       "  </tbody>\n",
       "</table>\n",
       "</div>"
      ],
      "text/plain": [
       "   text_id source_name                       author  \\\n",
       "0        1         CNN  Clare Foran,Nicky Robertson   \n",
       "1        2    Fox News             Paul Steinhauser   \n",
       "2        3    Fox News                  Greg Wehner   \n",
       "3        4    Fox News                 Michael Ruiz   \n",
       "4        5    Fox News               Brooke Singman   \n",
       "\n",
       "                                               title  \\\n",
       "0  Senate races to avert default but vote timing ...   \n",
       "1  First on Fox: Pro-Tim Scott super PAC launches...   \n",
       "2  Pennsylvania bus driver allegedly used duct ta...   \n",
       "3  Bob Lee murder: Cash App founder seen with sus...   \n",
       "4  Senate GOP demands answers on security clearan...   \n",
       "\n",
       "                                                 url          publish_date  \\\n",
       "0  https://www.cnn.com/2023/06/01/politics/senate...  2023-06-01T09:00:40Z   \n",
       "1  https://www.foxnews.com/politics/pro-scott-sup...  2023-06-01T16:12:56Z   \n",
       "2  https://www.foxnews.com/us/pennsylvania-bus-dr...  2023-05-31T00:21:20Z   \n",
       "3  https://www.foxnews.com/us/bob-lee-murder-cash...  2023-05-31T20:30:12Z   \n",
       "4  https://www.foxnews.com/politics/senate-gop-de...  2023-05-31T22:11:38Z   \n",
       "\n",
       "                                        article_text content  \n",
       "0  <!DOCTYPE html>\\n<html data-layout-uri=\"cms.cn...     NaN  \n",
       "1  <!DOCTYPE html>\\n<html data-n-head=\"%7B%22lang...     NaN  \n",
       "2  <!DOCTYPE html>\\n<html data-n-head=\"%7B%22lang...     NaN  \n",
       "3  <!DOCTYPE html>\\n<html data-n-head=\"%7B%22lang...     NaN  \n",
       "4  <!DOCTYPE html>\\n<html data-n-head=\"%7B%22lang...     NaN  "
      ]
     },
     "metadata": {},
     "output_type": "display_data"
    }
   ],
   "source": [
    "slct_tbl_full_df01 = pd.read_csv(file_in_path01)\n",
    "display(slct_tbl_full_df01.head())"
   ]
  },
  {
   "cell_type": "code",
   "execution_count": null,
   "id": "4cb31d6d-1130-493b-9037-11c75fa25df9",
   "metadata": {},
   "outputs": [],
   "source": [
    "slct_tbl_full_df02 = pd.read_csv(file_in_path02)\n",
    "display(slct_tbl_full_df02.head())"
   ]
  },
  {
   "cell_type": "code",
   "execution_count": 5,
   "id": "023f3505-3e5a-4675-8fda-dd795da00113",
   "metadata": {},
   "outputs": [
    {
     "name": "stdout",
     "output_type": "stream",
     "text": [
      "Number of NaN values present: 0\n"
     ]
    }
   ],
   "source": [
    "count_nan = slct_tbl_full_df01['article_text'].isnull().sum()\n",
    " \n",
    "# printing the number of values present\n",
    "# in the column\n",
    "print('Number of NaN values present: ' + str(count_nan))"
   ]
  },
  {
   "cell_type": "code",
   "execution_count": 9,
   "id": "8a1ce2b1-a0fd-4db3-9fee-2d1799bf935d",
   "metadata": {},
   "outputs": [
    {
     "name": "stdout",
     "output_type": "stream",
     "text": [
      "Number of NaN values present: 0\n"
     ]
    }
   ],
   "source": [
    "count_p_nan = slct_tbl_full_df02['article_parsed'].isnull().sum()\n",
    " \n",
    "# printing the number of values present\n",
    "# in the column\n",
    "print('Number of NaN values present: ' + str(count_p_nan))"
   ]
  },
  {
   "cell_type": "code",
   "execution_count": 12,
   "id": "8ae7ef75-3c3d-41b2-bf7a-eff1e07c77fb",
   "metadata": {},
   "outputs": [],
   "source": [
    "slct_tbl_full_df03 = slct_tbl_full_df02[['source_name',\n",
    "                                         'author',\n",
    "                                         'title',\n",
    "                                         'url',\n",
    "                                         'publish_date',\n",
    "                                         'article_parsed']]"
   ]
  }
 ],
 "metadata": {
  "kernelspec": {
   "display_name": "Python 3 (ipykernel)",
   "language": "python",
   "name": "python3"
  },
  "language_info": {
   "codemirror_mode": {
    "name": "ipython",
    "version": 3
   },
   "file_extension": ".py",
   "mimetype": "text/x-python",
   "name": "python",
   "nbconvert_exporter": "python",
   "pygments_lexer": "ipython3",
   "version": "3.8.16"
  }
 },
 "nbformat": 4,
 "nbformat_minor": 5
}
