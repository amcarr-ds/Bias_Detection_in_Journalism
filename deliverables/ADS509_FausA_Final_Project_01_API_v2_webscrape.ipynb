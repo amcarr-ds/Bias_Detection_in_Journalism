{
 "cells": [
  {
   "attachments": {},
   "cell_type": "markdown",
   "id": "72e49e21-4b1f-4603-a619-84b9e1998f03",
   "metadata": {},
   "source": [
    "# 509 Final Project"
   ]
  },
  {
   "attachments": {},
   "cell_type": "markdown",
   "id": "41799b8c-019d-4d02-914a-107c15e3c572",
   "metadata": {},
   "source": [
    "## Rsolve dependencies"
   ]
  },
  {
   "cell_type": "code",
   "execution_count": 1,
   "id": "156706dd-43a9-49ff-8fa3-f61f0dc9cb5c",
   "metadata": {},
   "outputs": [
    {
     "name": "stdout",
     "output_type": "stream",
     "text": [
      "Requirement already satisfied: newsapi-python in /Users/davidfriesen/opt/anaconda3/lib/python3.9/site-packages (0.2.7)\n",
      "Requirement already satisfied: requests<3.0.0 in /Users/davidfriesen/opt/anaconda3/lib/python3.9/site-packages (from newsapi-python) (2.26.0)\n",
      "Requirement already satisfied: certifi>=2017.4.17 in /Users/davidfriesen/opt/anaconda3/lib/python3.9/site-packages (from requests<3.0.0->newsapi-python) (2021.10.8)\n",
      "Requirement already satisfied: idna<4,>=2.5 in /Users/davidfriesen/opt/anaconda3/lib/python3.9/site-packages (from requests<3.0.0->newsapi-python) (3.2)\n",
      "Requirement already satisfied: urllib3<1.27,>=1.21.1 in /Users/davidfriesen/opt/anaconda3/lib/python3.9/site-packages (from requests<3.0.0->newsapi-python) (1.26.7)\n",
      "Requirement already satisfied: charset-normalizer~=2.0.0 in /Users/davidfriesen/opt/anaconda3/lib/python3.9/site-packages (from requests<3.0.0->newsapi-python) (2.0.4)\n"
     ]
    }
   ],
   "source": [
    "! pip install newsapi-python"
   ]
  },
  {
   "attachments": {},
   "cell_type": "markdown",
   "id": "81c57862-dbc2-4515-b62e-14adccbf6d2b",
   "metadata": {},
   "source": [
    "## Globally import libraries"
   ]
  },
  {
   "cell_type": "code",
   "execution_count": 227,
   "id": "f3c1e3ef-8619-4237-88c3-e4a06edaf6c5",
   "metadata": {},
   "outputs": [],
   "source": [
    "#! pip install pyLDavis\n",
    "\n",
    "import pyLDAvis\n",
    "\n",
    "pyLDAvis.enable_notebook()\n",
    "from tqdm.auto import tqdm\n",
    "\n",
    "import pyLDAvis.lda_model\n",
    "import pyLDAvis.gensim_models\n",
    "\n",
    "import numpy as np\n",
    "import pandas as pd\n",
    "import pymysql as mysql\n",
    "import matplotlib.pyplot as plt\n",
    "import os\n",
    "import shutil\n",
    "import re\n",
    "import logging\n",
    "import time\n",
    "import zipfile\n",
    "import requests\n",
    "from bs4 import BeautifulSoup\n",
    "import datetime\n",
    "import re\n",
    "import regex as rex\n",
    "from collections import defaultdict, Counter\n",
    "import random\n",
    "import requests\n",
    "from bs4 import BeautifulSoup\n",
    "import datetime\n",
    "import json\n",
    "from wordcloud import WordCloud \n",
    "from tabulate import tabulate\n",
    "\n",
    "\n",
    "import sqlite3\n",
    "import nltk\n",
    "from string import punctuation\n",
    "from nltk.corpus import stopwords\n",
    "import re\n",
    "import emoji\n",
    "from nltk.metrics import ConfusionMatrix\n",
    "import itertools\n",
    "import collections\n",
    "\n",
    "from sklearn.model_selection import train_test_split\n",
    "from sklearn.feature_extraction.text import TfidfVectorizer, CountVectorizer\n",
    "from sklearn.decomposition import NMF\n",
    "from sklearn.svm import SVC\n",
    "from sklearn.metrics import accuracy_score, f1_score, recall_score, precision_recall_curve\n",
    "from sklearn.metrics import confusion_matrix\n",
    "from sklearn.metrics import classification_report\n",
    "## Depracated:\n",
    "# from sklearn.metrics import plot_confusion_matrix\n",
    "## New version:\n",
    "from sklearn.metrics import ConfusionMatrixDisplay\n",
    "from sklearn.model_selection import cross_val_score\n",
    "from sklearn.pipeline import Pipeline\n",
    "from sklearn.model_selection import GridSearchCV\n",
    "from sklearn.svm import LinearSVC\n",
    "from sklearn.decomposition import LatentDirichletAllocation\n",
    "\n",
    "#import mysql.connector\n",
    "\n",
    "# Set pandas global options\n",
    "pd.options.display.max_rows = 17"
   ]
  },
  {
   "attachments": {},
   "cell_type": "markdown",
   "id": "b1bf7e4b",
   "metadata": {},
   "source": [
    "## Functions:"
   ]
  },
  {
   "attachments": {},
   "cell_type": "markdown",
   "id": "aa6f0d76",
   "metadata": {},
   "source": [
    "### Data pre-processing:"
   ]
  },
  {
   "cell_type": "code",
   "execution_count": 169,
   "id": "34ba223f",
   "metadata": {},
   "outputs": [],
   "source": [
    "punctuation = set(punctuation) # speeds up comparison\n",
    "tw_punct = punctuation - {\"#\"}\n",
    "\n",
    "\n",
    "# Stopwords - added the 'nan' to this to remove nulls:\n",
    "# next step could be to add pronouns like she/her, he/him, etc.\n",
    "\n",
    "sw = stopwords.words(\"english\")\n",
    "sw = sw + ['nan']\n",
    "sw = sw + ['said'] + ['news'] + ['us'] + ['reuters']\n",
    "\n",
    "# Two useful regex\n",
    "whitespace_pattern = re.compile(r\"\\s+\")\n",
    "hashtag_pattern = re.compile(r\"^#[0-9a-zA-Z]+\")\n",
    "\n",
    "def remove_stop(tokens) :\n",
    "    # modify this function to remove stopwords\n",
    "\n",
    "    return[t for t in tokens if t not in sw]\n",
    " \n",
    "def remove_punctuation(text, punct_set=tw_punct) : \n",
    "    return(\"\".join([ch for ch in text if ch not in punct_set]))\n",
    "\n",
    "def tokenize(text) : \n",
    "    \"\"\" Splitting on whitespace rather than the book's tokenize function. That \n",
    "        function will drop tokens like '#hashtag' or '2A', which we need for Twitter. \"\"\"\n",
    "    \n",
    "    return([item.lower() for item in whitespace_pattern.split(text)])\n",
    "    \n",
    "def remove_url(text):\n",
    "    return(re.sub(r'http\\S+', '', text))\n",
    "\n",
    "def remove_messy(text): # remove words that give away the source\n",
    "    text1=re.sub(r'cnn', '', text)\n",
    "    text2=re.sub(r'fox', '', text1)\n",
    "    text3=re.sub(r' — ', '', text2)\n",
    "    text4=re.sub(r'breatbart', '', text3)\n",
    "    return(re.sub(r'\\\\n', '', text4))\n",
    "\n",
    "# two pipelines to either tokenize or simply remove punctuation\n",
    "# and lowercase as we will need to extract feature words:\n",
    "\n",
    "full_pipeline = [str.lower, remove_url, remove_messy, remove_punctuation, tokenize, remove_stop]\n",
    "first_pipeline = [str.lower, remove_url, remove_messy, remove_punctuation]\n",
    "\n",
    "\n",
    "def prepare(text, pipeline) : \n",
    "    tokens = str(text)\n",
    "    \n",
    "    for transform in pipeline : \n",
    "        tokens = transform(tokens)\n",
    "        \n",
    "    return(tokens)"
   ]
  },
  {
   "attachments": {},
   "cell_type": "markdown",
   "id": "5c4c7c5a",
   "metadata": {},
   "source": [
    "### Feature extraction Function:"
   ]
  },
  {
   "cell_type": "code",
   "execution_count": 5,
   "id": "355a6b8f",
   "metadata": {},
   "outputs": [],
   "source": [
    "def conv_features(text,fw) :\n",
    "     feature_set=dict()\n",
    "     for word in text.split():\n",
    "          if word in fw:\n",
    "               feature_set[word]=True\n",
    "     return(feature_set)"
   ]
  },
  {
   "attachments": {},
   "cell_type": "markdown",
   "id": "ebe59220",
   "metadata": {},
   "source": [
    "### EDA functions:"
   ]
  },
  {
   "attachments": {},
   "cell_type": "markdown",
   "id": "1bb6edaf",
   "metadata": {},
   "source": [
    "Get Patterns, Counts, WordCloud:"
   ]
  },
  {
   "cell_type": "code",
   "execution_count": 6,
   "id": "4409c612",
   "metadata": {},
   "outputs": [],
   "source": [
    "def get_patterns(text_analyze, num_words, T):\n",
    "    if(len(text_analyze)==0):\n",
    "        raise ValueError(\"Can't work with empty text object\")\n",
    "    total_tokens = 1\n",
    "    unique_tokens = 0\n",
    "    avg_token_len = 0.0\n",
    "    lexical_diversityP = 0.0\n",
    "    top_words = []\n",
    "\n",
    "    # Only applying the token_normal, which takes only alphanumeric values\n",
    "    # to twitter data:\n",
    "    if T ==1:\n",
    "        text_analyze=token_normal(text_analyze)\n",
    "\n",
    "    total_tokens = len(text_analyze)\n",
    "    unique_tokens = len(set(text_analyze))\n",
    "    lexical_diversityP = unique_tokens/total_tokens\n",
    "    avg_token_len = np.mean([len(ta) for ta in text_analyze])\n",
    "\n",
    "    top_words_1 = collections.Counter(text_analyze)\n",
    "    top_words = top_words_1.most_common(num_words)\n",
    "\n",
    "    results={'tokens': total_tokens,\n",
    "             'unique_tokens': unique_tokens,\n",
    "             'avg_token_length': avg_token_len,\n",
    "             'lexical_diversity': lexical_diversityP,\n",
    "             'top_words': top_words}\n",
    "    return(results)"
   ]
  },
  {
   "cell_type": "code",
   "execution_count": 17,
   "id": "035ee7d2",
   "metadata": {},
   "outputs": [],
   "source": [
    "def wordcloud(word_freq, title=None, max_words=200, stopwords=None):\n",
    "\n",
    "    wc = WordCloud(width=800, height=400, \n",
    "                   background_color= \"black\", colormap=\"Paired\", \n",
    "                   max_font_size=150, max_words=max_words)\n",
    "    \n",
    "    # convert data frame into dict\n",
    "    if type(word_freq) == pd.Series:\n",
    "        counter = Counter(word_freq.fillna(0).to_dict())\n",
    "    else:\n",
    "        counter = word_freq\n",
    "\n",
    "    # filter stop words in frequency counter\n",
    "    if stopwords is not None:\n",
    "        \n",
    "        counter = {token:freq for (token, freq) in counter.items() \n",
    "                              if token not in stopwords}\n",
    "    wc.generate_from_frequencies(counter)\n",
    " \n",
    "    plt.title(title) \n",
    "\n",
    "    plt.imshow(wc, interpolation='bilinear')\n",
    "    plt.axis(\"off\")\n",
    "    \n",
    "# Here, we only apply splitting to the lyrics data due to the difference\n",
    "# in dataframe/data ingestion between twitter and lycis data:\n",
    "    \n",
    "#def count_words(df, column='tokens', preprocess=None, min_freq=2, split=0):\n",
    "def count_words(x, preprocess=None, min_freq=2, split=0):\n",
    "\n",
    "    # process tokens and update counter\n",
    "    def update(doc):\n",
    "        tokens = doc if preprocess is None else preprocess(doc)\n",
    "        counter.update(tokens)\n",
    "\n",
    "    # create counter and run through all data\n",
    "    #counter = collections.Counter()\n",
    "    #top_words_1 = collections.Counter(text_analyze)\n",
    "    #top_words = top_words_1.most_common(num_words)\n",
    "    if split == 0:\n",
    "        counter = collections.Counter(x)\n",
    "    else: \n",
    "        counter = collections.Counter(x.split())\n",
    "\n",
    "    #df[column].map(update)\n",
    "\n",
    "    # transform counter into data frame\n",
    "    freq_df = pd.DataFrame.from_dict(counter, orient='index', columns=['freq'])\n",
    "    freq_df = freq_df.query('freq >= @min_freq')\n",
    "    freq_df.index.name = 'token'\n",
    "    \n",
    "    return freq_df.sort_values('freq', ascending=False)"
   ]
  },
  {
   "cell_type": "code",
   "execution_count": 26,
   "id": "68a04565",
   "metadata": {},
   "outputs": [],
   "source": [
    "def display_topics(model, features, no_top_words=5):\n",
    "    for topic, words in enumerate(model.components_):\n",
    "        total = words.sum()\n",
    "        largest = words.argsort()[::-1] # invert sort order\n",
    "        print(\"\\nTopic %02d\" % topic)\n",
    "        for i in range(0, no_top_words):\n",
    "            print(\"  %s (%2.2f)\" % (features[largest[i]], abs(words[largest[i]]*100.0/total)))"
   ]
  },
  {
   "cell_type": "code",
   "execution_count": null,
   "id": "70704b43",
   "metadata": {},
   "outputs": [],
   "source": []
  },
  {
   "cell_type": "code",
   "execution_count": 2,
   "id": "5362756a-b723-45c8-8ddf-96c76c525b90",
   "metadata": {},
   "outputs": [
    {
     "name": "stdout",
     "output_type": "stream",
     "text": [
      "2023-06-03\n",
      "<class 'datetime.date'>\n"
     ]
    }
   ],
   "source": [
    "today = datetime.date.today()\n",
    "print(today)\n",
    "print(type(today))"
   ]
  },
  {
   "attachments": {},
   "cell_type": "markdown",
   "id": "b8787f58-5e3f-4200-b947-3fc11d9b00e1",
   "metadata": {},
   "source": [
    "## Connect to NewsAPI client"
   ]
  },
  {
   "cell_type": "code",
   "execution_count": 119,
   "id": "5fae3237-1881-4b51-8ef3-89d519df07e4",
   "metadata": {},
   "outputs": [],
   "source": [
    "from newsapi import NewsApiClient\n",
    "\n",
    "api_key = os.environ['NewsAPIKey']\n",
    "\n",
    "# Init\n",
    "newsapi = NewsApiClient(api_key=api_key)"
   ]
  },
  {
   "attachments": {},
   "cell_type": "markdown",
   "id": "0ace829b-46ef-4364-98ca-e8bddf331a8a",
   "metadata": {},
   "source": [
    "## Pull article info from API"
   ]
  },
  {
   "attachments": {},
   "cell_type": "markdown",
   "id": "7a5feeee-b4dc-43ab-87b5-b00885eb7291",
   "metadata": {},
   "source": [
    "### /v2/top-headlines/sources\n",
    "sources = newsapi.get_sources()\n",
    "print(sources)"
   ]
  },
  {
   "cell_type": "code",
   "execution_count": 120,
   "id": "ee1b41dd-e69a-40b7-baaa-ab45308d24e7",
   "metadata": {},
   "outputs": [],
   "source": [
    "def news_api_urls(q=None,\n",
    "                  s=None,\n",
    "                  d_from='2023-05-01',\n",
    "                  d_to='2023-05-31',\n",
    "                  api_lst=[]):\n",
    "    all_articles = newsapi.get_everything(q=q,\n",
    "                                          sources=s,\n",
    "                                          from_param=d_from,\n",
    "                                          to=d_to,\n",
    "                                          language='en',\n",
    "                                          sort_by='relevancy',\n",
    "                                          page=1)\n",
    "\n",
    "    print(type(all_articles))\n",
    "    print(all_articles)\n",
    "    #print('Article list: ', all_articles['articles'])\n",
    "    for article in all_articles['articles']:\n",
    "        print('Source ID:', article['source']['id'])\n",
    "        print('Source name:', article['source']['name'])\n",
    "        print('Author:', article['author'])\n",
    "        print('Title:', article['title'])\n",
    "        print('URL:', article['url'])\n",
    "        print('Publish date:', article['publishedAt'])\n",
    "        print('Article text:', article['content'], '\\n')\n",
    "\n",
    "    # Create a list of tuples from the dictionary data\n",
    "    source_data01 = [(a['source']['name'],\n",
    "                      a['author'],\n",
    "                      a['title'],\n",
    "                      a['url'],\n",
    "                      a['publishedAt'],\n",
    "                      a['content'])\n",
    "                     for a in all_articles['articles']]\n",
    "\n",
    "    api_lst.extend(source_data01)\n",
    "    #print(api_lst)\n",
    "    print(len(api_lst))"
   ]
  },
  {
   "attachments": {},
   "cell_type": "markdown",
   "id": "3e798fa2-c6c3-403a-9447-45ce85b22b02",
   "metadata": {},
   "source": [
    "## Data Collection:\n",
    "\n",
    "### Connect to API to access URLs"
   ]
  },
  {
   "attachments": {},
   "cell_type": "markdown",
   "id": "8eb7d5cf-9cdf-48a6-859d-3ea5fd230015",
   "metadata": {},
   "source": [
    "#### Set API filter parameters"
   ]
  },
  {
   "attachments": {},
   "cell_type": "markdown",
   "id": "44d136f0",
   "metadata": {},
   "source": [
    "**Extract Training Data for Classifier**\n",
    "\n",
    "Two Left leaning and Two Right leaning news sources are queried, collected, cleaned, and prepared for model training and test"
   ]
  },
  {
   "cell_type": "code",
   "execution_count": null,
   "id": "848df327",
   "metadata": {},
   "outputs": [],
   "source": [
    "# Parameters to extract API News data from 4 sources:\n",
    "\n",
    "source_lst = ['the-washington-post','cnn','fox-news','breitbart-news']\n",
    "\n",
    "\n",
    "date_lst = ['2023-05-18', '2023-05-19', '2023-05-21', '2023-05-22', '2023-05-23'] \n",
    "\n",
    "\n",
    "q_word_lst = ['justice OR surveillance', 'healthcare OR \"health care\"',\n",
    "              '(political AND (bias OR party)) OR republican OR democrat OR election',\n",
    "              'security AND (social OR national)', '(policy AND (drug OR \"affirmative action\")) OR regulate OR regulation']\n",
    "\n"
   ]
  },
  {
   "attachments": {},
   "cell_type": "markdown",
   "id": "d68e69f8",
   "metadata": {},
   "source": [
    "**Extract Client Data for Business Application of our Classifer**\n",
    "\n",
    "Data from what is considered a Centered news source is extracted, preprocessed, and prepared to run through our trained Classifier. We report back the data gathered, the overall lean found in that data, and give details on the lean, if a political lean is found in the data."
   ]
  },
  {
   "cell_type": "code",
   "execution_count": 167,
   "id": "15a1330d-6e03-4e1f-b2c6-6393d2a89ba8",
   "metadata": {},
   "outputs": [],
   "source": [
    "# Parameters to extract API News data from 1 centered source:\n",
    "\n",
    "source_lst = ['reuters']\n",
    "\n",
    "\n",
    "date_lst = ['2023-05-18', '2023-05-19', '2023-05-20', '2023-05-21', '2023-05-22', '2023-05-23',\n",
    "            '2023-05-24', '2023-05-25', '2023-05-17', '2023-05-16', '2023-05-15', '2023-05-14',\n",
    "            '2023-05-26', '2023-05-27', '2023-05-28', '2023-05-29', '2023-05-30', '2023-05-31']\n",
    "\n",
    "q_word_lst = ['justice OR surveillance', 'healthcare OR \"health care\"',\n",
    "              '(political AND (bias OR party)) OR republican OR democrat OR election',\n",
    "              'security AND (social OR national)', '(policy AND (drug OR \"affirmative action\")) OR regulate OR regulation']\n",
    "\n"
   ]
  },
  {
   "attachments": {},
   "cell_type": "markdown",
   "id": "39fe7168-8e57-457b-b8e9-2effd17f2e4b",
   "metadata": {},
   "source": [
    "#### Access API (collect URLs)"
   ]
  },
  {
   "attachments": {},
   "cell_type": "markdown",
   "id": "9d4d515f",
   "metadata": {},
   "source": [
    "Using the defined parameters above, extract URL and other data information from the desired news sources."
   ]
  },
  {
   "cell_type": "code",
   "execution_count": 168,
   "id": "5960daa3-3823-40f5-8869-1334e040e838",
   "metadata": {},
   "outputs": [
    {
     "name": "stdout",
     "output_type": "stream",
     "text": [
      "Source: reuters\n",
      "Date: 2023-05-18\n",
      "Query word: justice OR surveillance\n",
      "<class 'dict'>\n",
      "{'status': 'ok', 'totalResults': 1, 'articles': [{'source': {'id': 'reuters', 'name': 'Reuters'}, 'author': None, 'title': 'Montana becomes first US state to ban TikTok', 'description': 'Montana Governor Greg Gianforte on Wednesday signed legislation to ban Chinese-owned TikTok from operating in the state to protect residents from alleged intelligence gathering by China, making it the first U.S. state to ban the popular short video app.', 'url': 'https://www.reuters.com/world/us/montana-governor-signs-bill-banning-tiktok-state-2023-05-17/', 'urlToImage': 'https://www.reuters.com/resizer/dd_pJvf_o8_qXsHpxJGFP37AaKU=/1200x628/smart/filters:quality(80)/cloudfront-us-east-2.images.arcpublishing.com/reuters/2KLX6QLKXNJSTKILQ2JHYYKZZU.jpg', 'publishedAt': '2023-05-18T13:42:12Z', 'content': 'WASHINGTON, May 17 (Reuters) - Montana Governor Greg Gianforte on Wednesday signed legislation to ban Chinese-owned TikTok from operating in the state to protect residents from alleged intelligence g… [+4278 chars]'}]}\n",
      "Source ID: reuters\n",
      "Source name: Reuters\n",
      "Author: None\n",
      "Title: Montana becomes first US state to ban TikTok\n",
      "URL: https://www.reuters.com/world/us/montana-governor-signs-bill-banning-tiktok-state-2023-05-17/\n",
      "Publish date: 2023-05-18T13:42:12Z\n",
      "Article text: WASHINGTON, May 17 (Reuters) - Montana Governor Greg Gianforte on Wednesday signed legislation to ban Chinese-owned TikTok from operating in the state to protect residents from alleged intelligence g… [+4278 chars] \n",
      "\n",
      "1\n",
      "reuters 2023-05-18 justice OR surveillance\n",
      "Query word: healthcare OR \"health care\"\n",
      "<class 'dict'>\n",
      "{'status': 'ok', 'totalResults': 1, 'articles': [{'source': {'id': 'reuters', 'name': 'Reuters'}, 'author': 'Reuters', 'title': 'Billionaire real estate investor Sam Zell dies at 81', 'description': 'Billionaire Sam Zell, who built a real estate empire and was known for his bets on distressed assets, died at the age of 81 due to complications from a recent illness, a statement from his private investment firm said on Thursday.', 'url': 'https://www.reuters.com/business/billionaire-real-estate-investor-sam-zell-dies-2023-05-18/', 'urlToImage': 'https://www.reuters.com/resizer/nipEMitL6SA4vIQzhG2II3Jdfbc=/1200x628/smart/filters:quality(80)/cloudfront-us-east-2.images.arcpublishing.com/reuters/MELEHOHJHFOULGTMCKZY2S2M6I.jpg', 'publishedAt': '2023-05-18T15:23:08Z', 'content': 'May 18 (Reuters) - Billionaire Sam Zell, who built a real estate empire and was known for his bets on distressed assets, died at the age of 81 due to complications from a recent illness, a statement … [+1879 chars]'}]}\n",
      "Source ID: reuters\n",
      "Source name: Reuters\n",
      "Author: Reuters\n",
      "Title: Billionaire real estate investor Sam Zell dies at 81\n",
      "URL: https://www.reuters.com/business/billionaire-real-estate-investor-sam-zell-dies-2023-05-18/\n",
      "Publish date: 2023-05-18T15:23:08Z\n",
      "Article text: May 18 (Reuters) - Billionaire Sam Zell, who built a real estate empire and was known for his bets on distressed assets, died at the age of 81 due to complications from a recent illness, a statement … [+1879 chars] \n",
      "\n",
      "2\n",
      "reuters 2023-05-18 healthcare OR \"health care\"\n",
      "Query word: (political AND (bias OR party)) OR republican OR democrat OR election\n",
      "<class 'dict'>\n",
      "{'status': 'ok', 'totalResults': 3, 'articles': [{'source': {'id': 'reuters', 'name': 'Reuters'}, 'author': None, 'title': 'Montana becomes first US state to ban TikTok', 'description': 'Montana Governor Greg Gianforte on Wednesday signed legislation to ban Chinese-owned TikTok from operating in the state to protect residents from alleged intelligence gathering by China, making it the first U.S. state to ban the popular short video app.', 'url': 'https://www.reuters.com/world/us/montana-governor-signs-bill-banning-tiktok-state-2023-05-17/', 'urlToImage': 'https://www.reuters.com/resizer/dd_pJvf_o8_qXsHpxJGFP37AaKU=/1200x628/smart/filters:quality(80)/cloudfront-us-east-2.images.arcpublishing.com/reuters/2KLX6QLKXNJSTKILQ2JHYYKZZU.jpg', 'publishedAt': '2023-05-18T13:42:12Z', 'content': 'WASHINGTON, May 17 (Reuters) - Montana Governor Greg Gianforte on Wednesday signed legislation to ban Chinese-owned TikTok from operating in the state to protect residents from alleged intelligence g… [+4278 chars]'}, {'source': {'id': 'reuters', 'name': 'Reuters'}, 'author': 'Lisa Richwine', 'title': 'Disney to close Star Wars hotel that opened in Florida last year', 'description': 'Walt Disney Co <a href=\"https://www.reuters.com/companies/DIS.N\" target=\"_blank\">(DIS.N)</a> will shutter its immersive Star Wars-themed luxury hotel in Orlando this September, less than two years after it opened, as the media giant cuts costs throughout its …', 'url': 'https://www.reuters.com/business/disney-close-star-wars-hotel-that-opened-florida-last-year-2023-05-18/', 'urlToImage': 'https://www.reuters.com/resizer/JPvInrIA_h59e8bpH3MT7k5PyDY=/1200x628/smart/filters:quality(80)/cloudfront-us-east-2.images.arcpublishing.com/reuters/245TH7DHXBMV5C763SSRO3JZDU.jpg', 'publishedAt': '2023-05-18T22:09:31Z', 'content': 'LOS ANGELES, May 18 (Reuters) - Walt Disney Co (DIS.N) will shutter its immersive Star Wars-themed luxury hotel in Orlando this September, less than two years after it opened, as the media giant cuts… [+1469 chars]'}, {'source': {'id': 'reuters', 'name': 'Reuters'}, 'author': 'Dawn Chmielewski', 'title': 'Disney cancels plans to relocate 2,000 jobs to Florida -company email', 'description': 'Walt Disney Co <a href=\"https://www.reuters.com/companies/DIS.N\" target=\"_blank\">(DIS.N)</a> is scrapping plans to relocate 2,000 jobs to Florida in part because of \"changing business conditions\" in the state, according to an e-mail to employees seen by Reute…', 'url': 'https://www.reuters.com/business/media-telecom/disney-cancels-plans-relocate-2000-jobs-florida-company-email-2023-05-18/', 'urlToImage': 'https://www.reuters.com/resizer/kXNa3VdS-qCsi2-mVbOimuRIEDQ=/1200x628/smart/filters:quality(80)/cloudfront-us-east-2.images.arcpublishing.com/reuters/O3YV4NJYDZNE3DR43UENJINTZI.jpg', 'publishedAt': '2023-05-18T18:26:03Z', 'content': 'LOS ANGELES, May 18 (Reuters) - Walt Disney Co (DIS.N) is scrapping plans to relocate 2,000 jobs to Florida in part because of \"changing business conditions\" in the state, according to an e-mail to e… [+2944 chars]'}]}\n",
      "Source ID: reuters\n",
      "Source name: Reuters\n",
      "Author: None\n",
      "Title: Montana becomes first US state to ban TikTok\n",
      "URL: https://www.reuters.com/world/us/montana-governor-signs-bill-banning-tiktok-state-2023-05-17/\n",
      "Publish date: 2023-05-18T13:42:12Z\n",
      "Article text: WASHINGTON, May 17 (Reuters) - Montana Governor Greg Gianforte on Wednesday signed legislation to ban Chinese-owned TikTok from operating in the state to protect residents from alleged intelligence g… [+4278 chars] \n",
      "\n",
      "Source ID: reuters\n",
      "Source name: Reuters\n",
      "Author: Lisa Richwine\n",
      "Title: Disney to close Star Wars hotel that opened in Florida last year\n",
      "URL: https://www.reuters.com/business/disney-close-star-wars-hotel-that-opened-florida-last-year-2023-05-18/\n",
      "Publish date: 2023-05-18T22:09:31Z\n",
      "Article text: LOS ANGELES, May 18 (Reuters) - Walt Disney Co (DIS.N) will shutter its immersive Star Wars-themed luxury hotel in Orlando this September, less than two years after it opened, as the media giant cuts… [+1469 chars] \n",
      "\n",
      "Source ID: reuters\n",
      "Source name: Reuters\n",
      "Author: Dawn Chmielewski\n",
      "Title: Disney cancels plans to relocate 2,000 jobs to Florida -company email\n",
      "URL: https://www.reuters.com/business/media-telecom/disney-cancels-plans-relocate-2000-jobs-florida-company-email-2023-05-18/\n",
      "Publish date: 2023-05-18T18:26:03Z\n",
      "Article text: LOS ANGELES, May 18 (Reuters) - Walt Disney Co (DIS.N) is scrapping plans to relocate 2,000 jobs to Florida in part because of \"changing business conditions\" in the state, according to an e-mail to e… [+2944 chars] \n",
      "\n",
      "5\n",
      "reuters 2023-05-18 (political AND (bias OR party)) OR republican OR democrat OR election\n",
      "Query word: security AND (social OR national)\n",
      "<class 'dict'>\n",
      "{'status': 'ok', 'totalResults': 0, 'articles': []}\n",
      "5\n",
      "reuters 2023-05-18 security AND (social OR national)\n",
      "Query word: (policy AND (drug OR \"affirmative action\")) OR regulate OR regulation\n",
      "<class 'dict'>\n",
      "{'status': 'ok', 'totalResults': 0, 'articles': []}\n",
      "5\n",
      "reuters 2023-05-18 (policy AND (drug OR \"affirmative action\")) OR regulate OR regulation\n",
      "Date: 2023-05-19\n",
      "Query word: justice OR surveillance\n",
      "<class 'dict'>\n",
      "{'status': 'ok', 'totalResults': 1, 'articles': [{'source': {'id': 'reuters', 'name': 'Reuters'}, 'author': None, 'title': 'US Supreme Court Leaves Protections For Internet Companies Unscathed', 'description': 'The U.S. Supreme Court handed internet and social media companies a pair of victories on Thursday, leaving legal protections for them unscathed and refusing to clear a path for victims of attacks by militant groups to sue these businesses under an anti-terror…', 'url': 'https://www.reuters.com/legal/us-supreme-court-lets-twitter-off-hook-terrorism-lawsuit-over-istanbul-massacre-2023-05-18/', 'urlToImage': 'https://www.reuters.com/resizer/4TvhugL4P_drhB9V0d2ahxVc2ew=/1200x628/smart/filters:quality(80)/cloudfront-us-east-2.images.arcpublishing.com/reuters/OSIFMOIOBNJZTKXSE3BTOYWH4A.jpg', 'publishedAt': '2023-05-19T14:39:24Z', 'content': 'May 18 (Reuters) - The U.S. Supreme Court handed internet and social media companies a pair of victories on Thursday, leaving legal protections for them unscathed and refusing to clear a path for vic… [+5056 chars]'}]}\n",
      "Source ID: reuters\n",
      "Source name: Reuters\n",
      "Author: None\n",
      "Title: US Supreme Court Leaves Protections For Internet Companies Unscathed\n",
      "URL: https://www.reuters.com/legal/us-supreme-court-lets-twitter-off-hook-terrorism-lawsuit-over-istanbul-massacre-2023-05-18/\n",
      "Publish date: 2023-05-19T14:39:24Z\n",
      "Article text: May 18 (Reuters) - The U.S. Supreme Court handed internet and social media companies a pair of victories on Thursday, leaving legal protections for them unscathed and refusing to clear a path for vic… [+5056 chars] \n",
      "\n",
      "6\n",
      "reuters 2023-05-19 justice OR surveillance\n",
      "Query word: healthcare OR \"health care\"\n",
      "<class 'dict'>\n",
      "{'status': 'ok', 'totalResults': 0, 'articles': []}\n",
      "6\n",
      "reuters 2023-05-19 healthcare OR \"health care\"\n",
      "Query word: (political AND (bias OR party)) OR republican OR democrat OR election\n",
      "<class 'dict'>\n",
      "{'status': 'ok', 'totalResults': 3, 'articles': [{'source': {'id': 'reuters', 'name': 'Reuters'}, 'author': 'Towleroad', 'title': 'Tim Scott, lone Black Republican in U.S. Senate, announces White House bid', 'description': 'Published by Reuters WASHINGTON (Reuters) – U.S. Senator Tim Scott, the sole Black Republican in the Senate, on Friday filed official paperwork launching his run for his party’s presidential nomination in 2024. The impoverished child of a single mother Scott …', 'url': 'http://rmb.reuters.com/rmd/rss/item/tag:reuters.com,2023:newsml_KBN2XA17E:3?channel=FES376', 'urlToImage': 'https://www.towleroad.com/wp-content/uploads/2023/05/678938-origin_1.jpg', 'publishedAt': '2023-05-19T15:24:05Z', 'content': 'WASHINGTON (Reuters) – U.S. Senator Tim Scott, the sole Black Republican in the Senate, on Friday filed official paperwork launching his run for his party’s presidential nomination in 2024.\\r\\nThe impo… [+491 chars]'}, {'source': {'id': 'reuters', 'name': 'Reuters'}, 'author': None, 'title': 'US Supreme Court Leaves Protections For Internet Companies Unscathed', 'description': 'The U.S. Supreme Court handed internet and social media companies a pair of victories on Thursday, leaving legal protections for them unscathed and refusing to clear a path for victims of attacks by militant groups to sue these businesses under an anti-terror…', 'url': 'https://www.reuters.com/legal/us-supreme-court-lets-twitter-off-hook-terrorism-lawsuit-over-istanbul-massacre-2023-05-18/', 'urlToImage': 'https://www.reuters.com/resizer/4TvhugL4P_drhB9V0d2ahxVc2ew=/1200x628/smart/filters:quality(80)/cloudfront-us-east-2.images.arcpublishing.com/reuters/OSIFMOIOBNJZTKXSE3BTOYWH4A.jpg', 'publishedAt': '2023-05-19T14:39:24Z', 'content': 'May 18 (Reuters) - The U.S. Supreme Court handed internet and social media companies a pair of victories on Thursday, leaving legal protections for them unscathed and refusing to clear a path for vic… [+5056 chars]'}, {'source': {'id': 'reuters', 'name': 'Reuters'}, 'author': 'James Davey', 'title': 'Tesco chair Allan to step down after inappropriate behaviour claims', 'description': 'Tesco <a href=\"https://www.reuters.com/companies/TSCO.L\" target=\"_blank\">(TSCO.L)</a> chairman John Allan will step down at the group\\'s annual shareholders\\' meeting next month, with Britain\\'s biggest retailer saying claims of inappropriate behaviour against h…', 'url': 'https://www.reuters.com/business/retail-consumer/tesco-chairman-allan-step-down-june-16-2023-05-19/', 'urlToImage': 'https://www.reuters.com/resizer/UsxqKcSqZ8xbKVLrbbpU0AWlbwU=/1200x628/smart/filters:quality(80)/cloudfront-us-east-2.images.arcpublishing.com/reuters/JSVRIYVHRFKOHB57ADGTN7F6XQ.jpg', 'publishedAt': '2023-05-19T14:33:36Z', 'content': \"LONDON, May 19 (Reuters) - Tesco (TSCO.L) chairman John Allan will step down at the group's annual shareholders' meeting next month, with Britain's biggest retailer saying claims of inappropriate beh… [+2748 chars]\"}]}\n",
      "Source ID: reuters\n",
      "Source name: Reuters\n",
      "Author: Towleroad\n",
      "Title: Tim Scott, lone Black Republican in U.S. Senate, announces White House bid\n",
      "URL: http://rmb.reuters.com/rmd/rss/item/tag:reuters.com,2023:newsml_KBN2XA17E:3?channel=FES376\n",
      "Publish date: 2023-05-19T15:24:05Z\n",
      "Article text: WASHINGTON (Reuters) – U.S. Senator Tim Scott, the sole Black Republican in the Senate, on Friday filed official paperwork launching his run for his party’s presidential nomination in 2024.\n",
      "The impo… [+491 chars] \n",
      "\n",
      "Source ID: reuters\n",
      "Source name: Reuters\n",
      "Author: None\n",
      "Title: US Supreme Court Leaves Protections For Internet Companies Unscathed\n",
      "URL: https://www.reuters.com/legal/us-supreme-court-lets-twitter-off-hook-terrorism-lawsuit-over-istanbul-massacre-2023-05-18/\n",
      "Publish date: 2023-05-19T14:39:24Z\n",
      "Article text: May 18 (Reuters) - The U.S. Supreme Court handed internet and social media companies a pair of victories on Thursday, leaving legal protections for them unscathed and refusing to clear a path for vic… [+5056 chars] \n",
      "\n",
      "Source ID: reuters\n",
      "Source name: Reuters\n",
      "Author: James Davey\n",
      "Title: Tesco chair Allan to step down after inappropriate behaviour claims\n",
      "URL: https://www.reuters.com/business/retail-consumer/tesco-chairman-allan-step-down-june-16-2023-05-19/\n",
      "Publish date: 2023-05-19T14:33:36Z\n",
      "Article text: LONDON, May 19 (Reuters) - Tesco (TSCO.L) chairman John Allan will step down at the group's annual shareholders' meeting next month, with Britain's biggest retailer saying claims of inappropriate beh… [+2748 chars] \n",
      "\n",
      "9\n",
      "reuters 2023-05-19 (political AND (bias OR party)) OR republican OR democrat OR election\n",
      "Query word: security AND (social OR national)\n",
      "<class 'dict'>\n",
      "{'status': 'ok', 'totalResults': 0, 'articles': []}\n",
      "9\n",
      "reuters 2023-05-19 security AND (social OR national)\n",
      "Query word: (policy AND (drug OR \"affirmative action\")) OR regulate OR regulation\n",
      "<class 'dict'>\n",
      "{'status': 'ok', 'totalResults': 0, 'articles': []}\n",
      "9\n",
      "reuters 2023-05-19 (policy AND (drug OR \"affirmative action\")) OR regulate OR regulation\n",
      "Date: 2023-05-20\n",
      "Query word: justice OR surveillance\n",
      "<class 'dict'>\n",
      "{'status': 'ok', 'totalResults': 0, 'articles': []}\n",
      "9\n",
      "reuters 2023-05-20 justice OR surveillance\n",
      "Query word: healthcare OR \"health care\"\n",
      "<class 'dict'>\n",
      "{'status': 'ok', 'totalResults': 0, 'articles': []}\n",
      "9\n",
      "reuters 2023-05-20 healthcare OR \"health care\"\n",
      "Query word: (political AND (bias OR party)) OR republican OR democrat OR election\n",
      "<class 'dict'>\n",
      "{'status': 'ok', 'totalResults': 2, 'articles': [{'source': {'id': 'reuters', 'name': 'Reuters'}, 'author': 'Towleroad', 'title': 'Florida’s DeSantis seeks to disqualify judge in Disney case', 'description': 'Published by Reuters WASHINGTON (Reuters) – Lawyers for Florida Governor Ron DeSantis, a Republican mulling a 2024 presidential run, are asking that a federal judge be disqualified from overseeing a dispute between DeSantis and Walt Disney Co, questioning the…', 'url': 'http://rmb.reuters.com/rmd/rss/item/tag:reuters.com,2023:newsml_KBN2XB0FC:1?channel=FES376', 'urlToImage': 'https://www.towleroad.com/wp-content/uploads/2023/05/679002-origin_1.jpg', 'publishedAt': '2023-05-20T20:32:37Z', 'content': 'WASHINGTON (Reuters) – Lawyers for Florida Governor Ron DeSantis, a Republican mulling a 2024 presidential run, are asking that a federal judge be disqualified from overseeing a dispute between DeSan… [+1608 chars]'}, {'source': {'id': 'reuters', 'name': 'Reuters'}, 'author': 'Towleroad', 'title': 'Transgender Mississippi girl misses graduation after judge’s ruling', 'description': 'Published by Reuters By Timothy Gardner (Reuters) – A transgender Mississippi girl declined to participate in high school graduation on Saturday after a U.S. District Judge said the school district could bar her unless she dressed in clothes required for boys…', 'url': 'http://rmb.reuters.com/rmd/rss/item/tag:reuters.com,2023:newsml_KBN2XB0FV:1?channel=FES376', 'urlToImage': 'https://www.towleroad.com/wp-content/uploads/2023/05/678992-origin_1.jpg', 'publishedAt': '2023-05-20T20:32:04Z', 'content': 'By Timothy Gardner\\r\\n(Reuters) – A transgender Mississippi girl declined to participate in high school graduation on Saturday after a U.S. District Judge said the school district could bar her unless … [+1716 chars]'}]}\n",
      "Source ID: reuters\n",
      "Source name: Reuters\n",
      "Author: Towleroad\n",
      "Title: Florida’s DeSantis seeks to disqualify judge in Disney case\n",
      "URL: http://rmb.reuters.com/rmd/rss/item/tag:reuters.com,2023:newsml_KBN2XB0FC:1?channel=FES376\n",
      "Publish date: 2023-05-20T20:32:37Z\n",
      "Article text: WASHINGTON (Reuters) – Lawyers for Florida Governor Ron DeSantis, a Republican mulling a 2024 presidential run, are asking that a federal judge be disqualified from overseeing a dispute between DeSan… [+1608 chars] \n",
      "\n",
      "Source ID: reuters\n",
      "Source name: Reuters\n",
      "Author: Towleroad\n",
      "Title: Transgender Mississippi girl misses graduation after judge’s ruling\n",
      "URL: http://rmb.reuters.com/rmd/rss/item/tag:reuters.com,2023:newsml_KBN2XB0FV:1?channel=FES376\n",
      "Publish date: 2023-05-20T20:32:04Z\n",
      "Article text: By Timothy Gardner\n",
      "(Reuters) – A transgender Mississippi girl declined to participate in high school graduation on Saturday after a U.S. District Judge said the school district could bar her unless … [+1716 chars] \n",
      "\n",
      "11\n",
      "reuters 2023-05-20 (political AND (bias OR party)) OR republican OR democrat OR election\n",
      "Query word: security AND (social OR national)\n",
      "<class 'dict'>\n",
      "{'status': 'ok', 'totalResults': 0, 'articles': []}\n",
      "11\n",
      "reuters 2023-05-20 security AND (social OR national)\n",
      "Query word: (policy AND (drug OR \"affirmative action\")) OR regulate OR regulation\n",
      "<class 'dict'>\n",
      "{'status': 'ok', 'totalResults': 0, 'articles': []}\n",
      "11\n",
      "reuters 2023-05-20 (policy AND (drug OR \"affirmative action\")) OR regulate OR regulation\n",
      "Date: 2023-05-21\n",
      "Query word: justice OR surveillance\n",
      "<class 'dict'>\n",
      "{'status': 'ok', 'totalResults': 0, 'articles': []}\n",
      "11\n",
      "reuters 2023-05-21 justice OR surveillance\n",
      "Query word: healthcare OR \"health care\"\n",
      "<class 'dict'>\n",
      "{'status': 'ok', 'totalResults': 0, 'articles': []}\n",
      "11\n",
      "reuters 2023-05-21 healthcare OR \"health care\"\n",
      "Query word: (political AND (bias OR party)) OR republican OR democrat OR election\n",
      "<class 'dict'>\n",
      "{'status': 'ok', 'totalResults': 1, 'articles': [{'source': {'id': 'reuters', 'name': 'Reuters'}, 'author': None, 'title': 'AI boom could expose investors’ natural stupidity', 'description': '“My colleagues, they study artificial intelligence,” the Israeli psychologist Amos Tversky once quipped. “Me, I study natural stupidity.” The co-founder of behavioural economics, who died in 1996, did not live to see 2023, when more of his academic colleagues…', 'url': 'https://www.reuters.com/breakingviews/ai-boom-could-expose-investors-natural-stupidity-2023-05-19/', 'urlToImage': 'https://www.reuters.com/resizer/81uveTxWRNRyEmCdhAq5JfkEHTA=/1200x628/smart/filters:quality(80)/cloudfront-us-east-2.images.arcpublishing.com/reuters/SFDGX2C26VOFVHSZWAJP63GUOQ.jpg', 'publishedAt': '2023-05-21T16:58:56Z', 'content': 'LONDON, May 19 (Reuters Breakingviews) - My colleagues, they study artificial intelligence, the Israeli psychologist Amos Tversky once quipped. Me, I study natural stupidity. The co-founder of behavi… [+6870 chars]'}]}\n",
      "Source ID: reuters\n",
      "Source name: Reuters\n",
      "Author: None\n",
      "Title: AI boom could expose investors’ natural stupidity\n",
      "URL: https://www.reuters.com/breakingviews/ai-boom-could-expose-investors-natural-stupidity-2023-05-19/\n",
      "Publish date: 2023-05-21T16:58:56Z\n",
      "Article text: LONDON, May 19 (Reuters Breakingviews) - My colleagues, they study artificial intelligence, the Israeli psychologist Amos Tversky once quipped. Me, I study natural stupidity. The co-founder of behavi… [+6870 chars] \n",
      "\n",
      "12\n",
      "reuters 2023-05-21 (political AND (bias OR party)) OR republican OR democrat OR election\n",
      "Query word: security AND (social OR national)\n",
      "<class 'dict'>\n",
      "{'status': 'ok', 'totalResults': 0, 'articles': []}\n",
      "12\n",
      "reuters 2023-05-21 security AND (social OR national)\n",
      "Query word: (policy AND (drug OR \"affirmative action\")) OR regulate OR regulation\n",
      "<class 'dict'>\n",
      "{'status': 'ok', 'totalResults': 0, 'articles': []}\n",
      "12\n",
      "reuters 2023-05-21 (policy AND (drug OR \"affirmative action\")) OR regulate OR regulation\n",
      "Date: 2023-05-22\n",
      "Query word: justice OR surveillance\n",
      "<class 'dict'>\n",
      "{'status': 'ok', 'totalResults': 0, 'articles': []}\n",
      "12\n",
      "reuters 2023-05-22 justice OR surveillance\n",
      "Query word: healthcare OR \"health care\"\n",
      "<class 'dict'>\n",
      "{'status': 'ok', 'totalResults': 1, 'articles': [{'source': {'id': 'reuters', 'name': 'Reuters'}, 'author': 'Reuters', 'title': 'Novo Nordisk says trial of oral weight-loss drug shows significant result', 'description': 'Novo Nordisk <a href=\"https://www.reuters.com/companies/NOVOb.CO\" target=\"_blank\">(NOVOb.CO)</a> and Pfizer Inc <a href=\"https://www.reuters.com/companies/PFE.N\" target=\"_blank\">(PFE.N)</a> separately released data on Monday showing that pills from the same c…', 'url': 'https://www.reuters.com/business/healthcare-pharmaceuticals/novo-nordisk-says-trial-oral-weight-loss-drug-shows-significant-result-2023-05-22/', 'urlToImage': 'https://www.reuters.com/resizer/wfKQ6r52K7H2dDGPaYOC_U6KbHs=/1200x628/smart/filters:quality(80)/cloudfront-us-east-2.images.arcpublishing.com/reuters/OEWMKYFGE5ODLFLNRV57KCRPVI.jpg', 'publishedAt': '2023-05-22T14:30:23Z', 'content': \"COPENHAGEN, May 22 (Reuters) - Novo Nordisk (NOVOb.CO) and Pfizer Inc (PFE.N) separately released data on Monday showing that pills from the same class as Novo's increasingly popular weight loss drug… [+3334 chars]\"}]}\n",
      "Source ID: reuters\n",
      "Source name: Reuters\n",
      "Author: Reuters\n",
      "Title: Novo Nordisk says trial of oral weight-loss drug shows significant result\n",
      "URL: https://www.reuters.com/business/healthcare-pharmaceuticals/novo-nordisk-says-trial-oral-weight-loss-drug-shows-significant-result-2023-05-22/\n",
      "Publish date: 2023-05-22T14:30:23Z\n",
      "Article text: COPENHAGEN, May 22 (Reuters) - Novo Nordisk (NOVOb.CO) and Pfizer Inc (PFE.N) separately released data on Monday showing that pills from the same class as Novo's increasingly popular weight loss drug… [+3334 chars] \n",
      "\n",
      "13\n",
      "reuters 2023-05-22 healthcare OR \"health care\"\n",
      "Query word: (political AND (bias OR party)) OR republican OR democrat OR election\n",
      "<class 'dict'>\n",
      "{'status': 'ok', 'totalResults': 0, 'articles': []}\n",
      "13\n",
      "reuters 2023-05-22 (political AND (bias OR party)) OR republican OR democrat OR election\n",
      "Query word: security AND (social OR national)\n",
      "<class 'dict'>\n",
      "{'status': 'ok', 'totalResults': 0, 'articles': []}\n",
      "13\n",
      "reuters 2023-05-22 security AND (social OR national)\n",
      "Query word: (policy AND (drug OR \"affirmative action\")) OR regulate OR regulation\n",
      "<class 'dict'>\n",
      "{'status': 'ok', 'totalResults': 0, 'articles': []}\n",
      "13\n",
      "reuters 2023-05-22 (policy AND (drug OR \"affirmative action\")) OR regulate OR regulation\n",
      "Date: 2023-05-23\n",
      "Query word: justice OR surveillance\n",
      "<class 'dict'>\n",
      "{'status': 'ok', 'totalResults': 1, 'articles': [{'source': {'id': 'reuters', 'name': 'Reuters'}, 'author': 'Special Reports', 'title': 'Crypto giant Binance commingled customer funds and company revenue', 'description': 'Crypto giant Binance commingled customer funds with company revenue in 2020 and 2021, in breach of U.S. financial rules, former insiders say.', 'url': 'https://www.reuters.com/investigates/special-report/crypto-binance-money/', 'urlToImage': 'https://www.reuters.com/investigates/special-report/assets/crypto-binance-money/mastheads/binance-share.jpg?v=224117220523', 'publishedAt': '2023-05-23T12:38:45Z', 'content': 'The worlds largest cryptocurrency exchange, Binance, commingled customer funds with company revenue in 2020 and 2021, in breach of U.S. financial rules that require customer money to be kept separate… [+18543 chars]'}]}\n",
      "Source ID: reuters\n",
      "Source name: Reuters\n",
      "Author: Special Reports\n",
      "Title: Crypto giant Binance commingled customer funds and company revenue\n",
      "URL: https://www.reuters.com/investigates/special-report/crypto-binance-money/\n",
      "Publish date: 2023-05-23T12:38:45Z\n",
      "Article text: The worlds largest cryptocurrency exchange, Binance, commingled customer funds with company revenue in 2020 and 2021, in breach of U.S. financial rules that require customer money to be kept separate… [+18543 chars] \n",
      "\n",
      "14\n",
      "reuters 2023-05-23 justice OR surveillance\n",
      "Query word: healthcare OR \"health care\"\n",
      "<class 'dict'>\n",
      "{'status': 'ok', 'totalResults': 0, 'articles': []}\n",
      "14\n",
      "reuters 2023-05-23 healthcare OR \"health care\"\n",
      "Query word: (political AND (bias OR party)) OR republican OR democrat OR election\n",
      "<class 'dict'>\n",
      "{'status': 'ok', 'totalResults': 3, 'articles': [{'source': {'id': 'reuters', 'name': 'Reuters'}, 'author': 'Special Reports', 'title': 'Crypto giant Binance commingled customer funds and company revenue', 'description': 'Crypto giant Binance commingled customer funds with company revenue in 2020 and 2021, in breach of U.S. financial rules, former insiders say.', 'url': 'https://www.reuters.com/investigates/special-report/crypto-binance-money/', 'urlToImage': 'https://www.reuters.com/investigates/special-report/assets/crypto-binance-money/mastheads/binance-share.jpg?v=224117220523', 'publishedAt': '2023-05-23T12:38:45Z', 'content': 'The worlds largest cryptocurrency exchange, Binance, commingled customer funds with company revenue in 2020 and 2021, in breach of U.S. financial rules that require customer money to be kept separate… [+18543 chars]'}, {'source': {'id': 'reuters', 'name': 'Reuters'}, 'author': 'Towleroad', 'title': 'Florida restaurant sues DeSantis over drag show restrictions', 'description': 'Published by Reuters By Daniel Trotta (Reuters) – A Florida restaurant that puts on what it calls family-friendly drag performances sued Governor Ron DeSantis and the state of Florida on Monday to halt enforcement of a new law banning minors from attending su…', 'url': 'http://rmb.reuters.com/rmd/rss/item/tag:reuters.com,2023:newsml_KBN2XE02F:2?channel=FES376', 'urlToImage': 'https://www.towleroad.com/wp-content/uploads/2023/05/679263-origin_1.jpg', 'publishedAt': '2023-05-23T13:33:05Z', 'content': 'By Daniel Trotta\\r\\n(Reuters) – A Florida restaurant that puts on what it calls family-friendly drag performances sued Governor Ron DeSantis and the state of Florida on Monday to halt enforcement of a … [+1753 chars]'}, {'source': {'id': 'reuters', 'name': 'Reuters'}, 'author': 'Reuters', 'title': 'John Allan to step down early as Barratt Developments chair', 'description': 'Barratt Developments <a href=\"https://www.reuters.com/companies/BDEV.L\" target=\"_blank\">(BDEV.L)</a> chairman John Allan will step down next month, with Britain\\'s largest housebuilder saying it wanted to prevent the impact of allegations against him from beco…', 'url': 'https://www.reuters.com/business/john-allan-step-down-early-barratt-developments-chair-2023-05-23/', 'urlToImage': 'https://www.reuters.com/resizer/71-pBdCf_XvGhwIlsLmGuVby-QE=/1200x628/smart/filters:quality(80)/cloudfront-us-east-2.images.arcpublishing.com/reuters/ECWBFH33EVKA3HHJ6C4UQKYD7Y.jpg', 'publishedAt': '2023-05-23T09:04:46Z', 'content': \"May 23 (Reuters) - Barratt Developments (BDEV.L) chairman John Allan will step down next month, with Britain's largest housebuilder saying it wanted to prevent the impact of allegations against him f… [+1615 chars]\"}]}\n",
      "Source ID: reuters\n",
      "Source name: Reuters\n",
      "Author: Special Reports\n",
      "Title: Crypto giant Binance commingled customer funds and company revenue\n",
      "URL: https://www.reuters.com/investigates/special-report/crypto-binance-money/\n",
      "Publish date: 2023-05-23T12:38:45Z\n",
      "Article text: The worlds largest cryptocurrency exchange, Binance, commingled customer funds with company revenue in 2020 and 2021, in breach of U.S. financial rules that require customer money to be kept separate… [+18543 chars] \n",
      "\n",
      "Source ID: reuters\n",
      "Source name: Reuters\n",
      "Author: Towleroad\n",
      "Title: Florida restaurant sues DeSantis over drag show restrictions\n",
      "URL: http://rmb.reuters.com/rmd/rss/item/tag:reuters.com,2023:newsml_KBN2XE02F:2?channel=FES376\n",
      "Publish date: 2023-05-23T13:33:05Z\n",
      "Article text: By Daniel Trotta\n",
      "(Reuters) – A Florida restaurant that puts on what it calls family-friendly drag performances sued Governor Ron DeSantis and the state of Florida on Monday to halt enforcement of a … [+1753 chars] \n",
      "\n",
      "Source ID: reuters\n",
      "Source name: Reuters\n",
      "Author: Reuters\n",
      "Title: John Allan to step down early as Barratt Developments chair\n",
      "URL: https://www.reuters.com/business/john-allan-step-down-early-barratt-developments-chair-2023-05-23/\n",
      "Publish date: 2023-05-23T09:04:46Z\n",
      "Article text: May 23 (Reuters) - Barratt Developments (BDEV.L) chairman John Allan will step down next month, with Britain's largest housebuilder saying it wanted to prevent the impact of allegations against him f… [+1615 chars] \n",
      "\n",
      "17\n",
      "reuters 2023-05-23 (political AND (bias OR party)) OR republican OR democrat OR election\n",
      "Query word: security AND (social OR national)\n",
      "<class 'dict'>\n",
      "{'status': 'ok', 'totalResults': 0, 'articles': []}\n",
      "17\n",
      "reuters 2023-05-23 security AND (social OR national)\n",
      "Query word: (policy AND (drug OR \"affirmative action\")) OR regulate OR regulation\n",
      "<class 'dict'>\n",
      "{'status': 'ok', 'totalResults': 0, 'articles': []}\n",
      "17\n",
      "reuters 2023-05-23 (policy AND (drug OR \"affirmative action\")) OR regulate OR regulation\n",
      "Date: 2023-05-24\n",
      "Query word: justice OR surveillance\n",
      "<class 'dict'>\n",
      "{'status': 'ok', 'totalResults': 1, 'articles': [{'source': {'id': 'reuters', 'name': 'Reuters'}, 'author': 'Special Reports', 'title': 'How Doctors buy their way out of trouble', 'description': 'Hundreds of physicians accused of wrongdoing have paid hefty civil settlements to the U.S. government to keep working and, in some cases, avoid jail time.', 'url': 'https://www.reuters.com/investigates/special-report/usa-healthcare-settlements/', 'urlToImage': 'https://www.reuters.com/investigates/special-report/assets/usa-healthcare-settlements/mastheads/usa-healthcare-settlements-share.jpg?v=145712240523', 'publishedAt': '2023-05-24T14:14:50Z', 'content': 'When federal enforcers alleged in 2015 that New York surgeon Feng Qin had performed scores of medically unnecessary cardiac procedures on elderly patients, they decided not to pursue a time-consuming… [+31634 chars]'}]}\n",
      "Source ID: reuters\n",
      "Source name: Reuters\n",
      "Author: Special Reports\n",
      "Title: How Doctors buy their way out of trouble\n",
      "URL: https://www.reuters.com/investigates/special-report/usa-healthcare-settlements/\n",
      "Publish date: 2023-05-24T14:14:50Z\n",
      "Article text: When federal enforcers alleged in 2015 that New York surgeon Feng Qin had performed scores of medically unnecessary cardiac procedures on elderly patients, they decided not to pursue a time-consuming… [+31634 chars] \n",
      "\n",
      "18\n",
      "reuters 2023-05-24 justice OR surveillance\n",
      "Query word: healthcare OR \"health care\"\n",
      "<class 'dict'>\n",
      "{'status': 'ok', 'totalResults': 1, 'articles': [{'source': {'id': 'reuters', 'name': 'Reuters'}, 'author': 'Special Reports', 'title': 'How Doctors buy their way out of trouble', 'description': 'Hundreds of physicians accused of wrongdoing have paid hefty civil settlements to the U.S. government to keep working and, in some cases, avoid jail time.', 'url': 'https://www.reuters.com/investigates/special-report/usa-healthcare-settlements/', 'urlToImage': 'https://www.reuters.com/investigates/special-report/assets/usa-healthcare-settlements/mastheads/usa-healthcare-settlements-share.jpg?v=145712240523', 'publishedAt': '2023-05-24T14:14:50Z', 'content': 'When federal enforcers alleged in 2015 that New York surgeon Feng Qin had performed scores of medically unnecessary cardiac procedures on elderly patients, they decided not to pursue a time-consuming… [+31634 chars]'}]}\n",
      "Source ID: reuters\n",
      "Source name: Reuters\n",
      "Author: Special Reports\n",
      "Title: How Doctors buy their way out of trouble\n",
      "URL: https://www.reuters.com/investigates/special-report/usa-healthcare-settlements/\n",
      "Publish date: 2023-05-24T14:14:50Z\n",
      "Article text: When federal enforcers alleged in 2015 that New York surgeon Feng Qin had performed scores of medically unnecessary cardiac procedures on elderly patients, they decided not to pursue a time-consuming… [+31634 chars] \n",
      "\n",
      "19\n",
      "reuters 2023-05-24 healthcare OR \"health care\"\n",
      "Query word: (political AND (bias OR party)) OR republican OR democrat OR election\n",
      "<class 'dict'>\n",
      "{'status': 'ok', 'totalResults': 2, 'articles': [{'source': {'id': 'reuters', 'name': 'Reuters'}, 'author': 'Towleroad', 'title': 'Florida Governor DeSantis to enter 2024 race in Twitter event with Musk', 'description': 'Published by Reuters By James Oliphant WASHINGTON (Reuters) -Florida Governor Ron DeSantis, whose impassioned battles over pandemic lockdowns and divisive cultural issues have endeared him to conservatives, will announce on Wednesday he is seeking the Republi…', 'url': 'http://rmb.reuters.com/rmd/rss/item/tag:reuters.com,2023:newsml_KBN2XE1HM:11?channel=FES376', 'urlToImage': 'https://www.towleroad.com/wp-content/uploads/2023/05/679387-origin_1.jpg', 'publishedAt': '2023-05-24T18:57:47Z', 'content': 'By James Oliphant\\r\\nWASHINGTON (Reuters) -Florida Governor Ron DeSantis, whose impassioned battles over pandemic lockdowns and divisive cultural issues have endeared him to conservatives, will announc… [+6019 chars]'}, {'source': {'id': 'reuters', 'name': 'Reuters'}, 'author': 'Tommy Wilkes', 'title': \"Lloyd's of London boss calls for UN climate alliance rules rethink\", 'description': \"A global climate alliance for insurers needs to make its membership rules less prescriptive or risk falling apart, the boss of Lloyd's of London said after political pressure from some U.S. states prompted some companies to leave.\", 'url': 'https://www.reuters.com/business/environment/un-says-us-concerns-have-led-insurers-quitting-climate-alliance-2023-05-24/', 'urlToImage': 'https://www.reuters.com/resizer/w3i2pbLrG73GWXJ1OOIdLpTEJBw=/1200x628/smart/filters:quality(80)/cloudfront-us-east-2.images.arcpublishing.com/reuters/DJIC45LL4VL4FHMLL4QI56U6MM.jpg', 'publishedAt': '2023-05-24T15:30:30Z', 'content': \"LONDON, May 24 (Reuters) - A global climate alliance for insurers needs to make its membership rules less prescriptive or risk falling apart, the boss of Lloyd's of London said after political pressu… [+3132 chars]\"}]}\n",
      "Source ID: reuters\n",
      "Source name: Reuters\n",
      "Author: Towleroad\n",
      "Title: Florida Governor DeSantis to enter 2024 race in Twitter event with Musk\n",
      "URL: http://rmb.reuters.com/rmd/rss/item/tag:reuters.com,2023:newsml_KBN2XE1HM:11?channel=FES376\n",
      "Publish date: 2023-05-24T18:57:47Z\n",
      "Article text: By James Oliphant\n",
      "WASHINGTON (Reuters) -Florida Governor Ron DeSantis, whose impassioned battles over pandemic lockdowns and divisive cultural issues have endeared him to conservatives, will announc… [+6019 chars] \n",
      "\n",
      "Source ID: reuters\n",
      "Source name: Reuters\n",
      "Author: Tommy Wilkes\n",
      "Title: Lloyd's of London boss calls for UN climate alliance rules rethink\n",
      "URL: https://www.reuters.com/business/environment/un-says-us-concerns-have-led-insurers-quitting-climate-alliance-2023-05-24/\n",
      "Publish date: 2023-05-24T15:30:30Z\n",
      "Article text: LONDON, May 24 (Reuters) - A global climate alliance for insurers needs to make its membership rules less prescriptive or risk falling apart, the boss of Lloyd's of London said after political pressu… [+3132 chars] \n",
      "\n",
      "21\n",
      "reuters 2023-05-24 (political AND (bias OR party)) OR republican OR democrat OR election\n",
      "Query word: security AND (social OR national)\n",
      "<class 'dict'>\n",
      "{'status': 'ok', 'totalResults': 0, 'articles': []}\n",
      "21\n",
      "reuters 2023-05-24 security AND (social OR national)\n",
      "Query word: (policy AND (drug OR \"affirmative action\")) OR regulate OR regulation\n",
      "<class 'dict'>\n",
      "{'status': 'ok', 'totalResults': 2, 'articles': [{'source': {'id': 'reuters', 'name': 'Reuters'}, 'author': 'Special Reports', 'title': 'How Doctors buy their way out of trouble', 'description': 'Hundreds of physicians accused of wrongdoing have paid hefty civil settlements to the U.S. government to keep working and, in some cases, avoid jail time.', 'url': 'https://www.reuters.com/investigates/special-report/usa-healthcare-settlements/', 'urlToImage': 'https://www.reuters.com/investigates/special-report/assets/usa-healthcare-settlements/mastheads/usa-healthcare-settlements-share.jpg?v=145712240523', 'publishedAt': '2023-05-24T14:14:50Z', 'content': 'When federal enforcers alleged in 2015 that New York surgeon Feng Qin had performed scores of medically unnecessary cardiac procedures on elderly patients, they decided not to pursue a time-consuming… [+31634 chars]'}, {'source': {'id': 'reuters', 'name': 'Reuters'}, 'author': 'Towleroad', 'title': 'Florida Governor DeSantis to enter 2024 race in Twitter event with Musk', 'description': 'Published by Reuters By James Oliphant WASHINGTON (Reuters) -Florida Governor Ron DeSantis, whose impassioned battles over pandemic lockdowns and divisive cultural issues have endeared him to conservatives, will announce on Wednesday he is seeking the Republi…', 'url': 'http://rmb.reuters.com/rmd/rss/item/tag:reuters.com,2023:newsml_KBN2XE1HM:11?channel=FES376', 'urlToImage': 'https://www.towleroad.com/wp-content/uploads/2023/05/679387-origin_1.jpg', 'publishedAt': '2023-05-24T18:57:47Z', 'content': 'By James Oliphant\\r\\nWASHINGTON (Reuters) -Florida Governor Ron DeSantis, whose impassioned battles over pandemic lockdowns and divisive cultural issues have endeared him to conservatives, will announc… [+6019 chars]'}]}\n",
      "Source ID: reuters\n",
      "Source name: Reuters\n",
      "Author: Special Reports\n",
      "Title: How Doctors buy their way out of trouble\n",
      "URL: https://www.reuters.com/investigates/special-report/usa-healthcare-settlements/\n",
      "Publish date: 2023-05-24T14:14:50Z\n",
      "Article text: When federal enforcers alleged in 2015 that New York surgeon Feng Qin had performed scores of medically unnecessary cardiac procedures on elderly patients, they decided not to pursue a time-consuming… [+31634 chars] \n",
      "\n",
      "Source ID: reuters\n",
      "Source name: Reuters\n",
      "Author: Towleroad\n",
      "Title: Florida Governor DeSantis to enter 2024 race in Twitter event with Musk\n",
      "URL: http://rmb.reuters.com/rmd/rss/item/tag:reuters.com,2023:newsml_KBN2XE1HM:11?channel=FES376\n",
      "Publish date: 2023-05-24T18:57:47Z\n",
      "Article text: By James Oliphant\n",
      "WASHINGTON (Reuters) -Florida Governor Ron DeSantis, whose impassioned battles over pandemic lockdowns and divisive cultural issues have endeared him to conservatives, will announc… [+6019 chars] \n",
      "\n",
      "23\n",
      "reuters 2023-05-24 (policy AND (drug OR \"affirmative action\")) OR regulate OR regulation\n",
      "Date: 2023-05-25\n",
      "Query word: justice OR surveillance\n",
      "<class 'dict'>\n",
      "{'status': 'ok', 'totalResults': 1, 'articles': [{'source': {'id': 'reuters', 'name': 'Reuters'}, 'author': 'Towleroad', 'title': 'U.S. Supreme Court rules against EPA in wetlands regulation challenge', 'description': 'Published by Reuters By John Kruzel and Andrew Chung WASHINGTON (Reuters) -The U.S. Supreme Court on Thursday put another dent in the regulatory reach of the Environmental Protection Agency, embracing a stringent new test for declaring wetlands protected unde…', 'url': 'http://rmb.reuters.com/rmd/rss/item/tag:reuters.com,2023:newsml_KBN2XG17C:7?channel=FES376', 'urlToImage': 'https://www.towleroad.com/wp-content/uploads/2023/05/679623-origin_1.jpg', 'publishedAt': '2023-05-25T20:47:21Z', 'content': 'By John Kruzel and Andrew Chung\\r\\nWASHINGTON (Reuters) -The U.S. Supreme Court on Thursday put another dent in the regulatory reach of the Environmental Protection Agency, embracing a stringent new te… [+4842 chars]'}]}\n",
      "Source ID: reuters\n",
      "Source name: Reuters\n",
      "Author: Towleroad\n",
      "Title: U.S. Supreme Court rules against EPA in wetlands regulation challenge\n",
      "URL: http://rmb.reuters.com/rmd/rss/item/tag:reuters.com,2023:newsml_KBN2XG17C:7?channel=FES376\n",
      "Publish date: 2023-05-25T20:47:21Z\n",
      "Article text: By John Kruzel and Andrew Chung\n",
      "WASHINGTON (Reuters) -The U.S. Supreme Court on Thursday put another dent in the regulatory reach of the Environmental Protection Agency, embracing a stringent new te… [+4842 chars] \n",
      "\n",
      "24\n",
      "reuters 2023-05-25 justice OR surveillance\n",
      "Query word: healthcare OR \"health care\"\n",
      "<class 'dict'>\n",
      "{'status': 'ok', 'totalResults': 1, 'articles': [{'source': {'id': 'reuters', 'name': 'Reuters'}, 'author': 'Reuters', 'title': 'Orders surge for trans designer after Target pulls products', 'description': 'Transgender designer Erik Carnell has seen a surge in demand for his pins, prints, stickers and T-shirts after U.S. retailer Target Corp <a href=\"https://www.reuters.com/companies/TGT.N\" target=\"_blank\">(TGT.N)</a> pulled his products amid a <a href=\"/busines…', 'url': 'https://www.reuters.com/business/retail-consumer/orders-surge-trans-designer-after-target-pulls-products-2023-05-25/', 'urlToImage': 'https://www.reuters.com/resizer/ME6yDxBZEpQLEgTtCiLkX4E_zi8=/1200x628/smart/filters:quality(80)/cloudfront-us-east-2.images.arcpublishing.com/reuters/4TLMOZUHPJIJHC6WXLQWI5HDTU.jpg', 'publishedAt': '2023-05-25T14:30:35Z', 'content': 'LONDON, May 25 (Reuters) - Transgender designer Erik Carnell has seen a surge in demand for his pins, prints, stickers and T-shirts after U.S. retailer Target Corp (TGT.N) pulled his products amid a … [+2298 chars]'}]}\n",
      "Source ID: reuters\n",
      "Source name: Reuters\n",
      "Author: Reuters\n",
      "Title: Orders surge for trans designer after Target pulls products\n",
      "URL: https://www.reuters.com/business/retail-consumer/orders-surge-trans-designer-after-target-pulls-products-2023-05-25/\n",
      "Publish date: 2023-05-25T14:30:35Z\n",
      "Article text: LONDON, May 25 (Reuters) - Transgender designer Erik Carnell has seen a surge in demand for his pins, prints, stickers and T-shirts after U.S. retailer Target Corp (TGT.N) pulled his products amid a … [+2298 chars] \n",
      "\n",
      "25\n",
      "reuters 2023-05-25 healthcare OR \"health care\"\n",
      "Query word: (political AND (bias OR party)) OR republican OR democrat OR election\n",
      "<class 'dict'>\n",
      "{'status': 'ok', 'totalResults': 1, 'articles': [{'source': {'id': 'reuters', 'name': 'Reuters'}, 'author': 'Towleroad', 'title': 'Florida laws targeting LGBT community stoke Pride energy, organizers say', 'description': 'Published by Reuters By Brad Brooks and Daniel Trotta (Reuters) – Organizers of some LGBT Pride events in Florida are limiting access by minors and increasing security in the face of a slate of new state laws they say unfairly target their community. But the …', 'url': 'http://rmb.reuters.com/rmd/rss/item/tag:reuters.com,2023:newsml_KBN2XG144:1?channel=FES376', 'urlToImage': 'https://www.towleroad.com/wp-content/uploads/2023/05/679533-origin_1.jpg', 'publishedAt': '2023-05-25T19:18:06Z', 'content': 'By Brad Brooks and Daniel Trotta\\r\\n(Reuters) – Organizers of some LGBT Pride events in Florida are limiting access by minors and increasing security in the face of a slate of new state laws they say u… [+3168 chars]'}]}\n",
      "Source ID: reuters\n",
      "Source name: Reuters\n",
      "Author: Towleroad\n",
      "Title: Florida laws targeting LGBT community stoke Pride energy, organizers say\n",
      "URL: http://rmb.reuters.com/rmd/rss/item/tag:reuters.com,2023:newsml_KBN2XG144:1?channel=FES376\n",
      "Publish date: 2023-05-25T19:18:06Z\n",
      "Article text: By Brad Brooks and Daniel Trotta\n",
      "(Reuters) – Organizers of some LGBT Pride events in Florida are limiting access by minors and increasing security in the face of a slate of new state laws they say u… [+3168 chars] \n",
      "\n",
      "26\n",
      "reuters 2023-05-25 (political AND (bias OR party)) OR republican OR democrat OR election\n",
      "Query word: security AND (social OR national)\n",
      "<class 'dict'>\n",
      "{'status': 'ok', 'totalResults': 0, 'articles': []}\n",
      "26\n",
      "reuters 2023-05-25 security AND (social OR national)\n",
      "Query word: (policy AND (drug OR \"affirmative action\")) OR regulate OR regulation\n",
      "<class 'dict'>\n",
      "{'status': 'ok', 'totalResults': 1, 'articles': [{'source': {'id': 'reuters', 'name': 'Reuters'}, 'author': 'Towleroad', 'title': 'U.S. Supreme Court rules against EPA in wetlands regulation challenge', 'description': 'Published by Reuters By John Kruzel and Andrew Chung WASHINGTON (Reuters) -The U.S. Supreme Court on Thursday put another dent in the regulatory reach of the Environmental Protection Agency, embracing a stringent new test for declaring wetlands protected unde…', 'url': 'http://rmb.reuters.com/rmd/rss/item/tag:reuters.com,2023:newsml_KBN2XG17C:7?channel=FES376', 'urlToImage': 'https://www.towleroad.com/wp-content/uploads/2023/05/679623-origin_1.jpg', 'publishedAt': '2023-05-25T20:47:21Z', 'content': 'By John Kruzel and Andrew Chung\\r\\nWASHINGTON (Reuters) -The U.S. Supreme Court on Thursday put another dent in the regulatory reach of the Environmental Protection Agency, embracing a stringent new te… [+4842 chars]'}]}\n",
      "Source ID: reuters\n",
      "Source name: Reuters\n",
      "Author: Towleroad\n",
      "Title: U.S. Supreme Court rules against EPA in wetlands regulation challenge\n",
      "URL: http://rmb.reuters.com/rmd/rss/item/tag:reuters.com,2023:newsml_KBN2XG17C:7?channel=FES376\n",
      "Publish date: 2023-05-25T20:47:21Z\n",
      "Article text: By John Kruzel and Andrew Chung\n",
      "WASHINGTON (Reuters) -The U.S. Supreme Court on Thursday put another dent in the regulatory reach of the Environmental Protection Agency, embracing a stringent new te… [+4842 chars] \n",
      "\n",
      "27\n",
      "reuters 2023-05-25 (policy AND (drug OR \"affirmative action\")) OR regulate OR regulation\n",
      "Date: 2023-05-17\n",
      "Query word: justice OR surveillance\n",
      "<class 'dict'>\n",
      "{'status': 'ok', 'totalResults': 0, 'articles': []}\n",
      "27\n",
      "reuters 2023-05-17 justice OR surveillance\n",
      "Query word: healthcare OR \"health care\"\n",
      "<class 'dict'>\n",
      "{'status': 'ok', 'totalResults': 1, 'articles': [{'source': {'id': 'reuters', 'name': 'Reuters'}, 'author': 'Towleroad', 'title': 'DeSantis signs Florida ban on gender-affirming treatment for transgender minors', 'description': 'Published by Reuters By Daniel Trotta (Reuters) – Florida Governor Ron DeSantis on Wednesday signed into law a bill that bans gender-affirming medical care such as puberty blockers or hormone therapy for transgender youth, and also enacts obstacles for adults…', 'url': 'http://rmb.reuters.com/rmd/rss/item/tag:reuters.com,2023:newsml_KBN2X81AQ:5?channel=FES376', 'urlToImage': 'https://www.towleroad.com/wp-content/uploads/2023/05/678560-origin_1.jpg', 'publishedAt': '2023-05-17T18:12:27Z', 'content': 'By Daniel Trotta\\r\\n(Reuters) – Florida Governor Ron DeSantis on Wednesday signed into law a bill that bans gender-affirming medical care such as puberty blockers or hormone therapy for transgender you… [+3067 chars]'}]}\n",
      "Source ID: reuters\n",
      "Source name: Reuters\n",
      "Author: Towleroad\n",
      "Title: DeSantis signs Florida ban on gender-affirming treatment for transgender minors\n",
      "URL: http://rmb.reuters.com/rmd/rss/item/tag:reuters.com,2023:newsml_KBN2X81AQ:5?channel=FES376\n",
      "Publish date: 2023-05-17T18:12:27Z\n",
      "Article text: By Daniel Trotta\n",
      "(Reuters) – Florida Governor Ron DeSantis on Wednesday signed into law a bill that bans gender-affirming medical care such as puberty blockers or hormone therapy for transgender you… [+3067 chars] \n",
      "\n",
      "28\n",
      "reuters 2023-05-17 healthcare OR \"health care\"\n",
      "Query word: (political AND (bias OR party)) OR republican OR democrat OR election\n",
      "<class 'dict'>\n",
      "{'status': 'ok', 'totalResults': 1, 'articles': [{'source': {'id': 'reuters', 'name': 'Reuters'}, 'author': 'Towleroad', 'title': 'DeSantis signs Florida ban on gender-affirming treatment for transgender minors', 'description': 'Published by Reuters By Daniel Trotta (Reuters) – Florida Governor Ron DeSantis on Wednesday signed into law a bill that bans gender-affirming medical care such as puberty blockers or hormone therapy for transgender youth, and also enacts obstacles for adults…', 'url': 'http://rmb.reuters.com/rmd/rss/item/tag:reuters.com,2023:newsml_KBN2X81AQ:5?channel=FES376', 'urlToImage': 'https://www.towleroad.com/wp-content/uploads/2023/05/678560-origin_1.jpg', 'publishedAt': '2023-05-17T18:12:27Z', 'content': 'By Daniel Trotta\\r\\n(Reuters) – Florida Governor Ron DeSantis on Wednesday signed into law a bill that bans gender-affirming medical care such as puberty blockers or hormone therapy for transgender you… [+3067 chars]'}]}\n",
      "Source ID: reuters\n",
      "Source name: Reuters\n",
      "Author: Towleroad\n",
      "Title: DeSantis signs Florida ban on gender-affirming treatment for transgender minors\n",
      "URL: http://rmb.reuters.com/rmd/rss/item/tag:reuters.com,2023:newsml_KBN2X81AQ:5?channel=FES376\n",
      "Publish date: 2023-05-17T18:12:27Z\n",
      "Article text: By Daniel Trotta\n",
      "(Reuters) – Florida Governor Ron DeSantis on Wednesday signed into law a bill that bans gender-affirming medical care such as puberty blockers or hormone therapy for transgender you… [+3067 chars] \n",
      "\n",
      "29\n",
      "reuters 2023-05-17 (political AND (bias OR party)) OR republican OR democrat OR election\n",
      "Query word: security AND (social OR national)\n",
      "<class 'dict'>\n",
      "{'status': 'ok', 'totalResults': 0, 'articles': []}\n",
      "29\n",
      "reuters 2023-05-17 security AND (social OR national)\n",
      "Query word: (policy AND (drug OR \"affirmative action\")) OR regulate OR regulation\n",
      "<class 'dict'>\n",
      "{'status': 'ok', 'totalResults': 0, 'articles': []}\n",
      "29\n",
      "reuters 2023-05-17 (policy AND (drug OR \"affirmative action\")) OR regulate OR regulation\n",
      "Date: 2023-05-16\n",
      "Query word: justice OR surveillance\n",
      "<class 'dict'>\n",
      "{'status': 'ok', 'totalResults': 0, 'articles': []}\n",
      "29\n",
      "reuters 2023-05-16 justice OR surveillance\n",
      "Query word: healthcare OR \"health care\"\n",
      "<class 'dict'>\n",
      "{'status': 'ok', 'totalResults': 0, 'articles': []}\n",
      "29\n",
      "reuters 2023-05-16 healthcare OR \"health care\"\n",
      "Query word: (political AND (bias OR party)) OR republican OR democrat OR election\n",
      "<class 'dict'>\n",
      "{'status': 'ok', 'totalResults': 1, 'articles': [{'source': {'id': 'reuters', 'name': 'Reuters'}, 'author': 'Hyunjoo Jin', 'title': 'Tesla succession plan, vehicle demand in focus at annual meet', 'description': 'Tesla Inc <a href=\"https://www.reuters.com/companies/TSLA.O\" target=\"_blank\">(TSLA.O)</a> CEO Elon Musk will be under pressure to address investor concerns about the lack of a clear successor, softening demand and delays of some new models when he speaks at t…', 'url': 'https://www.reuters.com/business/autos-transportation/tesla-succession-planning-demand-focus-ahead-shareholder-meeting-2023-05-16/', 'urlToImage': 'https://www.reuters.com/resizer/WD4EtsAxFs7IF22aJNHgpM4rp5U=/1200x628/smart/filters:quality(80)/cloudfront-us-east-2.images.arcpublishing.com/reuters/G5LH4NX3I5OJLEYQJG5SR3RBEI.jpg', 'publishedAt': '2023-05-16T11:05:22Z', 'content': 'May 16 (Reuters) - Tesla Inc (TSLA.O) CEO Elon Musk will be under pressure to address investor concerns about the lack of a clear successor, softening demand and delays of some new models when he spe… [+2997 chars]'}]}\n",
      "Source ID: reuters\n",
      "Source name: Reuters\n",
      "Author: Hyunjoo Jin\n",
      "Title: Tesla succession plan, vehicle demand in focus at annual meet\n",
      "URL: https://www.reuters.com/business/autos-transportation/tesla-succession-planning-demand-focus-ahead-shareholder-meeting-2023-05-16/\n",
      "Publish date: 2023-05-16T11:05:22Z\n",
      "Article text: May 16 (Reuters) - Tesla Inc (TSLA.O) CEO Elon Musk will be under pressure to address investor concerns about the lack of a clear successor, softening demand and delays of some new models when he spe… [+2997 chars] \n",
      "\n",
      "30\n",
      "reuters 2023-05-16 (political AND (bias OR party)) OR republican OR democrat OR election\n",
      "Query word: security AND (social OR national)\n",
      "<class 'dict'>\n",
      "{'status': 'ok', 'totalResults': 1, 'articles': [{'source': {'id': 'reuters', 'name': 'Reuters'}, 'author': None, 'title': 'OpenAI chief goes before US Congress to propose licenses for building AI', 'description': 'OpenAI, the startup behind ChatGPT, wants the U.S. to consider mandating licenses for companies to develop powerful artificial intelligence like the kind underpinning its chatbot, its chief executive plans to tell Congress on Tuesday.', 'url': 'https://www.reuters.com/technology/openai-chief-goes-before-us-congress-propose-licenses-building-ai-2023-05-16/', 'urlToImage': 'https://www.reuters.com/resizer/gTLiPIMw-ojN7l9pJHSH2fSI1LM=/1200x628/smart/filters:quality(80)/cloudfront-us-east-2.images.arcpublishing.com/reuters/YZLK6AJJLJLIHLU2Q2MYSCUIZA.jpg', 'publishedAt': '2023-05-16T11:06:54Z', 'content': 'WASHINGTON, May 16 (Reuters) - OpenAI, the startup behind ChatGPT, wants the U.S. to consider mandating licenses for companies to develop powerful artificial intelligence like the kind underpinning i… [+2747 chars]'}]}\n",
      "Source ID: reuters\n",
      "Source name: Reuters\n",
      "Author: None\n",
      "Title: OpenAI chief goes before US Congress to propose licenses for building AI\n",
      "URL: https://www.reuters.com/technology/openai-chief-goes-before-us-congress-propose-licenses-building-ai-2023-05-16/\n",
      "Publish date: 2023-05-16T11:06:54Z\n",
      "Article text: WASHINGTON, May 16 (Reuters) - OpenAI, the startup behind ChatGPT, wants the U.S. to consider mandating licenses for companies to develop powerful artificial intelligence like the kind underpinning i… [+2747 chars] \n",
      "\n",
      "31\n",
      "reuters 2023-05-16 security AND (social OR national)\n",
      "Query word: (policy AND (drug OR \"affirmative action\")) OR regulate OR regulation\n",
      "<class 'dict'>\n",
      "{'status': 'ok', 'totalResults': 1, 'articles': [{'source': {'id': 'reuters', 'name': 'Reuters'}, 'author': None, 'title': 'OpenAI chief goes before US Congress to propose licenses for building AI', 'description': 'OpenAI, the startup behind ChatGPT, wants the U.S. to consider mandating licenses for companies to develop powerful artificial intelligence like the kind underpinning its chatbot, its chief executive plans to tell Congress on Tuesday.', 'url': 'https://www.reuters.com/technology/openai-chief-goes-before-us-congress-propose-licenses-building-ai-2023-05-16/', 'urlToImage': 'https://www.reuters.com/resizer/gTLiPIMw-ojN7l9pJHSH2fSI1LM=/1200x628/smart/filters:quality(80)/cloudfront-us-east-2.images.arcpublishing.com/reuters/YZLK6AJJLJLIHLU2Q2MYSCUIZA.jpg', 'publishedAt': '2023-05-16T11:06:54Z', 'content': 'WASHINGTON, May 16 (Reuters) - OpenAI, the startup behind ChatGPT, wants the U.S. to consider mandating licenses for companies to develop powerful artificial intelligence like the kind underpinning i… [+2747 chars]'}]}\n",
      "Source ID: reuters\n",
      "Source name: Reuters\n",
      "Author: None\n",
      "Title: OpenAI chief goes before US Congress to propose licenses for building AI\n",
      "URL: https://www.reuters.com/technology/openai-chief-goes-before-us-congress-propose-licenses-building-ai-2023-05-16/\n",
      "Publish date: 2023-05-16T11:06:54Z\n",
      "Article text: WASHINGTON, May 16 (Reuters) - OpenAI, the startup behind ChatGPT, wants the U.S. to consider mandating licenses for companies to develop powerful artificial intelligence like the kind underpinning i… [+2747 chars] \n",
      "\n",
      "32\n",
      "reuters 2023-05-16 (policy AND (drug OR \"affirmative action\")) OR regulate OR regulation\n",
      "Date: 2023-05-15\n",
      "Query word: justice OR surveillance\n",
      "<class 'dict'>\n",
      "{'status': 'ok', 'totalResults': 1, 'articles': [{'source': {'id': 'reuters', 'name': 'Reuters'}, 'author': 'Reuters', 'title': 'Brazil confirms 2 wild cases of bird flu, no import ban expected', 'description': \"Brazil, the world's top chicken exporter, has for the first time confirmed Highly Pathogenic Avian Influenza (HPAI) cases but only in wild birds, the Agriculture Ministry said on Monday.\", 'url': 'https://www.reuters.com/business/healthcare-pharmaceuticals/brazil-confirms-2-wild-cases-bird-flu-no-import-ban-expected-2023-05-15/', 'urlToImage': 'https://www.reuters.com/resizer/XBmj9HBmde3HvQA9JuPVCYMkduc=/1200x628/smart/filters:quality(80)/cloudfront-us-east-2.images.arcpublishing.com/reuters/UUG5AIQQFRIYTL23YSB62DPLSA.jpg', 'publishedAt': '2023-05-15T19:30:08Z', 'content': \"May 15 (Reuters) - Brazil, the world's top chicken exporter, has for the first time confirmed Highly Pathogenic Avian Influenza (HPAI) cases but only in wild birds, the Agriculture Ministry said on M… [+2867 chars]\"}]}\n",
      "Source ID: reuters\n",
      "Source name: Reuters\n",
      "Author: Reuters\n",
      "Title: Brazil confirms 2 wild cases of bird flu, no import ban expected\n",
      "URL: https://www.reuters.com/business/healthcare-pharmaceuticals/brazil-confirms-2-wild-cases-bird-flu-no-import-ban-expected-2023-05-15/\n",
      "Publish date: 2023-05-15T19:30:08Z\n",
      "Article text: May 15 (Reuters) - Brazil, the world's top chicken exporter, has for the first time confirmed Highly Pathogenic Avian Influenza (HPAI) cases but only in wild birds, the Agriculture Ministry said on M… [+2867 chars] \n",
      "\n",
      "33\n",
      "reuters 2023-05-15 justice OR surveillance\n",
      "Query word: healthcare OR \"health care\"\n",
      "<class 'dict'>\n",
      "{'status': 'ok', 'totalResults': 0, 'articles': []}\n",
      "33\n",
      "reuters 2023-05-15 healthcare OR \"health care\"\n",
      "Query word: (political AND (bias OR party)) OR republican OR democrat OR election\n",
      "<class 'dict'>\n",
      "{'status': 'ok', 'totalResults': 0, 'articles': []}\n",
      "33\n",
      "reuters 2023-05-15 (political AND (bias OR party)) OR republican OR democrat OR election\n",
      "Query word: security AND (social OR national)\n",
      "<class 'dict'>\n",
      "{'status': 'ok', 'totalResults': 0, 'articles': []}\n",
      "33\n",
      "reuters 2023-05-15 security AND (social OR national)\n",
      "Query word: (policy AND (drug OR \"affirmative action\")) OR regulate OR regulation\n",
      "<class 'dict'>\n",
      "{'status': 'ok', 'totalResults': 0, 'articles': []}\n",
      "33\n",
      "reuters 2023-05-15 (policy AND (drug OR \"affirmative action\")) OR regulate OR regulation\n",
      "Date: 2023-05-14\n",
      "Query word: justice OR surveillance\n",
      "<class 'dict'>\n",
      "{'status': 'ok', 'totalResults': 0, 'articles': []}\n",
      "33\n",
      "reuters 2023-05-14 justice OR surveillance\n",
      "Query word: healthcare OR \"health care\"\n",
      "<class 'dict'>\n",
      "{'status': 'ok', 'totalResults': 0, 'articles': []}\n",
      "33\n",
      "reuters 2023-05-14 healthcare OR \"health care\"\n",
      "Query word: (political AND (bias OR party)) OR republican OR democrat OR election\n",
      "<class 'dict'>\n",
      "{'status': 'ok', 'totalResults': 0, 'articles': []}\n",
      "33\n",
      "reuters 2023-05-14 (political AND (bias OR party)) OR republican OR democrat OR election\n",
      "Query word: security AND (social OR national)\n",
      "<class 'dict'>\n",
      "{'status': 'ok', 'totalResults': 0, 'articles': []}\n",
      "33\n",
      "reuters 2023-05-14 security AND (social OR national)\n",
      "Query word: (policy AND (drug OR \"affirmative action\")) OR regulate OR regulation\n",
      "<class 'dict'>\n",
      "{'status': 'ok', 'totalResults': 0, 'articles': []}\n",
      "33\n",
      "reuters 2023-05-14 (policy AND (drug OR \"affirmative action\")) OR regulate OR regulation\n",
      "Date: 2023-05-26\n",
      "Query word: justice OR surveillance\n",
      "<class 'dict'>\n",
      "{'status': 'ok', 'totalResults': 2, 'articles': [{'source': {'id': 'reuters', 'name': 'Reuters'}, 'author': 'Towleroad', 'title': 'Polish activists condemn proposed inspections of LGBT-friendly schools', 'description': 'Published by Reuters UK WARSAW (Reuters) – Right activists who published a directory of LGBT-friendly schools in Poland condemned on Friday a plan by a parliament-appointed official to inspect the establishments on the list, saying it could have a damaging ef…', 'url': 'http://rmb.reuters.com/rmd/rss/item/tag:reuters.com,2023:newsml_KBN2XH0TM:1?channel=TRn222', 'urlToImage': 'https://www.towleroad.com/wp-content/uploads/2023/05/679721-origin_1.jpg', 'publishedAt': '2023-05-26T18:33:48Z', 'content': 'WARSAW (Reuters) – Right activists who published a directory of LGBT-friendly schools in Poland condemned on Friday a plan by a parliament-appointed official to inspect the establishments on the list… [+412 chars]'}, {'source': {'id': 'reuters', 'name': 'Reuters'}, 'author': 'Joanna Plucinska', 'title': 'Soaring airline customer complaints push global legislators to act', 'description': 'Nikoleta Dodova is among a growing number of dissatisfied airline customers. Having bought her mother and niece airline tickets from Sweden to Macedonia last year, their flight was cancelled and they ended up at an airport over two hours away. She is still wa…', 'url': 'https://www.reuters.com/business/aerospace-defense/soaring-airline-customer-complaints-push-global-legislators-act-2023-05-26/', 'urlToImage': 'https://www.reuters.com/resizer/BWRYPJNLR77LFVSPwTd8vMD_76E=/1200x628/smart/filters:quality(80)/cloudfront-us-east-2.images.arcpublishing.com/reuters/4YVRLFJYPFNZ5EFT7BLHOQIF6A.jpg', 'publishedAt': '2023-05-26T06:21:20Z', 'content': 'LONDON/MONTREAL, May 26 (Reuters) - Nikoleta Dodova is among a growing number of dissatisfied airline customers. Having bought her mother and niece airline tickets from Sweden to Macedonia last year,… [+5838 chars]'}]}\n",
      "Source ID: reuters\n",
      "Source name: Reuters\n",
      "Author: Towleroad\n",
      "Title: Polish activists condemn proposed inspections of LGBT-friendly schools\n",
      "URL: http://rmb.reuters.com/rmd/rss/item/tag:reuters.com,2023:newsml_KBN2XH0TM:1?channel=TRn222\n",
      "Publish date: 2023-05-26T18:33:48Z\n",
      "Article text: WARSAW (Reuters) – Right activists who published a directory of LGBT-friendly schools in Poland condemned on Friday a plan by a parliament-appointed official to inspect the establishments on the list… [+412 chars] \n",
      "\n",
      "Source ID: reuters\n",
      "Source name: Reuters\n",
      "Author: Joanna Plucinska\n",
      "Title: Soaring airline customer complaints push global legislators to act\n",
      "URL: https://www.reuters.com/business/aerospace-defense/soaring-airline-customer-complaints-push-global-legislators-act-2023-05-26/\n",
      "Publish date: 2023-05-26T06:21:20Z\n",
      "Article text: LONDON/MONTREAL, May 26 (Reuters) - Nikoleta Dodova is among a growing number of dissatisfied airline customers. Having bought her mother and niece airline tickets from Sweden to Macedonia last year,… [+5838 chars] \n",
      "\n",
      "35\n",
      "reuters 2023-05-26 justice OR surveillance\n",
      "Query word: healthcare OR \"health care\"\n",
      "<class 'dict'>\n",
      "{'status': 'ok', 'totalResults': 0, 'articles': []}\n",
      "35\n",
      "reuters 2023-05-26 healthcare OR \"health care\"\n",
      "Query word: (political AND (bias OR party)) OR republican OR democrat OR election\n",
      "<class 'dict'>\n",
      "{'status': 'ok', 'totalResults': 0, 'articles': []}\n",
      "35\n",
      "reuters 2023-05-26 (political AND (bias OR party)) OR republican OR democrat OR election\n",
      "Query word: security AND (social OR national)\n",
      "<class 'dict'>\n",
      "{'status': 'ok', 'totalResults': 1, 'articles': [{'source': {'id': 'reuters', 'name': 'Reuters'}, 'author': None, 'title': 'Dutch Watchdog Looking Into Alleged Tesla Data Breach', 'description': 'The data protection watchdog for the Netherlands said on Friday it was aware of possible Tesla data protection breaches, but it was too early for further comment.', 'url': 'https://www.reuters.com/business/autos-transportation/german-authorities-looking-into-possible-data-protection-violations-by-tesla-2023-05-25/', 'urlToImage': 'https://www.reuters.com/resizer/_68U9kUVFqnQIuyyvwpBtNqmWOU=/1200x628/smart/filters:quality(80)/cloudfront-us-east-2.images.arcpublishing.com/reuters/4RO5A3GUZFODHBXYQZDA732INM.jpg', 'publishedAt': '2023-05-26T14:19:06Z', 'content': 'BERLIN/AMSTERDAM, May 26 (Reuters) - The data protection watchdog for the Netherlands said on Friday it was aware of possible Tesla data protection breaches, but it was too early for further comment.… [+3501 chars]'}]}\n",
      "Source ID: reuters\n",
      "Source name: Reuters\n",
      "Author: None\n",
      "Title: Dutch Watchdog Looking Into Alleged Tesla Data Breach\n",
      "URL: https://www.reuters.com/business/autos-transportation/german-authorities-looking-into-possible-data-protection-violations-by-tesla-2023-05-25/\n",
      "Publish date: 2023-05-26T14:19:06Z\n",
      "Article text: BERLIN/AMSTERDAM, May 26 (Reuters) - The data protection watchdog for the Netherlands said on Friday it was aware of possible Tesla data protection breaches, but it was too early for further comment.… [+3501 chars] \n",
      "\n",
      "36\n",
      "reuters 2023-05-26 security AND (social OR national)\n",
      "Query word: (policy AND (drug OR \"affirmative action\")) OR regulate OR regulation\n",
      "<class 'dict'>\n",
      "{'status': 'ok', 'totalResults': 0, 'articles': []}\n",
      "36\n",
      "reuters 2023-05-26 (policy AND (drug OR \"affirmative action\")) OR regulate OR regulation\n",
      "Date: 2023-05-27\n",
      "Query word: justice OR surveillance\n",
      "<class 'dict'>\n",
      "{'status': 'ok', 'totalResults': 1, 'articles': [{'source': {'id': 'reuters', 'name': 'Reuters'}, 'author': 'Towleroad', 'title': 'Two more Oath Keepers sentenced to prison over US Capitol attack', 'description': 'Published by Reuters By Jacqueline Thomsen WASHINGTON (Reuters) -Two members of the far-right Oath Keepers were sentenced to prison on Friday for their roles in the deadly Jan. 6, 2021, assault on the U.S. Capitol by supporters of Donald Trump who tried to ov…', 'url': 'http://rmb.reuters.com/rmd/rss/item/tag:reuters.com,2023:newsml_KBN2XH0O2:7?channel=FES376', 'urlToImage': 'https://www.towleroad.com/wp-content/uploads/2023/05/679900-origin_1.jpg', 'publishedAt': '2023-05-27T19:16:17Z', 'content': 'By Jacqueline Thomsen\\r\\nWASHINGTON (Reuters) -Two members of the far-right Oath Keepers were sentenced to prison on Friday for their roles in the deadly Jan. 6, 2021, assault on the U.S. Capitol by su… [+4270 chars]'}]}\n",
      "Source ID: reuters\n",
      "Source name: Reuters\n",
      "Author: Towleroad\n",
      "Title: Two more Oath Keepers sentenced to prison over US Capitol attack\n",
      "URL: http://rmb.reuters.com/rmd/rss/item/tag:reuters.com,2023:newsml_KBN2XH0O2:7?channel=FES376\n",
      "Publish date: 2023-05-27T19:16:17Z\n",
      "Article text: By Jacqueline Thomsen\n",
      "WASHINGTON (Reuters) -Two members of the far-right Oath Keepers were sentenced to prison on Friday for their roles in the deadly Jan. 6, 2021, assault on the U.S. Capitol by su… [+4270 chars] \n",
      "\n",
      "37\n",
      "reuters 2023-05-27 justice OR surveillance\n",
      "Query word: healthcare OR \"health care\"\n",
      "<class 'dict'>\n",
      "{'status': 'ok', 'totalResults': 0, 'articles': []}\n",
      "37\n",
      "reuters 2023-05-27 healthcare OR \"health care\"\n",
      "Query word: (political AND (bias OR party)) OR republican OR democrat OR election\n",
      "<class 'dict'>\n",
      "{'status': 'ok', 'totalResults': 2, 'articles': [{'source': {'id': 'reuters', 'name': 'Reuters'}, 'author': 'Towleroad', 'title': 'Texas attorney general lashes out at impeachment against him', 'description': 'Published by Reuters By Brad Brooks and Daniel Trotta LUBBOCK, Texas (Reuters) – Republican Texas Attorney General Ken Paxton lashed out on Friday against his critics trying to impeach him, saying that removing him from office would be a gift for President Jo…', 'url': 'http://rmb.reuters.com/rmd/rss/item/tag:reuters.com,2023:newsml_KBN2XH1P9:3?channel=FES376', 'urlToImage': 'https://www.towleroad.com/wp-content/uploads/2023/05/679950-origin_1.jpg', 'publishedAt': '2023-05-27T21:41:41Z', 'content': 'By Brad Brooks and Daniel Trotta\\r\\nLUBBOCK, Texas (Reuters) – Republican Texas Attorney General Ken Paxton lashed out on Friday against his critics trying to impeach him, saying that removing him from… [+2329 chars]'}, {'source': {'id': 'reuters', 'name': 'Reuters'}, 'author': 'Towleroad', 'title': 'Two more Oath Keepers sentenced to prison over US Capitol attack', 'description': 'Published by Reuters By Jacqueline Thomsen WASHINGTON (Reuters) -Two members of the far-right Oath Keepers were sentenced to prison on Friday for their roles in the deadly Jan. 6, 2021, assault on the U.S. Capitol by supporters of Donald Trump who tried to ov…', 'url': 'http://rmb.reuters.com/rmd/rss/item/tag:reuters.com,2023:newsml_KBN2XH0O2:7?channel=FES376', 'urlToImage': 'https://www.towleroad.com/wp-content/uploads/2023/05/679900-origin_1.jpg', 'publishedAt': '2023-05-27T19:16:17Z', 'content': 'By Jacqueline Thomsen\\r\\nWASHINGTON (Reuters) -Two members of the far-right Oath Keepers were sentenced to prison on Friday for their roles in the deadly Jan. 6, 2021, assault on the U.S. Capitol by su… [+4270 chars]'}]}\n",
      "Source ID: reuters\n",
      "Source name: Reuters\n",
      "Author: Towleroad\n",
      "Title: Texas attorney general lashes out at impeachment against him\n",
      "URL: http://rmb.reuters.com/rmd/rss/item/tag:reuters.com,2023:newsml_KBN2XH1P9:3?channel=FES376\n",
      "Publish date: 2023-05-27T21:41:41Z\n",
      "Article text: By Brad Brooks and Daniel Trotta\n",
      "LUBBOCK, Texas (Reuters) – Republican Texas Attorney General Ken Paxton lashed out on Friday against his critics trying to impeach him, saying that removing him from… [+2329 chars] \n",
      "\n",
      "Source ID: reuters\n",
      "Source name: Reuters\n",
      "Author: Towleroad\n",
      "Title: Two more Oath Keepers sentenced to prison over US Capitol attack\n",
      "URL: http://rmb.reuters.com/rmd/rss/item/tag:reuters.com,2023:newsml_KBN2XH0O2:7?channel=FES376\n",
      "Publish date: 2023-05-27T19:16:17Z\n",
      "Article text: By Jacqueline Thomsen\n",
      "WASHINGTON (Reuters) -Two members of the far-right Oath Keepers were sentenced to prison on Friday for their roles in the deadly Jan. 6, 2021, assault on the U.S. Capitol by su… [+4270 chars] \n",
      "\n",
      "39\n",
      "reuters 2023-05-27 (political AND (bias OR party)) OR republican OR democrat OR election\n",
      "Query word: security AND (social OR national)\n",
      "<class 'dict'>\n",
      "{'status': 'ok', 'totalResults': 1, 'articles': [{'source': {'id': 'reuters', 'name': 'Reuters'}, 'author': 'Kirsty Needham', 'title': 'Pacific islands, in spotlight, to push climate change in South Korea summit', 'description': \"Pacific island leaders will meet South Korea's President Yoon Suk Yeol in Seoul on Monday, their third summit in a week with a large economy as the region seeks stronger action on climate change as it becomes a focus of geopolitical power attention.\", 'url': 'https://www.reuters.com/business/environment/pacific-islands-spotlight-push-climate-change-south-korea-summit-2023-05-27/', 'urlToImage': 'https://www.reuters.com/resizer/Tw5E6NTMEw8G-m8AmXqGD-taXvw=/1200x628/smart/filters:quality(80)/cloudfront-us-east-2.images.arcpublishing.com/reuters/DX4HKPZTQFIAZJ4O65H32D6UVI.jpg', 'publishedAt': '2023-05-27T13:12:51Z', 'content': \"SYDNEY, May 27 (Reuters) - Pacific island leaders will meet South Korea's President Yoon Suk Yeol in Seoul on Monday, their third summit in a week with a large economy as the region seeks stronger ac… [+2558 chars]\"}]}\n",
      "Source ID: reuters\n",
      "Source name: Reuters\n",
      "Author: Kirsty Needham\n",
      "Title: Pacific islands, in spotlight, to push climate change in South Korea summit\n",
      "URL: https://www.reuters.com/business/environment/pacific-islands-spotlight-push-climate-change-south-korea-summit-2023-05-27/\n",
      "Publish date: 2023-05-27T13:12:51Z\n",
      "Article text: SYDNEY, May 27 (Reuters) - Pacific island leaders will meet South Korea's President Yoon Suk Yeol in Seoul on Monday, their third summit in a week with a large economy as the region seeks stronger ac… [+2558 chars] \n",
      "\n",
      "40\n",
      "reuters 2023-05-27 security AND (social OR national)\n",
      "Query word: (policy AND (drug OR \"affirmative action\")) OR regulate OR regulation\n",
      "<class 'dict'>\n",
      "{'status': 'ok', 'totalResults': 1, 'articles': [{'source': {'id': 'reuters', 'name': 'Reuters'}, 'author': 'Towleroad', 'title': 'Texas attorney general lashes out at impeachment against him', 'description': 'Published by Reuters By Brad Brooks and Daniel Trotta LUBBOCK, Texas (Reuters) – Republican Texas Attorney General Ken Paxton lashed out on Friday against his critics trying to impeach him, saying that removing him from office would be a gift for President Jo…', 'url': 'http://rmb.reuters.com/rmd/rss/item/tag:reuters.com,2023:newsml_KBN2XH1P9:3?channel=FES376', 'urlToImage': 'https://www.towleroad.com/wp-content/uploads/2023/05/679950-origin_1.jpg', 'publishedAt': '2023-05-27T21:41:41Z', 'content': 'By Brad Brooks and Daniel Trotta\\r\\nLUBBOCK, Texas (Reuters) – Republican Texas Attorney General Ken Paxton lashed out on Friday against his critics trying to impeach him, saying that removing him from… [+2329 chars]'}]}\n",
      "Source ID: reuters\n",
      "Source name: Reuters\n",
      "Author: Towleroad\n",
      "Title: Texas attorney general lashes out at impeachment against him\n",
      "URL: http://rmb.reuters.com/rmd/rss/item/tag:reuters.com,2023:newsml_KBN2XH1P9:3?channel=FES376\n",
      "Publish date: 2023-05-27T21:41:41Z\n",
      "Article text: By Brad Brooks and Daniel Trotta\n",
      "LUBBOCK, Texas (Reuters) – Republican Texas Attorney General Ken Paxton lashed out on Friday against his critics trying to impeach him, saying that removing him from… [+2329 chars] \n",
      "\n",
      "41\n",
      "reuters 2023-05-27 (policy AND (drug OR \"affirmative action\")) OR regulate OR regulation\n",
      "Date: 2023-05-28\n",
      "Query word: justice OR surveillance\n",
      "<class 'dict'>\n",
      "{'status': 'ok', 'totalResults': 0, 'articles': []}\n",
      "41\n",
      "reuters 2023-05-28 justice OR surveillance\n",
      "Query word: healthcare OR \"health care\"\n",
      "<class 'dict'>\n",
      "{'status': 'ok', 'totalResults': 0, 'articles': []}\n",
      "41\n",
      "reuters 2023-05-28 healthcare OR \"health care\"\n",
      "Query word: (political AND (bias OR party)) OR republican OR democrat OR election\n",
      "<class 'dict'>\n",
      "{'status': 'ok', 'totalResults': 0, 'articles': []}\n",
      "41\n",
      "reuters 2023-05-28 (political AND (bias OR party)) OR republican OR democrat OR election\n",
      "Query word: security AND (social OR national)\n",
      "<class 'dict'>\n",
      "{'status': 'ok', 'totalResults': 0, 'articles': []}\n",
      "41\n",
      "reuters 2023-05-28 security AND (social OR national)\n",
      "Query word: (policy AND (drug OR \"affirmative action\")) OR regulate OR regulation\n",
      "<class 'dict'>\n",
      "{'status': 'ok', 'totalResults': 0, 'articles': []}\n",
      "41\n",
      "reuters 2023-05-28 (policy AND (drug OR \"affirmative action\")) OR regulate OR regulation\n",
      "Date: 2023-05-29\n",
      "Query word: justice OR surveillance\n",
      "<class 'dict'>\n",
      "{'status': 'ok', 'totalResults': 0, 'articles': []}\n",
      "41\n",
      "reuters 2023-05-29 justice OR surveillance\n",
      "Query word: healthcare OR \"health care\"\n",
      "<class 'dict'>\n",
      "{'status': 'ok', 'totalResults': 0, 'articles': []}\n",
      "41\n",
      "reuters 2023-05-29 healthcare OR \"health care\"\n",
      "Query word: (political AND (bias OR party)) OR republican OR democrat OR election\n",
      "<class 'dict'>\n",
      "{'status': 'ok', 'totalResults': 1, 'articles': [{'source': {'id': 'reuters', 'name': 'Reuters'}, 'author': 'Florence Tan', 'title': 'Oil climbs after US leaders strike provisional debt deal', 'description': \"Oil prices rose in early Asian trade on Monday after U.S. leaders reached a tentative debt ceiling deal, possibly averting a default in the world's largest economy and oil consumer.\", 'url': 'https://www.reuters.com/business/energy/oil-climbs-after-us-leaders-strike-provisional-debt-deal-2023-05-28/', 'urlToImage': 'https://www.reuters.com/resizer/tmZAPySAcIqmcFqqbzWwMaOySJU=/1200x628/smart/filters:quality(80)/cloudfront-us-east-2.images.arcpublishing.com/reuters/YRQDXXGM7RLAHCZFNMNTUD6WSQ.jpg', 'publishedAt': '2023-05-29T00:06:26Z', 'content': \"SINGAPORE, May 29 (Reuters) - Oil prices rose in early Asian trade on Monday after U.S. leaders reached a tentative debt ceiling deal, possibly averting a default in the world's largest economy and o… [+1822 chars]\"}]}\n",
      "Source ID: reuters\n",
      "Source name: Reuters\n",
      "Author: Florence Tan\n",
      "Title: Oil climbs after US leaders strike provisional debt deal\n",
      "URL: https://www.reuters.com/business/energy/oil-climbs-after-us-leaders-strike-provisional-debt-deal-2023-05-28/\n",
      "Publish date: 2023-05-29T00:06:26Z\n",
      "Article text: SINGAPORE, May 29 (Reuters) - Oil prices rose in early Asian trade on Monday after U.S. leaders reached a tentative debt ceiling deal, possibly averting a default in the world's largest economy and o… [+1822 chars] \n",
      "\n",
      "42\n",
      "reuters 2023-05-29 (political AND (bias OR party)) OR republican OR democrat OR election\n",
      "Query word: security AND (social OR national)\n",
      "<class 'dict'>\n",
      "{'status': 'ok', 'totalResults': 1, 'articles': [{'source': {'id': 'reuters', 'name': 'Reuters'}, 'author': 'Joyce Lee', 'title': \"Inside South Korea's race to become one of the world’s biggest arms dealers\", 'description': \"South Korea is using a $13.7 billion arms deal with Poland - Seoul's biggest ever - to lay the groundwork for a military-industrial juggernaut that the two nations' defence companies hope will feed Europe's hunger for weapons far into the future.\", 'url': 'https://www.reuters.com/business/aerospace-defense/inside-south-koreas-race-become-one-worlds-biggest-arms-dealers-2023-05-29/', 'urlToImage': 'https://www.reuters.com/resizer/wgSy0SeFNJ5ARYrGRwD0E8Y1UHU=/1200x628/smart/filters:quality(80)/cloudfront-us-east-2.images.arcpublishing.com/reuters/XW6R55YNURMCXOVBMX4YURB6L4.jpg', 'publishedAt': '2023-05-29T01:12:47Z', 'content': \"SEOUL, May 29 (Reuters) - South Korea is using a $13.7 billion arms deal with Poland - Seoul's biggest ever - to lay the groundwork for a military-industrial juggernaut that the two nations' defence … [+9348 chars]\"}]}\n",
      "Source ID: reuters\n",
      "Source name: Reuters\n",
      "Author: Joyce Lee\n",
      "Title: Inside South Korea's race to become one of the world’s biggest arms dealers\n",
      "URL: https://www.reuters.com/business/aerospace-defense/inside-south-koreas-race-become-one-worlds-biggest-arms-dealers-2023-05-29/\n",
      "Publish date: 2023-05-29T01:12:47Z\n",
      "Article text: SEOUL, May 29 (Reuters) - South Korea is using a $13.7 billion arms deal with Poland - Seoul's biggest ever - to lay the groundwork for a military-industrial juggernaut that the two nations' defence … [+9348 chars] \n",
      "\n",
      "43\n",
      "reuters 2023-05-29 security AND (social OR national)\n",
      "Query word: (policy AND (drug OR \"affirmative action\")) OR regulate OR regulation\n",
      "<class 'dict'>\n",
      "{'status': 'ok', 'totalResults': 0, 'articles': []}\n",
      "43\n",
      "reuters 2023-05-29 (policy AND (drug OR \"affirmative action\")) OR regulate OR regulation\n",
      "Date: 2023-05-30\n",
      "Query word: justice OR surveillance\n",
      "<class 'dict'>\n",
      "{'status': 'ok', 'totalResults': 0, 'articles': []}\n",
      "43\n",
      "reuters 2023-05-30 justice OR surveillance\n",
      "Query word: healthcare OR \"health care\"\n",
      "<class 'dict'>\n",
      "{'status': 'ok', 'totalResults': 0, 'articles': []}\n",
      "43\n",
      "reuters 2023-05-30 healthcare OR \"health care\"\n",
      "Query word: (political AND (bias OR party)) OR republican OR democrat OR election\n",
      "<class 'dict'>\n",
      "{'status': 'ok', 'totalResults': 1, 'articles': [{'source': {'id': 'reuters', 'name': 'Reuters'}, 'author': 'Towleroad', 'title': 'Deepfaking it: America’s 2024 election collides with AI boom', 'description': 'Published by Reuters (Note: Strong language in paragraph 10) By Alexandra Ulmer and Anna Tong (Reuters) – “I actually like Ron DeSantis a lot,” Hillary Clinton reveals in a surprise online endorsement video. “He’s just the kind of guy this country needs, and …', 'url': 'http://rmb.reuters.com/rmd/rss/item/tag:reuters.com,2023:newsml_KBN2XL0IR:6?channel=FES376', 'urlToImage': 'https://www.towleroad.com/wp-content/uploads/2023/05/680079-origin_1.jpg', 'publishedAt': '2023-05-30T17:12:23Z', 'content': '(Note: Strong language in paragraph 10)\\r\\nBy Alexandra Ulmer and Anna Tong\\r\\n(Reuters) – “I actually like Ron DeSantis a lot,” Hillary Clinton reveals in a surprise online endorsement video. “He’s just… [+8032 chars]'}]}\n",
      "Source ID: reuters\n",
      "Source name: Reuters\n",
      "Author: Towleroad\n",
      "Title: Deepfaking it: America’s 2024 election collides with AI boom\n",
      "URL: http://rmb.reuters.com/rmd/rss/item/tag:reuters.com,2023:newsml_KBN2XL0IR:6?channel=FES376\n",
      "Publish date: 2023-05-30T17:12:23Z\n",
      "Article text: (Note: Strong language in paragraph 10)\n",
      "By Alexandra Ulmer and Anna Tong\n",
      "(Reuters) – “I actually like Ron DeSantis a lot,” Hillary Clinton reveals in a surprise online endorsement video. “He’s just… [+8032 chars] \n",
      "\n",
      "44\n",
      "reuters 2023-05-30 (political AND (bias OR party)) OR republican OR democrat OR election\n",
      "Query word: security AND (social OR national)\n",
      "<class 'dict'>\n",
      "{'status': 'ok', 'totalResults': 1, 'articles': [{'source': {'id': 'reuters', 'name': 'Reuters'}, 'author': 'Towleroad', 'title': 'Blinken says US to consider visa restrictions over Ugandan anti-gay law', 'description': 'Published by Reuters WASHINGTON (Reuters) – U.S. Secretary of State Antony Blinken on Monday said his government would consider visa restrictions against Ugandan officials and others for the abuse of human rights following the implementation of one of the wor…', 'url': 'http://rmb.reuters.com/rmd/rss/item/tag:reuters.com,2023:newsml_KBN2XK0V4:3?channel=FES376', 'urlToImage': 'https://www.towleroad.com/wp-content/uploads/2023/05/680113-origin_1.jpg', 'publishedAt': '2023-05-30T17:13:45Z', 'content': 'WASHINGTON (Reuters) – U.S. Secretary of State Antony Blinken on Monday said his government would consider visa restrictions against Ugandan officials and others for the abuse of human rights followi… [+1778 chars]'}]}\n",
      "Source ID: reuters\n",
      "Source name: Reuters\n",
      "Author: Towleroad\n",
      "Title: Blinken says US to consider visa restrictions over Ugandan anti-gay law\n",
      "URL: http://rmb.reuters.com/rmd/rss/item/tag:reuters.com,2023:newsml_KBN2XK0V4:3?channel=FES376\n",
      "Publish date: 2023-05-30T17:13:45Z\n",
      "Article text: WASHINGTON (Reuters) – U.S. Secretary of State Antony Blinken on Monday said his government would consider visa restrictions against Ugandan officials and others for the abuse of human rights followi… [+1778 chars] \n",
      "\n",
      "45\n",
      "reuters 2023-05-30 security AND (social OR national)\n",
      "Query word: (policy AND (drug OR \"affirmative action\")) OR regulate OR regulation\n",
      "<class 'dict'>\n",
      "{'status': 'ok', 'totalResults': 1, 'articles': [{'source': {'id': 'reuters', 'name': 'Reuters'}, 'author': 'Towleroad', 'title': 'Deepfaking it: America’s 2024 election collides with AI boom', 'description': 'Published by Reuters (Note: Strong language in paragraph 10) By Alexandra Ulmer and Anna Tong (Reuters) – “I actually like Ron DeSantis a lot,” Hillary Clinton reveals in a surprise online endorsement video. “He’s just the kind of guy this country needs, and …', 'url': 'http://rmb.reuters.com/rmd/rss/item/tag:reuters.com,2023:newsml_KBN2XL0IR:6?channel=FES376', 'urlToImage': 'https://www.towleroad.com/wp-content/uploads/2023/05/680079-origin_1.jpg', 'publishedAt': '2023-05-30T17:12:23Z', 'content': '(Note: Strong language in paragraph 10)\\r\\nBy Alexandra Ulmer and Anna Tong\\r\\n(Reuters) – “I actually like Ron DeSantis a lot,” Hillary Clinton reveals in a surprise online endorsement video. “He’s just… [+8032 chars]'}]}\n",
      "Source ID: reuters\n",
      "Source name: Reuters\n",
      "Author: Towleroad\n",
      "Title: Deepfaking it: America’s 2024 election collides with AI boom\n",
      "URL: http://rmb.reuters.com/rmd/rss/item/tag:reuters.com,2023:newsml_KBN2XL0IR:6?channel=FES376\n",
      "Publish date: 2023-05-30T17:12:23Z\n",
      "Article text: (Note: Strong language in paragraph 10)\n",
      "By Alexandra Ulmer and Anna Tong\n",
      "(Reuters) – “I actually like Ron DeSantis a lot,” Hillary Clinton reveals in a surprise online endorsement video. “He’s just… [+8032 chars] \n",
      "\n",
      "46\n",
      "reuters 2023-05-30 (policy AND (drug OR \"affirmative action\")) OR regulate OR regulation\n",
      "Date: 2023-05-31\n",
      "Query word: justice OR surveillance\n",
      "<class 'dict'>\n",
      "{'status': 'ok', 'totalResults': 1, 'articles': [{'source': {'id': 'reuters', 'name': 'Reuters'}, 'author': 'Towleroad', 'title': 'Trump captured on tape acknowledging he kept a classified document on Iran -CNN', 'description': 'Published by Reuters WASHINGTON (Reuters) – Federal prosecutors have a 2021 audio recording of former President Donald Trump acknowledging he kept a classified Pentagon document about a possible attack on Iran after leaving the White House, CNN reported on We…', 'url': 'http://rmb.reuters.com/rmd/rss/item/tag:reuters.com,2023:newsml_KBN2XM1PY:1?channel=FES376', 'urlToImage': 'https://www.towleroad.com/wp-content/uploads/2023/05/680352-origin_1.jpg', 'publishedAt': '2023-05-31T22:57:34Z', 'content': 'WASHINGTON (Reuters) – Federal prosecutors have a 2021 audio recording of former President Donald Trump acknowledging he kept a classified Pentagon document about a possible attack on Iran after leav… [+1010 chars]'}]}\n",
      "Source ID: reuters\n",
      "Source name: Reuters\n",
      "Author: Towleroad\n",
      "Title: Trump captured on tape acknowledging he kept a classified document on Iran -CNN\n",
      "URL: http://rmb.reuters.com/rmd/rss/item/tag:reuters.com,2023:newsml_KBN2XM1PY:1?channel=FES376\n",
      "Publish date: 2023-05-31T22:57:34Z\n",
      "Article text: WASHINGTON (Reuters) – Federal prosecutors have a 2021 audio recording of former President Donald Trump acknowledging he kept a classified Pentagon document about a possible attack on Iran after leav… [+1010 chars] \n",
      "\n",
      "47\n",
      "reuters 2023-05-31 justice OR surveillance\n",
      "Query word: healthcare OR \"health care\"\n",
      "<class 'dict'>\n",
      "{'status': 'ok', 'totalResults': 0, 'articles': []}\n",
      "47\n",
      "reuters 2023-05-31 healthcare OR \"health care\"\n",
      "Query word: (political AND (bias OR party)) OR republican OR democrat OR election\n",
      "<class 'dict'>\n",
      "{'status': 'ok', 'totalResults': 2, 'articles': [{'source': {'id': 'reuters', 'name': 'Reuters'}, 'author': 'Towleroad', 'title': 'Trump captured on tape acknowledging he kept a classified document on Iran -CNN', 'description': 'Published by Reuters WASHINGTON (Reuters) – Federal prosecutors have a 2021 audio recording of former President Donald Trump acknowledging he kept a classified Pentagon document about a possible attack on Iran after leaving the White House, CNN reported on We…', 'url': 'http://rmb.reuters.com/rmd/rss/item/tag:reuters.com,2023:newsml_KBN2XM1PY:1?channel=FES376', 'urlToImage': 'https://www.towleroad.com/wp-content/uploads/2023/05/680352-origin_1.jpg', 'publishedAt': '2023-05-31T22:57:34Z', 'content': 'WASHINGTON (Reuters) – Federal prosecutors have a 2021 audio recording of former President Donald Trump acknowledging he kept a classified Pentagon document about a possible attack on Iran after leav… [+1010 chars]'}, {'source': {'id': 'reuters', 'name': 'Reuters'}, 'author': 'Nichola Groom', 'title': \"Texas battery rush: Oil state's power woes fuel energy storage boom\", 'description': \"BlackRock, Korea's SK, Switzerland's UBS and other companies are chasing an investment boom in battery storage plants in Texas, lured by the prospect of earning double-digit returns from the power grid problems plaguing the state, according to project owners,…\", 'url': 'https://www.reuters.com/business/energy/texas-battery-rush-oil-states-power-woes-fuel-energy-storage-boom-2023-05-31/', 'urlToImage': 'https://www.reuters.com/resizer/eJ4q4z6h-z5vacoKbWd5IiJRQik=/1200x628/smart/filters:quality(80)/cloudfront-us-east-2.images.arcpublishing.com/reuters/RMEFDPKG3ZIVNIIDSLZOHU6IWA.jpg', 'publishedAt': '2023-05-31T10:37:12Z', 'content': \"May 31 (Reuters) - BlackRock, Korea's SK, Switzerland's UBS and other companies are chasing an investment boom in battery storage plants in Texas, lured by the prospect of earning double-digit return… [+6970 chars]\"}]}\n",
      "Source ID: reuters\n",
      "Source name: Reuters\n",
      "Author: Towleroad\n",
      "Title: Trump captured on tape acknowledging he kept a classified document on Iran -CNN\n",
      "URL: http://rmb.reuters.com/rmd/rss/item/tag:reuters.com,2023:newsml_KBN2XM1PY:1?channel=FES376\n",
      "Publish date: 2023-05-31T22:57:34Z\n",
      "Article text: WASHINGTON (Reuters) – Federal prosecutors have a 2021 audio recording of former President Donald Trump acknowledging he kept a classified Pentagon document about a possible attack on Iran after leav… [+1010 chars] \n",
      "\n",
      "Source ID: reuters\n",
      "Source name: Reuters\n",
      "Author: Nichola Groom\n",
      "Title: Texas battery rush: Oil state's power woes fuel energy storage boom\n",
      "URL: https://www.reuters.com/business/energy/texas-battery-rush-oil-states-power-woes-fuel-energy-storage-boom-2023-05-31/\n",
      "Publish date: 2023-05-31T10:37:12Z\n",
      "Article text: May 31 (Reuters) - BlackRock, Korea's SK, Switzerland's UBS and other companies are chasing an investment boom in battery storage plants in Texas, lured by the prospect of earning double-digit return… [+6970 chars] \n",
      "\n",
      "49\n",
      "reuters 2023-05-31 (political AND (bias OR party)) OR republican OR democrat OR election\n",
      "Query word: security AND (social OR national)\n",
      "<class 'dict'>\n",
      "{'status': 'ok', 'totalResults': 0, 'articles': []}\n",
      "49\n",
      "reuters 2023-05-31 security AND (social OR national)\n",
      "Query word: (policy AND (drug OR \"affirmative action\")) OR regulate OR regulation\n",
      "<class 'dict'>\n",
      "{'status': 'ok', 'totalResults': 0, 'articles': []}\n",
      "49\n",
      "reuters 2023-05-31 (policy AND (drug OR \"affirmative action\")) OR regulate OR regulation\n",
      "[('Reuters', None, 'Montana becomes first US state to ban TikTok', 'https://www.reuters.com/world/us/montana-governor-signs-bill-banning-tiktok-state-2023-05-17/', '2023-05-18T13:42:12Z', 'WASHINGTON, May 17 (Reuters) - Montana Governor Greg Gianforte on Wednesday signed legislation to ban Chinese-owned TikTok from operating in the state to protect residents from alleged intelligence g… [+4278 chars]'), ('Reuters', 'Reuters', 'Billionaire real estate investor Sam Zell dies at 81', 'https://www.reuters.com/business/billionaire-real-estate-investor-sam-zell-dies-2023-05-18/', '2023-05-18T15:23:08Z', 'May 18 (Reuters) - Billionaire Sam Zell, who built a real estate empire and was known for his bets on distressed assets, died at the age of 81 due to complications from a recent illness, a statement … [+1879 chars]'), ('Reuters', None, 'Montana becomes first US state to ban TikTok', 'https://www.reuters.com/world/us/montana-governor-signs-bill-banning-tiktok-state-2023-05-17/', '2023-05-18T13:42:12Z', 'WASHINGTON, May 17 (Reuters) - Montana Governor Greg Gianforte on Wednesday signed legislation to ban Chinese-owned TikTok from operating in the state to protect residents from alleged intelligence g… [+4278 chars]'), ('Reuters', 'Lisa Richwine', 'Disney to close Star Wars hotel that opened in Florida last year', 'https://www.reuters.com/business/disney-close-star-wars-hotel-that-opened-florida-last-year-2023-05-18/', '2023-05-18T22:09:31Z', 'LOS ANGELES, May 18 (Reuters) - Walt Disney Co (DIS.N) will shutter its immersive Star Wars-themed luxury hotel in Orlando this September, less than two years after it opened, as the media giant cuts… [+1469 chars]'), ('Reuters', 'Dawn Chmielewski', 'Disney cancels plans to relocate 2,000 jobs to Florida -company email', 'https://www.reuters.com/business/media-telecom/disney-cancels-plans-relocate-2000-jobs-florida-company-email-2023-05-18/', '2023-05-18T18:26:03Z', 'LOS ANGELES, May 18 (Reuters) - Walt Disney Co (DIS.N) is scrapping plans to relocate 2,000 jobs to Florida in part because of \"changing business conditions\" in the state, according to an e-mail to e… [+2944 chars]'), ('Reuters', None, 'US Supreme Court Leaves Protections For Internet Companies Unscathed', 'https://www.reuters.com/legal/us-supreme-court-lets-twitter-off-hook-terrorism-lawsuit-over-istanbul-massacre-2023-05-18/', '2023-05-19T14:39:24Z', 'May 18 (Reuters) - The U.S. Supreme Court handed internet and social media companies a pair of victories on Thursday, leaving legal protections for them unscathed and refusing to clear a path for vic… [+5056 chars]'), ('Reuters', 'Towleroad', 'Tim Scott, lone Black Republican in U.S. Senate, announces White House bid', 'http://rmb.reuters.com/rmd/rss/item/tag:reuters.com,2023:newsml_KBN2XA17E:3?channel=FES376', '2023-05-19T15:24:05Z', 'WASHINGTON (Reuters) – U.S. Senator Tim Scott, the sole Black Republican in the Senate, on Friday filed official paperwork launching his run for his party’s presidential nomination in 2024.\\r\\nThe impo… [+491 chars]'), ('Reuters', None, 'US Supreme Court Leaves Protections For Internet Companies Unscathed', 'https://www.reuters.com/legal/us-supreme-court-lets-twitter-off-hook-terrorism-lawsuit-over-istanbul-massacre-2023-05-18/', '2023-05-19T14:39:24Z', 'May 18 (Reuters) - The U.S. Supreme Court handed internet and social media companies a pair of victories on Thursday, leaving legal protections for them unscathed and refusing to clear a path for vic… [+5056 chars]'), ('Reuters', 'James Davey', 'Tesco chair Allan to step down after inappropriate behaviour claims', 'https://www.reuters.com/business/retail-consumer/tesco-chairman-allan-step-down-june-16-2023-05-19/', '2023-05-19T14:33:36Z', \"LONDON, May 19 (Reuters) - Tesco (TSCO.L) chairman John Allan will step down at the group's annual shareholders' meeting next month, with Britain's biggest retailer saying claims of inappropriate beh… [+2748 chars]\"), ('Reuters', 'Towleroad', 'Florida’s DeSantis seeks to disqualify judge in Disney case', 'http://rmb.reuters.com/rmd/rss/item/tag:reuters.com,2023:newsml_KBN2XB0FC:1?channel=FES376', '2023-05-20T20:32:37Z', 'WASHINGTON (Reuters) – Lawyers for Florida Governor Ron DeSantis, a Republican mulling a 2024 presidential run, are asking that a federal judge be disqualified from overseeing a dispute between DeSan… [+1608 chars]'), ('Reuters', 'Towleroad', 'Transgender Mississippi girl misses graduation after judge’s ruling', 'http://rmb.reuters.com/rmd/rss/item/tag:reuters.com,2023:newsml_KBN2XB0FV:1?channel=FES376', '2023-05-20T20:32:04Z', 'By Timothy Gardner\\r\\n(Reuters) – A transgender Mississippi girl declined to participate in high school graduation on Saturday after a U.S. District Judge said the school district could bar her unless … [+1716 chars]'), ('Reuters', None, 'AI boom could expose investors’ natural stupidity', 'https://www.reuters.com/breakingviews/ai-boom-could-expose-investors-natural-stupidity-2023-05-19/', '2023-05-21T16:58:56Z', 'LONDON, May 19 (Reuters Breakingviews) - My colleagues, they study artificial intelligence, the Israeli psychologist Amos Tversky once quipped. Me, I study natural stupidity. The co-founder of behavi… [+6870 chars]'), ('Reuters', 'Reuters', 'Novo Nordisk says trial of oral weight-loss drug shows significant result', 'https://www.reuters.com/business/healthcare-pharmaceuticals/novo-nordisk-says-trial-oral-weight-loss-drug-shows-significant-result-2023-05-22/', '2023-05-22T14:30:23Z', \"COPENHAGEN, May 22 (Reuters) - Novo Nordisk (NOVOb.CO) and Pfizer Inc (PFE.N) separately released data on Monday showing that pills from the same class as Novo's increasingly popular weight loss drug… [+3334 chars]\"), ('Reuters', 'Special Reports', 'Crypto giant Binance commingled customer funds and company revenue', 'https://www.reuters.com/investigates/special-report/crypto-binance-money/', '2023-05-23T12:38:45Z', 'The worlds largest cryptocurrency exchange, Binance, commingled customer funds with company revenue in 2020 and 2021, in breach of U.S. financial rules that require customer money to be kept separate… [+18543 chars]'), ('Reuters', 'Special Reports', 'Crypto giant Binance commingled customer funds and company revenue', 'https://www.reuters.com/investigates/special-report/crypto-binance-money/', '2023-05-23T12:38:45Z', 'The worlds largest cryptocurrency exchange, Binance, commingled customer funds with company revenue in 2020 and 2021, in breach of U.S. financial rules that require customer money to be kept separate… [+18543 chars]'), ('Reuters', 'Towleroad', 'Florida restaurant sues DeSantis over drag show restrictions', 'http://rmb.reuters.com/rmd/rss/item/tag:reuters.com,2023:newsml_KBN2XE02F:2?channel=FES376', '2023-05-23T13:33:05Z', 'By Daniel Trotta\\r\\n(Reuters) – A Florida restaurant that puts on what it calls family-friendly drag performances sued Governor Ron DeSantis and the state of Florida on Monday to halt enforcement of a … [+1753 chars]'), ('Reuters', 'Reuters', 'John Allan to step down early as Barratt Developments chair', 'https://www.reuters.com/business/john-allan-step-down-early-barratt-developments-chair-2023-05-23/', '2023-05-23T09:04:46Z', \"May 23 (Reuters) - Barratt Developments (BDEV.L) chairman John Allan will step down next month, with Britain's largest housebuilder saying it wanted to prevent the impact of allegations against him f… [+1615 chars]\"), ('Reuters', 'Special Reports', 'How Doctors buy their way out of trouble', 'https://www.reuters.com/investigates/special-report/usa-healthcare-settlements/', '2023-05-24T14:14:50Z', 'When federal enforcers alleged in 2015 that New York surgeon Feng Qin had performed scores of medically unnecessary cardiac procedures on elderly patients, they decided not to pursue a time-consuming… [+31634 chars]'), ('Reuters', 'Special Reports', 'How Doctors buy their way out of trouble', 'https://www.reuters.com/investigates/special-report/usa-healthcare-settlements/', '2023-05-24T14:14:50Z', 'When federal enforcers alleged in 2015 that New York surgeon Feng Qin had performed scores of medically unnecessary cardiac procedures on elderly patients, they decided not to pursue a time-consuming… [+31634 chars]'), ('Reuters', 'Towleroad', 'Florida Governor DeSantis to enter 2024 race in Twitter event with Musk', 'http://rmb.reuters.com/rmd/rss/item/tag:reuters.com,2023:newsml_KBN2XE1HM:11?channel=FES376', '2023-05-24T18:57:47Z', 'By James Oliphant\\r\\nWASHINGTON (Reuters) -Florida Governor Ron DeSantis, whose impassioned battles over pandemic lockdowns and divisive cultural issues have endeared him to conservatives, will announc… [+6019 chars]'), ('Reuters', 'Tommy Wilkes', \"Lloyd's of London boss calls for UN climate alliance rules rethink\", 'https://www.reuters.com/business/environment/un-says-us-concerns-have-led-insurers-quitting-climate-alliance-2023-05-24/', '2023-05-24T15:30:30Z', \"LONDON, May 24 (Reuters) - A global climate alliance for insurers needs to make its membership rules less prescriptive or risk falling apart, the boss of Lloyd's of London said after political pressu… [+3132 chars]\"), ('Reuters', 'Special Reports', 'How Doctors buy their way out of trouble', 'https://www.reuters.com/investigates/special-report/usa-healthcare-settlements/', '2023-05-24T14:14:50Z', 'When federal enforcers alleged in 2015 that New York surgeon Feng Qin had performed scores of medically unnecessary cardiac procedures on elderly patients, they decided not to pursue a time-consuming… [+31634 chars]'), ('Reuters', 'Towleroad', 'Florida Governor DeSantis to enter 2024 race in Twitter event with Musk', 'http://rmb.reuters.com/rmd/rss/item/tag:reuters.com,2023:newsml_KBN2XE1HM:11?channel=FES376', '2023-05-24T18:57:47Z', 'By James Oliphant\\r\\nWASHINGTON (Reuters) -Florida Governor Ron DeSantis, whose impassioned battles over pandemic lockdowns and divisive cultural issues have endeared him to conservatives, will announc… [+6019 chars]'), ('Reuters', 'Towleroad', 'U.S. Supreme Court rules against EPA in wetlands regulation challenge', 'http://rmb.reuters.com/rmd/rss/item/tag:reuters.com,2023:newsml_KBN2XG17C:7?channel=FES376', '2023-05-25T20:47:21Z', 'By John Kruzel and Andrew Chung\\r\\nWASHINGTON (Reuters) -The U.S. Supreme Court on Thursday put another dent in the regulatory reach of the Environmental Protection Agency, embracing a stringent new te… [+4842 chars]'), ('Reuters', 'Reuters', 'Orders surge for trans designer after Target pulls products', 'https://www.reuters.com/business/retail-consumer/orders-surge-trans-designer-after-target-pulls-products-2023-05-25/', '2023-05-25T14:30:35Z', 'LONDON, May 25 (Reuters) - Transgender designer Erik Carnell has seen a surge in demand for his pins, prints, stickers and T-shirts after U.S. retailer Target Corp (TGT.N) pulled his products amid a … [+2298 chars]'), ('Reuters', 'Towleroad', 'Florida laws targeting LGBT community stoke Pride energy, organizers say', 'http://rmb.reuters.com/rmd/rss/item/tag:reuters.com,2023:newsml_KBN2XG144:1?channel=FES376', '2023-05-25T19:18:06Z', 'By Brad Brooks and Daniel Trotta\\r\\n(Reuters) – Organizers of some LGBT Pride events in Florida are limiting access by minors and increasing security in the face of a slate of new state laws they say u… [+3168 chars]'), ('Reuters', 'Towleroad', 'U.S. Supreme Court rules against EPA in wetlands regulation challenge', 'http://rmb.reuters.com/rmd/rss/item/tag:reuters.com,2023:newsml_KBN2XG17C:7?channel=FES376', '2023-05-25T20:47:21Z', 'By John Kruzel and Andrew Chung\\r\\nWASHINGTON (Reuters) -The U.S. Supreme Court on Thursday put another dent in the regulatory reach of the Environmental Protection Agency, embracing a stringent new te… [+4842 chars]'), ('Reuters', 'Towleroad', 'DeSantis signs Florida ban on gender-affirming treatment for transgender minors', 'http://rmb.reuters.com/rmd/rss/item/tag:reuters.com,2023:newsml_KBN2X81AQ:5?channel=FES376', '2023-05-17T18:12:27Z', 'By Daniel Trotta\\r\\n(Reuters) – Florida Governor Ron DeSantis on Wednesday signed into law a bill that bans gender-affirming medical care such as puberty blockers or hormone therapy for transgender you… [+3067 chars]'), ('Reuters', 'Towleroad', 'DeSantis signs Florida ban on gender-affirming treatment for transgender minors', 'http://rmb.reuters.com/rmd/rss/item/tag:reuters.com,2023:newsml_KBN2X81AQ:5?channel=FES376', '2023-05-17T18:12:27Z', 'By Daniel Trotta\\r\\n(Reuters) – Florida Governor Ron DeSantis on Wednesday signed into law a bill that bans gender-affirming medical care such as puberty blockers or hormone therapy for transgender you… [+3067 chars]'), ('Reuters', 'Hyunjoo Jin', 'Tesla succession plan, vehicle demand in focus at annual meet', 'https://www.reuters.com/business/autos-transportation/tesla-succession-planning-demand-focus-ahead-shareholder-meeting-2023-05-16/', '2023-05-16T11:05:22Z', 'May 16 (Reuters) - Tesla Inc (TSLA.O) CEO Elon Musk will be under pressure to address investor concerns about the lack of a clear successor, softening demand and delays of some new models when he spe… [+2997 chars]'), ('Reuters', None, 'OpenAI chief goes before US Congress to propose licenses for building AI', 'https://www.reuters.com/technology/openai-chief-goes-before-us-congress-propose-licenses-building-ai-2023-05-16/', '2023-05-16T11:06:54Z', 'WASHINGTON, May 16 (Reuters) - OpenAI, the startup behind ChatGPT, wants the U.S. to consider mandating licenses for companies to develop powerful artificial intelligence like the kind underpinning i… [+2747 chars]'), ('Reuters', None, 'OpenAI chief goes before US Congress to propose licenses for building AI', 'https://www.reuters.com/technology/openai-chief-goes-before-us-congress-propose-licenses-building-ai-2023-05-16/', '2023-05-16T11:06:54Z', 'WASHINGTON, May 16 (Reuters) - OpenAI, the startup behind ChatGPT, wants the U.S. to consider mandating licenses for companies to develop powerful artificial intelligence like the kind underpinning i… [+2747 chars]'), ('Reuters', 'Reuters', 'Brazil confirms 2 wild cases of bird flu, no import ban expected', 'https://www.reuters.com/business/healthcare-pharmaceuticals/brazil-confirms-2-wild-cases-bird-flu-no-import-ban-expected-2023-05-15/', '2023-05-15T19:30:08Z', \"May 15 (Reuters) - Brazil, the world's top chicken exporter, has for the first time confirmed Highly Pathogenic Avian Influenza (HPAI) cases but only in wild birds, the Agriculture Ministry said on M… [+2867 chars]\"), ('Reuters', 'Towleroad', 'Polish activists condemn proposed inspections of LGBT-friendly schools', 'http://rmb.reuters.com/rmd/rss/item/tag:reuters.com,2023:newsml_KBN2XH0TM:1?channel=TRn222', '2023-05-26T18:33:48Z', 'WARSAW (Reuters) – Right activists who published a directory of LGBT-friendly schools in Poland condemned on Friday a plan by a parliament-appointed official to inspect the establishments on the list… [+412 chars]'), ('Reuters', 'Joanna Plucinska', 'Soaring airline customer complaints push global legislators to act', 'https://www.reuters.com/business/aerospace-defense/soaring-airline-customer-complaints-push-global-legislators-act-2023-05-26/', '2023-05-26T06:21:20Z', 'LONDON/MONTREAL, May 26 (Reuters) - Nikoleta Dodova is among a growing number of dissatisfied airline customers. Having bought her mother and niece airline tickets from Sweden to Macedonia last year,… [+5838 chars]'), ('Reuters', None, 'Dutch Watchdog Looking Into Alleged Tesla Data Breach', 'https://www.reuters.com/business/autos-transportation/german-authorities-looking-into-possible-data-protection-violations-by-tesla-2023-05-25/', '2023-05-26T14:19:06Z', 'BERLIN/AMSTERDAM, May 26 (Reuters) - The data protection watchdog for the Netherlands said on Friday it was aware of possible Tesla data protection breaches, but it was too early for further comment.… [+3501 chars]'), ('Reuters', 'Towleroad', 'Two more Oath Keepers sentenced to prison over US Capitol attack', 'http://rmb.reuters.com/rmd/rss/item/tag:reuters.com,2023:newsml_KBN2XH0O2:7?channel=FES376', '2023-05-27T19:16:17Z', 'By Jacqueline Thomsen\\r\\nWASHINGTON (Reuters) -Two members of the far-right Oath Keepers were sentenced to prison on Friday for their roles in the deadly Jan. 6, 2021, assault on the U.S. Capitol by su… [+4270 chars]'), ('Reuters', 'Towleroad', 'Texas attorney general lashes out at impeachment against him', 'http://rmb.reuters.com/rmd/rss/item/tag:reuters.com,2023:newsml_KBN2XH1P9:3?channel=FES376', '2023-05-27T21:41:41Z', 'By Brad Brooks and Daniel Trotta\\r\\nLUBBOCK, Texas (Reuters) – Republican Texas Attorney General Ken Paxton lashed out on Friday against his critics trying to impeach him, saying that removing him from… [+2329 chars]'), ('Reuters', 'Towleroad', 'Two more Oath Keepers sentenced to prison over US Capitol attack', 'http://rmb.reuters.com/rmd/rss/item/tag:reuters.com,2023:newsml_KBN2XH0O2:7?channel=FES376', '2023-05-27T19:16:17Z', 'By Jacqueline Thomsen\\r\\nWASHINGTON (Reuters) -Two members of the far-right Oath Keepers were sentenced to prison on Friday for their roles in the deadly Jan. 6, 2021, assault on the U.S. Capitol by su… [+4270 chars]'), ('Reuters', 'Kirsty Needham', 'Pacific islands, in spotlight, to push climate change in South Korea summit', 'https://www.reuters.com/business/environment/pacific-islands-spotlight-push-climate-change-south-korea-summit-2023-05-27/', '2023-05-27T13:12:51Z', \"SYDNEY, May 27 (Reuters) - Pacific island leaders will meet South Korea's President Yoon Suk Yeol in Seoul on Monday, their third summit in a week with a large economy as the region seeks stronger ac… [+2558 chars]\"), ('Reuters', 'Towleroad', 'Texas attorney general lashes out at impeachment against him', 'http://rmb.reuters.com/rmd/rss/item/tag:reuters.com,2023:newsml_KBN2XH1P9:3?channel=FES376', '2023-05-27T21:41:41Z', 'By Brad Brooks and Daniel Trotta\\r\\nLUBBOCK, Texas (Reuters) – Republican Texas Attorney General Ken Paxton lashed out on Friday against his critics trying to impeach him, saying that removing him from… [+2329 chars]'), ('Reuters', 'Florence Tan', 'Oil climbs after US leaders strike provisional debt deal', 'https://www.reuters.com/business/energy/oil-climbs-after-us-leaders-strike-provisional-debt-deal-2023-05-28/', '2023-05-29T00:06:26Z', \"SINGAPORE, May 29 (Reuters) - Oil prices rose in early Asian trade on Monday after U.S. leaders reached a tentative debt ceiling deal, possibly averting a default in the world's largest economy and o… [+1822 chars]\"), ('Reuters', 'Joyce Lee', \"Inside South Korea's race to become one of the world’s biggest arms dealers\", 'https://www.reuters.com/business/aerospace-defense/inside-south-koreas-race-become-one-worlds-biggest-arms-dealers-2023-05-29/', '2023-05-29T01:12:47Z', \"SEOUL, May 29 (Reuters) - South Korea is using a $13.7 billion arms deal with Poland - Seoul's biggest ever - to lay the groundwork for a military-industrial juggernaut that the two nations' defence … [+9348 chars]\"), ('Reuters', 'Towleroad', 'Deepfaking it: America’s 2024 election collides with AI boom', 'http://rmb.reuters.com/rmd/rss/item/tag:reuters.com,2023:newsml_KBN2XL0IR:6?channel=FES376', '2023-05-30T17:12:23Z', '(Note: Strong language in paragraph 10)\\r\\nBy Alexandra Ulmer and Anna Tong\\r\\n(Reuters) – “I actually like Ron DeSantis a lot,” Hillary Clinton reveals in a surprise online endorsement video. “He’s just… [+8032 chars]'), ('Reuters', 'Towleroad', 'Blinken says US to consider visa restrictions over Ugandan anti-gay law', 'http://rmb.reuters.com/rmd/rss/item/tag:reuters.com,2023:newsml_KBN2XK0V4:3?channel=FES376', '2023-05-30T17:13:45Z', 'WASHINGTON (Reuters) – U.S. Secretary of State Antony Blinken on Monday said his government would consider visa restrictions against Ugandan officials and others for the abuse of human rights followi… [+1778 chars]'), ('Reuters', 'Towleroad', 'Deepfaking it: America’s 2024 election collides with AI boom', 'http://rmb.reuters.com/rmd/rss/item/tag:reuters.com,2023:newsml_KBN2XL0IR:6?channel=FES376', '2023-05-30T17:12:23Z', '(Note: Strong language in paragraph 10)\\r\\nBy Alexandra Ulmer and Anna Tong\\r\\n(Reuters) – “I actually like Ron DeSantis a lot,” Hillary Clinton reveals in a surprise online endorsement video. “He’s just… [+8032 chars]'), ('Reuters', 'Towleroad', 'Trump captured on tape acknowledging he kept a classified document on Iran -CNN', 'http://rmb.reuters.com/rmd/rss/item/tag:reuters.com,2023:newsml_KBN2XM1PY:1?channel=FES376', '2023-05-31T22:57:34Z', 'WASHINGTON (Reuters) – Federal prosecutors have a 2021 audio recording of former President Donald Trump acknowledging he kept a classified Pentagon document about a possible attack on Iran after leav… [+1010 chars]'), ('Reuters', 'Towleroad', 'Trump captured on tape acknowledging he kept a classified document on Iran -CNN', 'http://rmb.reuters.com/rmd/rss/item/tag:reuters.com,2023:newsml_KBN2XM1PY:1?channel=FES376', '2023-05-31T22:57:34Z', 'WASHINGTON (Reuters) – Federal prosecutors have a 2021 audio recording of former President Donald Trump acknowledging he kept a classified Pentagon document about a possible attack on Iran after leav… [+1010 chars]'), ('Reuters', 'Nichola Groom', \"Texas battery rush: Oil state's power woes fuel energy storage boom\", 'https://www.reuters.com/business/energy/texas-battery-rush-oil-states-power-woes-fuel-energy-storage-boom-2023-05-31/', '2023-05-31T10:37:12Z', \"May 31 (Reuters) - BlackRock, Korea's SK, Switzerland's UBS and other companies are chasing an investment boom in battery storage plants in Texas, lured by the prospect of earning double-digit return… [+6970 chars]\")]\n",
      "49\n"
     ]
    }
   ],
   "source": [
    "api_record_lst01 = []\n",
    "for s in source_lst:\n",
    "    print(f'Source: {s}')\n",
    "    for d in date_lst:\n",
    "        print(f'Date: {d}')\n",
    "        for q in q_word_lst:\n",
    "            print(f'Query word: {q}')\n",
    "            time.sleep(5 + 11 * random.random())\n",
    "            news_api_urls(q=q,\n",
    "                          s=s,\n",
    "                          d_from=d,\n",
    "                          d_to=d,\n",
    "                          api_lst=api_record_lst01)\n",
    "            print(s, d, q)\n",
    "    time.sleep(10 + 13 * random.random())\n",
    "\n",
    "print(api_record_lst01)\n",
    "print(len(api_record_lst01))"
   ]
  },
  {
   "attachments": {},
   "cell_type": "markdown",
   "id": "c8ff951d",
   "metadata": {},
   "source": [
    "#### Save into DataFrames:"
   ]
  },
  {
   "attachments": {},
   "cell_type": "markdown",
   "id": "aaebdfbf",
   "metadata": {},
   "source": [
    "Four sources data:"
   ]
  },
  {
   "cell_type": "code",
   "execution_count": 403,
   "id": "ee3a8968",
   "metadata": {},
   "outputs": [],
   "source": [
    "api_record_df2 = pd.DataFrame (list (api_record_lst01),\n",
    "                                   columns = ['Source','Author','Title','URL','date','content'])"
   ]
  },
  {
   "attachments": {},
   "cell_type": "markdown",
   "id": "b9bf5340",
   "metadata": {},
   "source": [
    "Centered Client data:"
   ]
  },
  {
   "cell_type": "code",
   "execution_count": 170,
   "id": "9c42e3c5",
   "metadata": {},
   "outputs": [],
   "source": [
    "api_record_df = pd.DataFrame (list (api_record_lst01),\n",
    "                                   columns = ['Source','Author','Title','URL','date','content'])\n",
    "api_record_df.to_csv(\"News_API_Reuters2.csv\", sep=',')"
   ]
  },
  {
   "attachments": {},
   "cell_type": "markdown",
   "id": "06b768f6",
   "metadata": {},
   "source": [
    "#### Code to combine different dataframes for training: (no need to run again)"
   ]
  },
  {
   "cell_type": "code",
   "execution_count": 405,
   "id": "9a5734d2",
   "metadata": {},
   "outputs": [],
   "source": [
    "api_record_df_final = pd.concat([api_record_df2, api_record_df])\n"
   ]
  },
  {
   "cell_type": "code",
   "execution_count": null,
   "id": "43a17eda",
   "metadata": {},
   "outputs": [],
   "source": [
    "api_record_df_final.to_csv(\"News_API_FOX_CNN_Breitbert_May18_23_May31.csv\", sep=',')\n",
    "api_record_df.to_csv(\"News_API_FOX_CNN_Breitbert_May20_May31.csv\", sep=',')\n",
    "api_record_df2.to_csv(\"News_API_FOX_CNN_Breitbert_May1819_May2123.csv\", sep=',')"
   ]
  },
  {
   "cell_type": "code",
   "execution_count": 415,
   "id": "65d034f7",
   "metadata": {},
   "outputs": [],
   "source": [
    "api_record_df_filtered = api_record_df[api_record_df.Source != 'The Washington Post']"
   ]
  },
  {
   "cell_type": "code",
   "execution_count": 4,
   "id": "118faa12",
   "metadata": {},
   "outputs": [],
   "source": [
    "api_data_df3=pd.read_csv('News_API_FOX_CNN_Breitbert_May18_23_May31_2.csv')\n"
   ]
  },
  {
   "cell_type": "code",
   "execution_count": 5,
   "id": "3f2e346a",
   "metadata": {},
   "outputs": [],
   "source": [
    "api_record_df_final3 = api_data_df3[api_data_df3.Source != 'The Washington Post']"
   ]
  },
  {
   "cell_type": "code",
   "execution_count": 6,
   "id": "4d0ed006",
   "metadata": {},
   "outputs": [],
   "source": [
    "api_record_df_final3.to_csv(\"News_API_FOX_CNN_Breitbert_May18_23_May31_3.csv\", sep=',')\n",
    "api_record_df_final3.shape\n",
    "api_record_df_filtered\n",
    "api_record_df2.shape"
   ]
  },
  {
   "cell_type": "code",
   "execution_count": 419,
   "id": "55d2fdf3",
   "metadata": {},
   "outputs": [],
   "source": [
    "api_record_df_final2 = pd.concat([api_record_df2, api_record_df_filtered])\n",
    "api_record_df_final2.shape"
   ]
  },
  {
   "cell_type": "code",
   "execution_count": 421,
   "id": "53db1a65",
   "metadata": {},
   "outputs": [],
   "source": [
    "api_record_df_final2.to_csv(\"News_API_FOX_CNN_Breitbert_May18_23_May31_2.csv\", sep=',')\n",
    "api_data_df_final3=pd.read_csv('News_API_FOX_CNN_Breitbert_May18_23_May31_2.csv')\n",
    "\n"
   ]
  },
  {
   "attachments": {},
   "cell_type": "markdown",
   "id": "c0e2716b",
   "metadata": {},
   "source": [
    "### HTML scrape of URLs (to collect Article content)"
   ]
  },
  {
   "attachments": {},
   "cell_type": "markdown",
   "id": "7612e429",
   "metadata": {},
   "source": [
    "#### FOX, CNN, Breitbert:"
   ]
  },
  {
   "cell_type": "code",
   "execution_count": null,
   "id": "32a418f8",
   "metadata": {},
   "outputs": [],
   "source": [
    "slct_tbl_full_df02 = api_record_df_final3.copy()\n",
    "\n",
    "\n",
    "\n",
    "slct_tbl_full_df02['article_parsed'] = ''\n",
    "\n",
    "total_urls = len(slct_tbl_full_df02)\n",
    "\n",
    "# Start timer\n",
    "start_time = datetime.date.today()\n",
    "\n",
    "\n",
    "for i, row in enumerate(slct_tbl_full_df02.itertuples(), 1):\n",
    "    print(row[5])\n",
    "    article=[]\n",
    "    #url = slct_tbl_full_df02.at[i,'URL']\n",
    "    url=row[5]\n",
    "    response = requests.get(url)\n",
    "    time.sleep(5 + 10*random.random())\n",
    "\n",
    "    soup = BeautifulSoup(response.text, 'html.parser')\n",
    "\n",
    "    try:\n",
    "        script_tag = soup.find('script', {'type': 'application/ld+json'})\n",
    "        if script_tag == None:\n",
    "            print('\\nJSON Object == None: Index:', i-1, '; source:',\n",
    "                  row[2],\n",
    "                  '; URL:', row[5]) \n",
    "        else:\n",
    "            article_json = json.loads(script_tag.string)\n",
    "            article_content = article_json['articleBody']\n",
    "            slct_tbl_full_df02.at[row.Index, 'article_parsed'] = article_content\n",
    "\n",
    "    except KeyError:\n",
    "        print('\\nMissing JSON key: Index:', i-1, '; source:',\n",
    "              row[2],\n",
    "              '; URL:', row[5]) \n",
    "        article_body = soup.find('div', class_='article__content-container') \n",
    "\n",
    "        if article_body is None: #forfoxandbreitbert(sometimes)\n",
    "            print('Class != article__content-container')\n",
    "            article_body = soup.find('p', class_=\"speakable\")\n",
    "            if article_body is None: #breitbert(most)\n",
    "                print('Class != speakable')\n",
    "                article_body = soup.find('div', class_='entry-content')\n",
    "                if article_body is None: #WashPost\n",
    "                    print('Class != entry-content')\n",
    "                    article_body = soup.find('div',class_='article-body')\n",
    "\n",
    "        if article_body is not None:\n",
    "            article_text = article_body.get_text()\n",
    "            slct_tbl_full_df02.at[row.Index, 'article_parsed'] = article_text\n",
    "        else:\n",
    "            print('Could not parse')\n",
    "\n",
    "    print('.', end='')\n",
    "        \n",
    "# End timer script\n",
    "end_time = datetime.date.today()\n",
    "time_elapse = end_time - start_time\n",
    "print(f'Start Time = {start_time}')\n",
    "print(f'End Time = {end_time}')\n",
    "print(f'Elapsed Time = {time_elapse}')"
   ]
  },
  {
   "cell_type": "code",
   "execution_count": null,
   "id": "bd5dab05",
   "metadata": {},
   "outputs": [],
   "source": [
    "slct_tbl_full_df02.to_csv(\"News_API_FOX_CNN_Breitbert_May18_23_May31_3.csv\", sep=',')"
   ]
  },
  {
   "attachments": {},
   "cell_type": "markdown",
   "id": "c53642c8",
   "metadata": {},
   "source": [
    "#### Reuters:"
   ]
  },
  {
   "cell_type": "code",
   "execution_count": 174,
   "id": "233b4aaa",
   "metadata": {},
   "outputs": [
    {
     "name": "stdout",
     "output_type": "stream",
     "text": [
      "https://www.reuters.com/world/us/montana-governor-signs-bill-banning-tiktok-state-2023-05-17/\n",
      "\n",
      "Missing JSON key: Index: 0 ; source: Reuters ; URL: https://www.reuters.com/world/us/montana-governor-signs-bill-banning-tiktok-state-2023-05-17/\n",
      ".https://www.reuters.com/business/billionaire-real-estate-investor-sam-zell-dies-2023-05-18/\n",
      "\n",
      "Missing JSON key: Index: 1 ; source: Reuters ; URL: https://www.reuters.com/business/billionaire-real-estate-investor-sam-zell-dies-2023-05-18/\n",
      ".https://www.reuters.com/world/us/montana-governor-signs-bill-banning-tiktok-state-2023-05-17/\n",
      "\n",
      "Missing JSON key: Index: 2 ; source: Reuters ; URL: https://www.reuters.com/world/us/montana-governor-signs-bill-banning-tiktok-state-2023-05-17/\n",
      ".https://www.reuters.com/business/disney-close-star-wars-hotel-that-opened-florida-last-year-2023-05-18/\n",
      "\n",
      "Missing JSON key: Index: 3 ; source: Reuters ; URL: https://www.reuters.com/business/disney-close-star-wars-hotel-that-opened-florida-last-year-2023-05-18/\n",
      ".https://www.reuters.com/business/media-telecom/disney-cancels-plans-relocate-2000-jobs-florida-company-email-2023-05-18/\n",
      "\n",
      "Missing JSON key: Index: 4 ; source: Reuters ; URL: https://www.reuters.com/business/media-telecom/disney-cancels-plans-relocate-2000-jobs-florida-company-email-2023-05-18/\n",
      ".https://www.reuters.com/legal/us-supreme-court-lets-twitter-off-hook-terrorism-lawsuit-over-istanbul-massacre-2023-05-18/\n",
      "\n",
      "Missing JSON key: Index: 5 ; source: Reuters ; URL: https://www.reuters.com/legal/us-supreme-court-lets-twitter-off-hook-terrorism-lawsuit-over-istanbul-massacre-2023-05-18/\n",
      ".http://rmb.reuters.com/rmd/rss/item/tag:reuters.com,2023:newsml_KBN2XA17E:3?channel=FES376\n",
      "\n",
      "JSON Object == None: Index: 6 ; source: Reuters ; URL: http://rmb.reuters.com/rmd/rss/item/tag:reuters.com,2023:newsml_KBN2XA17E:3?channel=FES376\n",
      ".https://www.reuters.com/legal/us-supreme-court-lets-twitter-off-hook-terrorism-lawsuit-over-istanbul-massacre-2023-05-18/\n",
      "\n",
      "Missing JSON key: Index: 7 ; source: Reuters ; URL: https://www.reuters.com/legal/us-supreme-court-lets-twitter-off-hook-terrorism-lawsuit-over-istanbul-massacre-2023-05-18/\n",
      ".https://www.reuters.com/business/retail-consumer/tesco-chairman-allan-step-down-june-16-2023-05-19/\n",
      "\n",
      "Missing JSON key: Index: 8 ; source: Reuters ; URL: https://www.reuters.com/business/retail-consumer/tesco-chairman-allan-step-down-june-16-2023-05-19/\n",
      ".http://rmb.reuters.com/rmd/rss/item/tag:reuters.com,2023:newsml_KBN2XB0FC:1?channel=FES376\n",
      "\n",
      "JSON Object == None: Index: 9 ; source: Reuters ; URL: http://rmb.reuters.com/rmd/rss/item/tag:reuters.com,2023:newsml_KBN2XB0FC:1?channel=FES376\n",
      ".http://rmb.reuters.com/rmd/rss/item/tag:reuters.com,2023:newsml_KBN2XB0FV:1?channel=FES376\n",
      "\n",
      "JSON Object == None: Index: 10 ; source: Reuters ; URL: http://rmb.reuters.com/rmd/rss/item/tag:reuters.com,2023:newsml_KBN2XB0FV:1?channel=FES376\n",
      ".https://www.reuters.com/breakingviews/ai-boom-could-expose-investors-natural-stupidity-2023-05-19/\n",
      "\n",
      "Missing JSON key: Index: 11 ; source: Reuters ; URL: https://www.reuters.com/breakingviews/ai-boom-could-expose-investors-natural-stupidity-2023-05-19/\n",
      ".https://www.reuters.com/business/healthcare-pharmaceuticals/novo-nordisk-says-trial-oral-weight-loss-drug-shows-significant-result-2023-05-22/\n",
      "\n",
      "Missing JSON key: Index: 12 ; source: Reuters ; URL: https://www.reuters.com/business/healthcare-pharmaceuticals/novo-nordisk-says-trial-oral-weight-loss-drug-shows-significant-result-2023-05-22/\n",
      ".https://www.reuters.com/investigates/special-report/crypto-binance-money/\n",
      "\n",
      "Missing JSON key: Index: 13 ; source: Reuters ; URL: https://www.reuters.com/investigates/special-report/crypto-binance-money/\n",
      "Class != article__content-container\n",
      "Class != speakable\n",
      "Class != entry-content\n",
      "Could not parse\n",
      ".https://www.reuters.com/investigates/special-report/crypto-binance-money/\n",
      "\n",
      "Missing JSON key: Index: 14 ; source: Reuters ; URL: https://www.reuters.com/investigates/special-report/crypto-binance-money/\n",
      "Class != article__content-container\n",
      "Class != speakable\n",
      "Class != entry-content\n",
      "Could not parse\n",
      ".http://rmb.reuters.com/rmd/rss/item/tag:reuters.com,2023:newsml_KBN2XE02F:2?channel=FES376\n",
      "\n",
      "JSON Object == None: Index: 15 ; source: Reuters ; URL: http://rmb.reuters.com/rmd/rss/item/tag:reuters.com,2023:newsml_KBN2XE02F:2?channel=FES376\n",
      ".https://www.reuters.com/business/john-allan-step-down-early-barratt-developments-chair-2023-05-23/\n",
      "\n",
      "Missing JSON key: Index: 16 ; source: Reuters ; URL: https://www.reuters.com/business/john-allan-step-down-early-barratt-developments-chair-2023-05-23/\n",
      ".https://www.reuters.com/investigates/special-report/usa-healthcare-settlements/\n",
      "\n",
      "Missing JSON key: Index: 17 ; source: Reuters ; URL: https://www.reuters.com/investigates/special-report/usa-healthcare-settlements/\n",
      "Class != article__content-container\n",
      "Class != speakable\n",
      "Class != entry-content\n",
      "Could not parse\n",
      ".https://www.reuters.com/investigates/special-report/usa-healthcare-settlements/\n",
      "\n",
      "Missing JSON key: Index: 18 ; source: Reuters ; URL: https://www.reuters.com/investigates/special-report/usa-healthcare-settlements/\n",
      "Class != article__content-container\n",
      "Class != speakable\n",
      "Class != entry-content\n",
      "Could not parse\n",
      ".http://rmb.reuters.com/rmd/rss/item/tag:reuters.com,2023:newsml_KBN2XE1HM:11?channel=FES376\n",
      "\n",
      "JSON Object == None: Index: 19 ; source: Reuters ; URL: http://rmb.reuters.com/rmd/rss/item/tag:reuters.com,2023:newsml_KBN2XE1HM:11?channel=FES376\n",
      ".https://www.reuters.com/business/environment/un-says-us-concerns-have-led-insurers-quitting-climate-alliance-2023-05-24/\n",
      "\n",
      "Missing JSON key: Index: 20 ; source: Reuters ; URL: https://www.reuters.com/business/environment/un-says-us-concerns-have-led-insurers-quitting-climate-alliance-2023-05-24/\n",
      ".https://www.reuters.com/investigates/special-report/usa-healthcare-settlements/\n",
      "\n",
      "Missing JSON key: Index: 21 ; source: Reuters ; URL: https://www.reuters.com/investigates/special-report/usa-healthcare-settlements/\n",
      "Class != article__content-container\n",
      "Class != speakable\n",
      "Class != entry-content\n",
      "Could not parse\n",
      ".http://rmb.reuters.com/rmd/rss/item/tag:reuters.com,2023:newsml_KBN2XE1HM:11?channel=FES376\n",
      "\n",
      "JSON Object == None: Index: 22 ; source: Reuters ; URL: http://rmb.reuters.com/rmd/rss/item/tag:reuters.com,2023:newsml_KBN2XE1HM:11?channel=FES376\n",
      ".http://rmb.reuters.com/rmd/rss/item/tag:reuters.com,2023:newsml_KBN2XG17C:7?channel=FES376\n",
      "\n",
      "JSON Object == None: Index: 23 ; source: Reuters ; URL: http://rmb.reuters.com/rmd/rss/item/tag:reuters.com,2023:newsml_KBN2XG17C:7?channel=FES376\n",
      ".https://www.reuters.com/business/retail-consumer/orders-surge-trans-designer-after-target-pulls-products-2023-05-25/\n",
      "\n",
      "Missing JSON key: Index: 24 ; source: Reuters ; URL: https://www.reuters.com/business/retail-consumer/orders-surge-trans-designer-after-target-pulls-products-2023-05-25/\n",
      ".http://rmb.reuters.com/rmd/rss/item/tag:reuters.com,2023:newsml_KBN2XG144:1?channel=FES376\n",
      "\n",
      "JSON Object == None: Index: 25 ; source: Reuters ; URL: http://rmb.reuters.com/rmd/rss/item/tag:reuters.com,2023:newsml_KBN2XG144:1?channel=FES376\n",
      ".http://rmb.reuters.com/rmd/rss/item/tag:reuters.com,2023:newsml_KBN2XG17C:7?channel=FES376\n",
      "\n",
      "JSON Object == None: Index: 26 ; source: Reuters ; URL: http://rmb.reuters.com/rmd/rss/item/tag:reuters.com,2023:newsml_KBN2XG17C:7?channel=FES376\n",
      ".http://rmb.reuters.com/rmd/rss/item/tag:reuters.com,2023:newsml_KBN2X81AQ:5?channel=FES376\n",
      "\n",
      "JSON Object == None: Index: 27 ; source: Reuters ; URL: http://rmb.reuters.com/rmd/rss/item/tag:reuters.com,2023:newsml_KBN2X81AQ:5?channel=FES376\n",
      ".http://rmb.reuters.com/rmd/rss/item/tag:reuters.com,2023:newsml_KBN2X81AQ:5?channel=FES376\n",
      "\n",
      "JSON Object == None: Index: 28 ; source: Reuters ; URL: http://rmb.reuters.com/rmd/rss/item/tag:reuters.com,2023:newsml_KBN2X81AQ:5?channel=FES376\n",
      ".https://www.reuters.com/business/autos-transportation/tesla-succession-planning-demand-focus-ahead-shareholder-meeting-2023-05-16/\n",
      "\n",
      "Missing JSON key: Index: 29 ; source: Reuters ; URL: https://www.reuters.com/business/autos-transportation/tesla-succession-planning-demand-focus-ahead-shareholder-meeting-2023-05-16/\n",
      ".https://www.reuters.com/technology/openai-chief-goes-before-us-congress-propose-licenses-building-ai-2023-05-16/\n",
      "\n",
      "Missing JSON key: Index: 30 ; source: Reuters ; URL: https://www.reuters.com/technology/openai-chief-goes-before-us-congress-propose-licenses-building-ai-2023-05-16/\n",
      ".https://www.reuters.com/technology/openai-chief-goes-before-us-congress-propose-licenses-building-ai-2023-05-16/\n",
      "\n",
      "Missing JSON key: Index: 31 ; source: Reuters ; URL: https://www.reuters.com/technology/openai-chief-goes-before-us-congress-propose-licenses-building-ai-2023-05-16/\n",
      ".https://www.reuters.com/business/healthcare-pharmaceuticals/brazil-confirms-2-wild-cases-bird-flu-no-import-ban-expected-2023-05-15/\n",
      "\n",
      "Missing JSON key: Index: 32 ; source: Reuters ; URL: https://www.reuters.com/business/healthcare-pharmaceuticals/brazil-confirms-2-wild-cases-bird-flu-no-import-ban-expected-2023-05-15/\n",
      ".http://rmb.reuters.com/rmd/rss/item/tag:reuters.com,2023:newsml_KBN2XH0TM:1?channel=TRn222\n",
      "\n",
      "JSON Object == None: Index: 33 ; source: Reuters ; URL: http://rmb.reuters.com/rmd/rss/item/tag:reuters.com,2023:newsml_KBN2XH0TM:1?channel=TRn222\n",
      ".https://www.reuters.com/business/aerospace-defense/soaring-airline-customer-complaints-push-global-legislators-act-2023-05-26/\n",
      "\n",
      "Missing JSON key: Index: 34 ; source: Reuters ; URL: https://www.reuters.com/business/aerospace-defense/soaring-airline-customer-complaints-push-global-legislators-act-2023-05-26/\n",
      ".https://www.reuters.com/business/autos-transportation/german-authorities-looking-into-possible-data-protection-violations-by-tesla-2023-05-25/\n",
      "\n",
      "Missing JSON key: Index: 35 ; source: Reuters ; URL: https://www.reuters.com/business/autos-transportation/german-authorities-looking-into-possible-data-protection-violations-by-tesla-2023-05-25/\n",
      ".http://rmb.reuters.com/rmd/rss/item/tag:reuters.com,2023:newsml_KBN2XH0O2:7?channel=FES376\n",
      "\n",
      "JSON Object == None: Index: 36 ; source: Reuters ; URL: http://rmb.reuters.com/rmd/rss/item/tag:reuters.com,2023:newsml_KBN2XH0O2:7?channel=FES376\n",
      ".http://rmb.reuters.com/rmd/rss/item/tag:reuters.com,2023:newsml_KBN2XH1P9:3?channel=FES376\n",
      "\n",
      "JSON Object == None: Index: 37 ; source: Reuters ; URL: http://rmb.reuters.com/rmd/rss/item/tag:reuters.com,2023:newsml_KBN2XH1P9:3?channel=FES376\n",
      ".http://rmb.reuters.com/rmd/rss/item/tag:reuters.com,2023:newsml_KBN2XH0O2:7?channel=FES376\n",
      "\n",
      "JSON Object == None: Index: 38 ; source: Reuters ; URL: http://rmb.reuters.com/rmd/rss/item/tag:reuters.com,2023:newsml_KBN2XH0O2:7?channel=FES376\n",
      ".https://www.reuters.com/business/environment/pacific-islands-spotlight-push-climate-change-south-korea-summit-2023-05-27/\n",
      "\n",
      "Missing JSON key: Index: 39 ; source: Reuters ; URL: https://www.reuters.com/business/environment/pacific-islands-spotlight-push-climate-change-south-korea-summit-2023-05-27/\n",
      ".http://rmb.reuters.com/rmd/rss/item/tag:reuters.com,2023:newsml_KBN2XH1P9:3?channel=FES376\n",
      "\n",
      "JSON Object == None: Index: 40 ; source: Reuters ; URL: http://rmb.reuters.com/rmd/rss/item/tag:reuters.com,2023:newsml_KBN2XH1P9:3?channel=FES376\n",
      ".https://www.reuters.com/business/energy/oil-climbs-after-us-leaders-strike-provisional-debt-deal-2023-05-28/\n",
      "\n",
      "Missing JSON key: Index: 41 ; source: Reuters ; URL: https://www.reuters.com/business/energy/oil-climbs-after-us-leaders-strike-provisional-debt-deal-2023-05-28/\n",
      ".https://www.reuters.com/business/aerospace-defense/inside-south-koreas-race-become-one-worlds-biggest-arms-dealers-2023-05-29/\n",
      "\n",
      "Missing JSON key: Index: 42 ; source: Reuters ; URL: https://www.reuters.com/business/aerospace-defense/inside-south-koreas-race-become-one-worlds-biggest-arms-dealers-2023-05-29/\n",
      ".http://rmb.reuters.com/rmd/rss/item/tag:reuters.com,2023:newsml_KBN2XL0IR:6?channel=FES376\n",
      "\n",
      "JSON Object == None: Index: 43 ; source: Reuters ; URL: http://rmb.reuters.com/rmd/rss/item/tag:reuters.com,2023:newsml_KBN2XL0IR:6?channel=FES376\n",
      ".http://rmb.reuters.com/rmd/rss/item/tag:reuters.com,2023:newsml_KBN2XK0V4:3?channel=FES376\n",
      "\n",
      "JSON Object == None: Index: 44 ; source: Reuters ; URL: http://rmb.reuters.com/rmd/rss/item/tag:reuters.com,2023:newsml_KBN2XK0V4:3?channel=FES376\n",
      ".http://rmb.reuters.com/rmd/rss/item/tag:reuters.com,2023:newsml_KBN2XL0IR:6?channel=FES376\n",
      "\n",
      "JSON Object == None: Index: 45 ; source: Reuters ; URL: http://rmb.reuters.com/rmd/rss/item/tag:reuters.com,2023:newsml_KBN2XL0IR:6?channel=FES376\n",
      ".http://rmb.reuters.com/rmd/rss/item/tag:reuters.com,2023:newsml_KBN2XM1PY:1?channel=FES376\n",
      "\n",
      "JSON Object == None: Index: 46 ; source: Reuters ; URL: http://rmb.reuters.com/rmd/rss/item/tag:reuters.com,2023:newsml_KBN2XM1PY:1?channel=FES376\n",
      ".http://rmb.reuters.com/rmd/rss/item/tag:reuters.com,2023:newsml_KBN2XM1PY:1?channel=FES376\n",
      "\n",
      "JSON Object == None: Index: 47 ; source: Reuters ; URL: http://rmb.reuters.com/rmd/rss/item/tag:reuters.com,2023:newsml_KBN2XM1PY:1?channel=FES376\n",
      ".https://www.reuters.com/business/energy/texas-battery-rush-oil-states-power-woes-fuel-energy-storage-boom-2023-05-31/\n",
      "\n",
      "Missing JSON key: Index: 48 ; source: Reuters ; URL: https://www.reuters.com/business/energy/texas-battery-rush-oil-states-power-woes-fuel-energy-storage-boom-2023-05-31/\n",
      ".Start Time = 2023-06-11\n",
      "End Time = 2023-06-11\n",
      "Elapsed Time = 0:00:00\n"
     ]
    }
   ],
   "source": [
    "slct_tbl_full_df02 = api_record_df.copy()\n",
    "\n",
    "\n",
    "slct_tbl_full_df02['article_parsed'] = ''\n",
    "\n",
    "total_urls = len(slct_tbl_full_df02)\n",
    "\n",
    "# Start timer\n",
    "start_time = datetime.date.today()\n",
    "\n",
    "\n",
    "for i, row in enumerate(slct_tbl_full_df02.itertuples(), 1):\n",
    "    print(row[4])\n",
    "    article=[]\n",
    "    #url = slct_tbl_full_df02.at[i,'URL']\n",
    "    url=row[4]\n",
    "    response = requests.get(url)\n",
    "    time.sleep(5 + 10*random.random())\n",
    "\n",
    "    soup = BeautifulSoup(response.text, 'html.parser')\n",
    "\n",
    "    try:\n",
    "        script_tag = soup.find('script', {'type': 'application/ld+json'})\n",
    "        if script_tag == None:\n",
    "            print('\\nJSON Object == None: Index:', i-1, '; source:',\n",
    "                  row[1],\n",
    "                  '; URL:', row[4]) \n",
    "        else:\n",
    "            article_json = json.loads(script_tag.string)\n",
    "            article_content = article_json['articleBody']\n",
    "            slct_tbl_full_df02.at[row.Index, 'article_parsed'] = article_content\n",
    "\n",
    "    except KeyError:\n",
    "        print('\\nMissing JSON key: Index:', i-1, '; source:',\n",
    "              row[1],\n",
    "              '; URL:', row[4]) \n",
    "        article_body = soup.find('div', class_='article__content__6hMn9') #Reuters scrape attempt\n",
    "\n",
    "        if article_body is None: #forfoxandbreitbert(sometimes)\n",
    "            print('Class != article__content-container')\n",
    "            article_body = soup.find('p', class_=\"speakable\")\n",
    "            if article_body is None: #breitbert(most)\n",
    "                print('Class != speakable')\n",
    "                article_body = soup.find('div', class_='entry-content')\n",
    "                if article_body is None: #WashPost\n",
    "                    print('Class != entry-content')\n",
    "                    article_body = soup.find('div',class_='article-body')\n",
    "\n",
    "        if article_body is not None:\n",
    "            article_text = article_body.get_text()\n",
    "            slct_tbl_full_df02.at[row.Index, 'article_parsed'] = article_text\n",
    "        else:\n",
    "            print('Could not parse')\n",
    "\n",
    "    print('.', end='')\n",
    "        \n",
    "# End timer script\n",
    "end_time = datetime.date.today()\n",
    "time_elapse = end_time - start_time\n",
    "print(f'Start Time = {start_time}')\n",
    "print(f'End Time = {end_time}')\n",
    "print(f'Elapsed Time = {time_elapse}')"
   ]
  },
  {
   "attachments": {},
   "cell_type": "markdown",
   "id": "932d5c14",
   "metadata": {},
   "source": [
    "#### Check Data:"
   ]
  },
  {
   "cell_type": "code",
   "execution_count": 25,
   "id": "80c72fa3",
   "metadata": {},
   "outputs": [
    {
     "data": {
      "text/plain": [
       "Unnamed: 0        0\n",
       "Source            0\n",
       "Author            0\n",
       "Title             0\n",
       "URL               0\n",
       "date              0\n",
       "content           0\n",
       "article_parsed    0\n",
       "dtype: int64"
      ]
     },
     "execution_count": 25,
     "metadata": {},
     "output_type": "execute_result"
    }
   ],
   "source": [
    "slct_tbl_full_df02.isnull().sum()"
   ]
  },
  {
   "cell_type": "code",
   "execution_count": 175,
   "id": "63db2e8e",
   "metadata": {},
   "outputs": [],
   "source": [
    "api_record_df_latest=slct_tbl_full_df02.copy()"
   ]
  },
  {
   "attachments": {},
   "cell_type": "markdown",
   "id": "d5e263c2",
   "metadata": {},
   "source": [
    "Make sure Word count for parsed article is correct:"
   ]
  },
  {
   "cell_type": "code",
   "execution_count": 176,
   "id": "5677bf60",
   "metadata": {},
   "outputs": [],
   "source": [
    "api_record_df_latest['word_count'] = api_record_df_latest['article_parsed'].apply(lambda x: len(str(x).split(\" \")))"
   ]
  },
  {
   "attachments": {},
   "cell_type": "markdown",
   "id": "57dace2e",
   "metadata": {},
   "source": [
    "Only include rows with a word_count greater than 1:"
   ]
  },
  {
   "cell_type": "code",
   "execution_count": null,
   "id": "b4aff7d5",
   "metadata": {},
   "outputs": [],
   "source": [
    "api_record_df_latest = api_record_df_latest[api_record_df_latest['word_count']>1]"
   ]
  },
  {
   "attachments": {},
   "cell_type": "markdown",
   "id": "87a7f4e8",
   "metadata": {},
   "source": [
    "Save Data to CSV:"
   ]
  },
  {
   "cell_type": "code",
   "execution_count": 177,
   "id": "9cfb9de7",
   "metadata": {},
   "outputs": [],
   "source": [
    "api_record_df_latest.to_csv(\"News_API_Susy_word_count2.csv\", sep=',')\n"
   ]
  },
  {
   "cell_type": "code",
   "execution_count": 178,
   "id": "33e27d94",
   "metadata": {},
   "outputs": [
    {
     "data": {
      "text/html": [
       "<div>\n",
       "<style scoped>\n",
       "    .dataframe tbody tr th:only-of-type {\n",
       "        vertical-align: middle;\n",
       "    }\n",
       "\n",
       "    .dataframe tbody tr th {\n",
       "        vertical-align: top;\n",
       "    }\n",
       "\n",
       "    .dataframe thead th {\n",
       "        text-align: right;\n",
       "    }\n",
       "</style>\n",
       "<table border=\"1\" class=\"dataframe\">\n",
       "  <thead>\n",
       "    <tr style=\"text-align: right;\">\n",
       "      <th></th>\n",
       "      <th>Source</th>\n",
       "      <th>Author</th>\n",
       "      <th>Title</th>\n",
       "      <th>URL</th>\n",
       "      <th>date</th>\n",
       "      <th>content</th>\n",
       "      <th>article_parsed</th>\n",
       "      <th>word_count</th>\n",
       "    </tr>\n",
       "  </thead>\n",
       "  <tbody>\n",
       "    <tr>\n",
       "      <th>0</th>\n",
       "      <td>Reuters</td>\n",
       "      <td>None</td>\n",
       "      <td>Montana becomes first US state to ban TikTok</td>\n",
       "      <td>https://www.reuters.com/world/us/montana-gover...</td>\n",
       "      <td>2023-05-18T13:42:12Z</td>\n",
       "      <td>WASHINGTON, May 17 (Reuters) - Montana Governo...</td>\n",
       "      <td>United StatesMontana to become first US state ...</td>\n",
       "      <td>727</td>\n",
       "    </tr>\n",
       "    <tr>\n",
       "      <th>1</th>\n",
       "      <td>Reuters</td>\n",
       "      <td>Reuters</td>\n",
       "      <td>Billionaire real estate investor Sam Zell dies...</td>\n",
       "      <td>https://www.reuters.com/business/billionaire-r...</td>\n",
       "      <td>2023-05-18T15:23:08Z</td>\n",
       "      <td>May 18 (Reuters) - Billionaire Sam Zell, who b...</td>\n",
       "      <td>BusinessSam Zell, billionaire real estate inve...</td>\n",
       "      <td>368</td>\n",
       "    </tr>\n",
       "    <tr>\n",
       "      <th>2</th>\n",
       "      <td>Reuters</td>\n",
       "      <td>None</td>\n",
       "      <td>Montana becomes first US state to ban TikTok</td>\n",
       "      <td>https://www.reuters.com/world/us/montana-gover...</td>\n",
       "      <td>2023-05-18T13:42:12Z</td>\n",
       "      <td>WASHINGTON, May 17 (Reuters) - Montana Governo...</td>\n",
       "      <td>United StatesMontana to become first US state ...</td>\n",
       "      <td>727</td>\n",
       "    </tr>\n",
       "    <tr>\n",
       "      <th>3</th>\n",
       "      <td>Reuters</td>\n",
       "      <td>Lisa Richwine</td>\n",
       "      <td>Disney to close Star Wars hotel that opened in...</td>\n",
       "      <td>https://www.reuters.com/business/disney-close-...</td>\n",
       "      <td>2023-05-18T22:09:31Z</td>\n",
       "      <td>LOS ANGELES, May 18 (Reuters) - Walt Disney Co...</td>\n",
       "      <td>BusinessDisney to close Star Wars hotel that o...</td>\n",
       "      <td>312</td>\n",
       "    </tr>\n",
       "    <tr>\n",
       "      <th>4</th>\n",
       "      <td>Reuters</td>\n",
       "      <td>Dawn Chmielewski</td>\n",
       "      <td>Disney cancels plans to relocate 2,000 jobs to...</td>\n",
       "      <td>https://www.reuters.com/business/media-telecom...</td>\n",
       "      <td>2023-05-18T18:26:03Z</td>\n",
       "      <td>LOS ANGELES, May 18 (Reuters) - Walt Disney Co...</td>\n",
       "      <td>World at WorkDisney cancels plans for $1 billi...</td>\n",
       "      <td>703</td>\n",
       "    </tr>\n",
       "    <tr>\n",
       "      <th>...</th>\n",
       "      <td>...</td>\n",
       "      <td>...</td>\n",
       "      <td>...</td>\n",
       "      <td>...</td>\n",
       "      <td>...</td>\n",
       "      <td>...</td>\n",
       "      <td>...</td>\n",
       "      <td>...</td>\n",
       "    </tr>\n",
       "    <tr>\n",
       "      <th>44</th>\n",
       "      <td>Reuters</td>\n",
       "      <td>Towleroad</td>\n",
       "      <td>Blinken says US to consider visa restrictions ...</td>\n",
       "      <td>http://rmb.reuters.com/rmd/rss/item/tag:reuter...</td>\n",
       "      <td>2023-05-30T17:13:45Z</td>\n",
       "      <td>WASHINGTON (Reuters) – U.S. Secretary of State...</td>\n",
       "      <td></td>\n",
       "      <td>1</td>\n",
       "    </tr>\n",
       "    <tr>\n",
       "      <th>45</th>\n",
       "      <td>Reuters</td>\n",
       "      <td>Towleroad</td>\n",
       "      <td>Deepfaking it: America’s 2024 election collide...</td>\n",
       "      <td>http://rmb.reuters.com/rmd/rss/item/tag:reuter...</td>\n",
       "      <td>2023-05-30T17:12:23Z</td>\n",
       "      <td>(Note: Strong language in paragraph 10)\\r\\nBy ...</td>\n",
       "      <td></td>\n",
       "      <td>1</td>\n",
       "    </tr>\n",
       "    <tr>\n",
       "      <th>46</th>\n",
       "      <td>Reuters</td>\n",
       "      <td>Towleroad</td>\n",
       "      <td>Trump captured on tape acknowledging he kept a...</td>\n",
       "      <td>http://rmb.reuters.com/rmd/rss/item/tag:reuter...</td>\n",
       "      <td>2023-05-31T22:57:34Z</td>\n",
       "      <td>WASHINGTON (Reuters) – Federal prosecutors hav...</td>\n",
       "      <td></td>\n",
       "      <td>1</td>\n",
       "    </tr>\n",
       "    <tr>\n",
       "      <th>47</th>\n",
       "      <td>Reuters</td>\n",
       "      <td>Towleroad</td>\n",
       "      <td>Trump captured on tape acknowledging he kept a...</td>\n",
       "      <td>http://rmb.reuters.com/rmd/rss/item/tag:reuter...</td>\n",
       "      <td>2023-05-31T22:57:34Z</td>\n",
       "      <td>WASHINGTON (Reuters) – Federal prosecutors hav...</td>\n",
       "      <td></td>\n",
       "      <td>1</td>\n",
       "    </tr>\n",
       "    <tr>\n",
       "      <th>48</th>\n",
       "      <td>Reuters</td>\n",
       "      <td>Nichola Groom</td>\n",
       "      <td>Texas battery rush: Oil state's power woes fue...</td>\n",
       "      <td>https://www.reuters.com/business/energy/texas-...</td>\n",
       "      <td>2023-05-31T10:37:12Z</td>\n",
       "      <td>May 31 (Reuters) - BlackRock, Korea's SK, Swit...</td>\n",
       "      <td>EnergySustainable MarketsRegulatory OversightG...</td>\n",
       "      <td>1167</td>\n",
       "    </tr>\n",
       "  </tbody>\n",
       "</table>\n",
       "<p>49 rows × 8 columns</p>\n",
       "</div>"
      ],
      "text/plain": [
       "     Source            Author  \\\n",
       "0   Reuters              None   \n",
       "1   Reuters           Reuters   \n",
       "2   Reuters              None   \n",
       "3   Reuters     Lisa Richwine   \n",
       "4   Reuters  Dawn Chmielewski   \n",
       "..      ...               ...   \n",
       "44  Reuters         Towleroad   \n",
       "45  Reuters         Towleroad   \n",
       "46  Reuters         Towleroad   \n",
       "47  Reuters         Towleroad   \n",
       "48  Reuters     Nichola Groom   \n",
       "\n",
       "                                                Title  \\\n",
       "0        Montana becomes first US state to ban TikTok   \n",
       "1   Billionaire real estate investor Sam Zell dies...   \n",
       "2        Montana becomes first US state to ban TikTok   \n",
       "3   Disney to close Star Wars hotel that opened in...   \n",
       "4   Disney cancels plans to relocate 2,000 jobs to...   \n",
       "..                                                ...   \n",
       "44  Blinken says US to consider visa restrictions ...   \n",
       "45  Deepfaking it: America’s 2024 election collide...   \n",
       "46  Trump captured on tape acknowledging he kept a...   \n",
       "47  Trump captured on tape acknowledging he kept a...   \n",
       "48  Texas battery rush: Oil state's power woes fue...   \n",
       "\n",
       "                                                  URL                  date  \\\n",
       "0   https://www.reuters.com/world/us/montana-gover...  2023-05-18T13:42:12Z   \n",
       "1   https://www.reuters.com/business/billionaire-r...  2023-05-18T15:23:08Z   \n",
       "2   https://www.reuters.com/world/us/montana-gover...  2023-05-18T13:42:12Z   \n",
       "3   https://www.reuters.com/business/disney-close-...  2023-05-18T22:09:31Z   \n",
       "4   https://www.reuters.com/business/media-telecom...  2023-05-18T18:26:03Z   \n",
       "..                                                ...                   ...   \n",
       "44  http://rmb.reuters.com/rmd/rss/item/tag:reuter...  2023-05-30T17:13:45Z   \n",
       "45  http://rmb.reuters.com/rmd/rss/item/tag:reuter...  2023-05-30T17:12:23Z   \n",
       "46  http://rmb.reuters.com/rmd/rss/item/tag:reuter...  2023-05-31T22:57:34Z   \n",
       "47  http://rmb.reuters.com/rmd/rss/item/tag:reuter...  2023-05-31T22:57:34Z   \n",
       "48  https://www.reuters.com/business/energy/texas-...  2023-05-31T10:37:12Z   \n",
       "\n",
       "                                              content  \\\n",
       "0   WASHINGTON, May 17 (Reuters) - Montana Governo...   \n",
       "1   May 18 (Reuters) - Billionaire Sam Zell, who b...   \n",
       "2   WASHINGTON, May 17 (Reuters) - Montana Governo...   \n",
       "3   LOS ANGELES, May 18 (Reuters) - Walt Disney Co...   \n",
       "4   LOS ANGELES, May 18 (Reuters) - Walt Disney Co...   \n",
       "..                                                ...   \n",
       "44  WASHINGTON (Reuters) – U.S. Secretary of State...   \n",
       "45  (Note: Strong language in paragraph 10)\\r\\nBy ...   \n",
       "46  WASHINGTON (Reuters) – Federal prosecutors hav...   \n",
       "47  WASHINGTON (Reuters) – Federal prosecutors hav...   \n",
       "48  May 31 (Reuters) - BlackRock, Korea's SK, Swit...   \n",
       "\n",
       "                                       article_parsed  word_count  \n",
       "0   United StatesMontana to become first US state ...         727  \n",
       "1   BusinessSam Zell, billionaire real estate inve...         368  \n",
       "2   United StatesMontana to become first US state ...         727  \n",
       "3   BusinessDisney to close Star Wars hotel that o...         312  \n",
       "4   World at WorkDisney cancels plans for $1 billi...         703  \n",
       "..                                                ...         ...  \n",
       "44                                                              1  \n",
       "45                                                              1  \n",
       "46                                                              1  \n",
       "47                                                              1  \n",
       "48  EnergySustainable MarketsRegulatory OversightG...        1167  \n",
       "\n",
       "[49 rows x 8 columns]"
      ]
     },
     "execution_count": 178,
     "metadata": {},
     "output_type": "execute_result"
    }
   ],
   "source": [
    "api_record_df_latest.tail(100)"
   ]
  },
  {
   "attachments": {},
   "cell_type": "markdown",
   "id": "c3a8d3af",
   "metadata": {},
   "source": [
    "#### Old article parsed method (mine)"
   ]
  },
  {
   "cell_type": "code",
   "execution_count": 308,
   "id": "c2d1c944",
   "metadata": {},
   "outputs": [],
   "source": [
    "article=[]\n",
    "\n",
    "for index, rows in api_record_df.iterrows():\n",
    "    article=[]\n",
    "    url = api_record_df.at[index,'URL']\n",
    "    response = requests.get(url)\n",
    "    time.sleep(5 + 10*random.random())\n",
    "\n",
    "    soup = BeautifulSoup(response.text, 'html.parser')\n",
    "    #forcnn\n",
    "    article_body = soup.find('div', class_='article__content-container')\n",
    "    \n",
    "    if article_body is None: #forfoxandbreitbert(sometimes)\n",
    "        article_body = soup.find('p', class_=\"speakable\")\n",
    "        if article_body is None: #breitbert(most)\n",
    "            article_body = soup.find('div', class_='entry-content')\n",
    "            if article_body is None: #WashPost\n",
    "                article_body = soup.find('div',class_='article-body')\n",
    "                #if article_body is None:\n",
    "                #    break\n",
    "                                         \n",
    "\n",
    "    if article_body is not None:\n",
    "        article_text = article_body.get_text()\n",
    "        api_record_df.at[index,'full_text']=article_text\n",
    "\n"
   ]
  },
  {
   "cell_type": "code",
   "execution_count": 309,
   "id": "c1a09208",
   "metadata": {},
   "outputs": [
    {
     "data": {
      "text/plain": [
       "Fox News               84\n",
       "Breitbart News         53\n",
       "CNN                    37\n",
       "The Washington Post    25\n",
       "Name: Source, dtype: int64"
      ]
     },
     "execution_count": 309,
     "metadata": {},
     "output_type": "execute_result"
    }
   ],
   "source": [
    "api_record_df['Source'].value_counts()"
   ]
  },
  {
   "cell_type": "code",
   "execution_count": 310,
   "id": "3a4f4d8c",
   "metadata": {},
   "outputs": [
    {
     "data": {
      "text/plain": [
       "Source       0\n",
       "Author       2\n",
       "Title        0\n",
       "URL          0\n",
       "date         0\n",
       "content      0\n",
       "full_text    2\n",
       "dtype: int64"
      ]
     },
     "execution_count": 310,
     "metadata": {},
     "output_type": "execute_result"
    }
   ],
   "source": [
    "api_record_df.isnull().sum()"
   ]
  },
  {
   "attachments": {},
   "cell_type": "markdown",
   "id": "26b6bc70",
   "metadata": {},
   "source": [
    "Save dataframe to csv file:"
   ]
  },
  {
   "cell_type": "code",
   "execution_count": 336,
   "id": "ede1c2fc",
   "metadata": {},
   "outputs": [],
   "source": [
    "#api_record_df.to_csv(\"News_API_FOX_CNN_Breitbert_WAPOST_allcolumns.csv\", sep=',')"
   ]
  },
  {
   "cell_type": "code",
   "execution_count": null,
   "id": "be471749",
   "metadata": {},
   "outputs": [],
   "source": [
    "api_record_df.to_csv(\"News_API_FOX_CNN_Breitbert_WAPOST_allcolumns.csv\", sep=',')"
   ]
  },
  {
   "cell_type": "code",
   "execution_count": 138,
   "id": "9331b71e",
   "metadata": {},
   "outputs": [],
   "source": [
    "api_record_df_latest.to_csv(\"Reuters_article.csv\", sep=',')"
   ]
  },
  {
   "cell_type": "code",
   "execution_count": 10,
   "id": "0f82433d-b1a9-4c22-b3b1-ac3c8208e8aa",
   "metadata": {},
   "outputs": [
    {
     "name": "stdout",
     "output_type": "stream",
     "text": [
      "{('Fox News', 'Lawrence Richard', \"Texas legislature's first special session focusing on border security, cutting property taxes, Abbott reveals\", 'https://www.foxnews.com/politics/texas-legislatures-first-special-session-focusing-border-security-cutting-property-taxes-abbott-reveals', '2023-05-30T06:00:33Z', \"Texas Gov. Greg Abbott revealed agenda items for the state legislature's first special session late Monday evening a list that includes cutting property taxes and providing funds to secure the U.S.-M… [+2386 chars]\"), ('Fox News', 'Paul Steinhauser', 'Potential 2024 Republican presidential contender moves a step closer to launching a campaign', 'https://www.foxnews.com/politics/potential-2024-republican-presidential-contender-moves-step-closer-launching-campaign', '2023-05-30T15:25:48Z', 'Long-time supporters and allies of former New Jersey Gov. Chris Christie are launching a super PAC to back his likely campaign for the 2024 Republican presidential nomination, Fox News has confirmed.… [+3209 chars]'), ('Newsweek', 'Aleks Phillips', \"Donald Trump's Pride Merchandise Resurfaces Amid Target, Bud Light Backlash\", 'https://www.newsweek.com/donald-trump-pride-merchandise-target-bud-light-backlash-1803353', '2023-05-30T14:50:32Z', \"Conservatives calling for boycotts of brands that express support for the LGBTQ+ community have been accused of hypocrisy after Donald Trump's Pride range of merchandise resurfaced on social media.\\r\\n… [+4367 chars]\"), ('Fox News', 'Associated Press', \"Greek Education Ministry target of cyberattack, most extensive in country's history\", 'https://www.foxnews.com/world/greek-education-ministry-target-cyberattack-extensive-countrys-history', '2023-05-30T16:22:54Z', 'Greeces Education Ministry says it has been targeted in a cyberattack described as the most extensive in the countrys history, aimed at disabling a centralized high school examination platform.\\r\\nIt s… [+1690 chars]'), ('CNN', 'Nicki Brown', \"Colleges will soon have option to hide students' race and ethnicity information on applications submitted through Common App\", 'https://www.cnn.com/2023/05/30/us/college-common-app-race-ethnicity/index.html', '2023-05-30T17:37:28Z', 'Colleges will soon have the option to hide students race and ethnicity information on applications submitted through Common App, according to the organization. \\r\\nThe move comes as the Supreme Court i… [+2307 chars]'), ('Newsweek', None, 'The Cloud Revolution in Marketing', 'https://www.newsweek.com/cloud-revolution-marketing-1802918', '2023-05-30T16:00:34Z', 'Like every facet of life, marketing evolves with technology—and nothing typifies recent shifts more aptly than the ongoing cloud revolution. While traditional marketing strategies, such as print ads,… [+7044 chars]'), ('Fox News', 'Landon Mion', 'Minnesota Gov. Walz expected to sign bill legalizing recreational marijuana', 'https://www.foxnews.com/politics/minnesota-governor-expected-sign-bill-legalizing-recreational-marijuana', '2023-05-30T10:20:05Z', \"Minnesota Gov. Tim Walz, a Democrat, is expected to sign legislation on Tuesday that would legalize recreational marijuana in the state.\\r\\nThe bill is headed to the governor's desk after passing throu… [+1705 chars]\"), ('Newsweek', 'Nick Reynolds', 'Democrats Unable to Return to D.C. for Massive Debt Deal Vote', 'https://www.newsweek.com/democrats-unable-return-dc-massive-debt-deal-vote-1803463', '2023-05-30T22:05:49Z', 'Two members of the House Democratic minority say they are unable to participate in a massive coming vote on a bipartisan deal to raise the federal debt ceiling before the June 5 deadline to default, … [+3995 chars]'), ('Newsweek', 'Ryan Smith', \"Dylan Mulvaney Says She's Been 'Followed' For Months Amid Bud Light Furor\", 'https://www.newsweek.com/dylan-mulvaney-says-has-been-followed-months-amid-bud-light-fiasco-1803309', '2023-05-30T13:29:18Z', 'TikTok star Dylan Mulvaney has revealed that she has been \"followed on and off\" over the past two months amid the ongoing furor over her Bud Light collaboration.\\r\\nOn April 1, the transgender influenc… [+3955 chars]'), ('CNN', 'AJ Willingham', '5 things to know for May 30: Debt limit, Turkey, Ukraine, India, Uganda', 'https://www.cnn.com/2023/05/30/us/five-things-may-30-trnd/index.html', '2023-05-30T10:37:53Z', 'Going on a cruise soon? You may want to skip the terrifying accounts from aboard a Carnival ship that got battered by severe weather this weekend.\\r\\nHeres what else you need to know to Get Up to Speed… [+5783 chars]'), ('Fox News', 'Benjamin Weinthal', 'Iranian president hacked as group claims data shows expanded security around nuclear site', 'https://www.foxnews.com/world/iranian-president-hacked-group-claims-data-shows-expanded-security-around-nuclear-site', '2023-05-30T17:23:23Z', 'JERUSALEMIranian dissident hackers have allegedly claimed they penetrated the servers of the office of the Islamic Republic of Irans President Ebrahim Raisi, revealing on Monday highly sensitive data… [+6077 chars]'), ('Fox News', 'Chris Pandolfo', 'Gavin Newsom blames DeSantis-signed bill for Florida shooting, gets fact-checked', 'https://www.foxnews.com/politics/gavin-newsom-blames-desantis-signed-bill-florida-shooting-fact-checked', '2023-05-30T11:39:51Z', \"California Gov. Gavin Newsom was fact-checked by Florida Gov. Ron DeSantis' spokesman after he blamed the Memorial Day shooting in Hollywood, Florida, on laws DeSantis signed that are not yet in effe… [+3347 chars]\"), ('Newsweek', 'Matthew Impelli', 'Alexandria Ocasio-Cortez Addresses Parody Account Wreaking Havoc on Twitter', 'https://www.newsweek.com/alexandria-ocasio-cortez-addresses-parody-account-wreaking-havoc-twitter-1803439', '2023-05-30T19:49:54Z', 'New York Democratic Representative Alexandria Ocasio-Cortez addressed a parody account on Twitter that was impersonating her and wreaking havoc across the social media platform.\\r\\n\"FYI there\\'s a fake … [+3523 chars]'), ('Fox News', 'Anders Hagstrom', 'Trump vows to end birthright citizenship for children of illegal immigrants', 'https://www.foxnews.com/politics/trump-vows-end-birthright-citizenship-children-illegal-immigrants', '2023-05-30T16:18:06Z', 'Former President Trump will attempt to end birthright citizenship for illegal immigrants if he wins re-election in 2024, he announced Tuesday.\\r\\nTrump said he would sign an executive order to that eff… [+2226 chars]'), ('Newsweek', 'Yevgeny Kuklychev', \"Clip of Lindsey Graham Saying 'Russians Are Dying' Misleadingly Edited\", 'https://www.newsweek.com/clip-lindsey-graham-russians-dying-misleading-1803289', '2023-05-30T12:22:57Z', \"On Friday, May 26, Senator Lindsey Graham became the latest U.S. politician to visit Kyiv following Russia's invasion of Ukraine, meeting with President Volodymyr Zelensky in the capital and expressi… [+7121 chars]\"), ('CNN', 'Sean Lyngaas', \"Intel program's lapse would have 'significant costs for US diplomacy,' State Department official warns\", 'https://www.cnn.com/2023/05/30/politics/us-intelligence-program-702-national-security-ukraine/index.html', '2023-05-30T21:50:10Z', 'There will be significant costs for US diplomacy if Congress doesnt renew a controversial intelligence program gathering communications data that is set to expire this year, a senior State Department… [+2445 chars]'), ('CNN', 'Tami Luhby', \"Obama agreed to $2.1 trillion in spending cuts to end 2011 debt ceiling crisis. Here's what happened next.\", 'https://www.cnn.com/2023/05/30/politics/debt-ceiling-obama-spending-cuts/index.html', '2023-05-30T13:10:50Z', 'The nation is days away from defaulting on its obligations. The Republican House speaker, pushed by conservatives in his party, demands deep spending cuts. The president, a Democrat, works on negotia… [+3876 chars]'), ('CNN', 'Eric Bradner', 'What to know about Ken Paxton, the impeached Texas attorney general', 'https://www.cnn.com/2023/05/30/politics/ken-paxton-what-to-know-texas/index.html', '2023-05-30T19:20:59Z', 'The Texas Houses impeachment of state Attorney General Ken Paxton on Saturday was the latest in a string of legal woes that began shortly after the Republican was first elected in 2014. \\r\\nPaxton is a… [+4677 chars]'), ('Fox News', 'Emma Colton', 'Johns Hopkins Medicine staff given roadmap to navigate dozens of pronouns: ‘faerself, ve, xe\"', 'https://www.foxnews.com/us/johns-hopkins-medicine-staff-given-roadmap-navigate-dozens-pronouns-faerself-ve-xe', '2023-05-30T11:05:34Z', 'Employees at Johns Hopkins Medicine in Maryland were given a new pronoun usage guide that lists dozens of pronouns include \"aerself\" and \"faerself\" while staffers navigate a recent inclusive ID polic… [+4161 chars]'), ('Fox News', 'Patrick Hauf', 'China rejects Biden administration request for meeting between military leaders: report', 'https://www.foxnews.com/politics/china-rejects-biden-administration-request-meeting-between-military-leaders-report', '2023-05-30T13:59:35Z', \"China rejected a request from the Biden administration to schedule a meeting between the two country's leading defense officials, according to a report.\\r\\nChina informed the Pentagon Monday that it de… [+2040 chars]\"), ('Newsweek', 'Anna Skinner', 'High School Uses COVID Funds for Pride Drag Show Performance', 'https://www.newsweek.com/high-school-uses-covid-funds-pride-drag-show-performance-1803389', '2023-05-30T16:49:43Z', 'A Manchester, New Hampshire, high school is using $4,000 in leftover American Rescue Plan funds for a Pride event that includes drag show performers.\\r\\nThe event will celebrate Pride Month on June 2 a… [+3959 chars]'), ('CNN', 'Clare Foran,Lauren Fox,Haley Talbot,Melanie Zanona', 'McCarthy faces key test ahead of House vote on debt limit deal', 'https://www.cnn.com/2023/05/30/politics/house-debt-limit-deal-latest/index.html', '2023-05-30T16:29:31Z', 'House Speaker Kevin McCarthy helped secure a debt limit deal now he has to secure its passage in the House, with little room for error and a looming threat to his speakership. \\r\\nMcCarthy faces a test… [+5633 chars]'), ('CNN', 'Zachary B. Wolf', \"Debt ceiling deal exposes Biden and McCarthy's weaknesses with their parties' extremes\", 'https://www.cnn.com/2023/05/30/politics/biden-mccarthy-debt-ceiling-bill/index.html', '2023-05-30T04:01:38Z', 'President Joe Biden and House Speaker Kevin McCarthy convinced themselves of a compromise deal to slow federal spending and replenish the near-empty treasury with borrowed cash.\\r\\nNow they have the ev… [+5796 chars]'), ('CNN', 'Katherine Dillinger', 'FDA issues warning about some compounded versions of semaglutide for diabetes, weight loss | CNN', 'https://www.cnn.com/2023/05/30/health/fda-compounding-semaglutide/index.html', '2023-05-30T23:44:03Z', 'The US Food and Drug Administration issued a warning Tuesday about compounded versions of the drug semaglutide, which is approved for treatment of diabetes and excess weight.\\r\\nCompounding is the proc… [+2162 chars]'), ('Newsweek', 'Meghan Roos', \"Village People's Legal Warning to Trump Revives Music in Politics Questions\", 'https://www.newsweek.com/village-people-legal-warning-trump-revives-music-politics-questions-1803153', '2023-05-30T14:00:01Z', \"It's early in the 2024 election cycle, but questions are already being raised about the music politicians associate with their campaigns.\\r\\nEarlier this month, the disco group Village People sent form… [+8329 chars]\"), ('CNN', 'Steve Contorno', 'DeSantis kicks off 2024 campaign in Iowa', 'https://www.cnn.com/2023/05/30/politics/desantis-iowa-2024/index.html', '2023-05-30T18:45:25Z', 'Florida Gov. Ron DeSantis will kick off his White House bid in earnest on Tuesday evening in Iowa a state that will provide an early glimpse into whether Republican primary voters are ready to move o… [+5489 chars]'), ('Newsweek', 'Maura Zurick', \"Video of Joe Biden's Response to Potential Trump Pardon Viewed 1M Times\", 'https://www.newsweek.com/video-joe-bidens-response-potential-trump-pardon-viewed-1m-times-1803209', '2023-05-30T00:46:36Z', 'A video of President Joe Biden laughing in response to a reporter asking about the possibility of pardoning former President Donald Trump has gone viral.\\r\\nThe clip, which was shared on Twitter by soc… [+2800 chars]'), ('Fox News', 'Fox News Staff', 'Multiple victims in Memorial Day beach shooting, graduation speech backlash and more top headlines', 'https://www.foxnews.com/us/florida-memorial-day-beach-shooting-graduation-speech-backlash-and-more-top-headlines', '2023-05-30T10:38:19Z', \"Good morning and welcome to Fox News morning newsletter, Fox News First.\\xa0Subscribe now to get Fox News First in your email. And here's what you need to know to start your day ...\\r\\nHOLIDAY HORROR - Mu… [+2891 chars]\"), ('CNN', 'Ronald Brownstein', \"How legal immigration might solve two of America's toughest problems\", 'https://www.cnn.com/2023/05/30/politics/immigration-border-security-worker-shortages-fault-lines/index.html', '2023-05-30T04:02:35Z', 'Two of the nations most intractable problems might have the same solution if the idea was not so politically radioactive.\\r\\nEven as businesses across the nation are complaining about their inability t… [+15751 chars]'), ('CNN', 'Christian Edwards', \"Why did ethnic Serbs attack NATO peacekeepers in Kosovo? Here's what we know\", 'https://www.cnn.com/2023/05/30/europe/serbia-kosovo-nato-peacekeeper-protest-explainer-intl/index.html', '2023-05-30T17:01:42Z', 'Dozens of NATO peacekeepers were injured after they were attacked by ethnic Serbs in northern Kosovo, during protests over the installation of ethnically Albanian mayors.\\r\\nViolence broke out after Se… [+7206 chars]'), ('Fox News', 'Fox News Staff', 'Republicans win on debt ceiling, kicking cancel culture to the curb and more Fox News Opinion', 'https://www.foxnews.com/opinion/republicans-win-debt-ceiling-kicking-cancel-culture-curb', '2023-05-30T15:36:16Z', 'Welcome to the Fox News Opinion Newsletter. To receive this newsletter in your email, subscribe here.\\r\\nJESSE WATTERS The U.S. has now traded excellence for diversity, equity and inclusionContinue wat… [+1789 chars]'), ('Fox News', 'Caitlin McFall', 'China fuels anti-NATO sentiment alongside Russia in support of ethnic Serbs fighting in Kosovo', 'https://www.foxnews.com/world/china-fuels-anti-nato-sentiment-alongside-russia-in-support-of-ethnic-serbs-fighting-in-kosovo', '2023-05-30T16:06:22Z', 'China on Tuesday threw its weight alongside Russia behind ethnic Serbs clashing in Kosovo after fighting broke out in protest to regional elections and dozens of NATO peace keeping forces were injure… [+4899 chars]'), ('Fox News', 'Elizabeth Elkind', 'Manchin praises debt ceiling deal, predicts passage despite GOP, Dem defections', 'https://www.foxnews.com/politics/manchin-praises-debt-ceiling-deal-predicts-passage-gop-dem-defections', '2023-05-30T17:26:30Z', 'Sen. Joe Manchin, D-W.Va., said Tuesday he \"absolutely\" believes the debt ceiling deal struck by President Biden and House Speaker Kevin McCarthy, R-Calif., will pass with bipartisan support, even th… [+2925 chars]'), ('Newsweek', 'Ewan Palmer', 'Full List of House Republicans Who Plan To Vote for Debt Ceiling Deal', 'https://www.newsweek.com/house-republicans-vote-debt-ceiling-deal-1803232', '2023-05-30T08:48:03Z', 'A number of House Republicans have already publicly come out in support of the deal to raise the debt ceiling negotiated by President Joe Biden and House Speaker Kevin McCarthy ahead of the crucial v… [+4702 chars]'), ('CNN', 'Tami Luhby', \"Here's what's in the debt ceiling deal\", 'https://www.cnn.com/2023/05/30/politics/whats-in-the-debt-ceiling-deal/index.html', '2023-05-30T12:04:46Z', 'After several weeks of tense negotiations, President Joe Biden and House Republicans have reached an agreement in principle to address the debt limit and cap spending.\\r\\nThe drama is by no means over.… [+7396 chars]'), ('Fox News', 'Markwayne Mullin', \"Biden's radical green energy policies strain our electric grids. Here's how bad it will get if they continue\", 'https://www.foxnews.com/opinion/bidens-radical-green-energy-policies-strain-electric-grids', '2023-05-30T12:00:04Z', 'The Biden administrations overreaching energy regulation is sacrificing Americans ability to run their businesses and power their homes.\\r\\nDemocrats Green New Deal (GND) policies have left America dep… [+4992 chars]'), ('Fox News', 'Associated Press', 'Bolivian prosecutor launches probe into mysterious death of bank trustee amid disputed suicide claims', 'https://www.foxnews.com/us/bolivian-prosecutor-launches-probe-mysterious-death-bank-trustee-amid-disputed-suicide-claims', '2023-05-30T16:57:07Z', \"<ul><li>Bolivia is launching a probe into the suspicious death of a bankrupt bank trustee who fell from a building amidst disputed suicide claims.</li><li>The trustee's role in liquidating the bank a… [+3668 chars]\"), ('CNN', 'Nicole Goodkind', 'How crypto is dealing with the debt ceiling turmoil', 'https://www.cnn.com/2023/05/30/investing/premarket-stocks-trading/index.html', '2023-05-30T11:38:19Z', 'A version of this story first appeared in CNN Business Before the Bell newsletter. Not a subscriber? You can sign up\\xa0right here. You can listen to an audio version of the newsletter by clicking the s… [+7761 chars]'), ('Newsweek', 'Andrew Stanton', 'Joe Manchin Trails GOP Challenger by 22 Points in Key Senate Race: Poll', 'https://www.newsweek.com/joe-manchin-trails-gop-challenger-22-points-key-senate-race-poll-1803398', '2023-05-30T17:30:36Z', \"West Virginia Senator Joe Manchin is trailing GOP challenger Governor Jim Justice by 22 points in a new poll, a troubling sign for Democrats hoping to keep control of the Senate in next year's electi… [+3231 chars]\"), ('Fox News', 'Paul Steinhauser', '2024 showdown: Trump, DeSantis battle for votes in the crucial lead off state of Iowa', 'https://www.foxnews.com/politics/2024-showdown-trump-desantis-battle-votes-crucial-lead-off-state-iowa', '2023-05-30T16:13:14Z', 'Former President Donald Trump and Florida Gov. Ron DeSantis will make competing visits to Iowa this week as the 2024 GOP presidential primary heats up.\\r\\nDeSantis returns to Iowa for the first time as… [+4967 chars]'), ('Newsweek', 'Ewan Palmer', 'Trump Leads Tight Pack in First Poll Since DeSantis Declared for 2024', 'https://www.newsweek.com/trump-desantis-2024-poll-south-carolina-1803287', '2023-05-30T11:44:52Z', 'Donald Trump holds a commanding lead over Ron DeSantis in the first 2024 GOP primary poll released since the Florida governor confirmed he is running for the White House.\\r\\nAccording to a National Res… [+2756 chars]'), ('Newsweek', None, 'Building a Security Culture for Remote Employees', 'https://www.newsweek.com/building-security-culture-remote-employees-1802907', '2023-05-30T15:30:25Z', \"According to The Hill, almost 30% of all work in January 2023 took place from employees' homes—six times as much as in 2019, based on data from WFH Research. In larger urban settings, this percentage… [+5724 chars]\"), ('Newsweek', 'Kaitlin Lewis', 'This Development Signals Indictments Coming for Trump, Allies: Kirschner', 'https://www.newsweek.com/this-development-signals-indictments-coming-trump-allies-kirschner-1803210', '2023-05-30T01:35:23Z', 'Charges are nearing for former President Donald Trump out of Georgia as Fulton County District Attorney Fani Willis asked judges to clear their schedules during the first half of August, said legal a… [+3841 chars]'), ('Newsweek', 'Nick Mordowanec', \"Republicans Threaten Kevin McCarthy's Power\", 'https://www.newsweek.com/republicans-threaten-kevin-mccarthy-power-1803426', '2023-05-30T18:22:30Z', 'As debt ceiling negotiations come down to the wire, House Republicans have become increasingly more vocal about their lack of support for a potential compromise and are pointing fingers at Speaker Ke… [+5345 chars]'), ('Fox News', 'Adam Sabes', \"Man celebrating fiance's birthday on Memorial Day cruise falls overboard: 'Life of the party'\", 'https://www.foxnews.com/us/man-celebrating-fiances-birthday-memorial-day-cruise-falls-overboard', '2023-05-30T20:43:56Z', 'A 35-year-old man went overboard on a Carnival Cruise ship on Monday off the Florida coast, according to U.S. Coast Guard officials.\\r\\nThe Coast Guard said in a tweet that crews were searching for the… [+1942 chars]'), ('CNN', 'Omar Jimenez', 'Christie allies launch super PAC ahead of expected 2024 run', 'https://www.cnn.com/2023/05/30/politics/chris-christie-super-pac/index.html', '2023-05-30T13:07:01Z', 'Allies of former New Jersey Gov. Chris Christie have formed a super PAC to support an expected Republican presidential bid, two sources familiar with the plans tell CNN.\\r\\nThe outside group, Tell It L… [+1667 chars]'), ('Fox News', 'Danielle Tuntigian', 'SEN. JONI ERNST AND SEN. JEANNE SHAHEEN TO PARTICIPATE IN FORUM LIVE ON FOX NATION FROM EDWARD M. KENNEDY INSTITUTE', 'https://press.foxnews.com/2023/05/sen-joni-ernst-and-sen-jeanne-shaheen-to-participate-in-forum-live-on-fox-nation-from-edward-m-kennedy-institute', '2023-05-30T17:07:24Z', 'BOSTON \\xa0May 30, 2023\\xa0 The third installment of The Senate Project series will feature\\xa0Senators Joni Ernst (R-IA)\\xa0and\\xa0Jeanne Shaheen (D-NH)\\xa0in a forum moderated by FOX News Channels (FNC) chief politi… [+7001 chars]'), ('Newsweek', 'David Brennan', \"Russia 'On Course' for NATO Conflict, Commander Says\", 'https://www.newsweek.com/russia-nato-conflict-ukraine-alliance-karel-rehka-czech-republic-1803322', '2023-05-30T13:58:26Z', 'A full-blown NATO war with Russia is the West\\'s \"worst-case scenario\" but is possible, according to the commander of the Czech Republic\\'s armed forces, as the gulf between the Western world and Mosco… [+5200 chars]'), ('CNN', 'Hanna Ziady', \"Britain is getting so desperate to tame inflation it's talking about food price caps\", 'https://www.cnn.com/2023/05/30/economy/uk-inflation-food-price-caps/index.html', '2023-05-30T13:24:45Z', 'Brits woke up to yet more grim news on inflation Tuesday, with new data showing prices in UK stores are rising at a record pace. Its the latest sign of a seemingly intractable cost-of-living crisis t… [+5281 chars]'), ('Fox News', 'Andrew Miller', \"Democrat leader: 'un-American' 'MAGA Republicans' trying to 'crash' economy for 2024 political benefit\", 'https://www.foxnews.com/politics/rep-jeffries-unamerican-maga-republicans-trying-crash-economy-their-political-benefit-2024', '2023-05-30T20:14:42Z', 'House Minority Leader Hakeem Jeffries suggested Tuesday that \"MAGA Republicans\" are attempting to \"crash\" the United States economy via debt ceiling negotiations because it is in their political inte… [+4349 chars]'), ('Fox News', 'Anders Hagstrom', 'Chris Christie takes major step toward announcing 2024 president bid: report', 'https://www.foxnews.com/politics/chris-christie-takes-major-step-announcing-2024-president-bid-report', '2023-05-30T12:06:34Z', 'Former New Jersey Gov. Chris Christie took a major step toward announcing a potential 2024 presidential campaign this week, as allies reportedly set up a super PAC to support his effort.\\r\\nThe PAC, ca… [+2284 chars]'), ('Fox News', 'Brooke Singman', 'Tim Scott bill requires app stores to show country of origin, would stick ‘Made in China’ label on TikTok', 'https://www.foxnews.com/politics/tim-scott-bill-app-stores-country-origin-stick-made-in-china-label-tiktok', '2023-05-30T11:00:04Z', 'EXCLUSIVE: Sen. Tim Scott is rolling out legislation that would require app stores to display the country where apps are developed and owned before users download them amid worries some of the most p… [+5635 chars]'), ('Fox News', 'Houston Keene', \"Nancy Mace blasts GOP for getting fleeced on debt ceiling deal by a president 'who can’t find his pants'\", 'https://www.foxnews.com/politics/nancy-mace-blasts-gop-getting-fleeced-debt-ceiling-deal-president-who-cant-find-his-pants', '2023-05-30T16:43:37Z', 'South Carolina GOP Rep. Nancy Mace\\r\\n announced on Tuesday that she is a \"no\" vote on the debt ceiling deal, writing that \"Republicans got outsmarted by a President who cant find his pants.\"\\r\\nMace pos… [+5603 chars]'), ('Fox News', 'Gregg Jarrett', \"Free speech rights survived epic challenge from man who tried to monkey with them in 'Trial of the Century'\", 'https://www.foxnews.com/opinion/free-speech-rights-survived-epic-challenge-man-tried-money-trial-of-the-century', '2023-05-30T08:00:46Z', 'This essay is adapted from Gregg Jarretts new book, \"The Trial of the Century.\" \\xa0\\xa0\\xa0\\r\\nI was barely a teenager when, one summer day, I plucked a single volume off my fathers densely packed bookshelf.\\xa0T… [+8804 chars]'), ('Fox News', 'Tim Busch', \"Bud Light, Target, haven't the Dodgers learned anything? As a sports team owner, I know better\", 'https://www.foxnews.com/opinion/bud-light-target-havent-dodgers-learned-anything-sports-team-owner-know-better', '2023-05-30T06:00:16Z', 'Will the Los Angeles Dodgers ever be the same?\\xa0\\r\\nI doubt it. One of the most-storied sports brands in history is reeling. Its the result of managements foolish decision to invite an anti-Catholic hat… [+4015 chars]'), ('Fox News', 'Adam Sabes', 'Shannon Brandt pleads guilty to manslaughter in death of North Dakota teen', 'https://www.foxnews.com/us/shannon-brandt-pleads-guilty-manslaughter-charge-death-north-dakota-teen', '2023-05-30T19:23:30Z', 'Shannon Brandt pleaded guilty to manslaughter in the death of 18-year-old Cayler Ellingson after prosecutors reduced a murder charge in the September 2022 incident.\\r\\nBrandt, 42, ran over Ellingson wi… [+4173 chars]'), ('Fox News', 'Gabriel Hays', \"Rock singer curses out DeSantis supporters during show: 'You're f---ing dead to me'\", 'https://www.foxnews.com/media/rock-singer-curses-out-desantis-supporters-show-youre-f-dead-me', '2023-05-30T16:18:56Z', '\"Paramore\" lead singer Hayley Williams savaged her political opponents during a performance over the weekend, telling any potential Gov. Ron DeSantis, R-Fla., voters in the crowd \"youre f------ dead … [+2459 chars]'), ('Fox News', 'Rich Edson, Lawrence Richard', \"DeSantis to join 2024 Republican competitors at Sen. Ernst's Roast & Ride fundraiser in Des Moines\", 'https://www.foxnews.com/politics/desantis-join-2024-republican-competitors-sen-ernsts-roast-ride-fundraiser-des-moines', '2023-05-30T10:00:14Z', \"Florida Gov. Ron DeSantis will join several other declared Republican presidential candidates at Sen. Joni Ernst's Roast &amp; Ride fundraiser in Des Moines on Saturday, an aide to Ernst told Fox New… [+2336 chars]\"), ('CNN', 'David Wright,Steve Contorno', 'Watchdog group files FEC complaint over planned DeSantis super PAC transfer', 'https://www.cnn.com/2023/05/30/politics/super-pac-desantis-fec-complaint/index.html', '2023-05-30T20:38:24Z', 'A watchdog group on Tuesday filed a complaint to the Federal Election Commission targeting allies of Florida Gov. Ron DeSantis, who have planned for nearly a year to transfer tens of millions of doll… [+2082 chars]'), ('Newsweek', 'Anna Skinner', \"Marjorie Taylor Greene 'Absolutely Shocked' by Conspiracy Theory About Her\", 'https://www.newsweek.com/marjorie-taylor-greene-absolutely-shocked-conspiracy-theory-about-her-1803421', '2023-05-30T18:35:39Z', 'Representative Marjorie Taylor Greene has a history of spreading far-right conspiracy theories, but the Georgia Republican was shocked to find herself in the middle of a conspiracy theory about the i… [+2681 chars]'), ('Fox News', 'Elizabeth Elkind', 'Jayapal says debt ceiling deal shows GOP doesn’t care about deficits: ‘No meaningful deficit reduction’', 'https://www.foxnews.com/politics/jayapal-debt-ceiling-deal-gop-deficits-no-deficit-reduction', '2023-05-30T20:29:46Z', 'Congressional Progressive Caucus Chair Pramila Jayapal, D-Wash., dismissed House Republicans victory lap on the new debt limit bill on Tuesday, telling reporters that there was \"no meaningful debt re… [+2437 chars]'), ('Fox News', 'Hanna Panreck', \"Biden team using 'public staging' to boost Kamala Harris ahead of 2024: Report\", 'https://www.foxnews.com/media/biden-team-using-public-staging-boost-kamala-harris-ahead-2024-report', '2023-05-30T20:03:19Z', 'President Biden and the White House are reportedly publicly \"staging\" Vice President Kamala Harris alongside the president in an effort to bolster Harris heading into the 2024 election.\\xa0\\r\\nThe report … [+2329 chars]'), ('Fox News', 'Fox News Staff', \"Biden called out for absence since 2024 campaign launch: 'Basement strategy' won't work this time\", 'https://www.foxnews.com/media/biden-called-absence-2024-campaign-launch-basement-strategy-work-time', '2023-05-30T20:00:33Z', 'Fox News contributor Kellyanne Conway accused Biden of having a \"no-show presidency,\" warning his \"basement strategy\" won\\'t prevail in 2024 as he endures dismal polling. Conway slammed Biden during \"… [+3350 chars]'), ('Newsweek', 'Aleks Phillips', 'Video of Gunfire Erupting on Hollywood Beach Viewed More Than 5m Times', 'https://www.newsweek.com/hollywood-beach-florida-shooting-gunfire-video-1803249', '2023-05-30T10:07:36Z', 'CCTV footage of the moment gunshots broke out at Hollywood Beach, Florida, on Memorial Day has gone viral, being seen nearly 6 million times in less than 12 hours.\\r\\nNine people were injured after an … [+3686 chars]'), ('Newsweek', 'Ewan Palmer', \"Matt Gaetz Reveals Whether He'll Vote for Debt Ceiling Deal\", 'https://www.newsweek.com/matt-gaetz-debt-ceiling-vote-1803247', '2023-05-30T10:14:36Z', 'Florida GOP congressman Matt Gaetz has indicated he will not support the debt ceiling deal negotiated between House Leader Kevin McCarthy and President Joe Biden.\\r\\nGaetz said that he did not \"expect\"… [+2984 chars]'), ('Newsweek', 'Nick Reynolds', 'Joe Biden Rewards Donors With Admin Positions in Broken Promise to Voters', 'https://www.newsweek.com/joe-biden-rewards-donors-admin-positions-broken-promise-voters-1803442', '2023-05-30T20:19:33Z', 'It was an unspoken deal for generations of presidential hopefuls. A well-connected person helps get you elected, and in return, you make that person an ambassador somewhere exotic as a token of your … [+6789 chars]'), ('Fox News', 'Chad Pergram', 'Now comes the hard part: Getting the debt ceiling deal through Congress', 'https://www.foxnews.com/politics/now-comes-hard-part-debt-ceiling-deal-congress', '2023-05-30T01:52:43Z', 'Now comes the hard part.\\xa0\\r\\nIf you thought it was hard for President Biden and House Speaker Kevin McCarthy, R-Calif., to marshal a debt ceiling deal, wait to see if its even more challenging to advan… [+8235 chars]'), ('Newsweek', 'Jon Schweppe', 'Grassroots Boycotts Against Woke Corporations Are Working | Opinion', 'https://www.newsweek.com/grassroots-boycotts-against-woke-corporations-are-working-opinion-1803339', '2023-05-30T17:05:49Z', \"The sacrosanct month of Pride begins later this week. If you're a reasonable business executive sitting in a C-suite at a major American corporation, you've got to be asking yourself: is all of this … [+5589 chars]\"), ('Fox News', 'Danielle Wallace', \"Kevin McCarthy's debt ceiling deal advances to key committee in first test of GOP support\", 'https://www.foxnews.com/politics/kevin-mccarthys-debt-ceiling-deal-advances-key-committee-first-test-gop-support', '2023-05-30T12:44:26Z', 'Republican House Speaker Kevin McCarthys debt ceiling bill is advancing to a key committee Tuesday in its first test of GOP support.\\xa0\\r\\nThe House Rules Committee is scheduled to convene at 3 p.m., and… [+4381 chars]'), ('Fox News', 'Danielle Wallace', \"Canada's top spy agency warns Hong Kong-born lawmaker she is on China's ‘evergreen’ target list\", 'https://www.foxnews.com/world/canadas-top-spy-agency-warns-hong-kong-born-lawmaker-chinas-evergreen-target-list', '2023-05-30T15:32:58Z', 'Canadian Member of Parliament Jenny Kwan, who was born in Hong Kong, told reporters Monday that the Canadian Security Intelligence Service (CSIS) informed her during a classified briefing Friday that… [+4340 chars]'), ('Newsweek', 'Brendan Cole', 'Biden Leaves Door Open for Ukraine to Receive U.S. ATACM Missile Systems', 'https://www.newsweek.com/russia-ukraine-biden-atacms-missile-1803298', '2023-05-30T12:56:09Z', 'President Joe Biden has suggested that the U.S. could eventually supply Ukraine with a long-range missile system that Kyiv has been calling for to fight Russian aggression.\\r\\nThe president made the re… [+2752 chars]'), ('Newsweek', 'Ryan Smith', 'Candace Owens Misgenders Dylan Mulvaney in Viral Message', 'https://www.newsweek.com/candace-owens-misgenders-dylan-mulvaney-viral-twitter-post-transgender-1803385', '2023-05-30T16:04:19Z', 'Candace Owens has misgendered Dylan Mulvaney in a social media post criticizing the transgender TikTok star.\\r\\nOver the past several weeks, social media influencer Mulvaney, 26, has been the focus of … [+4462 chars]'), ('Newsweek', 'Ellie Cook', 'Ukraine Puts Number on F-16s After German Leopard Tank Success', 'https://www.newsweek.com/ukraine-f16-fighter-jets-german-leopard-tank-arrival-oleksii-reznikov-1803227', '2023-05-30T09:21:38Z', \"Ukraine needs around 100 Western fighter jets, Kyiv's defense minister has said, as a host of Western Leopard tanks arrives in Ukraine.\\r\\nMost of the 100 advanced aircraft should be F-16s, Ukrainian D… [+3705 chars]\"), ('CNN', 'Rob Frehse', 'Man arrested and charged with first-degree murder in death of New Jersey councilwoman', 'https://www.cnn.com/2023/05/30/us/new-jersey-councilwoman-murder-arrest/index.html', '2023-05-30T22:34:22Z', 'A man in Virginia has been arrested and charged with first-degree murder in the shooting death of Eunice Dwumfour, a 30-year-old councilwoman who was found shot to death in her car in Sayreville, New… [+3116 chars]'), ('Fox News', 'Bret Baier, Amy Munneke', \"'Special Report' Spotlight: Private companies increasing footprint in space\", 'https://www.foxnews.com/media/special-report-spotlight-private-companies-increasing-footprint-space', '2023-05-30T23:01:07Z', 'Adversaries like Russia and China are increasing their assets in space. As the U.S. looks to counter these threats, its turning to the private sector for assistance.\\r\\n\"Right now, we have a lot of pri… [+7715 chars]'), ('Fox News', 'Lindsay Kornick', \"Gavin Newsome blasted for 'tone deaf' Memorial Day tweet: Thought this was 'parody'\", 'https://www.foxnews.com/media/gavin-newsome-blasted-tone-deaf-memorial-day-tweet-thought-parody', '2023-05-30T11:00:24Z', 'Gov. Gavin Newsom, D-Calif., raised some eyebrows on Monday with what many on social media considered to be a \"tone-deaf\" tweet for Memorial Day.\\r\\nAfter hours without commenting on the holiday honori… [+3174 chars]'), ('Newsweek', 'Andrew Stanton', 'Republicans, Democrats Want to Strip Joe Manchin of His Debt Deal Victory', 'https://www.newsweek.com/republicans-democrats-want-strip-joe-manchin-his-debt-deal-victory-1803448', '2023-05-30T21:21:53Z', 'A bipartisan group of lawmakers is trying to strip Senator Joe Manchin of a key victory in the bill to raise the United States debt ceiling.\\r\\nPresident Joe Biden and House Speaker Kevin McCarthy, a C… [+3411 chars]'), ('CNN', 'Kyung Lah', \"Newsom's vow to appoint a Black woman to the Senate looms large amid Feinstein health concerns\", 'https://www.cnn.com/2023/05/29/politics/gavin-newsom-dianne-feinstein-california-democrats/index.html', '2023-05-30T00:10:30Z', 'As California Gov. Gavin Newsom stepped on stage at the state Democratic Party Convention this weekend, Vilma Dawson applauded with the visible faith of someone who had supported him through multiple… [+5494 chars]'), ('Fox News', 'Brian Flood', 'CNN hemorrhaging viewers since irking liberals with Trump town hall, hits several recent lows', 'https://www.foxnews.com/media/cnn-hemorrhaging-viewers-since-irking-liberals-trump-town-hall-hits-several-recent-lows', '2023-05-30T18:58:45Z', 'Since CNNs town hall event with former President Trump earlier this month, the struggling network has hit several embarrassing recent lows since the polarizing event as viewers continue to bolt.\\xa0\\r\\nTr… [+3843 chars]'), ('Fox News', 'Hanna Panreck', \"'View' host Sunny Hostin belittles GOP White women voters as tools of their husbands: 'They do fall in line'\", 'https://www.foxnews.com/media/view-host-sunny-hostin-belittles-gop-white-women-voters-tools-their-husbands-fall-line', '2023-05-30T17:28:57Z', '\"The View\" co-host Sunny Hostin said Tuesday that \"White women want to protect this patriarchy\" because it \"benefits them\" while discussing Republican women who continue to support former President T… [+3330 chars]'), ('Fox News', 'Brianna Herlihy', \"Debt deal with Biden a 'betrayal' that could cost McCarthy speakership, House Freedom Caucus member says\", 'https://www.foxnews.com/politics/debt-deal-biden-betrayal-that-could-cost-mccarthy-speakership-house-freedom-caucus-member-says', '2023-05-30T17:51:11Z', 'Rep. Chip Roy, R-Texas, a key member the House Freedom Caucus (HFC), indicated Tuesday that if Republicans do not stop the debt deal in committee, that he would consider ousting Kevin McCarthy from l… [+2153 chars]'), ('Fox News', 'Patrick Hauf', 'Freedom Caucus members call on McCarthy to scrap debt ceiling agreement with Biden: ‘Bad deal’', 'https://www.foxnews.com/politics/freedom-caucus-members-mccarthy-scrap-debt-ceiling-agreement-biden-bad-deal', '2023-05-30T18:28:36Z', 'House Freedom Caucus members on Tuesday said they would oppose the debt ceiling agreement reached by President Biden House Speaker Kevin McCarthy, and called on McCarthy to scrap the weekend deal to … [+2414 chars]'), ('Newsweek', 'Brendan Cole', \"Russian Lawmaker Leads Call to 'Cleanse' Ukraine and Its Language\", 'https://www.newsweek.com/russia-ukraine-lpdr-ukrainian-cleanse-language-1803261', '2023-05-30T11:21:50Z', 'A Russian member of parliament has said that he and his political party believed that Ukraine and its language had no right to exist.\\r\\nThe comments were made by Alexei Didenko during a conference on … [+3344 chars]'), ('Fox News', 'Danielle Wallace', \"Biden, Cruz condemn Uganda law allowing death penalty for 'aggravated homosexuality'\", 'https://www.foxnews.com/politics/biden-cruz-condemn-uganda-law-allowing-death-penalty-aggravated-homosexuality', '2023-05-30T13:51:30Z', 'Sen. Ted Cruz, R-Texas, joined President Biden in condemning a new law enacted in the East African nation of Uganda allowing the death penalty for \"aggravated homosexuality.\"\\xa0\\r\\n\"This Uganda law is ho… [+4267 chars]'), ('CNN', 'Tara Subramaniam,Manveena Suri', 'Teen girl in India stabbed to death in public, reigniting outrage over violence against women', 'https://www.cnn.com/2023/05/30/india/india-delhi-girl-murder-video-outrage-intl-hnk/index.html', '2023-05-30T12:57:21Z', 'Editors Note: Editors note: This article contains graphic details about the aftermath of a violent crime\\r\\nA 16 year-old girl was brutally stabbed and bludgeoned to death in a busy public alleyway in … [+3477 chars]'), ('CNN', 'Clare Sebastian,Anna Chernova,Olga Voitovych,Lauren Said-Moorhouse', 'Drones hit Moscow buildings in rare attack on Russian capital as Kyiv faces another night of bombardment', 'https://www.cnn.com/2023/05/30/europe/moscow-drone-attack-intl/index.html', '2023-05-30T13:00:10Z', 'Russia is blaming Ukraine for launching a drone attack on Moscow early Tuesday which reportedly left two people injured and several buildings damaged, a rare incident in the Russian capital after mon… [+6302 chars]'), ('Fox News', 'Aubrie Spady', 'NV Dems to fine schools $5k per day for not allowing biological males in girls sports', 'https://www.foxnews.com/politics/nv-dems-fine-schools-5k-per-day-not-allowing-biological-males-girls-sports', '2023-05-30T15:52:25Z', \"Democrats in the Nevada legislature swiftly passed an amendment to penalize school boards that prevent biological males who identify as transgender from using women's locker rooms and competing on gi… [+2338 chars]\"), ('Fox News', 'Chris Pandolfo', \"Texas Gov Greg Abbott to sign bill taking on 'rogue' district attorneys\", 'https://www.foxnews.com/politics/texas-gov-greg-abbott-sign-bill-taking-rogue-district-attorneys', '2023-05-30T15:46:36Z', 'Texas is about to crack down on \"rogue\" district attorneys who refuse to prosecute entire classes of crime, like abortion or drug-related offenses.\\xa0\\r\\nGov. Greg Abbott said Monday he will sign House B… [+3177 chars]'), ('Fox News', 'Yael Halon', \"DeSantis scorches 'totally inadequate' debt ceiling deal: We are 'careening toward bankruptcy'\", 'https://www.foxnews.com/media/desantis-scorches-totally-inadequate-debt-ceiling-deal-careening-toward-bankruptcy', '2023-05-30T21:50:51Z', 'Florida Governor and GOP presidential candidate Ron DeSantis ripped the bipartisan debt ceiling bill reached between House Speaker Kevin McCarthy, R-Calif. and President Biden as \"totally inadequate\"… [+3243 chars]'), ('Fox News', 'Hanna Panreck', \"MSNBC host boldly says DeSantis 'even money' to beat frontrunner Trump for 2024 nomination: 'More competent'\", 'https://www.foxnews.com/media/msnbc-host-boldly-says-desantis-even-money-beat-frontrunner-trump-2024-nomination-more-competent', '2023-05-30T16:41:06Z', 'MSNBC host Joe Scarborough said Tuesday that Gov. Ron DeSantis, R-Fla., was an \"even money\" front-runner for the Republican nomination and declared he could beat Donald Trump because he is \"more comp… [+2887 chars]'), ('Fox News', 'Associated Press', 'Most US adults believe race should play a role in college admissions process, according to AP poll', 'https://www.foxnews.com/us/most-us-adults-believe-race-play-roll-college-admissions-process-according-new-poll', '2023-05-30T11:06:59Z', 'As the Supreme Court decides the fate of affirmative action, most U.S. adults say the court should allow colleges to consider race as part of the admissions process, yet few believe students race sho… [+6598 chars]'), ('Fox News', 'Sen. Chuck Grassley, Bill Cassidy', \"Biden's student loan handout: Senate should just say no. Here's why\", 'https://www.foxnews.com/opinion/bidens-student-loan-handout-senate-should-just-say-no', '2023-05-30T14:00:20Z', 'The quickly approaching debt limit gives Congress and the White House an important opportunity to reset and put our fiscal house in order. Unfortunately, President Biden has made it clear he is more … [+3333 chars]'), ('CNN', 'Amy Simonson,Elizabeth Wolfe', '9 people shot during confrontation between two groups near beach in Hollywood, Florida, authorities say', 'https://www.cnn.com/2023/05/29/us/hollywood-florida-shooting-monday/index.html', '2023-05-30T02:29:13Z', 'Nine people were shot, including a one-year-old child,during an altercation between two groups near a busy area of the beach in Hollywood, Florida, Monday night, officials said.\\r\\nPolice have detained… [+1679 chars]'), ('Fox News', 'Michael Ruiz, Ashley Papa', 'Eunice Dwumfour murder: New Jersey police make arrest months after slaying of Republican councilwoman', 'https://www.foxnews.com/us/eunice-dwumfour-murder-new-jersey-police-make-arrest-months-after-slaying-republican-councilwoman', '2023-05-30T20:37:15Z', 'New Jersey authorities have arrested a 28-year-old Virginia man in connection with the February murder of a Republican councilwoman from Sayreville gunned down in her car outside her home.\\r\\nEunice Dw… [+2263 chars]'), ('Newsweek', 'Kaitlin Lewis', \"Russia's Attacks on Kyiv Are 'Straight Up Terrorism': Former Ambassador\", 'https://www.newsweek.com/russias-attacks-kyiv-are-straight-terrorism-former-ambassador-1803216', '2023-05-30T03:44:18Z', 'Russia\\'s series of airstrikes on Kyiv over the past 24 hours is \"straight up terrorism,\" said Michael McFaul, the former U.S. ambassador to Russia.\\r\\nAccording to the Ukrainian military, Moscow launch… [+3356 chars]'), ('Fox News', 'Brandon Gillespie', 'Where do moderate Democrats, Republicans stand on the debt ceiling deal as pivotal votes loom?', 'https://www.foxnews.com/politics/where-moderate-democrats-republicans-stand-debt-ceiling-deal-pivotal-votes-loom', '2023-05-30T22:00:44Z', 'As the debt deal reached between President Biden and House Speaker Kevin McCarthy heads to Congress this week to face votes in the House and Senate, the spotlight has shifted to which lawmakers plan … [+5390 chars]'), ('Newsweek', 'Isabel van Brugen', \"Lukashenko's Nuclear Weapons Offer Rejected by Russia's Neighbor\", 'https://www.newsweek.com/lukashenko-belarus-nuclear-weapons-offer-kazakhstan-russia-tokayev-1803269', '2023-05-30T11:42:59Z', 'Kazakhstan President Kassym-Jomart Tokayev has rejected his Belarusian counterpart\\'s proposal to join the Russia-Belarus \"Union State,\" calling the offer a \"joke.\"\\r\\nThe developments come after Belaru… [+3531 chars]'), ('CNN', 'By Mike Hayes and <a href=\"/profiles/maureen-chowdhury\">Maureen Chowdhury</a>, CNN', 'The latest on the US debt ceiling deal', 'https://www.cnn.com/politics/live-news/us-debt-ceiling-deadline-talks-05-30-23/index.html', '2023-05-30T14:12:09Z', 'Texas Rep. Chip Roy accused House Speaker Kevin McCarthy on Monday of cutting a deal during the January speakers race that could complicate their efforts to pass the debt ceiling bill this week.\\r\\nBut… [+2540 chars]'), ('Newsweek', 'Ewan Palmer', \"Video of Ron DeSantis Vowing To 'Destroy Leftism' Viewed 7m Times\", 'https://www.newsweek.com/ron-desantis-destroy-leftism-fox-2024-1803336', '2023-05-30T14:55:35Z', 'A clip of Florida Governor Ron DeSantis vowing to \"destroy leftism\" if elected president has gone viral on social media.\\r\\nOn Monday, DeSantis was asked on Fox and Friends about his 2024 campaign and … [+3537 chars]'), ('Newsweek', 'Nick Mordowanec', \"Biden Accuser Tara Reade Leaves U.S. for 'Safety' of Russia\", 'https://www.newsweek.com/biden-accuser-tara-reade-leaves-us-safety-russia-1803459', '2023-05-30T21:42:24Z', 'Tara Reade, who accused President Joe Biden of sexually assaulting her in 1993, is requesting Russian citizenship from Vladimir Putin due to concerns about her safety in the United States.\\r\\nShe serve… [+5935 chars]'), ('Fox News', 'Thomas Catenacci', 'White House kills another top Biden nominee amid mounting opposition', 'https://www.foxnews.com/politics/white-house-kills-another-top-biden-nominee-amid-mounting-opposition', '2023-05-30T21:46:01Z', \"The White House unexpectedly withdrew President Biden's nomination of Ann Carlson to lead a Department of Transportation safety subagency late on Tuesday.\\r\\nIn a surprise release, the White House said… [+4472 chars]\"), ('Newsweek', 'Ryan Smith', \"LEGO Faces Boycott Calls Over 'Transgender Building Sets'\", 'https://www.newsweek.com/lego-faces-boycott-calls-over-transgender-building-sets-1803239', '2023-05-30T09:49:47Z', 'LEGO is the latest company facing boycott calls amid outrage over its A to Z of Awesome campaign, which supports the LGBTQ+ community.\\r\\nLast year, the LEGO Group announced the launch of its campaign … [+6199 chars]'), ('Fox News', 'Houston Keene', \"Biden's Dem opponent Robert F. Kennedy Jr sides with Elon Musk, vows to end 'censorship-industrial complex'\", 'https://www.foxnews.com/politics/bidens-dem-opponent-robert-f-kennedy-jr-sides-elon-musk-vows-end-censorship-industrial-complex', '2023-05-30T17:19:19Z', 'r\\r\\nDemocrat presidential candidate Robert F. Kennedy, Jr.\\r\\n agreed with billionaire Twitter owner Elon Musks remarks on the social media company having \"no actual choice\" but to comply with governmen… [+2827 chars]'), ('Newsweek', 'Sophie Lloyd', 'Fitness Coach Drops 20lbs After Ditching Her Exercise Routine', 'https://www.newsweek.com/healthy-lifestyle-changes-weight-loss-confidence-coach-1800843', '2023-05-30T13:15:41Z', 'While it\\'s tempting to opt for a quick fix when it comes to achieving your \"ideal\" body, there are healthier and more sustainable methods for losing weight—no calorie counting or punishing exercise r… [+8481 chars]'), ('CNN', 'Barbie Latza Nadeau,Amir Tal,Niamh Kennedy,Caolán Magee', 'Italian secret service agents among victims of Lake Maggiore boat accident', 'https://www.cnn.com/2023/05/30/europe/lake-maggiore-boat-death-italy-intl/index.html', '2023-05-30T14:57:32Z', 'Two Italian secret service agents and a retired member of Israels security forces were among the four victims from Sundays fatal boat accident on Lake Maggiore, northern Italy. \\r\\nThe Italian victims … [+1575 chars]'), ('Fox News', 'Newt Gingrich', 'Corrupt media protects corrupt establishment and nary a Woodward or Bernstein in sight', 'https://www.foxnews.com/opinion/corrupt-media-protects-corrupt-establishment-nary-woodward-bernstein-sight', '2023-05-30T10:00:05Z', 'The conspiracy between a corrupt set of bureaucracies (including the Justice Department, the IRS and the intelligence community) and an equally corrupt and enabling elite media is astonishing. The Du… [+5883 chars]'), ('CNN', 'Hannah Rabinowitz', 'US expatriate arrested after allegedly threatening US senators and Marines', 'https://www.cnn.com/2023/05/30/politics/us-expatriate-arrested-allegedly-threatening-us-senators/index.html', '2023-05-30T22:48:22Z', 'An American living abroad was arrested last week on a charge of threatening US senators and political groups over the number of unsolicited political emails he was receiving, the Justice Department a… [+2126 chars]'), ('Newsweek', None, 'How Mental Health Services Can Improve the Patient and Employee Experience', 'https://www.newsweek.com/how-mental-health-services-can-improve-patient-employee-experience-1802491', '2023-05-30T13:00:52Z', \"Medical treatments can disrupt a person's emotional and mental well-being. The fear of the unknown, concerns about test results, financial accessibility to care, and medication side effects can ampli… [+6438 chars]\"), ('Fox News', 'Elizabeth Elkind', 'GOP leaders tout McCarthy-Biden deal as ‘conservative’ victory as Republicans defect', 'https://www.foxnews.com/politics/gop-leaders-tout-mccarthy-biden-deal-conservative-victory-republicans-defect', '2023-05-30T13:29:03Z', 'House Republican leaders are touting the deal between House Speaker Kevin McCarthy and President Biden as a conservative victory, even as many of the most conservative Republicans in the House are sa… [+3715 chars]')}\n",
      "[('Fox News', 'Lawrence Richard', \"Texas legislature's first special session focusing on border security, cutting property taxes, Abbott reveals\", 'https://www.foxnews.com/politics/texas-legislatures-first-special-session-focusing-border-security-cutting-property-taxes-abbott-reveals', '2023-05-30T06:00:33Z', \"Texas Gov. Greg Abbott revealed agenda items for the state legislature's first special session late Monday evening a list that includes cutting property taxes and providing funds to secure the U.S.-M… [+2386 chars]\"), ('Fox News', 'Paul Steinhauser', 'Potential 2024 Republican presidential contender moves a step closer to launching a campaign', 'https://www.foxnews.com/politics/potential-2024-republican-presidential-contender-moves-step-closer-launching-campaign', '2023-05-30T15:25:48Z', 'Long-time supporters and allies of former New Jersey Gov. Chris Christie are launching a super PAC to back his likely campaign for the 2024 Republican presidential nomination, Fox News has confirmed.… [+3209 chars]'), ('Newsweek', 'Aleks Phillips', \"Donald Trump's Pride Merchandise Resurfaces Amid Target, Bud Light Backlash\", 'https://www.newsweek.com/donald-trump-pride-merchandise-target-bud-light-backlash-1803353', '2023-05-30T14:50:32Z', \"Conservatives calling for boycotts of brands that express support for the LGBTQ+ community have been accused of hypocrisy after Donald Trump's Pride range of merchandise resurfaced on social media.\\r\\n… [+4367 chars]\"), ('Fox News', 'Associated Press', \"Greek Education Ministry target of cyberattack, most extensive in country's history\", 'https://www.foxnews.com/world/greek-education-ministry-target-cyberattack-extensive-countrys-history', '2023-05-30T16:22:54Z', 'Greeces Education Ministry says it has been targeted in a cyberattack described as the most extensive in the countrys history, aimed at disabling a centralized high school examination platform.\\r\\nIt s… [+1690 chars]'), ('CNN', 'Nicki Brown', \"Colleges will soon have option to hide students' race and ethnicity information on applications submitted through Common App\", 'https://www.cnn.com/2023/05/30/us/college-common-app-race-ethnicity/index.html', '2023-05-30T17:37:28Z', 'Colleges will soon have the option to hide students race and ethnicity information on applications submitted through Common App, according to the organization. \\r\\nThe move comes as the Supreme Court i… [+2307 chars]'), ('Newsweek', None, 'The Cloud Revolution in Marketing', 'https://www.newsweek.com/cloud-revolution-marketing-1802918', '2023-05-30T16:00:34Z', 'Like every facet of life, marketing evolves with technology—and nothing typifies recent shifts more aptly than the ongoing cloud revolution. While traditional marketing strategies, such as print ads,… [+7044 chars]'), ('Fox News', 'Landon Mion', 'Minnesota Gov. Walz expected to sign bill legalizing recreational marijuana', 'https://www.foxnews.com/politics/minnesota-governor-expected-sign-bill-legalizing-recreational-marijuana', '2023-05-30T10:20:05Z', \"Minnesota Gov. Tim Walz, a Democrat, is expected to sign legislation on Tuesday that would legalize recreational marijuana in the state.\\r\\nThe bill is headed to the governor's desk after passing throu… [+1705 chars]\"), ('Newsweek', 'Nick Reynolds', 'Democrats Unable to Return to D.C. for Massive Debt Deal Vote', 'https://www.newsweek.com/democrats-unable-return-dc-massive-debt-deal-vote-1803463', '2023-05-30T22:05:49Z', 'Two members of the House Democratic minority say they are unable to participate in a massive coming vote on a bipartisan deal to raise the federal debt ceiling before the June 5 deadline to default, … [+3995 chars]'), ('Newsweek', 'Ryan Smith', \"Dylan Mulvaney Says She's Been 'Followed' For Months Amid Bud Light Furor\", 'https://www.newsweek.com/dylan-mulvaney-says-has-been-followed-months-amid-bud-light-fiasco-1803309', '2023-05-30T13:29:18Z', 'TikTok star Dylan Mulvaney has revealed that she has been \"followed on and off\" over the past two months amid the ongoing furor over her Bud Light collaboration.\\r\\nOn April 1, the transgender influenc… [+3955 chars]'), ('CNN', 'AJ Willingham', '5 things to know for May 30: Debt limit, Turkey, Ukraine, India, Uganda', 'https://www.cnn.com/2023/05/30/us/five-things-may-30-trnd/index.html', '2023-05-30T10:37:53Z', 'Going on a cruise soon? You may want to skip the terrifying accounts from aboard a Carnival ship that got battered by severe weather this weekend.\\r\\nHeres what else you need to know to Get Up to Speed… [+5783 chars]'), ('Fox News', 'Benjamin Weinthal', 'Iranian president hacked as group claims data shows expanded security around nuclear site', 'https://www.foxnews.com/world/iranian-president-hacked-group-claims-data-shows-expanded-security-around-nuclear-site', '2023-05-30T17:23:23Z', 'JERUSALEMIranian dissident hackers have allegedly claimed they penetrated the servers of the office of the Islamic Republic of Irans President Ebrahim Raisi, revealing on Monday highly sensitive data… [+6077 chars]'), ('Fox News', 'Chris Pandolfo', 'Gavin Newsom blames DeSantis-signed bill for Florida shooting, gets fact-checked', 'https://www.foxnews.com/politics/gavin-newsom-blames-desantis-signed-bill-florida-shooting-fact-checked', '2023-05-30T11:39:51Z', \"California Gov. Gavin Newsom was fact-checked by Florida Gov. Ron DeSantis' spokesman after he blamed the Memorial Day shooting in Hollywood, Florida, on laws DeSantis signed that are not yet in effe… [+3347 chars]\"), ('Newsweek', 'Matthew Impelli', 'Alexandria Ocasio-Cortez Addresses Parody Account Wreaking Havoc on Twitter', 'https://www.newsweek.com/alexandria-ocasio-cortez-addresses-parody-account-wreaking-havoc-twitter-1803439', '2023-05-30T19:49:54Z', 'New York Democratic Representative Alexandria Ocasio-Cortez addressed a parody account on Twitter that was impersonating her and wreaking havoc across the social media platform.\\r\\n\"FYI there\\'s a fake … [+3523 chars]'), ('Fox News', 'Anders Hagstrom', 'Trump vows to end birthright citizenship for children of illegal immigrants', 'https://www.foxnews.com/politics/trump-vows-end-birthright-citizenship-children-illegal-immigrants', '2023-05-30T16:18:06Z', 'Former President Trump will attempt to end birthright citizenship for illegal immigrants if he wins re-election in 2024, he announced Tuesday.\\r\\nTrump said he would sign an executive order to that eff… [+2226 chars]'), ('Newsweek', 'Yevgeny Kuklychev', \"Clip of Lindsey Graham Saying 'Russians Are Dying' Misleadingly Edited\", 'https://www.newsweek.com/clip-lindsey-graham-russians-dying-misleading-1803289', '2023-05-30T12:22:57Z', \"On Friday, May 26, Senator Lindsey Graham became the latest U.S. politician to visit Kyiv following Russia's invasion of Ukraine, meeting with President Volodymyr Zelensky in the capital and expressi… [+7121 chars]\"), ('CNN', 'Sean Lyngaas', \"Intel program's lapse would have 'significant costs for US diplomacy,' State Department official warns\", 'https://www.cnn.com/2023/05/30/politics/us-intelligence-program-702-national-security-ukraine/index.html', '2023-05-30T21:50:10Z', 'There will be significant costs for US diplomacy if Congress doesnt renew a controversial intelligence program gathering communications data that is set to expire this year, a senior State Department… [+2445 chars]'), ('CNN', 'Tami Luhby', \"Obama agreed to $2.1 trillion in spending cuts to end 2011 debt ceiling crisis. Here's what happened next.\", 'https://www.cnn.com/2023/05/30/politics/debt-ceiling-obama-spending-cuts/index.html', '2023-05-30T13:10:50Z', 'The nation is days away from defaulting on its obligations. The Republican House speaker, pushed by conservatives in his party, demands deep spending cuts. The president, a Democrat, works on negotia… [+3876 chars]'), ('CNN', 'Eric Bradner', 'What to know about Ken Paxton, the impeached Texas attorney general', 'https://www.cnn.com/2023/05/30/politics/ken-paxton-what-to-know-texas/index.html', '2023-05-30T19:20:59Z', 'The Texas Houses impeachment of state Attorney General Ken Paxton on Saturday was the latest in a string of legal woes that began shortly after the Republican was first elected in 2014. \\r\\nPaxton is a… [+4677 chars]'), ('Fox News', 'Emma Colton', 'Johns Hopkins Medicine staff given roadmap to navigate dozens of pronouns: ‘faerself, ve, xe\"', 'https://www.foxnews.com/us/johns-hopkins-medicine-staff-given-roadmap-navigate-dozens-pronouns-faerself-ve-xe', '2023-05-30T11:05:34Z', 'Employees at Johns Hopkins Medicine in Maryland were given a new pronoun usage guide that lists dozens of pronouns include \"aerself\" and \"faerself\" while staffers navigate a recent inclusive ID polic… [+4161 chars]'), ('Fox News', 'Patrick Hauf', 'China rejects Biden administration request for meeting between military leaders: report', 'https://www.foxnews.com/politics/china-rejects-biden-administration-request-meeting-between-military-leaders-report', '2023-05-30T13:59:35Z', \"China rejected a request from the Biden administration to schedule a meeting between the two country's leading defense officials, according to a report.\\r\\nChina informed the Pentagon Monday that it de… [+2040 chars]\"), ('Newsweek', 'Anna Skinner', 'High School Uses COVID Funds for Pride Drag Show Performance', 'https://www.newsweek.com/high-school-uses-covid-funds-pride-drag-show-performance-1803389', '2023-05-30T16:49:43Z', 'A Manchester, New Hampshire, high school is using $4,000 in leftover American Rescue Plan funds for a Pride event that includes drag show performers.\\r\\nThe event will celebrate Pride Month on June 2 a… [+3959 chars]'), ('CNN', 'Clare Foran,Lauren Fox,Haley Talbot,Melanie Zanona', 'McCarthy faces key test ahead of House vote on debt limit deal', 'https://www.cnn.com/2023/05/30/politics/house-debt-limit-deal-latest/index.html', '2023-05-30T16:29:31Z', 'House Speaker Kevin McCarthy helped secure a debt limit deal now he has to secure its passage in the House, with little room for error and a looming threat to his speakership. \\r\\nMcCarthy faces a test… [+5633 chars]'), ('CNN', 'Zachary B. Wolf', \"Debt ceiling deal exposes Biden and McCarthy's weaknesses with their parties' extremes\", 'https://www.cnn.com/2023/05/30/politics/biden-mccarthy-debt-ceiling-bill/index.html', '2023-05-30T04:01:38Z', 'President Joe Biden and House Speaker Kevin McCarthy convinced themselves of a compromise deal to slow federal spending and replenish the near-empty treasury with borrowed cash.\\r\\nNow they have the ev… [+5796 chars]'), ('CNN', 'Katherine Dillinger', 'FDA issues warning about some compounded versions of semaglutide for diabetes, weight loss | CNN', 'https://www.cnn.com/2023/05/30/health/fda-compounding-semaglutide/index.html', '2023-05-30T23:44:03Z', 'The US Food and Drug Administration issued a warning Tuesday about compounded versions of the drug semaglutide, which is approved for treatment of diabetes and excess weight.\\r\\nCompounding is the proc… [+2162 chars]'), ('Newsweek', 'Meghan Roos', \"Village People's Legal Warning to Trump Revives Music in Politics Questions\", 'https://www.newsweek.com/village-people-legal-warning-trump-revives-music-politics-questions-1803153', '2023-05-30T14:00:01Z', \"It's early in the 2024 election cycle, but questions are already being raised about the music politicians associate with their campaigns.\\r\\nEarlier this month, the disco group Village People sent form… [+8329 chars]\"), ('CNN', 'Steve Contorno', 'DeSantis kicks off 2024 campaign in Iowa', 'https://www.cnn.com/2023/05/30/politics/desantis-iowa-2024/index.html', '2023-05-30T18:45:25Z', 'Florida Gov. Ron DeSantis will kick off his White House bid in earnest on Tuesday evening in Iowa a state that will provide an early glimpse into whether Republican primary voters are ready to move o… [+5489 chars]'), ('Newsweek', 'Maura Zurick', \"Video of Joe Biden's Response to Potential Trump Pardon Viewed 1M Times\", 'https://www.newsweek.com/video-joe-bidens-response-potential-trump-pardon-viewed-1m-times-1803209', '2023-05-30T00:46:36Z', 'A video of President Joe Biden laughing in response to a reporter asking about the possibility of pardoning former President Donald Trump has gone viral.\\r\\nThe clip, which was shared on Twitter by soc… [+2800 chars]'), ('Fox News', 'Fox News Staff', 'Multiple victims in Memorial Day beach shooting, graduation speech backlash and more top headlines', 'https://www.foxnews.com/us/florida-memorial-day-beach-shooting-graduation-speech-backlash-and-more-top-headlines', '2023-05-30T10:38:19Z', \"Good morning and welcome to Fox News morning newsletter, Fox News First.\\xa0Subscribe now to get Fox News First in your email. And here's what you need to know to start your day ...\\r\\nHOLIDAY HORROR - Mu… [+2891 chars]\"), ('CNN', 'Ronald Brownstein', \"How legal immigration might solve two of America's toughest problems\", 'https://www.cnn.com/2023/05/30/politics/immigration-border-security-worker-shortages-fault-lines/index.html', '2023-05-30T04:02:35Z', 'Two of the nations most intractable problems might have the same solution if the idea was not so politically radioactive.\\r\\nEven as businesses across the nation are complaining about their inability t… [+15751 chars]'), ('CNN', 'Christian Edwards', \"Why did ethnic Serbs attack NATO peacekeepers in Kosovo? Here's what we know\", 'https://www.cnn.com/2023/05/30/europe/serbia-kosovo-nato-peacekeeper-protest-explainer-intl/index.html', '2023-05-30T17:01:42Z', 'Dozens of NATO peacekeepers were injured after they were attacked by ethnic Serbs in northern Kosovo, during protests over the installation of ethnically Albanian mayors.\\r\\nViolence broke out after Se… [+7206 chars]'), ('Fox News', 'Fox News Staff', 'Republicans win on debt ceiling, kicking cancel culture to the curb and more Fox News Opinion', 'https://www.foxnews.com/opinion/republicans-win-debt-ceiling-kicking-cancel-culture-curb', '2023-05-30T15:36:16Z', 'Welcome to the Fox News Opinion Newsletter. To receive this newsletter in your email, subscribe here.\\r\\nJESSE WATTERS The U.S. has now traded excellence for diversity, equity and inclusionContinue wat… [+1789 chars]'), ('Fox News', 'Caitlin McFall', 'China fuels anti-NATO sentiment alongside Russia in support of ethnic Serbs fighting in Kosovo', 'https://www.foxnews.com/world/china-fuels-anti-nato-sentiment-alongside-russia-in-support-of-ethnic-serbs-fighting-in-kosovo', '2023-05-30T16:06:22Z', 'China on Tuesday threw its weight alongside Russia behind ethnic Serbs clashing in Kosovo after fighting broke out in protest to regional elections and dozens of NATO peace keeping forces were injure… [+4899 chars]'), ('Fox News', 'Elizabeth Elkind', 'Manchin praises debt ceiling deal, predicts passage despite GOP, Dem defections', 'https://www.foxnews.com/politics/manchin-praises-debt-ceiling-deal-predicts-passage-gop-dem-defections', '2023-05-30T17:26:30Z', 'Sen. Joe Manchin, D-W.Va., said Tuesday he \"absolutely\" believes the debt ceiling deal struck by President Biden and House Speaker Kevin McCarthy, R-Calif., will pass with bipartisan support, even th… [+2925 chars]'), ('Newsweek', 'Ewan Palmer', 'Full List of House Republicans Who Plan To Vote for Debt Ceiling Deal', 'https://www.newsweek.com/house-republicans-vote-debt-ceiling-deal-1803232', '2023-05-30T08:48:03Z', 'A number of House Republicans have already publicly come out in support of the deal to raise the debt ceiling negotiated by President Joe Biden and House Speaker Kevin McCarthy ahead of the crucial v… [+4702 chars]'), ('CNN', 'Tami Luhby', \"Here's what's in the debt ceiling deal\", 'https://www.cnn.com/2023/05/30/politics/whats-in-the-debt-ceiling-deal/index.html', '2023-05-30T12:04:46Z', 'After several weeks of tense negotiations, President Joe Biden and House Republicans have reached an agreement in principle to address the debt limit and cap spending.\\r\\nThe drama is by no means over.… [+7396 chars]'), ('Fox News', 'Markwayne Mullin', \"Biden's radical green energy policies strain our electric grids. Here's how bad it will get if they continue\", 'https://www.foxnews.com/opinion/bidens-radical-green-energy-policies-strain-electric-grids', '2023-05-30T12:00:04Z', 'The Biden administrations overreaching energy regulation is sacrificing Americans ability to run their businesses and power their homes.\\r\\nDemocrats Green New Deal (GND) policies have left America dep… [+4992 chars]'), ('Fox News', 'Associated Press', 'Bolivian prosecutor launches probe into mysterious death of bank trustee amid disputed suicide claims', 'https://www.foxnews.com/us/bolivian-prosecutor-launches-probe-mysterious-death-bank-trustee-amid-disputed-suicide-claims', '2023-05-30T16:57:07Z', \"<ul><li>Bolivia is launching a probe into the suspicious death of a bankrupt bank trustee who fell from a building amidst disputed suicide claims.</li><li>The trustee's role in liquidating the bank a… [+3668 chars]\"), ('CNN', 'Nicole Goodkind', 'How crypto is dealing with the debt ceiling turmoil', 'https://www.cnn.com/2023/05/30/investing/premarket-stocks-trading/index.html', '2023-05-30T11:38:19Z', 'A version of this story first appeared in CNN Business Before the Bell newsletter. Not a subscriber? You can sign up\\xa0right here. You can listen to an audio version of the newsletter by clicking the s… [+7761 chars]'), ('Newsweek', 'Andrew Stanton', 'Joe Manchin Trails GOP Challenger by 22 Points in Key Senate Race: Poll', 'https://www.newsweek.com/joe-manchin-trails-gop-challenger-22-points-key-senate-race-poll-1803398', '2023-05-30T17:30:36Z', \"West Virginia Senator Joe Manchin is trailing GOP challenger Governor Jim Justice by 22 points in a new poll, a troubling sign for Democrats hoping to keep control of the Senate in next year's electi… [+3231 chars]\"), ('Fox News', 'Paul Steinhauser', '2024 showdown: Trump, DeSantis battle for votes in the crucial lead off state of Iowa', 'https://www.foxnews.com/politics/2024-showdown-trump-desantis-battle-votes-crucial-lead-off-state-iowa', '2023-05-30T16:13:14Z', 'Former President Donald Trump and Florida Gov. Ron DeSantis will make competing visits to Iowa this week as the 2024 GOP presidential primary heats up.\\r\\nDeSantis returns to Iowa for the first time as… [+4967 chars]'), ('Newsweek', 'Ewan Palmer', 'Trump Leads Tight Pack in First Poll Since DeSantis Declared for 2024', 'https://www.newsweek.com/trump-desantis-2024-poll-south-carolina-1803287', '2023-05-30T11:44:52Z', 'Donald Trump holds a commanding lead over Ron DeSantis in the first 2024 GOP primary poll released since the Florida governor confirmed he is running for the White House.\\r\\nAccording to a National Res… [+2756 chars]'), ('Newsweek', None, 'Building a Security Culture for Remote Employees', 'https://www.newsweek.com/building-security-culture-remote-employees-1802907', '2023-05-30T15:30:25Z', \"According to The Hill, almost 30% of all work in January 2023 took place from employees' homes—six times as much as in 2019, based on data from WFH Research. In larger urban settings, this percentage… [+5724 chars]\"), ('Newsweek', 'Kaitlin Lewis', 'This Development Signals Indictments Coming for Trump, Allies: Kirschner', 'https://www.newsweek.com/this-development-signals-indictments-coming-trump-allies-kirschner-1803210', '2023-05-30T01:35:23Z', 'Charges are nearing for former President Donald Trump out of Georgia as Fulton County District Attorney Fani Willis asked judges to clear their schedules during the first half of August, said legal a… [+3841 chars]'), ('Newsweek', 'Nick Mordowanec', \"Republicans Threaten Kevin McCarthy's Power\", 'https://www.newsweek.com/republicans-threaten-kevin-mccarthy-power-1803426', '2023-05-30T18:22:30Z', 'As debt ceiling negotiations come down to the wire, House Republicans have become increasingly more vocal about their lack of support for a potential compromise and are pointing fingers at Speaker Ke… [+5345 chars]'), ('Fox News', 'Adam Sabes', \"Man celebrating fiance's birthday on Memorial Day cruise falls overboard: 'Life of the party'\", 'https://www.foxnews.com/us/man-celebrating-fiances-birthday-memorial-day-cruise-falls-overboard', '2023-05-30T20:43:56Z', 'A 35-year-old man went overboard on a Carnival Cruise ship on Monday off the Florida coast, according to U.S. Coast Guard officials.\\r\\nThe Coast Guard said in a tweet that crews were searching for the… [+1942 chars]'), ('CNN', 'Omar Jimenez', 'Christie allies launch super PAC ahead of expected 2024 run', 'https://www.cnn.com/2023/05/30/politics/chris-christie-super-pac/index.html', '2023-05-30T13:07:01Z', 'Allies of former New Jersey Gov. Chris Christie have formed a super PAC to support an expected Republican presidential bid, two sources familiar with the plans tell CNN.\\r\\nThe outside group, Tell It L… [+1667 chars]'), ('Fox News', 'Danielle Tuntigian', 'SEN. JONI ERNST AND SEN. JEANNE SHAHEEN TO PARTICIPATE IN FORUM LIVE ON FOX NATION FROM EDWARD M. KENNEDY INSTITUTE', 'https://press.foxnews.com/2023/05/sen-joni-ernst-and-sen-jeanne-shaheen-to-participate-in-forum-live-on-fox-nation-from-edward-m-kennedy-institute', '2023-05-30T17:07:24Z', 'BOSTON \\xa0May 30, 2023\\xa0 The third installment of The Senate Project series will feature\\xa0Senators Joni Ernst (R-IA)\\xa0and\\xa0Jeanne Shaheen (D-NH)\\xa0in a forum moderated by FOX News Channels (FNC) chief politi… [+7001 chars]'), ('Newsweek', 'David Brennan', \"Russia 'On Course' for NATO Conflict, Commander Says\", 'https://www.newsweek.com/russia-nato-conflict-ukraine-alliance-karel-rehka-czech-republic-1803322', '2023-05-30T13:58:26Z', 'A full-blown NATO war with Russia is the West\\'s \"worst-case scenario\" but is possible, according to the commander of the Czech Republic\\'s armed forces, as the gulf between the Western world and Mosco… [+5200 chars]'), ('CNN', 'Hanna Ziady', \"Britain is getting so desperate to tame inflation it's talking about food price caps\", 'https://www.cnn.com/2023/05/30/economy/uk-inflation-food-price-caps/index.html', '2023-05-30T13:24:45Z', 'Brits woke up to yet more grim news on inflation Tuesday, with new data showing prices in UK stores are rising at a record pace. Its the latest sign of a seemingly intractable cost-of-living crisis t… [+5281 chars]'), ('Fox News', 'Andrew Miller', \"Democrat leader: 'un-American' 'MAGA Republicans' trying to 'crash' economy for 2024 political benefit\", 'https://www.foxnews.com/politics/rep-jeffries-unamerican-maga-republicans-trying-crash-economy-their-political-benefit-2024', '2023-05-30T20:14:42Z', 'House Minority Leader Hakeem Jeffries suggested Tuesday that \"MAGA Republicans\" are attempting to \"crash\" the United States economy via debt ceiling negotiations because it is in their political inte… [+4349 chars]'), ('Fox News', 'Anders Hagstrom', 'Chris Christie takes major step toward announcing 2024 president bid: report', 'https://www.foxnews.com/politics/chris-christie-takes-major-step-announcing-2024-president-bid-report', '2023-05-30T12:06:34Z', 'Former New Jersey Gov. Chris Christie took a major step toward announcing a potential 2024 presidential campaign this week, as allies reportedly set up a super PAC to support his effort.\\r\\nThe PAC, ca… [+2284 chars]'), ('Fox News', 'Brooke Singman', 'Tim Scott bill requires app stores to show country of origin, would stick ‘Made in China’ label on TikTok', 'https://www.foxnews.com/politics/tim-scott-bill-app-stores-country-origin-stick-made-in-china-label-tiktok', '2023-05-30T11:00:04Z', 'EXCLUSIVE: Sen. Tim Scott is rolling out legislation that would require app stores to display the country where apps are developed and owned before users download them amid worries some of the most p… [+5635 chars]'), ('Fox News', 'Houston Keene', \"Nancy Mace blasts GOP for getting fleeced on debt ceiling deal by a president 'who can’t find his pants'\", 'https://www.foxnews.com/politics/nancy-mace-blasts-gop-getting-fleeced-debt-ceiling-deal-president-who-cant-find-his-pants', '2023-05-30T16:43:37Z', 'South Carolina GOP Rep. Nancy Mace\\r\\n announced on Tuesday that she is a \"no\" vote on the debt ceiling deal, writing that \"Republicans got outsmarted by a President who cant find his pants.\"\\r\\nMace pos… [+5603 chars]'), ('Fox News', 'Gregg Jarrett', \"Free speech rights survived epic challenge from man who tried to monkey with them in 'Trial of the Century'\", 'https://www.foxnews.com/opinion/free-speech-rights-survived-epic-challenge-man-tried-money-trial-of-the-century', '2023-05-30T08:00:46Z', 'This essay is adapted from Gregg Jarretts new book, \"The Trial of the Century.\" \\xa0\\xa0\\xa0\\r\\nI was barely a teenager when, one summer day, I plucked a single volume off my fathers densely packed bookshelf.\\xa0T… [+8804 chars]'), ('Fox News', 'Tim Busch', \"Bud Light, Target, haven't the Dodgers learned anything? As a sports team owner, I know better\", 'https://www.foxnews.com/opinion/bud-light-target-havent-dodgers-learned-anything-sports-team-owner-know-better', '2023-05-30T06:00:16Z', 'Will the Los Angeles Dodgers ever be the same?\\xa0\\r\\nI doubt it. One of the most-storied sports brands in history is reeling. Its the result of managements foolish decision to invite an anti-Catholic hat… [+4015 chars]'), ('Fox News', 'Adam Sabes', 'Shannon Brandt pleads guilty to manslaughter in death of North Dakota teen', 'https://www.foxnews.com/us/shannon-brandt-pleads-guilty-manslaughter-charge-death-north-dakota-teen', '2023-05-30T19:23:30Z', 'Shannon Brandt pleaded guilty to manslaughter in the death of 18-year-old Cayler Ellingson after prosecutors reduced a murder charge in the September 2022 incident.\\r\\nBrandt, 42, ran over Ellingson wi… [+4173 chars]'), ('Fox News', 'Gabriel Hays', \"Rock singer curses out DeSantis supporters during show: 'You're f---ing dead to me'\", 'https://www.foxnews.com/media/rock-singer-curses-out-desantis-supporters-show-youre-f-dead-me', '2023-05-30T16:18:56Z', '\"Paramore\" lead singer Hayley Williams savaged her political opponents during a performance over the weekend, telling any potential Gov. Ron DeSantis, R-Fla., voters in the crowd \"youre f------ dead … [+2459 chars]'), ('Fox News', 'Rich Edson, Lawrence Richard', \"DeSantis to join 2024 Republican competitors at Sen. Ernst's Roast & Ride fundraiser in Des Moines\", 'https://www.foxnews.com/politics/desantis-join-2024-republican-competitors-sen-ernsts-roast-ride-fundraiser-des-moines', '2023-05-30T10:00:14Z', \"Florida Gov. Ron DeSantis will join several other declared Republican presidential candidates at Sen. Joni Ernst's Roast &amp; Ride fundraiser in Des Moines on Saturday, an aide to Ernst told Fox New… [+2336 chars]\"), ('CNN', 'David Wright,Steve Contorno', 'Watchdog group files FEC complaint over planned DeSantis super PAC transfer', 'https://www.cnn.com/2023/05/30/politics/super-pac-desantis-fec-complaint/index.html', '2023-05-30T20:38:24Z', 'A watchdog group on Tuesday filed a complaint to the Federal Election Commission targeting allies of Florida Gov. Ron DeSantis, who have planned for nearly a year to transfer tens of millions of doll… [+2082 chars]'), ('Newsweek', 'Anna Skinner', \"Marjorie Taylor Greene 'Absolutely Shocked' by Conspiracy Theory About Her\", 'https://www.newsweek.com/marjorie-taylor-greene-absolutely-shocked-conspiracy-theory-about-her-1803421', '2023-05-30T18:35:39Z', 'Representative Marjorie Taylor Greene has a history of spreading far-right conspiracy theories, but the Georgia Republican was shocked to find herself in the middle of a conspiracy theory about the i… [+2681 chars]'), ('Fox News', 'Elizabeth Elkind', 'Jayapal says debt ceiling deal shows GOP doesn’t care about deficits: ‘No meaningful deficit reduction’', 'https://www.foxnews.com/politics/jayapal-debt-ceiling-deal-gop-deficits-no-deficit-reduction', '2023-05-30T20:29:46Z', 'Congressional Progressive Caucus Chair Pramila Jayapal, D-Wash., dismissed House Republicans victory lap on the new debt limit bill on Tuesday, telling reporters that there was \"no meaningful debt re… [+2437 chars]'), ('Fox News', 'Hanna Panreck', \"Biden team using 'public staging' to boost Kamala Harris ahead of 2024: Report\", 'https://www.foxnews.com/media/biden-team-using-public-staging-boost-kamala-harris-ahead-2024-report', '2023-05-30T20:03:19Z', 'President Biden and the White House are reportedly publicly \"staging\" Vice President Kamala Harris alongside the president in an effort to bolster Harris heading into the 2024 election.\\xa0\\r\\nThe report … [+2329 chars]'), ('Fox News', 'Fox News Staff', \"Biden called out for absence since 2024 campaign launch: 'Basement strategy' won't work this time\", 'https://www.foxnews.com/media/biden-called-absence-2024-campaign-launch-basement-strategy-work-time', '2023-05-30T20:00:33Z', 'Fox News contributor Kellyanne Conway accused Biden of having a \"no-show presidency,\" warning his \"basement strategy\" won\\'t prevail in 2024 as he endures dismal polling. Conway slammed Biden during \"… [+3350 chars]'), ('Newsweek', 'Aleks Phillips', 'Video of Gunfire Erupting on Hollywood Beach Viewed More Than 5m Times', 'https://www.newsweek.com/hollywood-beach-florida-shooting-gunfire-video-1803249', '2023-05-30T10:07:36Z', 'CCTV footage of the moment gunshots broke out at Hollywood Beach, Florida, on Memorial Day has gone viral, being seen nearly 6 million times in less than 12 hours.\\r\\nNine people were injured after an … [+3686 chars]'), ('Newsweek', 'Ewan Palmer', \"Matt Gaetz Reveals Whether He'll Vote for Debt Ceiling Deal\", 'https://www.newsweek.com/matt-gaetz-debt-ceiling-vote-1803247', '2023-05-30T10:14:36Z', 'Florida GOP congressman Matt Gaetz has indicated he will not support the debt ceiling deal negotiated between House Leader Kevin McCarthy and President Joe Biden.\\r\\nGaetz said that he did not \"expect\"… [+2984 chars]'), ('Newsweek', 'Nick Reynolds', 'Joe Biden Rewards Donors With Admin Positions in Broken Promise to Voters', 'https://www.newsweek.com/joe-biden-rewards-donors-admin-positions-broken-promise-voters-1803442', '2023-05-30T20:19:33Z', 'It was an unspoken deal for generations of presidential hopefuls. A well-connected person helps get you elected, and in return, you make that person an ambassador somewhere exotic as a token of your … [+6789 chars]'), ('Fox News', 'Chad Pergram', 'Now comes the hard part: Getting the debt ceiling deal through Congress', 'https://www.foxnews.com/politics/now-comes-hard-part-debt-ceiling-deal-congress', '2023-05-30T01:52:43Z', 'Now comes the hard part.\\xa0\\r\\nIf you thought it was hard for President Biden and House Speaker Kevin McCarthy, R-Calif., to marshal a debt ceiling deal, wait to see if its even more challenging to advan… [+8235 chars]'), ('Newsweek', 'Jon Schweppe', 'Grassroots Boycotts Against Woke Corporations Are Working | Opinion', 'https://www.newsweek.com/grassroots-boycotts-against-woke-corporations-are-working-opinion-1803339', '2023-05-30T17:05:49Z', \"The sacrosanct month of Pride begins later this week. If you're a reasonable business executive sitting in a C-suite at a major American corporation, you've got to be asking yourself: is all of this … [+5589 chars]\"), ('Fox News', 'Danielle Wallace', \"Kevin McCarthy's debt ceiling deal advances to key committee in first test of GOP support\", 'https://www.foxnews.com/politics/kevin-mccarthys-debt-ceiling-deal-advances-key-committee-first-test-gop-support', '2023-05-30T12:44:26Z', 'Republican House Speaker Kevin McCarthys debt ceiling bill is advancing to a key committee Tuesday in its first test of GOP support.\\xa0\\r\\nThe House Rules Committee is scheduled to convene at 3 p.m., and… [+4381 chars]'), ('Fox News', 'Danielle Wallace', \"Canada's top spy agency warns Hong Kong-born lawmaker she is on China's ‘evergreen’ target list\", 'https://www.foxnews.com/world/canadas-top-spy-agency-warns-hong-kong-born-lawmaker-chinas-evergreen-target-list', '2023-05-30T15:32:58Z', 'Canadian Member of Parliament Jenny Kwan, who was born in Hong Kong, told reporters Monday that the Canadian Security Intelligence Service (CSIS) informed her during a classified briefing Friday that… [+4340 chars]'), ('Newsweek', 'Brendan Cole', 'Biden Leaves Door Open for Ukraine to Receive U.S. ATACM Missile Systems', 'https://www.newsweek.com/russia-ukraine-biden-atacms-missile-1803298', '2023-05-30T12:56:09Z', 'President Joe Biden has suggested that the U.S. could eventually supply Ukraine with a long-range missile system that Kyiv has been calling for to fight Russian aggression.\\r\\nThe president made the re… [+2752 chars]'), ('Newsweek', 'Ryan Smith', 'Candace Owens Misgenders Dylan Mulvaney in Viral Message', 'https://www.newsweek.com/candace-owens-misgenders-dylan-mulvaney-viral-twitter-post-transgender-1803385', '2023-05-30T16:04:19Z', 'Candace Owens has misgendered Dylan Mulvaney in a social media post criticizing the transgender TikTok star.\\r\\nOver the past several weeks, social media influencer Mulvaney, 26, has been the focus of … [+4462 chars]'), ('Newsweek', 'Ellie Cook', 'Ukraine Puts Number on F-16s After German Leopard Tank Success', 'https://www.newsweek.com/ukraine-f16-fighter-jets-german-leopard-tank-arrival-oleksii-reznikov-1803227', '2023-05-30T09:21:38Z', \"Ukraine needs around 100 Western fighter jets, Kyiv's defense minister has said, as a host of Western Leopard tanks arrives in Ukraine.\\r\\nMost of the 100 advanced aircraft should be F-16s, Ukrainian D… [+3705 chars]\"), ('CNN', 'Rob Frehse', 'Man arrested and charged with first-degree murder in death of New Jersey councilwoman', 'https://www.cnn.com/2023/05/30/us/new-jersey-councilwoman-murder-arrest/index.html', '2023-05-30T22:34:22Z', 'A man in Virginia has been arrested and charged with first-degree murder in the shooting death of Eunice Dwumfour, a 30-year-old councilwoman who was found shot to death in her car in Sayreville, New… [+3116 chars]'), ('Fox News', 'Bret Baier, Amy Munneke', \"'Special Report' Spotlight: Private companies increasing footprint in space\", 'https://www.foxnews.com/media/special-report-spotlight-private-companies-increasing-footprint-space', '2023-05-30T23:01:07Z', 'Adversaries like Russia and China are increasing their assets in space. As the U.S. looks to counter these threats, its turning to the private sector for assistance.\\r\\n\"Right now, we have a lot of pri… [+7715 chars]'), ('Fox News', 'Lindsay Kornick', \"Gavin Newsome blasted for 'tone deaf' Memorial Day tweet: Thought this was 'parody'\", 'https://www.foxnews.com/media/gavin-newsome-blasted-tone-deaf-memorial-day-tweet-thought-parody', '2023-05-30T11:00:24Z', 'Gov. Gavin Newsom, D-Calif., raised some eyebrows on Monday with what many on social media considered to be a \"tone-deaf\" tweet for Memorial Day.\\r\\nAfter hours without commenting on the holiday honori… [+3174 chars]'), ('Newsweek', 'Andrew Stanton', 'Republicans, Democrats Want to Strip Joe Manchin of His Debt Deal Victory', 'https://www.newsweek.com/republicans-democrats-want-strip-joe-manchin-his-debt-deal-victory-1803448', '2023-05-30T21:21:53Z', 'A bipartisan group of lawmakers is trying to strip Senator Joe Manchin of a key victory in the bill to raise the United States debt ceiling.\\r\\nPresident Joe Biden and House Speaker Kevin McCarthy, a C… [+3411 chars]'), ('CNN', 'Kyung Lah', \"Newsom's vow to appoint a Black woman to the Senate looms large amid Feinstein health concerns\", 'https://www.cnn.com/2023/05/29/politics/gavin-newsom-dianne-feinstein-california-democrats/index.html', '2023-05-30T00:10:30Z', 'As California Gov. Gavin Newsom stepped on stage at the state Democratic Party Convention this weekend, Vilma Dawson applauded with the visible faith of someone who had supported him through multiple… [+5494 chars]'), ('Fox News', 'Brian Flood', 'CNN hemorrhaging viewers since irking liberals with Trump town hall, hits several recent lows', 'https://www.foxnews.com/media/cnn-hemorrhaging-viewers-since-irking-liberals-trump-town-hall-hits-several-recent-lows', '2023-05-30T18:58:45Z', 'Since CNNs town hall event with former President Trump earlier this month, the struggling network has hit several embarrassing recent lows since the polarizing event as viewers continue to bolt.\\xa0\\r\\nTr… [+3843 chars]'), ('Fox News', 'Hanna Panreck', \"'View' host Sunny Hostin belittles GOP White women voters as tools of their husbands: 'They do fall in line'\", 'https://www.foxnews.com/media/view-host-sunny-hostin-belittles-gop-white-women-voters-tools-their-husbands-fall-line', '2023-05-30T17:28:57Z', '\"The View\" co-host Sunny Hostin said Tuesday that \"White women want to protect this patriarchy\" because it \"benefits them\" while discussing Republican women who continue to support former President T… [+3330 chars]'), ('Fox News', 'Brianna Herlihy', \"Debt deal with Biden a 'betrayal' that could cost McCarthy speakership, House Freedom Caucus member says\", 'https://www.foxnews.com/politics/debt-deal-biden-betrayal-that-could-cost-mccarthy-speakership-house-freedom-caucus-member-says', '2023-05-30T17:51:11Z', 'Rep. Chip Roy, R-Texas, a key member the House Freedom Caucus (HFC), indicated Tuesday that if Republicans do not stop the debt deal in committee, that he would consider ousting Kevin McCarthy from l… [+2153 chars]'), ('Fox News', 'Patrick Hauf', 'Freedom Caucus members call on McCarthy to scrap debt ceiling agreement with Biden: ‘Bad deal’', 'https://www.foxnews.com/politics/freedom-caucus-members-mccarthy-scrap-debt-ceiling-agreement-biden-bad-deal', '2023-05-30T18:28:36Z', 'House Freedom Caucus members on Tuesday said they would oppose the debt ceiling agreement reached by President Biden House Speaker Kevin McCarthy, and called on McCarthy to scrap the weekend deal to … [+2414 chars]'), ('Newsweek', 'Brendan Cole', \"Russian Lawmaker Leads Call to 'Cleanse' Ukraine and Its Language\", 'https://www.newsweek.com/russia-ukraine-lpdr-ukrainian-cleanse-language-1803261', '2023-05-30T11:21:50Z', 'A Russian member of parliament has said that he and his political party believed that Ukraine and its language had no right to exist.\\r\\nThe comments were made by Alexei Didenko during a conference on … [+3344 chars]'), ('Fox News', 'Danielle Wallace', \"Biden, Cruz condemn Uganda law allowing death penalty for 'aggravated homosexuality'\", 'https://www.foxnews.com/politics/biden-cruz-condemn-uganda-law-allowing-death-penalty-aggravated-homosexuality', '2023-05-30T13:51:30Z', 'Sen. Ted Cruz, R-Texas, joined President Biden in condemning a new law enacted in the East African nation of Uganda allowing the death penalty for \"aggravated homosexuality.\"\\xa0\\r\\n\"This Uganda law is ho… [+4267 chars]'), ('CNN', 'Tara Subramaniam,Manveena Suri', 'Teen girl in India stabbed to death in public, reigniting outrage over violence against women', 'https://www.cnn.com/2023/05/30/india/india-delhi-girl-murder-video-outrage-intl-hnk/index.html', '2023-05-30T12:57:21Z', 'Editors Note: Editors note: This article contains graphic details about the aftermath of a violent crime\\r\\nA 16 year-old girl was brutally stabbed and bludgeoned to death in a busy public alleyway in … [+3477 chars]'), ('CNN', 'Clare Sebastian,Anna Chernova,Olga Voitovych,Lauren Said-Moorhouse', 'Drones hit Moscow buildings in rare attack on Russian capital as Kyiv faces another night of bombardment', 'https://www.cnn.com/2023/05/30/europe/moscow-drone-attack-intl/index.html', '2023-05-30T13:00:10Z', 'Russia is blaming Ukraine for launching a drone attack on Moscow early Tuesday which reportedly left two people injured and several buildings damaged, a rare incident in the Russian capital after mon… [+6302 chars]'), ('Fox News', 'Aubrie Spady', 'NV Dems to fine schools $5k per day for not allowing biological males in girls sports', 'https://www.foxnews.com/politics/nv-dems-fine-schools-5k-per-day-not-allowing-biological-males-girls-sports', '2023-05-30T15:52:25Z', \"Democrats in the Nevada legislature swiftly passed an amendment to penalize school boards that prevent biological males who identify as transgender from using women's locker rooms and competing on gi… [+2338 chars]\"), ('Fox News', 'Chris Pandolfo', \"Texas Gov Greg Abbott to sign bill taking on 'rogue' district attorneys\", 'https://www.foxnews.com/politics/texas-gov-greg-abbott-sign-bill-taking-rogue-district-attorneys', '2023-05-30T15:46:36Z', 'Texas is about to crack down on \"rogue\" district attorneys who refuse to prosecute entire classes of crime, like abortion or drug-related offenses.\\xa0\\r\\nGov. Greg Abbott said Monday he will sign House B… [+3177 chars]'), ('Fox News', 'Yael Halon', \"DeSantis scorches 'totally inadequate' debt ceiling deal: We are 'careening toward bankruptcy'\", 'https://www.foxnews.com/media/desantis-scorches-totally-inadequate-debt-ceiling-deal-careening-toward-bankruptcy', '2023-05-30T21:50:51Z', 'Florida Governor and GOP presidential candidate Ron DeSantis ripped the bipartisan debt ceiling bill reached between House Speaker Kevin McCarthy, R-Calif. and President Biden as \"totally inadequate\"… [+3243 chars]'), ('Fox News', 'Hanna Panreck', \"MSNBC host boldly says DeSantis 'even money' to beat frontrunner Trump for 2024 nomination: 'More competent'\", 'https://www.foxnews.com/media/msnbc-host-boldly-says-desantis-even-money-beat-frontrunner-trump-2024-nomination-more-competent', '2023-05-30T16:41:06Z', 'MSNBC host Joe Scarborough said Tuesday that Gov. Ron DeSantis, R-Fla., was an \"even money\" front-runner for the Republican nomination and declared he could beat Donald Trump because he is \"more comp… [+2887 chars]'), ('Fox News', 'Associated Press', 'Most US adults believe race should play a role in college admissions process, according to AP poll', 'https://www.foxnews.com/us/most-us-adults-believe-race-play-roll-college-admissions-process-according-new-poll', '2023-05-30T11:06:59Z', 'As the Supreme Court decides the fate of affirmative action, most U.S. adults say the court should allow colleges to consider race as part of the admissions process, yet few believe students race sho… [+6598 chars]'), ('Fox News', 'Sen. Chuck Grassley, Bill Cassidy', \"Biden's student loan handout: Senate should just say no. Here's why\", 'https://www.foxnews.com/opinion/bidens-student-loan-handout-senate-should-just-say-no', '2023-05-30T14:00:20Z', 'The quickly approaching debt limit gives Congress and the White House an important opportunity to reset and put our fiscal house in order. Unfortunately, President Biden has made it clear he is more … [+3333 chars]'), ('CNN', 'Amy Simonson,Elizabeth Wolfe', '9 people shot during confrontation between two groups near beach in Hollywood, Florida, authorities say', 'https://www.cnn.com/2023/05/29/us/hollywood-florida-shooting-monday/index.html', '2023-05-30T02:29:13Z', 'Nine people were shot, including a one-year-old child,during an altercation between two groups near a busy area of the beach in Hollywood, Florida, Monday night, officials said.\\r\\nPolice have detained… [+1679 chars]'), ('Fox News', 'Michael Ruiz, Ashley Papa', 'Eunice Dwumfour murder: New Jersey police make arrest months after slaying of Republican councilwoman', 'https://www.foxnews.com/us/eunice-dwumfour-murder-new-jersey-police-make-arrest-months-after-slaying-republican-councilwoman', '2023-05-30T20:37:15Z', 'New Jersey authorities have arrested a 28-year-old Virginia man in connection with the February murder of a Republican councilwoman from Sayreville gunned down in her car outside her home.\\r\\nEunice Dw… [+2263 chars]'), ('Newsweek', 'Kaitlin Lewis', \"Russia's Attacks on Kyiv Are 'Straight Up Terrorism': Former Ambassador\", 'https://www.newsweek.com/russias-attacks-kyiv-are-straight-terrorism-former-ambassador-1803216', '2023-05-30T03:44:18Z', 'Russia\\'s series of airstrikes on Kyiv over the past 24 hours is \"straight up terrorism,\" said Michael McFaul, the former U.S. ambassador to Russia.\\r\\nAccording to the Ukrainian military, Moscow launch… [+3356 chars]'), ('Fox News', 'Brandon Gillespie', 'Where do moderate Democrats, Republicans stand on the debt ceiling deal as pivotal votes loom?', 'https://www.foxnews.com/politics/where-moderate-democrats-republicans-stand-debt-ceiling-deal-pivotal-votes-loom', '2023-05-30T22:00:44Z', 'As the debt deal reached between President Biden and House Speaker Kevin McCarthy heads to Congress this week to face votes in the House and Senate, the spotlight has shifted to which lawmakers plan … [+5390 chars]'), ('Newsweek', 'Isabel van Brugen', \"Lukashenko's Nuclear Weapons Offer Rejected by Russia's Neighbor\", 'https://www.newsweek.com/lukashenko-belarus-nuclear-weapons-offer-kazakhstan-russia-tokayev-1803269', '2023-05-30T11:42:59Z', 'Kazakhstan President Kassym-Jomart Tokayev has rejected his Belarusian counterpart\\'s proposal to join the Russia-Belarus \"Union State,\" calling the offer a \"joke.\"\\r\\nThe developments come after Belaru… [+3531 chars]'), ('CNN', 'By Mike Hayes and <a href=\"/profiles/maureen-chowdhury\">Maureen Chowdhury</a>, CNN', 'The latest on the US debt ceiling deal', 'https://www.cnn.com/politics/live-news/us-debt-ceiling-deadline-talks-05-30-23/index.html', '2023-05-30T14:12:09Z', 'Texas Rep. Chip Roy accused House Speaker Kevin McCarthy on Monday of cutting a deal during the January speakers race that could complicate their efforts to pass the debt ceiling bill this week.\\r\\nBut… [+2540 chars]'), ('Newsweek', 'Ewan Palmer', \"Video of Ron DeSantis Vowing To 'Destroy Leftism' Viewed 7m Times\", 'https://www.newsweek.com/ron-desantis-destroy-leftism-fox-2024-1803336', '2023-05-30T14:55:35Z', 'A clip of Florida Governor Ron DeSantis vowing to \"destroy leftism\" if elected president has gone viral on social media.\\r\\nOn Monday, DeSantis was asked on Fox and Friends about his 2024 campaign and … [+3537 chars]'), ('Newsweek', 'Nick Mordowanec', \"Biden Accuser Tara Reade Leaves U.S. for 'Safety' of Russia\", 'https://www.newsweek.com/biden-accuser-tara-reade-leaves-us-safety-russia-1803459', '2023-05-30T21:42:24Z', 'Tara Reade, who accused President Joe Biden of sexually assaulting her in 1993, is requesting Russian citizenship from Vladimir Putin due to concerns about her safety in the United States.\\r\\nShe serve… [+5935 chars]'), ('Fox News', 'Thomas Catenacci', 'White House kills another top Biden nominee amid mounting opposition', 'https://www.foxnews.com/politics/white-house-kills-another-top-biden-nominee-amid-mounting-opposition', '2023-05-30T21:46:01Z', \"The White House unexpectedly withdrew President Biden's nomination of Ann Carlson to lead a Department of Transportation safety subagency late on Tuesday.\\r\\nIn a surprise release, the White House said… [+4472 chars]\"), ('Newsweek', 'Ryan Smith', \"LEGO Faces Boycott Calls Over 'Transgender Building Sets'\", 'https://www.newsweek.com/lego-faces-boycott-calls-over-transgender-building-sets-1803239', '2023-05-30T09:49:47Z', 'LEGO is the latest company facing boycott calls amid outrage over its A to Z of Awesome campaign, which supports the LGBTQ+ community.\\r\\nLast year, the LEGO Group announced the launch of its campaign … [+6199 chars]'), ('Fox News', 'Houston Keene', \"Biden's Dem opponent Robert F. Kennedy Jr sides with Elon Musk, vows to end 'censorship-industrial complex'\", 'https://www.foxnews.com/politics/bidens-dem-opponent-robert-f-kennedy-jr-sides-elon-musk-vows-end-censorship-industrial-complex', '2023-05-30T17:19:19Z', 'r\\r\\nDemocrat presidential candidate Robert F. Kennedy, Jr.\\r\\n agreed with billionaire Twitter owner Elon Musks remarks on the social media company having \"no actual choice\" but to comply with governmen… [+2827 chars]'), ('Newsweek', 'Sophie Lloyd', 'Fitness Coach Drops 20lbs After Ditching Her Exercise Routine', 'https://www.newsweek.com/healthy-lifestyle-changes-weight-loss-confidence-coach-1800843', '2023-05-30T13:15:41Z', 'While it\\'s tempting to opt for a quick fix when it comes to achieving your \"ideal\" body, there are healthier and more sustainable methods for losing weight—no calorie counting or punishing exercise r… [+8481 chars]'), ('CNN', 'Barbie Latza Nadeau,Amir Tal,Niamh Kennedy,Caolán Magee', 'Italian secret service agents among victims of Lake Maggiore boat accident', 'https://www.cnn.com/2023/05/30/europe/lake-maggiore-boat-death-italy-intl/index.html', '2023-05-30T14:57:32Z', 'Two Italian secret service agents and a retired member of Israels security forces were among the four victims from Sundays fatal boat accident on Lake Maggiore, northern Italy. \\r\\nThe Italian victims … [+1575 chars]'), ('Fox News', 'Newt Gingrich', 'Corrupt media protects corrupt establishment and nary a Woodward or Bernstein in sight', 'https://www.foxnews.com/opinion/corrupt-media-protects-corrupt-establishment-nary-woodward-bernstein-sight', '2023-05-30T10:00:05Z', 'The conspiracy between a corrupt set of bureaucracies (including the Justice Department, the IRS and the intelligence community) and an equally corrupt and enabling elite media is astonishing. The Du… [+5883 chars]'), ('CNN', 'Hannah Rabinowitz', 'US expatriate arrested after allegedly threatening US senators and Marines', 'https://www.cnn.com/2023/05/30/politics/us-expatriate-arrested-allegedly-threatening-us-senators/index.html', '2023-05-30T22:48:22Z', 'An American living abroad was arrested last week on a charge of threatening US senators and political groups over the number of unsolicited political emails he was receiving, the Justice Department a… [+2126 chars]'), ('Newsweek', None, 'How Mental Health Services Can Improve the Patient and Employee Experience', 'https://www.newsweek.com/how-mental-health-services-can-improve-patient-employee-experience-1802491', '2023-05-30T13:00:52Z', \"Medical treatments can disrupt a person's emotional and mental well-being. The fear of the unknown, concerns about test results, financial accessibility to care, and medication side effects can ampli… [+6438 chars]\"), ('Fox News', 'Elizabeth Elkind', 'GOP leaders tout McCarthy-Biden deal as ‘conservative’ victory as Republicans defect', 'https://www.foxnews.com/politics/gop-leaders-tout-mccarthy-biden-deal-conservative-victory-republicans-defect', '2023-05-30T13:29:03Z', 'House Republican leaders are touting the deal between House Speaker Kevin McCarthy and President Biden as a conservative victory, even as many of the most conservative Republicans in the House are sa… [+3715 chars]')]\n",
      "109\n"
     ]
    }
   ],
   "source": [
    "#api_record_lst01 = [(1, 1, 1), (2, 2, 2), (3, 3, 3), (1, 1, 1), (4, 4, 4), (3, 3, 3)]\n",
    "#print(api_record_lst01)\n",
    "api_record_set01 = set(api_record_lst01)\n",
    "print(api_record_set01)\n",
    "api_record_lst02 = list(api_record_set01)\n",
    "print(api_record_lst02)\n",
    "print(len(api_record_lst02))"
   ]
  },
  {
   "attachments": {},
   "cell_type": "markdown",
   "id": "bcda7590",
   "metadata": {},
   "source": [
    "### Load Data from DataFrames:"
   ]
  },
  {
   "attachments": {},
   "cell_type": "markdown",
   "id": "aa7d95a1",
   "metadata": {},
   "source": [
    "**Full Dataset compiled for Training/Test of Classifier**"
   ]
  },
  {
   "cell_type": "code",
   "execution_count": 2,
   "id": "9122a540",
   "metadata": {},
   "outputs": [],
   "source": [
    "api_data_complete_df=pd.read_csv('../data/master.csv')\n"
   ]
  },
  {
   "attachments": {},
   "cell_type": "markdown",
   "id": "06fab3e5",
   "metadata": {},
   "source": [
    "**Client Dataset to collect Classifier Results for Client**"
   ]
  },
  {
   "cell_type": "code",
   "execution_count": 194,
   "id": "a90895a1",
   "metadata": {},
   "outputs": [],
   "source": [
    "api_data_complete_df=pd.read_csv('News_API_Susy_word_count2.csv')\n",
    "api_data_complete_df.rename (columns = {'article_parsed':'article_text'}, inplace=True) \n"
   ]
  },
  {
   "cell_type": "code",
   "execution_count": 216,
   "id": "6610ab7f",
   "metadata": {},
   "outputs": [],
   "source": [
    "#api_data_complete_df['Author'].value_counts()"
   ]
  },
  {
   "cell_type": "code",
   "execution_count": 215,
   "id": "87a11f44",
   "metadata": {},
   "outputs": [],
   "source": [
    "#api_data_complete_df.head()"
   ]
  },
  {
   "attachments": {},
   "cell_type": "markdown",
   "id": "9530d6e9",
   "metadata": {},
   "source": [
    "## Pre-Process Data:"
   ]
  },
  {
   "cell_type": "code",
   "execution_count": 181,
   "id": "b620c660",
   "metadata": {},
   "outputs": [],
   "source": [
    "# Tokenize text:\n",
    "\n",
    "api_data_complete_df['tokens']= api_data_complete_df['article_text'].apply(prepare,\n",
    "                                                     pipeline=full_pipeline)"
   ]
  },
  {
   "cell_type": "code",
   "execution_count": 199,
   "id": "b4b94607",
   "metadata": {},
   "outputs": [],
   "source": [
    "# Clean data into lowercase/no punctuation:\n",
    "\n",
    "api_data_complete_df['cleaner_text']= api_data_complete_df['article_text'].apply(prepare,\n",
    "                                                     pipeline=first_pipeline)"
   ]
  },
  {
   "cell_type": "code",
   "execution_count": 9,
   "id": "b3d2a6a2",
   "metadata": {},
   "outputs": [],
   "source": [
    "# Add target variable values:\n",
    "\n",
    "api_data_complete_df['Political_Lean'] = np.where((api_data_complete_df['source_name'] == \"CNN\") | (api_data_complete_df['source_name'] == \"The Washington Post\"), 'Left', 'Right')"
   ]
  },
  {
   "cell_type": "code",
   "execution_count": 168,
   "id": "b01d12ba",
   "metadata": {},
   "outputs": [],
   "source": [
    "#api_data_complete_df2.to_csv(\"master_tokenized_noReutersAPMSN.csv\", sep=',')"
   ]
  },
  {
   "attachments": {},
   "cell_type": "markdown",
   "id": "bc07a5be",
   "metadata": {},
   "source": [
    "----------"
   ]
  },
  {
   "attachments": {},
   "cell_type": "markdown",
   "id": "4894e793",
   "metadata": {},
   "source": [
    "## EDA"
   ]
  },
  {
   "attachments": {},
   "cell_type": "markdown",
   "id": "07cc68af",
   "metadata": {},
   "source": [
    "### Word Counts:"
   ]
  },
  {
   "cell_type": "code",
   "execution_count": 363,
   "id": "aedbda97",
   "metadata": {},
   "outputs": [],
   "source": [
    "#api_data_df=pd.read_csv('News_API_FOX_CNN_Breitbert_WAPOST_allcolumns.csv')"
   ]
  },
  {
   "cell_type": "code",
   "execution_count": 183,
   "id": "86ae3d03",
   "metadata": {},
   "outputs": [],
   "source": [
    "api_data_complete_df['word_count_tokens'] = api_data_complete_df['tokens'].apply(lambda x: len(str(x).split(\" \")))\n",
    "api_data_complete_df['word_count'] = api_data_complete_df['article_text'].apply(lambda x: len(str(x).split(\" \")))"
   ]
  },
  {
   "cell_type": "code",
   "execution_count": 184,
   "id": "3d69f3d0",
   "metadata": {},
   "outputs": [],
   "source": [
    "api_data_complete_df['word_count_cleaner'] = api_data_complete_df['cleaner_text'].apply(lambda x: len(str(x).split(\" \")))"
   ]
  },
  {
   "cell_type": "code",
   "execution_count": 200,
   "id": "c083407f",
   "metadata": {},
   "outputs": [],
   "source": [
    "# Centered data:\n",
    "\n",
    "api_data_complete_df23 = api_data_complete_df[api_data_complete_df['word_count']>1]\n"
   ]
  },
  {
   "cell_type": "code",
   "execution_count": 205,
   "id": "5681fb57",
   "metadata": {},
   "outputs": [
    {
     "data": {
      "text/html": [
       "<div>\n",
       "<style scoped>\n",
       "    .dataframe tbody tr th:only-of-type {\n",
       "        vertical-align: middle;\n",
       "    }\n",
       "\n",
       "    .dataframe tbody tr th {\n",
       "        vertical-align: top;\n",
       "    }\n",
       "\n",
       "    .dataframe thead th {\n",
       "        text-align: right;\n",
       "    }\n",
       "</style>\n",
       "<table border=\"1\" class=\"dataframe\">\n",
       "  <thead>\n",
       "    <tr style=\"text-align: right;\">\n",
       "      <th></th>\n",
       "      <th>Unnamed: 0</th>\n",
       "      <th>Source</th>\n",
       "      <th>Author</th>\n",
       "      <th>Title</th>\n",
       "      <th>URL</th>\n",
       "      <th>date</th>\n",
       "      <th>content</th>\n",
       "      <th>article_text</th>\n",
       "      <th>word_count</th>\n",
       "      <th>cleaner_text</th>\n",
       "    </tr>\n",
       "  </thead>\n",
       "  <tbody>\n",
       "    <tr>\n",
       "      <th>0</th>\n",
       "      <td>0</td>\n",
       "      <td>Reuters</td>\n",
       "      <td>NaN</td>\n",
       "      <td>Montana becomes first US state to ban TikTok</td>\n",
       "      <td>https://www.reuters.com/world/us/montana-gover...</td>\n",
       "      <td>2023-05-18T13:42:12Z</td>\n",
       "      <td>WASHINGTON, May 17 (Reuters) - Montana Governo...</td>\n",
       "      <td>United StatesMontana to become first US state ...</td>\n",
       "      <td>727</td>\n",
       "      <td>united statesmontana to become first us state ...</td>\n",
       "    </tr>\n",
       "    <tr>\n",
       "      <th>1</th>\n",
       "      <td>1</td>\n",
       "      <td>Reuters</td>\n",
       "      <td>Reuters</td>\n",
       "      <td>Billionaire real estate investor Sam Zell dies...</td>\n",
       "      <td>https://www.reuters.com/business/billionaire-r...</td>\n",
       "      <td>2023-05-18T15:23:08Z</td>\n",
       "      <td>May 18 (Reuters) - Billionaire Sam Zell, who b...</td>\n",
       "      <td>BusinessSam Zell, billionaire real estate inve...</td>\n",
       "      <td>368</td>\n",
       "      <td>businesssam zell billionaire real estate inves...</td>\n",
       "    </tr>\n",
       "    <tr>\n",
       "      <th>2</th>\n",
       "      <td>2</td>\n",
       "      <td>Reuters</td>\n",
       "      <td>NaN</td>\n",
       "      <td>Montana becomes first US state to ban TikTok</td>\n",
       "      <td>https://www.reuters.com/world/us/montana-gover...</td>\n",
       "      <td>2023-05-18T13:42:12Z</td>\n",
       "      <td>WASHINGTON, May 17 (Reuters) - Montana Governo...</td>\n",
       "      <td>United StatesMontana to become first US state ...</td>\n",
       "      <td>727</td>\n",
       "      <td>united statesmontana to become first us state ...</td>\n",
       "    </tr>\n",
       "    <tr>\n",
       "      <th>3</th>\n",
       "      <td>3</td>\n",
       "      <td>Reuters</td>\n",
       "      <td>Lisa Richwine</td>\n",
       "      <td>Disney to close Star Wars hotel that opened in...</td>\n",
       "      <td>https://www.reuters.com/business/disney-close-...</td>\n",
       "      <td>2023-05-18T22:09:31Z</td>\n",
       "      <td>LOS ANGELES, May 18 (Reuters) - Walt Disney Co...</td>\n",
       "      <td>BusinessDisney to close Star Wars hotel that o...</td>\n",
       "      <td>312</td>\n",
       "      <td>businessdisney to close star wars hotel that o...</td>\n",
       "    </tr>\n",
       "    <tr>\n",
       "      <th>4</th>\n",
       "      <td>4</td>\n",
       "      <td>Reuters</td>\n",
       "      <td>Dawn Chmielewski</td>\n",
       "      <td>Disney cancels plans to relocate 2,000 jobs to...</td>\n",
       "      <td>https://www.reuters.com/business/media-telecom...</td>\n",
       "      <td>2023-05-18T18:26:03Z</td>\n",
       "      <td>LOS ANGELES, May 18 (Reuters) - Walt Disney Co...</td>\n",
       "      <td>World at WorkDisney cancels plans for $1 billi...</td>\n",
       "      <td>703</td>\n",
       "      <td>world at workdisney cancels plans for 1 billio...</td>\n",
       "    </tr>\n",
       "  </tbody>\n",
       "</table>\n",
       "</div>"
      ],
      "text/plain": [
       "   Unnamed: 0   Source            Author  \\\n",
       "0           0  Reuters               NaN   \n",
       "1           1  Reuters           Reuters   \n",
       "2           2  Reuters               NaN   \n",
       "3           3  Reuters     Lisa Richwine   \n",
       "4           4  Reuters  Dawn Chmielewski   \n",
       "\n",
       "                                               Title  \\\n",
       "0       Montana becomes first US state to ban TikTok   \n",
       "1  Billionaire real estate investor Sam Zell dies...   \n",
       "2       Montana becomes first US state to ban TikTok   \n",
       "3  Disney to close Star Wars hotel that opened in...   \n",
       "4  Disney cancels plans to relocate 2,000 jobs to...   \n",
       "\n",
       "                                                 URL                  date  \\\n",
       "0  https://www.reuters.com/world/us/montana-gover...  2023-05-18T13:42:12Z   \n",
       "1  https://www.reuters.com/business/billionaire-r...  2023-05-18T15:23:08Z   \n",
       "2  https://www.reuters.com/world/us/montana-gover...  2023-05-18T13:42:12Z   \n",
       "3  https://www.reuters.com/business/disney-close-...  2023-05-18T22:09:31Z   \n",
       "4  https://www.reuters.com/business/media-telecom...  2023-05-18T18:26:03Z   \n",
       "\n",
       "                                             content  \\\n",
       "0  WASHINGTON, May 17 (Reuters) - Montana Governo...   \n",
       "1  May 18 (Reuters) - Billionaire Sam Zell, who b...   \n",
       "2  WASHINGTON, May 17 (Reuters) - Montana Governo...   \n",
       "3  LOS ANGELES, May 18 (Reuters) - Walt Disney Co...   \n",
       "4  LOS ANGELES, May 18 (Reuters) - Walt Disney Co...   \n",
       "\n",
       "                                        article_text  word_count  \\\n",
       "0  United StatesMontana to become first US state ...         727   \n",
       "1  BusinessSam Zell, billionaire real estate inve...         368   \n",
       "2  United StatesMontana to become first US state ...         727   \n",
       "3  BusinessDisney to close Star Wars hotel that o...         312   \n",
       "4  World at WorkDisney cancels plans for $1 billi...         703   \n",
       "\n",
       "                                        cleaner_text  \n",
       "0  united statesmontana to become first us state ...  \n",
       "1  businesssam zell billionaire real estate inves...  \n",
       "2  united statesmontana to become first us state ...  \n",
       "3  businessdisney to close star wars hotel that o...  \n",
       "4  world at workdisney cancels plans for 1 billio...  "
      ]
     },
     "execution_count": 205,
     "metadata": {},
     "output_type": "execute_result"
    }
   ],
   "source": [
    "api_data_complete_df23.head()"
   ]
  },
  {
   "attachments": {},
   "cell_type": "markdown",
   "id": "63a3d3c0",
   "metadata": {},
   "source": [
    "### Remove \"centered\" authors from Training/Test Data:"
   ]
  },
  {
   "cell_type": "code",
   "execution_count": 12,
   "id": "b7a1909d",
   "metadata": {},
   "outputs": [
    {
     "data": {
      "text/html": [
       "<div>\n",
       "<style scoped>\n",
       "    .dataframe tbody tr th:only-of-type {\n",
       "        vertical-align: middle;\n",
       "    }\n",
       "\n",
       "    .dataframe tbody tr th {\n",
       "        vertical-align: top;\n",
       "    }\n",
       "\n",
       "    .dataframe thead th {\n",
       "        text-align: right;\n",
       "    }\n",
       "</style>\n",
       "<table border=\"1\" class=\"dataframe\">\n",
       "  <thead>\n",
       "    <tr style=\"text-align: right;\">\n",
       "      <th></th>\n",
       "      <th>source_name</th>\n",
       "      <th>author</th>\n",
       "      <th>title</th>\n",
       "      <th>url</th>\n",
       "      <th>publish_date</th>\n",
       "      <th>content</th>\n",
       "      <th>article_text</th>\n",
       "      <th>tokens</th>\n",
       "      <th>cleaner_text</th>\n",
       "      <th>Political_Lean</th>\n",
       "      <th>word_count_tokens</th>\n",
       "      <th>word_count</th>\n",
       "      <th>word_count_cleaner</th>\n",
       "    </tr>\n",
       "  </thead>\n",
       "  <tbody>\n",
       "    <tr>\n",
       "      <th>0</th>\n",
       "      <td>The Washington Post</td>\n",
       "      <td>NaN</td>\n",
       "      <td>Alabama Highway sign hacked with white suprema...</td>\n",
       "      <td>https://www.washingtonpost.com/nation/2023/05/...</td>\n",
       "      <td>2023-05-30T16:31:36Z</td>\n",
       "      <td>Travelers in Alabama driving on Interstate 65 ...</td>\n",
       "      <td>Travelers in Alabama driving on Interstate 65 ...</td>\n",
       "      <td>[travelers, alabama, driving, interstate, 65, ...</td>\n",
       "      <td>travelers in alabama driving on interstate 65 ...</td>\n",
       "      <td>Left</td>\n",
       "      <td>558</td>\n",
       "      <td>923</td>\n",
       "      <td>921</td>\n",
       "    </tr>\n",
       "    <tr>\n",
       "      <th>1</th>\n",
       "      <td>The Washington Post</td>\n",
       "      <td>Amber Phillips</td>\n",
       "      <td>Breaking down the GOP investigation into the B...</td>\n",
       "      <td>https://www.washingtonpost.com/politics/2023/0...</td>\n",
       "      <td>2023-05-30T19:56:33Z</td>\n",
       "      <td>Comment on this story\\r\\nComment\\r\\nA federal ...</td>\n",
       "      <td>A federal prosecutor may be nearing a decision...</td>\n",
       "      <td>[federal, prosecutor, may, nearing, decision, ...</td>\n",
       "      <td>a federal prosecutor may be nearing a decision...</td>\n",
       "      <td>Left</td>\n",
       "      <td>632</td>\n",
       "      <td>1089</td>\n",
       "      <td>1077</td>\n",
       "    </tr>\n",
       "    <tr>\n",
       "      <th>2</th>\n",
       "      <td>The Washington Post</td>\n",
       "      <td>David Ovalle</td>\n",
       "      <td>Appeals court paves way for Purdue Pharma opio...</td>\n",
       "      <td>https://www.washingtonpost.com/health/2023/05/...</td>\n",
       "      <td>2023-05-30T23:52:34Z</td>\n",
       "      <td>Comment on this story\\r\\nComment\\r\\nA federal ...</td>\n",
       "      <td>A federal appeals court Tuesday cleared the wa...</td>\n",
       "      <td>[federal, appeals, court, tuesday, cleared, wa...</td>\n",
       "      <td>a federal appeals court tuesday cleared the wa...</td>\n",
       "      <td>Left</td>\n",
       "      <td>506</td>\n",
       "      <td>869</td>\n",
       "      <td>853</td>\n",
       "    </tr>\n",
       "    <tr>\n",
       "      <th>3</th>\n",
       "      <td>The Washington Post</td>\n",
       "      <td>Philip Bump</td>\n",
       "      <td>Trump pledges to win an immigration fight he d...</td>\n",
       "      <td>https://www.washingtonpost.com/politics/2023/0...</td>\n",
       "      <td>2023-05-30T18:30:47Z</td>\n",
       "      <td>Comment on this story\\r\\nComment\\r\\nSpeaking i...</td>\n",
       "      <td>Speaking in Orlando in November 2015, Republic...</td>\n",
       "      <td>[speaking, orlando, november, 2015, republican...</td>\n",
       "      <td>speaking in orlando in november 2015 republica...</td>\n",
       "      <td>Left</td>\n",
       "      <td>522</td>\n",
       "      <td>956</td>\n",
       "      <td>944</td>\n",
       "    </tr>\n",
       "    <tr>\n",
       "      <th>4</th>\n",
       "      <td>The Washington Post</td>\n",
       "      <td>NaN</td>\n",
       "      <td>The revolt of Christian home-schoolers...</td>\n",
       "      <td>https://www.washingtonpost.com/education/inter...</td>\n",
       "      <td>2023-05-30T18:25:37Z</td>\n",
       "      <td>Deep Reads features The Washington Posts best ...</td>\n",
       "      <td>NaN</td>\n",
       "      <td>[]</td>\n",
       "      <td>nan</td>\n",
       "      <td>Left</td>\n",
       "      <td>1</td>\n",
       "      <td>1</td>\n",
       "      <td>1</td>\n",
       "    </tr>\n",
       "  </tbody>\n",
       "</table>\n",
       "</div>"
      ],
      "text/plain": [
       "           source_name          author  \\\n",
       "0  The Washington Post             NaN   \n",
       "1  The Washington Post  Amber Phillips   \n",
       "2  The Washington Post    David Ovalle   \n",
       "3  The Washington Post     Philip Bump   \n",
       "4  The Washington Post             NaN   \n",
       "\n",
       "                                               title  \\\n",
       "0  Alabama Highway sign hacked with white suprema...   \n",
       "1  Breaking down the GOP investigation into the B...   \n",
       "2  Appeals court paves way for Purdue Pharma opio...   \n",
       "3  Trump pledges to win an immigration fight he d...   \n",
       "4          The revolt of Christian home-schoolers...   \n",
       "\n",
       "                                                 url          publish_date  \\\n",
       "0  https://www.washingtonpost.com/nation/2023/05/...  2023-05-30T16:31:36Z   \n",
       "1  https://www.washingtonpost.com/politics/2023/0...  2023-05-30T19:56:33Z   \n",
       "2  https://www.washingtonpost.com/health/2023/05/...  2023-05-30T23:52:34Z   \n",
       "3  https://www.washingtonpost.com/politics/2023/0...  2023-05-30T18:30:47Z   \n",
       "4  https://www.washingtonpost.com/education/inter...  2023-05-30T18:25:37Z   \n",
       "\n",
       "                                             content  \\\n",
       "0  Travelers in Alabama driving on Interstate 65 ...   \n",
       "1  Comment on this story\\r\\nComment\\r\\nA federal ...   \n",
       "2  Comment on this story\\r\\nComment\\r\\nA federal ...   \n",
       "3  Comment on this story\\r\\nComment\\r\\nSpeaking i...   \n",
       "4  Deep Reads features The Washington Posts best ...   \n",
       "\n",
       "                                        article_text  \\\n",
       "0  Travelers in Alabama driving on Interstate 65 ...   \n",
       "1  A federal prosecutor may be nearing a decision...   \n",
       "2  A federal appeals court Tuesday cleared the wa...   \n",
       "3  Speaking in Orlando in November 2015, Republic...   \n",
       "4                                                NaN   \n",
       "\n",
       "                                              tokens  \\\n",
       "0  [travelers, alabama, driving, interstate, 65, ...   \n",
       "1  [federal, prosecutor, may, nearing, decision, ...   \n",
       "2  [federal, appeals, court, tuesday, cleared, wa...   \n",
       "3  [speaking, orlando, november, 2015, republican...   \n",
       "4                                                 []   \n",
       "\n",
       "                                        cleaner_text Political_Lean  \\\n",
       "0  travelers in alabama driving on interstate 65 ...           Left   \n",
       "1  a federal prosecutor may be nearing a decision...           Left   \n",
       "2  a federal appeals court tuesday cleared the wa...           Left   \n",
       "3  speaking in orlando in november 2015 republica...           Left   \n",
       "4                                                nan           Left   \n",
       "\n",
       "   word_count_tokens  word_count  word_count_cleaner  \n",
       "0                558         923                 921  \n",
       "1                632        1089                1077  \n",
       "2                506         869                 853  \n",
       "3                522         956                 944  \n",
       "4                  1           1                   1  "
      ]
     },
     "metadata": {},
     "output_type": "display_data"
    },
    {
     "data": {
      "text/plain": [
       "Political_Lean\n",
       "Right    2758\n",
       "Left     1269\n",
       "Name: count, dtype: int64"
      ]
     },
     "metadata": {},
     "output_type": "display_data"
    }
   ],
   "source": [
    "# Removing Reuters, ms, and Associated Press authors from data:\n",
    "\n",
    "api_data_complete_df2 = api_data_complete_df[~api_data_complete_df['author'].isin(['msn', 'Associated Press', 'Reuters'])]\n",
    "\n",
    "display(api_data_complete_df2.head())\n",
    "\n",
    "display(api_data_complete_df2['Political_Lean'].value_counts())"
   ]
  },
  {
   "attachments": {},
   "cell_type": "markdown",
   "id": "09273258",
   "metadata": {},
   "source": [
    "### Word Clouds"
   ]
  },
  {
   "cell_type": "code",
   "execution_count": 13,
   "id": "6a6855a5",
   "metadata": {},
   "outputs": [],
   "source": [
    "# Separate Left and Right Lean articles to analyze as groups:\n",
    "\n",
    "Left_lean_articles_df=api_data_complete_df2[api_data_complete_df2['Political_Lean']==\"Left\"]\n",
    "Right_lean_articles_df=api_data_complete_df2[api_data_complete_df2['Political_Lean']==\"Right\"]\n",
    "\n"
   ]
  },
  {
   "cell_type": "code",
   "execution_count": 14,
   "id": "1c14f325",
   "metadata": {},
   "outputs": [],
   "source": [
    "# Generate list from Left an Right dataframes:\n",
    "\n",
    "Left_text=[token for sublist in\n",
    "           Left_lean_articles_df['tokens'] \n",
    "           for token in sublist]\n",
    "Right_text=[token for sublist in \n",
    "            Right_lean_articles_df['tokens']\n",
    "            for token in sublist]\n"
   ]
  },
  {
   "cell_type": "code",
   "execution_count": 195,
   "id": "c906cd03",
   "metadata": {},
   "outputs": [],
   "source": [
    "#Left_text"
   ]
  },
  {
   "cell_type": "code",
   "execution_count": 15,
   "id": "0ddef98e",
   "metadata": {},
   "outputs": [
    {
     "name": "stdout",
     "output_type": "stream",
     "text": [
      "\n",
      "Left Leaning Article's top 5 words:\n",
      "\n",
      "would: 3591\n",
      "trump: 3442\n",
      "also: 2774\n",
      "house: 2566\n",
      "people: 2507\n",
      "\n",
      "Right Leaning Article's top 5 words:\n",
      "\n",
      "biden: 4453\n",
      "president: 3767\n",
      "also: 3621\n",
      "would: 3512\n",
      "people: 3375\n"
     ]
    }
   ],
   "source": [
    "# Left lean vs Right lean word clouds:\n",
    "\n",
    "Left_Lean_counts = collections.Counter(Left_text)\n",
    "\n",
    "\n",
    "Right_Lean_counts = collections.Counter(Right_text)\n",
    "\n",
    "\n",
    "\n",
    "print(\"\\nLeft Leaning Article's top 5 words:\\n\")\n",
    "for HT, count in Left_Lean_counts.most_common(5):\n",
    "    print(f\"{HT}: {count}\")\n",
    "\n",
    "print(\"\\nRight Leaning Article's top 5 words:\\n\")\n",
    "for HT, count in Right_Lean_counts.most_common(5):\n",
    "    print(f\"{HT}: {count}\")"
   ]
  },
  {
   "cell_type": "code",
   "execution_count": 18,
   "id": "beaa71f4",
   "metadata": {},
   "outputs": [
    {
     "data": {
      "text/html": [
       "<div>\n",
       "<style scoped>\n",
       "    .dataframe tbody tr th:only-of-type {\n",
       "        vertical-align: middle;\n",
       "    }\n",
       "\n",
       "    .dataframe tbody tr th {\n",
       "        vertical-align: top;\n",
       "    }\n",
       "\n",
       "    .dataframe thead th {\n",
       "        text-align: right;\n",
       "    }\n",
       "</style>\n",
       "<table border=\"1\" class=\"dataframe\">\n",
       "  <thead>\n",
       "    <tr style=\"text-align: right;\">\n",
       "      <th></th>\n",
       "      <th>freq</th>\n",
       "    </tr>\n",
       "    <tr>\n",
       "      <th>token</th>\n",
       "      <th></th>\n",
       "    </tr>\n",
       "  </thead>\n",
       "  <tbody>\n",
       "    <tr>\n",
       "      <th>would</th>\n",
       "      <td>3591</td>\n",
       "    </tr>\n",
       "    <tr>\n",
       "      <th>trump</th>\n",
       "      <td>3442</td>\n",
       "    </tr>\n",
       "    <tr>\n",
       "      <th>also</th>\n",
       "      <td>2774</td>\n",
       "    </tr>\n",
       "    <tr>\n",
       "      <th>house</th>\n",
       "      <td>2566</td>\n",
       "    </tr>\n",
       "    <tr>\n",
       "      <th>people</th>\n",
       "      <td>2507</td>\n",
       "    </tr>\n",
       "    <tr>\n",
       "      <th>...</th>\n",
       "      <td>...</td>\n",
       "    </tr>\n",
       "    <tr>\n",
       "      <th>paints</th>\n",
       "      <td>2</td>\n",
       "    </tr>\n",
       "    <tr>\n",
       "      <th>houghton</th>\n",
       "      <td>2</td>\n",
       "    </tr>\n",
       "    <tr>\n",
       "      <th>912</th>\n",
       "      <td>2</td>\n",
       "    </tr>\n",
       "    <tr>\n",
       "      <th>k5</th>\n",
       "      <td>2</td>\n",
       "    </tr>\n",
       "    <tr>\n",
       "      <th>andreeva</th>\n",
       "      <td>2</td>\n",
       "    </tr>\n",
       "  </tbody>\n",
       "</table>\n",
       "<p>27475 rows × 1 columns</p>\n",
       "</div>"
      ],
      "text/plain": [
       "          freq\n",
       "token         \n",
       "would     3591\n",
       "trump     3442\n",
       "also      2774\n",
       "house     2566\n",
       "people    2507\n",
       "...        ...\n",
       "paints       2\n",
       "houghton     2\n",
       "912          2\n",
       "k5           2\n",
       "andreeva     2\n",
       "\n",
       "[27475 rows x 1 columns]"
      ]
     },
     "metadata": {},
     "output_type": "display_data"
    }
   ],
   "source": [
    "Left_Lean_counts = count_words(Left_text, split=0)\n",
    "Right_Lean_counts = count_words(Right_text, split=0)\n",
    "display(Left_Lean_counts)"
   ]
  },
  {
   "cell_type": "code",
   "execution_count": null,
   "id": "fb3f3d68",
   "metadata": {},
   "outputs": [],
   "source": [
    "#her_df=lyrics_data_df.loc[0,:]\n",
    "#robyn_df=lyrics_data_df.loc[1,:]"
   ]
  },
  {
   "cell_type": "code",
   "execution_count": 19,
   "id": "95448954",
   "metadata": {},
   "outputs": [
    {
     "data": {
      "image/png": "[encoded data removed]",
      "text/plain": [
       "<Figure size 432x288 with 1 Axes>"
      ]
     },
     "metadata": {
      "needs_background": "light"
     },
     "output_type": "display_data"
    }
   ],
   "source": [
    "wordcloud(Left_Lean_counts['freq'], title=\"Left Leaning Article WordCloud\", max_words=500)"
   ]
  },
  {
   "cell_type": "code",
   "execution_count": 20,
   "id": "769a4e9d",
   "metadata": {},
   "outputs": [
    {
     "data": {
      "image/png": "[encoded data removed]",
      "text/plain": [
       "<Figure size 432x288 with 1 Axes>"
      ]
     },
     "metadata": {
      "needs_background": "light"
     },
     "output_type": "display_data"
    }
   ],
   "source": [
    "wordcloud(Right_Lean_counts['freq'], title=\"Right Leaning Article WordCloud\", max_words=500)"
   ]
  },
  {
   "attachments": {},
   "cell_type": "markdown",
   "id": "f722adab",
   "metadata": {},
   "source": [
    "### Topic Modeling Right vs Left:"
   ]
  },
  {
   "cell_type": "code",
   "execution_count": 39,
   "id": "9802c9a6",
   "metadata": {},
   "outputs": [],
   "source": [
    "Left_tfidf_topic = TfidfVectorizer(stop_words=list(sw), min_df=5, max_df=0.7, ngram_range=(1,2))\n",
    "Left_topic_modeling_input = Left_tfidf_topic.fit_transform(Left_lean_articles_df['cleaner_text'])"
   ]
  },
  {
   "cell_type": "code",
   "execution_count": 40,
   "id": "24b09741",
   "metadata": {},
   "outputs": [],
   "source": [
    "Right_tfidf_topic = TfidfVectorizer(stop_words=list(sw), min_df=5, max_df=0.7, ngram_range=(1,2))\n",
    "Right_topic_modeling_input = Right_tfidf_topic.fit_transform(Right_lean_articles_df['cleaner_text'])"
   ]
  },
  {
   "cell_type": "code",
   "execution_count": 49,
   "id": "b33795dc",
   "metadata": {},
   "outputs": [],
   "source": [
    "nmf_text_model_newsL = NMF(n_components=3, random_state=314)\n",
    "Left_text_matrix = nmf_text_model_newsL.fit_transform(Left_topic_modeling_input)\n",
    "HLeft_text_matrix = nmf_text_model_newsL.components_"
   ]
  },
  {
   "cell_type": "code",
   "execution_count": 50,
   "id": "3fd3da1f",
   "metadata": {},
   "outputs": [],
   "source": [
    "nmf_text_model_newsR = NMF(n_components=3, random_state=314)\n",
    "Right_text_matrix = nmf_text_model_newsR.fit_transform(Right_topic_modeling_input)\n",
    "HRight_text_matrix = nmf_text_model_newsR.components_"
   ]
  },
  {
   "attachments": {},
   "cell_type": "markdown",
   "id": "673745a8",
   "metadata": {},
   "source": [
    "Display Topics for Left vs Right:"
   ]
  },
  {
   "cell_type": "code",
   "execution_count": 51,
   "id": "d0d84204",
   "metadata": {},
   "outputs": [
    {
     "name": "stdout",
     "output_type": "stream",
     "text": [
      "\n",
      "Topic 00\n",
      "  trump (1.75)\n",
      "  desantis (1.14)\n",
      "  president (0.32)\n",
      "  campaign (0.32)\n",
      "  former (0.31)\n",
      "\n",
      "Topic 01\n",
      "  debt (0.97)\n",
      "  house (0.63)\n",
      "  mccarthy (0.61)\n",
      "  biden (0.60)\n",
      "  debt ceiling (0.57)\n",
      "\n",
      "Topic 02\n",
      "  court (0.21)\n",
      "  state (0.21)\n",
      "  police (0.15)\n",
      "  people (0.15)\n",
      "  abortion (0.14)\n"
     ]
    }
   ],
   "source": [
    "display_topics(nmf_text_model_newsL, Left_tfidf_topic.get_feature_names_out())"
   ]
  },
  {
   "cell_type": "code",
   "execution_count": 52,
   "id": "f19e46f2",
   "metadata": {},
   "outputs": [
    {
     "name": "stdout",
     "output_type": "stream",
     "text": [
      "\n",
      "Topic 00\n",
      "  biden (0.22)\n",
      "  debt (0.17)\n",
      "  house (0.16)\n",
      "  ai (0.14)\n",
      "  bill (0.13)\n",
      "\n",
      "Topic 01\n",
      "  border (1.72)\n",
      "  migrants (1.12)\n",
      "  title (0.71)\n",
      "  title 42 (0.65)\n",
      "  42 (0.64)\n",
      "\n",
      "Topic 02\n",
      "  desantis (1.29)\n",
      "  trump (1.24)\n",
      "  percent (0.59)\n",
      "  president (0.41)\n",
      "  florida (0.39)\n"
     ]
    }
   ],
   "source": [
    "display_topics(nmf_text_model_newsR, Right_tfidf_topic.get_feature_names_out())"
   ]
  },
  {
   "attachments": {},
   "cell_type": "markdown",
   "id": "45093109",
   "metadata": {},
   "source": [
    "### LDA topic modeling for visualization:"
   ]
  },
  {
   "cell_type": "code",
   "execution_count": 77,
   "id": "858ffb3e",
   "metadata": {},
   "outputs": [
    {
     "data": {
      "text/plain": [
       "(2758, 13927)"
      ]
     },
     "execution_count": 77,
     "metadata": {},
     "output_type": "execute_result"
    }
   ],
   "source": [
    "Lcount_text_vectorizer = CountVectorizer(stop_words=list(sw), min_df=5, max_df=0.7)\n",
    "Left_count_text_vectors = Lcount_text_vectorizer.fit_transform(Left_lean_articles_df['cleaner_text'])\n",
    "Left_count_text_vectors.shape\n",
    "\n",
    "Rcount_text_vectorizer = CountVectorizer(stop_words=list(sw), min_df=5, max_df=0.7)\n",
    "Right_count_text_vectors = Rcount_text_vectorizer.fit_transform(Right_lean_articles_df['cleaner_text'])\n",
    "Right_count_text_vectors.shape"
   ]
  },
  {
   "cell_type": "code",
   "execution_count": 217,
   "id": "eba7512c",
   "metadata": {},
   "outputs": [],
   "source": [
    "\n",
    "\n",
    "Left_lda_para_model = LatentDirichletAllocation(n_components = 4, random_state=42)\n",
    "W_lda_para_matrix_Left = Left_lda_para_model.fit_transform(Left_count_text_vectors)\n",
    "H_lda_para_matrix_Left = Left_lda_para_model.components_"
   ]
  },
  {
   "cell_type": "code",
   "execution_count": 218,
   "id": "2c0e7eda",
   "metadata": {},
   "outputs": [],
   "source": [
    "Right_lda_para_model = LatentDirichletAllocation(n_components = 4, random_state=42)\n",
    "W_lda_para_matrix_Right = Right_lda_para_model.fit_transform(Right_count_text_vectors)\n",
    "H_lda_para_matrix_Right = Right_lda_para_model.components_"
   ]
  },
  {
   "cell_type": "code",
   "execution_count": 219,
   "id": "0a2e8006",
   "metadata": {},
   "outputs": [
    {
     "name": "stdout",
     "output_type": "stream",
     "text": [
      "\n",
      "Topic 00\n",
      "  people (0.77)\n",
      "  health (0.58)\n",
      "  state (0.57)\n",
      "  new (0.48)\n",
      "  year (0.42)\n",
      "\n",
      "Topic 01\n",
      "  house (1.17)\n",
      "  biden (1.06)\n",
      "  debt (1.04)\n",
      "  could (0.60)\n",
      "  mccarthy (0.57)\n",
      "\n",
      "Topic 02\n",
      "  trump (2.13)\n",
      "  desantis (0.78)\n",
      "  president (0.76)\n",
      "  election (0.63)\n",
      "  state (0.58)\n",
      "\n",
      "Topic 03\n",
      "  court (0.62)\n",
      "  people (0.45)\n",
      "  police (0.39)\n",
      "  according (0.37)\n",
      "  new (0.33)\n"
     ]
    }
   ],
   "source": [
    "display_topics(Left_lda_para_model, Lcount_text_vectorizer.get_feature_names_out())\n"
   ]
  },
  {
   "cell_type": "code",
   "execution_count": 220,
   "id": "a8cf99ef",
   "metadata": {},
   "outputs": [
    {
     "name": "stdout",
     "output_type": "stream",
     "text": [
      "\n",
      "Topic 00\n",
      "  also (0.44)\n",
      "  people (0.44)\n",
      "  would (0.42)\n",
      "  one (0.39)\n",
      "  school (0.37)\n",
      "\n",
      "Topic 01\n",
      "  trump (1.18)\n",
      "  president (0.98)\n",
      "  biden (0.80)\n",
      "  desantis (0.71)\n",
      "  former (0.51)\n",
      "\n",
      "Topic 02\n",
      "  police (0.79)\n",
      "  biden (0.46)\n",
      "  told (0.45)\n",
      "  fbi (0.45)\n",
      "  according (0.42)\n",
      "\n",
      "Topic 03\n",
      "  border (1.66)\n",
      "  migrants (0.96)\n",
      "  biden (0.92)\n",
      "  texas (0.62)\n",
      "  administration (0.62)\n"
     ]
    }
   ],
   "source": [
    "display_topics(Right_lda_para_model, Rcount_text_vectorizer.get_feature_names_out())\n"
   ]
  },
  {
   "cell_type": "code",
   "execution_count": 221,
   "id": "2fec75eb",
   "metadata": {},
   "outputs": [
    {
     "data": {
      "text/html": [
       "\n",
       "<link rel=\"stylesheet\" type=\"text/css\" href=\"https://cdn.jsdelivr.net/gh/bmabey/pyLDAvis@3.4.0/pyLDAvis/js/ldavis.v1.0.0.css\">\n",
       "\n",
       "\n",
       "<div id=\"ldavis_el4618816429264945442177020388\" style=\"background-color:white;\"></div>\n",
       "<script type=\"text/javascript\">\n",
       "\n",
       "var ldavis_el4618816429264945442177020388_data = {\"mdsDat\": {\"x\": [0.08793845818184684, -0.12280328705863086, -0.043888001040454455, 0.0787528299172385], \"y\": [0.07310126933453281, 0.07262486289643469, -0.11388135718315726, -0.03184477504781026], \"topics\": [1, 2, 3, 4], \"cluster\": [1, 1, 1, 1], \"Freq\": [15.932357382762222, 22.816463471848895, 31.441013631764324, 29.810165513624558]}, \"tinfo\": {\"Term\": [\"trump\", \"debt\", \"biden\", \"desantis\", \"house\", \"mccarthy\", \"election\", \"ceiling\", \"deal\", \"republicans\", \"health\", \"default\", \"court\", \"campaign\", \"president\", \"spending\", \"border\", \"voters\", \"republican\", \"santos\", \"state\", \"migrants\", \"presidential\", \"white\", \"police\", \"people\", \"gun\", \"bill\", \"fbi\", \"treasury\", \"santos\", \"cdc\", \"korean\", \"spainhouer\", \"serbia\", \"coronation\", \"ftc\", \"holy\", \"belgrade\", \"gianforte\", \"nigeria\", \"crown\", \"mayors\", \"mainland\", \"myanmar\", \"expectancy\", \"lord\", \"outbreaks\", \"commandments\", \"swimsuit\", \"ireland\", \"ar15style\", \"syrian\", \"brazilian\", \"wastewater\", \"shoppers\", \"serbian\", \"mall\", \"camilla\", \"ethnically\", \"king\", \"amazon\", \"religion\", \"garcia\", \"royal\", \"carbon\", \"queen\", \"korea\", \"outbreak\", \"shootings\", \"sunak\", \"gun\", \"tiktok\", \"stores\", \"labor\", \"montana\", \"guns\", \"genderaffirming\", \"workers\", \"mass\", \"health\", \"virus\", \"data\", \"mental\", \"laws\", \"violence\", \"company\", \"people\", \"pandemic\", \"safety\", \"city\", \"state\", \"public\", \"year\", \"according\", \"new\", \"states\", \"care\", \"country\", \"texas\", \"many\", \"women\", \"may\", \"world\", \"years\", \"bill\", \"last\", \"united\", \"like\", \"first\", \"government\", \"including\", \"time\", \"debt\", \"mccarthy\", \"default\", \"ceiling\", \"treasury\", \"yellen\", \"borrowing\", \"trillion\", \"negotiators\", \"migrants\", \"schumer\", \"jeffries\", \"bonds\", \"mayorkas\", \"migrant\", \"catastrophic\", \"concessions\", \"stamps\", \"moody\", \"g7\", \"xdate\", \"borrow\", \"borrowers\", \"mchenry\", \"seekers\", \"hiroshima\", \"hakeem\", \"brownsville\", \"negotiation\", \"deadline\", \"negotiations\", \"zelensky\", \"border\", \"graves\", \"cuts\", \"budget\", \"spending\", \"deal\", \"asylum\", \"fiscal\", \"loan\", \"title\", \"limit\", \"caucus\", \"talks\", \"agreement\", \"requirements\", \"markets\", \"house\", \"speaker\", \"biden\", \"japan\", \"white\", \"raise\", \"payments\", \"administration\", \"ukraine\", \"congress\", \"republicans\", \"bill\", \"could\", \"leaders\", \"government\", \"federal\", \"democrats\", \"economic\", \"lawmakers\", \"president\", \"senate\", \"work\", \"officials\", \"security\", \"time\", \"policy\", \"new\", \"told\", \"states\", \"two\", \"desantis\", \"erdogan\", \"durham\", \"pence\", \"paxton\", \"carroll\", \"comer\", \"hunter\", \"kilicdaroglu\", \"pac\", \"maralago\", \"subpoena\", \"voter\", \"nomination\", \"meadows\", \"wray\", \"ballots\", \"candidate\", \"electorate\", \"turkish\", \"penny\", \"mueller\", \"candidacy\", \"garland\", \"nikki\", \"collins\", \"trump\", \"candidates\", \"willis\", \"ramaswamy\", \"voters\", \"haley\", \"nominee\", \"classified\", \"election\", \"turkey\", \"hampshire\", \"iowa\", \"campaign\", \"fbi\", \"presidential\", \"primary\", \"governor\", \"polling\", \"elections\", \"polls\", \"donald\", \"ron\", \"former\", \"race\", \"republican\", \"florida\", \"abortion\", \"2024\", \"president\", \"2020\", \"party\", \"investigation\", \"state\", \"documents\", \"political\", \"republicans\", \"gop\", \"biden\", \"committee\", \"vote\", \"house\", \"new\", \"people\", \"say\", \"office\", \"democrats\", \"last\", \"first\", \"could\", \"fda\", \"rhodes\", \"khan\", \"feinstein\", \"mehta\", \"altman\", \"keepers\", \"palestinian\", \"bud\", \"clarence\", \"tarrio\", \"roberts\", \"gaza\", \"der\", \"mifepristone\", \"kohberger\", \"circuit\", \"library\", \"medications\", \"ai\", \"ginni\", \"meggs\", \"passengers\", \"disorder\", \"idf\", \"pill\", \"gorsuch\", \"alito\", \"execution\", \"kavanaugh\", \"leo\", \"patients\", \"drug\", \"arrested\", \"thomas\", \"crow\", \"medication\", \"arrest\", \"israeli\", \"police\", \"justices\", \"drugs\", \"treatment\", \"court\", \"prison\", \"israel\", \"sleep\", \"cancer\", \"brown\", \"hospital\", \"officers\", \"light\", \"sentence\", \"death\", \"supreme\", \"school\", \"justice\", \"media\", \"students\", \"family\", \"judge\", \"law\", \"university\", \"according\", \"case\", \"wrote\", \"people\", \"years\", \"use\", \"told\", \"statement\", \"company\", \"two\", \"time\", \"new\", \"like\", \"attorney\", \"social\", \"last\", \"first\", \"including\", \"state\", \"could\", \"year\", \"public\", \"department\", \"may\"], \"Freq\": [4355.0, 1526.0, 2531.0, 1582.0, 2576.0, 834.0, 1329.0, 802.0, 891.0, 1711.0, 926.0, 565.0, 1528.0, 1051.0, 2494.0, 645.0, 578.0, 744.0, 1518.0, 365.0, 2337.0, 456.0, 755.0, 1213.0, 857.0, 2697.0, 416.0, 1079.0, 640.0, 385.0, 364.54950948699116, 107.63113125680603, 74.50549890249104, 55.44637751207049, 45.40988255947889, 44.398656616644274, 31.35193952213825, 44.06681642246606, 30.352832146363998, 29.3508643681442, 29.33590060484175, 28.306704321288546, 28.26606948641164, 28.21622201335434, 23.328644226348697, 22.322896841567438, 84.37898181992563, 21.32330310217064, 20.31517162181368, 20.313793298822077, 53.20185900127233, 20.30167432296854, 21.254118621900343, 19.310093143581433, 19.30740552983306, 18.302232620290017, 44.29246310084602, 82.70883047790416, 17.310122228273375, 16.29954883354162, 209.2196440042174, 139.21986863025523, 52.6079256773095, 86.35712467112722, 43.88662159254731, 83.71435234569721, 62.8039502925214, 78.02048196652927, 31.50532752360631, 103.82283481243849, 53.967100299685654, 348.4602109959415, 152.9174723581418, 76.98292547175602, 143.05171977537165, 116.47485261170463, 98.5170590395569, 54.43638051075157, 267.2501468612652, 179.20930317503175, 595.6633663312932, 65.40176663493142, 299.15955007623046, 176.12784707341632, 213.45997861443908, 197.22922489951392, 312.2059784628287, 793.0053321600936, 156.93370098822462, 162.33314687343548, 239.98264568702146, 585.4452698716266, 370.0514168945068, 434.9871601031285, 427.3052192672534, 489.98778218930545, 361.4281379523248, 214.5410082152462, 316.43956875526663, 203.18157893676113, 316.2458372250527, 218.7740392826585, 294.1746555634314, 222.08814433478605, 285.6095198035227, 249.26870343752952, 280.2120767403451, 224.69571758419264, 241.00998192932545, 221.20155318560396, 219.98743625928876, 209.7986540046938, 209.75989645345015, 1525.4927755364065, 833.7761283406144, 564.4881032757527, 800.6690978767552, 384.0498290374969, 143.05211855364246, 143.03674770122774, 125.54217267148866, 109.04912110331935, 452.5674896007743, 100.13658382531614, 75.04428580203793, 71.15726003973883, 67.27123430643049, 73.97270705527247, 63.3743835440055, 62.413150339978245, 61.44651298430599, 60.46863306116165, 59.502152018868564, 56.589822427993234, 55.61449180000178, 52.70202744990856, 47.84621668799092, 45.87309005395632, 42.98562475937617, 39.09571854389719, 39.0783877769524, 41.93149437732203, 96.23697765413631, 285.1020863474198, 102.69024026861307, 554.6009010577897, 107.90268860114354, 273.3994900038379, 301.03981896096116, 602.3278156894614, 820.0583824385524, 128.36897987326904, 179.90458025483503, 108.2435633055205, 205.84479353067522, 430.9505563153808, 217.49411730369184, 203.10065221483396, 305.8960602893456, 217.62571074119097, 143.60843227459853, 1720.490181259254, 317.5242490157656, 1559.194949486944, 140.09835388239077, 737.0597996331188, 229.51846353525127, 217.98733525395824, 492.4037222054465, 331.9629987397244, 465.20463789593833, 831.6786079813103, 596.1123285017047, 877.1364183928698, 344.96696367771017, 669.6330084067855, 601.03418346744, 497.86191406791016, 308.16439921771206, 364.7104961600818, 760.2840768825304, 439.8103616414064, 434.16443299800267, 409.90347839707385, 402.5208961955649, 451.23901183382293, 361.5944338254428, 451.92543437956857, 420.495794004401, 394.7818102131835, 395.93789041897384, 1582.0893843591987, 334.2957921505704, 260.6192991123506, 205.5944967907608, 213.4226929023051, 190.85142049356523, 157.44553169014296, 139.7553221522615, 123.05357784687722, 106.35388300965253, 100.46266924062178, 98.48764065092085, 132.6044705664759, 207.48136904367374, 82.77451887578576, 77.8627173191471, 74.88811161867008, 334.60362803670245, 67.05067488405471, 67.03652212151113, 103.92048062684165, 64.09705485977612, 63.11768096839409, 62.14304179383357, 58.21230141411947, 324.9291461785754, 4299.555524681043, 324.9164636154579, 56.24442813916451, 54.27918017996186, 729.9796466007912, 226.56288552655462, 125.68157370654987, 261.384818667563, 1271.5205725759467, 247.5051017972062, 152.25124710545808, 204.55293264943393, 977.4256211770324, 599.1668873634006, 699.4042462979461, 365.25632450347746, 563.1017073526837, 166.36398296689896, 322.2781868055052, 167.1679843051451, 415.5755519471424, 202.75680468898557, 1079.056039288659, 406.96623093550437, 1109.6794318561108, 641.631931786552, 551.1181188202207, 402.12870787753, 1541.7143831973435, 572.7443628511697, 657.0784600547433, 491.2829607260425, 1175.9366773215686, 398.1516705477755, 636.747765447904, 861.4074144233931, 554.1760094501808, 963.1010069249965, 504.8321216105594, 499.2805578435124, 754.401260571326, 687.616231901371, 729.3129342107566, 521.2831915318476, 500.42799044743236, 488.3082282759459, 529.4356544967754, 509.8451582493603, 510.87133198087304, 202.16110278024075, 136.57035619601655, 119.89288878061095, 162.7629761691163, 87.53543028982344, 88.50449015040778, 66.93673326247489, 64.96669620499692, 64.96239032555374, 63.00758864004721, 62.0311732935571, 59.08715118811467, 58.113089819091996, 58.106501592776574, 67.68261223324143, 50.2667887168385, 87.93246561977043, 49.26089662851613, 61.77361038856795, 181.47376462045924, 43.398855474555035, 43.39864072868224, 50.14817703647717, 43.38445015558097, 42.41908778746305, 40.44444795010783, 39.470232461041, 35.54798921714737, 34.556889447741995, 33.587415510586986, 78.44941378313878, 222.8241916413587, 289.46122696947117, 154.36601345687544, 338.8784138556637, 105.27555036608878, 89.65231301055078, 118.0796181477099, 73.61177075526831, 741.5513886140668, 169.71481374704567, 114.42764702097176, 143.75740274709707, 1188.3994298591106, 215.7894680312156, 96.80297427561952, 93.62450231280438, 99.07210014546277, 158.0375181415156, 117.17710294215978, 185.36001147761414, 172.07502159992453, 112.72442131337705, 247.18458875982174, 324.2947132339763, 405.91150123557344, 523.7776368505724, 453.1072278287949, 194.38252656087937, 362.1841825707919, 277.275920088741, 634.9671772678172, 292.45438146042324, 710.9480355283318, 456.0304953789287, 334.1252416597757, 854.5984067399013, 574.4705817442734, 324.93448135092603, 566.3204186904786, 395.80744026966073, 343.23023948976817, 528.6014722078793, 535.195744568072, 637.3075516236195, 464.51998191396467, 328.3302227331794, 351.5784129758902, 478.93711039783693, 440.26231424764165, 397.02311654263167, 499.94924566944894, 468.0967801108927, 406.6408530337137, 364.76337646132794, 350.77275829341363, 343.4235331519496], \"Total\": [4355.0, 1526.0, 2531.0, 1582.0, 2576.0, 834.0, 1329.0, 802.0, 891.0, 1711.0, 926.0, 565.0, 1528.0, 1051.0, 2494.0, 645.0, 578.0, 744.0, 1518.0, 365.0, 2337.0, 456.0, 755.0, 1213.0, 857.0, 2697.0, 416.0, 1079.0, 640.0, 385.0, 365.3007965583371, 108.37251471763246, 75.25266291798293, 56.18401741146989, 46.14774232126426, 45.14392706175374, 32.096793253395795, 45.13552244847338, 31.093276859807755, 30.08969024181016, 30.08928830385352, 29.085159975160543, 29.083501604338274, 29.081913746869912, 24.067884798059065, 23.06422424588624, 87.24690978751539, 22.06069680074448, 21.056973839010222, 21.05693641153926, 55.15420000782308, 21.05667566866811, 22.059169965617063, 20.053308273033664, 20.05324866474889, 19.04949931246792, 46.12235245672217, 86.2017884679692, 18.046224196616055, 17.042421253284676, 219.55868730541846, 147.33837372822032, 55.1387681534171, 91.20996957171847, 46.11363153913202, 89.14840657818011, 67.14022609101116, 84.11369440355789, 33.0810739620539, 113.19157005134417, 58.07970934493212, 416.89607848074576, 175.11648734242226, 85.11713619957455, 167.82700089084997, 137.03936874134257, 117.00389126738266, 60.09297812921782, 363.3884381786749, 232.51591662841798, 926.0727630434639, 75.05215311736838, 514.7140747879582, 272.75895192337947, 373.6072390794471, 337.97576048621556, 704.3112003294998, 2697.785622142947, 269.7617005787665, 301.4611704382544, 564.1300071788053, 2337.2261470334147, 1159.9089533113809, 1574.726010354898, 1689.630522158866, 2266.8370000938644, 1298.596690412579, 527.2035488175164, 1178.487585274971, 493.82115967847574, 1260.6026030302805, 586.8306558968136, 1187.548576503317, 651.8448445929541, 1468.173999045946, 1079.2334625202607, 1648.6794959165254, 809.2191735751636, 1330.2344704949287, 1451.9026139449206, 1426.1759268149933, 1113.4807382487977, 1626.413059857353, 1526.2448053933808, 834.534741159292, 565.4303484821818, 802.4850590513702, 385.72961660783614, 143.7956318925144, 143.79586301203383, 126.3090298549547, 109.79301260058432, 456.6887732574094, 101.05111429527477, 75.79044352555613, 71.90445866748732, 68.01843874292409, 74.82030214229205, 64.13264307177015, 63.160899001401255, 62.18935616548856, 61.217970759667296, 60.24637399404123, 57.33181639414232, 56.3603718596606, 53.44583078052567, 48.58828398266421, 46.64609478213369, 43.730847061493975, 39.84487050193937, 39.84511772986952, 42.76191219686806, 98.15027759593589, 292.5037475180662, 104.95263325072936, 578.304719469548, 110.78495809451526, 283.79423089942946, 315.94348705082035, 645.773723592234, 891.8085926207596, 133.2409272898882, 189.66160405881323, 111.76697839702663, 220.9518711657107, 495.7272723622258, 240.22160573075493, 223.66825768280697, 351.42018198998767, 245.25116241971662, 155.7486767473571, 2576.450437704042, 387.4815243265412, 2531.0672460169562, 152.87784426413828, 1213.2859026931665, 286.41484201573263, 268.6907175457881, 787.5187365617583, 472.727828465147, 754.7059968894982, 1711.3653701859755, 1079.2334625202607, 1982.4991245148922, 519.7138505774748, 1426.1759268149933, 1294.8160063005719, 1006.6746927931717, 443.4722077028167, 614.0714108877114, 2494.2966972854733, 887.5555726095686, 997.9131062930753, 934.8105814201872, 917.8803934709919, 1626.413059857353, 668.8839939491567, 2266.8370000938644, 1591.650036634023, 1298.596690412579, 1527.965724304293, 1582.8901484935427, 335.05177573075497, 261.36038897812654, 206.33756652002805, 214.19866750995993, 191.59931367330967, 158.1926685249037, 140.5068506717942, 123.80343201118934, 107.1000378887305, 101.20472493320048, 99.2395811902799, 133.63469671325154, 209.27420681833902, 83.51877092406181, 78.60603411054373, 75.65875408376468, 338.0559259642339, 67.79810447640436, 67.79815657538603, 105.1341359516424, 64.8506122023331, 63.867906498960885, 62.88526853790991, 58.95510073678768, 329.11718099978384, 4355.035547447802, 329.20442227564706, 56.989964721780126, 55.024878700452646, 744.7367969294716, 230.89532990323252, 127.71904983397151, 268.2922350615778, 1329.1843736215037, 254.52338672995413, 156.23386615869097, 211.33102820799223, 1051.3455328475407, 640.6360838290716, 755.0300332672936, 389.4578448961341, 617.5218442728317, 171.97374062133278, 347.08316110077084, 172.9158237744969, 461.4089990559458, 214.15262487992345, 1426.4531592942083, 472.35224342755697, 1518.1039854113778, 820.0320563421932, 687.6761985508499, 478.80514825586494, 2494.2966972854733, 779.2975310674234, 944.44557828843, 673.3368811647723, 2337.2261470334147, 517.5822718255106, 1053.8931581210109, 1711.3653701859755, 876.7211626490166, 2531.0672460169562, 854.7905209560809, 849.0228382063035, 2576.450437704042, 2266.8370000938644, 2697.785622142947, 1122.5961630947827, 1044.4591816022603, 1006.6746927931717, 1648.6794959165254, 1451.9026139449206, 1982.4991245148922, 203.03557837492107, 137.31799044273768, 120.64416769472167, 163.80003764855354, 88.27720681365435, 89.25811481836755, 67.68008509443567, 65.71844846087015, 65.71871267469443, 63.756836192294905, 62.77600804277475, 59.83355395631625, 58.852734486118706, 58.852749061008176, 68.6613440279176, 51.00621287498075, 89.25907279106002, 50.025643175221234, 62.782067614206625, 184.44756046430132, 44.140501925090405, 44.14050889373222, 51.00732898207391, 44.140614825945256, 43.15969737696002, 41.19827116481809, 40.217344356176085, 36.293997056827145, 35.313493607303485, 34.33242705044052, 80.45949660176697, 231.53405014510957, 302.1739711344613, 160.85453888218365, 358.8353986500008, 109.86447832757582, 93.21764601084217, 124.59848864307992, 76.5112573361801, 857.8638483825771, 185.35254155994033, 122.68977990349785, 157.06547780685287, 1528.7286702829263, 246.62172301604892, 103.07263691105857, 100.16273529454342, 107.05311620450216, 183.54970747262894, 130.7092210869479, 224.94903070851188, 210.11743786251094, 126.59476973000245, 329.0974466748375, 468.66612386907155, 643.7992679674112, 900.7574882423698, 762.9070826697257, 257.16432589249325, 595.6674340507511, 417.08700660037636, 1333.6336710972196, 462.77427391081596, 1689.630522158866, 903.4978928024002, 591.5091690011511, 2697.785622142947, 1468.173999045946, 601.7962725301771, 1591.650036634023, 885.891784082411, 704.3112003294998, 1527.965724304293, 1626.413059857353, 2266.8370000938644, 1330.2344704949287, 683.3569839251013, 797.9550723393425, 1648.6794959165254, 1451.9026139449206, 1113.4807382487977, 2337.2261470334147, 1982.4991245148922, 1574.726010354898, 1159.9089533113809, 925.0229890287713, 1187.548576503317], \"Category\": [\"Default\", \"Default\", \"Default\", \"Default\", \"Default\", \"Default\", \"Default\", \"Default\", \"Default\", \"Default\", \"Default\", \"Default\", \"Default\", \"Default\", \"Default\", \"Default\", \"Default\", \"Default\", \"Default\", \"Default\", \"Default\", \"Default\", \"Default\", \"Default\", \"Default\", \"Default\", \"Default\", \"Default\", \"Default\", \"Default\", \"Topic1\", \"Topic1\", \"Topic1\", \"Topic1\", \"Topic1\", \"Topic1\", \"Topic1\", \"Topic1\", \"Topic1\", \"Topic1\", \"Topic1\", \"Topic1\", \"Topic1\", \"Topic1\", \"Topic1\", \"Topic1\", \"Topic1\", \"Topic1\", \"Topic1\", \"Topic1\", \"Topic1\", \"Topic1\", \"Topic1\", \"Topic1\", \"Topic1\", \"Topic1\", \"Topic1\", \"Topic1\", \"Topic1\", \"Topic1\", \"Topic1\", \"Topic1\", \"Topic1\", \"Topic1\", \"Topic1\", \"Topic1\", \"Topic1\", \"Topic1\", \"Topic1\", \"Topic1\", \"Topic1\", \"Topic1\", \"Topic1\", \"Topic1\", \"Topic1\", \"Topic1\", \"Topic1\", \"Topic1\", \"Topic1\", \"Topic1\", \"Topic1\", \"Topic1\", \"Topic1\", \"Topic1\", \"Topic1\", \"Topic1\", \"Topic1\", \"Topic1\", \"Topic1\", \"Topic1\", \"Topic1\", \"Topic1\", \"Topic1\", \"Topic1\", \"Topic1\", \"Topic1\", \"Topic1\", \"Topic1\", \"Topic1\", \"Topic1\", \"Topic1\", \"Topic1\", \"Topic1\", \"Topic1\", \"Topic1\", \"Topic1\", \"Topic1\", \"Topic1\", \"Topic1\", \"Topic1\", \"Topic1\", \"Topic1\", \"Topic1\", \"Topic2\", \"Topic2\", \"Topic2\", \"Topic2\", \"Topic2\", \"Topic2\", \"Topic2\", \"Topic2\", \"Topic2\", \"Topic2\", \"Topic2\", \"Topic2\", \"Topic2\", \"Topic2\", \"Topic2\", \"Topic2\", \"Topic2\", \"Topic2\", \"Topic2\", \"Topic2\", \"Topic2\", \"Topic2\", \"Topic2\", \"Topic2\", \"Topic2\", \"Topic2\", \"Topic2\", \"Topic2\", \"Topic2\", \"Topic2\", \"Topic2\", \"Topic2\", \"Topic2\", \"Topic2\", \"Topic2\", \"Topic2\", \"Topic2\", \"Topic2\", \"Topic2\", \"Topic2\", \"Topic2\", \"Topic2\", \"Topic2\", \"Topic2\", \"Topic2\", \"Topic2\", \"Topic2\", \"Topic2\", \"Topic2\", \"Topic2\", \"Topic2\", \"Topic2\", \"Topic2\", \"Topic2\", \"Topic2\", \"Topic2\", \"Topic2\", \"Topic2\", \"Topic2\", \"Topic2\", \"Topic2\", \"Topic2\", \"Topic2\", \"Topic2\", \"Topic2\", \"Topic2\", \"Topic2\", \"Topic2\", \"Topic2\", \"Topic2\", \"Topic2\", \"Topic2\", \"Topic2\", \"Topic2\", \"Topic2\", \"Topic2\", \"Topic2\", \"Topic2\", \"Topic3\", \"Topic3\", \"Topic3\", \"Topic3\", \"Topic3\", \"Topic3\", \"Topic3\", \"Topic3\", \"Topic3\", \"Topic3\", \"Topic3\", \"Topic3\", \"Topic3\", \"Topic3\", \"Topic3\", \"Topic3\", \"Topic3\", \"Topic3\", \"Topic3\", \"Topic3\", \"Topic3\", \"Topic3\", \"Topic3\", \"Topic3\", \"Topic3\", \"Topic3\", \"Topic3\", \"Topic3\", \"Topic3\", \"Topic3\", \"Topic3\", \"Topic3\", \"Topic3\", \"Topic3\", \"Topic3\", \"Topic3\", \"Topic3\", \"Topic3\", \"Topic3\", \"Topic3\", \"Topic3\", \"Topic3\", \"Topic3\", \"Topic3\", \"Topic3\", \"Topic3\", \"Topic3\", \"Topic3\", \"Topic3\", \"Topic3\", \"Topic3\", \"Topic3\", \"Topic3\", \"Topic3\", \"Topic3\", \"Topic3\", \"Topic3\", \"Topic3\", \"Topic3\", \"Topic3\", \"Topic3\", \"Topic3\", \"Topic3\", \"Topic3\", \"Topic3\", \"Topic3\", \"Topic3\", \"Topic3\", \"Topic3\", \"Topic3\", \"Topic3\", \"Topic3\", \"Topic3\", \"Topic3\", \"Topic3\", \"Topic4\", \"Topic4\", \"Topic4\", \"Topic4\", \"Topic4\", \"Topic4\", \"Topic4\", \"Topic4\", \"Topic4\", \"Topic4\", \"Topic4\", \"Topic4\", \"Topic4\", \"Topic4\", \"Topic4\", \"Topic4\", \"Topic4\", \"Topic4\", \"Topic4\", \"Topic4\", \"Topic4\", \"Topic4\", \"Topic4\", \"Topic4\", \"Topic4\", \"Topic4\", \"Topic4\", \"Topic4\", \"Topic4\", \"Topic4\", \"Topic4\", \"Topic4\", \"Topic4\", \"Topic4\", \"Topic4\", \"Topic4\", \"Topic4\", \"Topic4\", \"Topic4\", \"Topic4\", \"Topic4\", \"Topic4\", \"Topic4\", \"Topic4\", \"Topic4\", \"Topic4\", \"Topic4\", \"Topic4\", \"Topic4\", \"Topic4\", \"Topic4\", \"Topic4\", \"Topic4\", \"Topic4\", \"Topic4\", \"Topic4\", \"Topic4\", \"Topic4\", \"Topic4\", \"Topic4\", \"Topic4\", \"Topic4\", \"Topic4\", \"Topic4\", \"Topic4\", \"Topic4\", \"Topic4\", \"Topic4\", \"Topic4\", \"Topic4\", \"Topic4\", \"Topic4\", \"Topic4\", \"Topic4\", \"Topic4\", \"Topic4\", \"Topic4\", \"Topic4\", \"Topic4\", \"Topic4\", \"Topic4\", \"Topic4\", \"Topic4\", \"Topic4\", \"Topic4\", \"Topic4\", \"Topic4\"], \"logprob\": [30.0, 29.0, 28.0, 27.0, 26.0, 25.0, 24.0, 23.0, 22.0, 21.0, 20.0, 19.0, 18.0, 17.0, 16.0, 15.0, 14.0, 13.0, 12.0, 11.0, 10.0, 9.0, 8.0, 7.0, 6.0, 5.0, 4.0, 3.0, 2.0, 1.0, -5.6392, -6.8592, -7.227, -7.5225, -7.7222, -7.7447, -8.0926, -7.7522, -8.125, -8.1586, -8.1591, -8.1948, -8.1962, -8.198, -8.3882, -8.4323, -7.1026, -8.4781, -8.5265, -8.5266, -7.5638, -8.5272, -8.4813, -8.5773, -8.5774, -8.6309, -7.7471, -7.1226, -8.6866, -8.7468, -6.1945, -6.6018, -7.575, -7.0794, -7.7563, -7.1105, -7.3979, -7.1809, -8.0877, -6.8952, -7.5495, -5.6844, -6.508, -7.1943, -6.5747, -6.7802, -6.9477, -7.5409, -5.9497, -6.3493, -5.1482, -7.3573, -5.8369, -6.3667, -6.1744, -6.2535, -5.7942, -4.8621, -6.4821, -6.4482, -6.0573, -5.1655, -5.6243, -5.4626, -5.4804, -5.3435, -5.6478, -6.1694, -5.7808, -6.2238, -5.7814, -6.1499, -5.8537, -6.1348, -5.8833, -6.0194, -5.9023, -6.1231, -6.0531, -6.1388, -6.1443, -6.1917, -6.1919, -4.567, -5.1711, -5.5611, -5.2116, -5.9463, -6.9338, -6.9339, -7.0644, -7.2052, -5.7821, -7.2905, -7.5789, -7.6321, -7.6883, -7.5933, -7.748, -7.7633, -7.7789, -7.7949, -7.811, -7.8612, -7.8786, -7.9324, -8.029, -8.0711, -8.1362, -8.231, -8.2315, -8.161, -7.3302, -6.2442, -7.2653, -5.5788, -7.2158, -6.2861, -6.1898, -5.4962, -5.1877, -7.0421, -6.7046, -7.2126, -6.5699, -5.831, -6.5149, -6.5833, -6.1738, -6.5143, -6.9299, -4.4467, -6.1365, -4.5451, -6.9547, -5.2944, -6.461, -6.5126, -5.6977, -6.092, -5.7545, -5.1736, -5.5066, -5.1204, -6.0536, -5.3903, -5.4984, -5.6867, -6.1664, -5.9979, -5.2633, -5.8107, -5.8236, -5.8811, -5.8993, -5.785, -6.0065, -5.7835, -5.8556, -5.9187, -5.9158, -4.8512, -6.4056, -6.6546, -6.8918, -6.8544, -6.9662, -7.1586, -7.2778, -7.405, -7.5509, -7.6079, -7.6277, -7.3303, -6.8826, -7.8015, -7.8627, -7.9017, -6.4047, -8.0122, -8.0124, -7.574, -8.0573, -8.0727, -8.0882, -8.1536, -6.4341, -3.8514, -6.4341, -8.188, -8.2235, -5.6246, -6.7946, -7.3839, -6.6517, -5.0697, -6.7062, -7.1921, -6.8968, -5.3327, -5.8221, -5.6674, -6.3171, -5.8842, -7.1035, -6.4422, -7.0987, -6.188, -6.9057, -5.2338, -6.2089, -5.2058, -5.7536, -5.9057, -6.2209, -4.877, -5.8672, -5.7299, -6.0206, -5.1478, -6.2308, -5.7613, -5.4591, -5.9002, -5.3475, -5.9934, -6.0045, -5.5917, -5.6844, -5.6256, -5.9614, -6.0022, -6.0267, -5.9458, -5.9836, -5.9815, -6.8553, -7.2476, -7.3778, -7.0721, -7.6924, -7.6813, -7.9606, -7.9905, -7.9906, -8.0211, -8.0368, -8.0854, -8.102, -8.1021, -7.9496, -8.247, -7.6878, -8.2673, -8.0409, -6.9633, -8.394, -8.394, -8.2494, -8.3943, -8.4168, -8.4645, -8.4888, -8.5935, -8.6218, -8.6502, -7.8019, -6.758, -6.4964, -7.1251, -6.3388, -7.5078, -7.6685, -7.393, -7.8656, -5.5556, -7.0303, -7.4245, -7.1963, -5.084, -6.7901, -7.5917, -7.6251, -7.5685, -7.1016, -7.4007, -6.9421, -7.0165, -7.4394, -6.6543, -6.3827, -6.1583, -5.9033, -6.0483, -6.8946, -6.2722, -6.5394, -5.7108, -6.4861, -5.5978, -6.0418, -6.3529, -5.4138, -5.8109, -6.3808, -5.8252, -6.1835, -6.326, -5.8942, -5.8818, -5.7071, -6.0234, -6.3704, -6.302, -5.9928, -6.077, -6.1804, -5.9499, -6.0157, -6.1565, -6.2651, -6.3043, -6.3254], \"loglift\": [30.0, 29.0, 28.0, 27.0, 26.0, 25.0, 24.0, 23.0, 22.0, 21.0, 20.0, 19.0, 18.0, 17.0, 16.0, 15.0, 14.0, 13.0, 12.0, 11.0, 10.0, 9.0, 8.0, 7.0, 6.0, 5.0, 4.0, 3.0, 2.0, 1.0, 1.8348, 1.83, 1.8268, 1.8236, 1.8207, 1.8202, 1.8133, 1.8129, 1.8127, 1.812, 1.8115, 1.8097, 1.8083, 1.8066, 1.8056, 1.8041, 1.8034, 1.8028, 1.801, 1.8009, 1.8008, 1.8003, 1.7996, 1.7991, 1.7989, 1.7968, 1.7963, 1.7955, 1.7952, 1.7922, 1.7886, 1.7801, 1.7898, 1.7821, 1.7873, 1.7739, 1.7701, 1.7616, 1.788, 1.7504, 1.7634, 1.6575, 1.7013, 1.7364, 1.6771, 1.6742, 1.6648, 1.738, 1.5295, 1.5764, 1.3955, 1.6992, 1.2942, 1.3994, 1.2771, 1.2982, 1.0233, 0.6125, 1.2951, 1.2178, 0.9821, 0.4525, 0.6944, 0.5503, 0.4621, 0.3051, 0.5578, 0.9377, 0.522, 0.9487, 0.454, 0.8501, 0.4413, 0.7601, 0.1997, 0.3713, 0.0646, 0.5555, 0.1285, -0.0447, -0.0324, 0.1677, -0.2114, 1.4772, 1.4768, 1.476, 1.4754, 1.4733, 1.4725, 1.4724, 1.4716, 1.4709, 1.4686, 1.4686, 1.4678, 1.4672, 1.4666, 1.4663, 1.4658, 1.4658, 1.4657, 1.4654, 1.4653, 1.4647, 1.4644, 1.4637, 1.4623, 1.461, 1.4605, 1.4587, 1.4583, 1.4581, 1.458, 1.4521, 1.4559, 1.4358, 1.4513, 1.4404, 1.4294, 1.408, 1.3938, 1.4404, 1.4249, 1.4457, 1.4069, 1.3377, 1.3783, 1.3812, 1.339, 1.3582, 1.3965, 1.0739, 1.2786, 0.9932, 1.3904, 0.9793, 1.2562, 1.2686, 1.0081, 1.1242, 0.9938, 0.7561, 0.8841, 0.6622, 1.0679, 0.7217, 0.7102, 0.7736, 1.1137, 0.9567, 0.2896, 0.7756, 0.6454, 0.6533, 0.6534, 0.1956, 0.8626, -0.1349, 0.1466, 0.287, 0.1273, 1.1566, 1.1548, 1.1542, 1.1534, 1.1534, 1.1531, 1.1523, 1.1517, 1.151, 1.1501, 1.1497, 1.1495, 1.1493, 1.1485, 1.1481, 1.1476, 1.1468, 1.1468, 1.146, 1.1458, 1.1454, 1.1454, 1.1452, 1.1452, 1.1444, 1.1443, 1.1442, 1.1439, 1.1439, 1.1434, 1.137, 1.1381, 1.141, 1.131, 1.1127, 1.1291, 1.1312, 1.1245, 1.0842, 1.0901, 1.0805, 1.0929, 1.0648, 1.1239, 1.0829, 1.1233, 1.0524, 1.1024, 0.878, 1.0081, 0.8437, 0.9117, 0.9357, 0.9825, 0.6759, 0.8491, 0.7943, 0.8418, 0.4702, 0.8947, 0.6532, 0.4706, 0.6984, 0.1908, 0.6304, 0.6261, -0.0712, -0.0359, -0.151, 0.39, 0.4213, 0.4336, 0.0211, 0.1105, -0.1989, 1.206, 1.2049, 1.2041, 1.204, 1.2019, 1.2018, 1.1993, 1.1988, 1.1987, 1.1985, 1.1984, 1.1978, 1.1977, 1.1976, 1.196, 1.1957, 1.1953, 1.1949, 1.1941, 1.1941, 1.1934, 1.1934, 1.1933, 1.193, 1.193, 1.1919, 1.1916, 1.1896, 1.1887, 1.1884, 1.185, 1.172, 1.1673, 1.1691, 1.1531, 1.1677, 1.1713, 1.1566, 1.1717, 1.0646, 1.1222, 1.1406, 1.1218, 0.9585, 1.0768, 1.1476, 1.1428, 1.1328, 1.0607, 1.101, 1.0167, 1.0106, 1.0943, 0.9241, 0.8421, 0.7491, 0.6682, 0.6893, 0.9304, 0.7128, 0.802, 0.4682, 0.7514, 0.3447, 0.5266, 0.6392, 0.0608, 0.272, 0.594, 0.177, 0.4047, 0.4915, 0.1489, 0.0988, -0.0586, 0.1582, 0.4773, 0.3907, -0.0258, 0.0171, 0.1791, -0.3319, -0.2331, -0.1436, 0.0535, 0.2406, -0.0304]}, \"token.table\": {\"Topic\": [1, 2, 3, 4, 1, 2, 3, 4, 1, 3, 4, 1, 2, 3, 4, 1, 2, 3, 4, 1, 2, 3, 4, 1, 4, 4, 4, 1, 2, 4, 1, 1, 3, 4, 2, 3, 4, 1, 2, 1, 3, 4, 3, 1, 1, 2, 3, 4, 1, 2, 3, 4, 2, 2, 3, 4, 2, 2, 2, 1, 1, 2, 3, 4, 2, 4, 1, 2, 3, 4, 1, 1, 2, 3, 4, 1, 3, 4, 3, 1, 3, 1, 2, 3, 4, 1, 2, 1, 2, 3, 4, 3, 1, 2, 3, 4, 2, 2, 3, 1, 2, 4, 3, 4, 1, 2, 3, 4, 4, 1, 3, 4, 2, 3, 3, 1, 1, 2, 3, 4, 1, 2, 3, 4, 2, 1, 2, 3, 4, 1, 1, 2, 3, 4, 1, 2, 3, 4, 1, 2, 3, 4, 1, 2, 4, 1, 2, 3, 4, 1, 2, 3, 4, 2, 3, 1, 2, 3, 4, 1, 2, 3, 4, 2, 2, 1, 2, 3, 4, 1, 2, 3, 4, 4, 3, 4, 2, 3, 4, 1, 2, 3, 4, 1, 2, 3, 4, 1, 3, 4, 3, 1, 2, 3, 4, 1, 2, 3, 4, 1, 2, 3, 3, 3, 1, 4, 1, 1, 2, 3, 4, 1, 3, 4, 4, 1, 2, 3, 4, 3, 4, 1, 2, 3, 4, 1, 2, 3, 4, 1, 2, 3, 4, 1, 2, 3, 4, 1, 2, 1, 2, 4, 3, 4, 1, 3, 1, 4, 2, 3, 4, 4, 1, 2, 3, 4, 1, 2, 3, 4, 2, 4, 1, 2, 3, 4, 1, 3, 4, 2, 3, 4, 1, 2, 3, 4, 1, 2, 3, 4, 2, 1, 1, 2, 4, 1, 2, 3, 4, 3, 4, 1, 2, 3, 4, 1, 3, 4, 1, 2, 3, 1, 3, 1, 2, 4, 3, 4, 1, 2, 4, 2, 1, 2, 3, 4, 1, 2, 3, 4, 2, 3, 4, 4, 4, 4, 3, 1, 3, 4, 4, 1, 2, 4, 1, 1, 2, 3, 4, 1, 2, 3, 4, 1, 2, 3, 4, 1, 2, 3, 4, 1, 2, 3, 4, 1, 2, 3, 4, 1, 4, 4, 1, 2, 3, 4, 1, 2, 3, 4, 1, 2, 3, 4, 2, 4, 1, 4, 1, 1, 2, 1, 2, 3, 4, 3, 1, 2, 3, 4, 1, 2, 3, 4, 1, 2, 3, 4, 2, 1, 2, 2, 3, 1, 2, 3, 4, 1, 3, 4, 1, 4, 4, 4, 1, 3, 4, 4, 2, 1, 2, 4, 1, 2, 3, 4, 2, 3, 1, 2, 2, 3, 4, 2, 1, 2, 3, 4, 1, 3, 2, 3, 2, 3, 1, 2, 3, 4, 1, 2, 3, 4, 1, 2, 3, 4, 1, 4, 1, 3, 4, 1, 2, 3, 4, 1, 2, 3, 4, 4, 1, 2, 3, 4, 3, 2, 3, 4, 3, 3, 4, 1, 2, 3, 4, 4, 1, 2, 3, 4, 1, 2, 3, 4, 1, 2, 3, 4, 1, 2, 3, 4, 1, 2, 3, 1, 2, 3, 4, 2, 3, 4, 1, 3, 4, 1, 3, 4, 1, 2, 3, 4, 1, 4, 1, 2, 3, 4, 1, 2, 3, 4, 3, 1, 4, 1, 2, 3, 4, 1, 2, 3, 1, 2, 3, 4, 4, 4, 2, 3, 4, 1, 3, 4, 1, 2, 3, 4, 1, 1, 2, 3, 4, 1, 2, 3, 4, 2, 1, 2, 3, 4, 2, 1, 2, 3, 4, 1, 3, 4, 1, 1, 4, 1, 3, 4, 1, 1, 3, 4, 1, 2, 3, 4, 1, 1, 2, 3, 4, 1, 2, 3, 4, 2, 1, 2, 3, 4, 1, 2, 3, 4, 1, 2, 3, 4, 1, 4, 1, 2, 3, 4, 3, 1, 2, 1, 2, 3, 4, 1, 1, 1, 2, 3, 4, 4, 1, 2, 3, 4, 1, 2, 4, 1, 4, 1, 2, 3, 4, 1, 2, 4, 1, 2, 3, 4, 1, 2, 1, 3, 4, 2, 2, 3, 4, 1, 2, 3, 4, 3, 1, 2, 3, 4, 1, 2, 3, 4, 1, 2, 3, 4, 1, 2, 3, 4, 1, 2, 3, 4, 1, 2, 3, 4, 1, 3, 4, 1, 2, 3, 4, 1, 3, 1, 2, 3, 1, 1, 2, 3, 4, 3, 1, 2, 3, 4, 1, 2, 3, 4, 1, 2, 3, 4, 1, 2, 3, 4, 3, 1, 2, 3, 4, 2, 1, 2, 3, 4, 1, 2, 3, 4, 2, 2, 3], \"Freq\": [0.10265655518043537, 0.04362903595168503, 0.7352775764798684, 0.11933824539725613, 0.006265596790109812, 0.133666064855676, 0.8395899698747148, 0.018796790370329435, 0.008725036598102257, 0.8012491942590573, 0.18904245962554891, 0.25271797259818424, 0.16453301260490683, 0.16216563112857724, 0.4208020574175855, 0.025396221158265196, 0.6247470404933239, 0.18920184762907571, 0.15999619329707074, 0.031301560251065494, 0.8707524942569128, 0.034147156637525995, 0.06260312050213099, 0.010843190308212765, 0.9813087228932552, 0.9918995679542592, 0.9971082201445461, 0.9434066393076848, 0.006787098124515717, 0.04750968687161002, 0.9498175454998141, 0.008025779533045235, 0.040128897665226176, 0.9470419848993378, 0.006216796908245408, 0.031083984541227037, 0.9573867238697927, 0.030020805779123128, 0.9606657849319401, 0.005853455944833683, 0.5136407591591557, 0.47998338747636204, 0.9912930883974729, 0.9648388021392187, 0.001185270760672592, 0.6159457052961903, 0.380471914175902, 0.001975451267787653, 0.2307193101838477, 0.5522438107211777, 0.2019952193577462, 0.014825337200568528, 0.9874213827035419, 0.9597016612782888, 0.029396267102217856, 0.012104345277383823, 0.9936059353803068, 0.9916582683061572, 0.9944653274763041, 0.9474745882977282, 0.03813680825965819, 0.02724057732832728, 0.07627361651931638, 0.860802243575142, 0.9787899301590973, 0.9890638047301378, 0.006330246015415708, 0.9527020253200641, 0.03798147609249425, 0.003165123007707854, 0.942025313150424, 0.02092556568002301, 0.034241834749128564, 0.9292853486082946, 0.015218593221834916, 0.05604694391649729, 0.009341157319416215, 0.9247745746222054, 0.9864109136100303, 0.008874271295328211, 0.9909602946449837, 0.00911287879811062, 0.003037626266036874, 0.9872285364619839, 0.003037626266036874, 0.942249034213919, 0.0560862520365428, 0.40781212585201887, 0.11191123453613541, 0.12898243980435947, 0.35090810829127206, 0.9968720468679155, 0.045379187186402124, 0.04869961551711448, 0.40177182801619443, 0.5047051062682772, 0.9823390551594354, 0.9033325680256165, 0.09158210367079983, 0.9965626458091975, 0.9981494246719986, 0.0012461291194406975, 0.011203342906561737, 0.9858941757774329, 0.425433848485089, 0.0992678979798541, 0.1524471290404902, 0.3226206684345258, 0.9881293326724645, 0.01118183684783664, 0.9728198057617877, 0.01490911579711552, 0.012153725879180483, 0.9874902276834142, 0.9924606586637361, 0.9498040959213204, 0.04094570440586145, 0.26322238546625215, 0.5907880207131437, 0.10528895418650086, 0.44298599802762784, 0.02839653833510435, 0.04117498058590131, 0.4870006324470396, 0.9816199734368015, 0.04107559781923785, 0.6161339672885677, 0.21465312408763004, 0.12720185131118816, 0.9746604441348461, 0.06355614408194585, 0.44237093936401994, 0.25775547322122483, 0.23606567801865602, 0.26814028755870956, 0.21468193908972633, 0.31990154560010603, 0.19686248960006525, 0.0006541383173084123, 0.056255895288523455, 0.1661511325963367, 0.7771163209623938, 0.018204246089775524, 0.027306369134663284, 0.955722919713215, 0.9626902524831461, 0.9619645865766218, 0.02114207882585982, 0.01409471921723988, 0.5809050396050975, 0.05245630792420613, 0.12239805182314764, 0.24479610364629528, 0.978091986608656, 0.010188458193840167, 0.010091851631022844, 0.9194798152709703, 0.0370034559804171, 0.03251818858885139, 0.20358711584352976, 0.012154454677225658, 0.03342475036237056, 0.7505375763186843, 0.9991843999147568, 0.9974703365568874, 0.01490054345001981, 0.4946980425406577, 0.4847643469073112, 0.00496684781667327, 0.061620090177269216, 0.19999502952271586, 0.3599910531408886, 0.379450028986342, 0.9855104634088682, 0.9994376435443799, 0.9741595165712368, 0.0038641199841447584, 0.7689598768448069, 0.22605101907246836, 0.0021672745916226704, 0.07152006152354812, 0.9015862301150308, 0.026007295099472045, 0.01323740752713635, 0.0033093518817840875, 0.0264748150542727, 0.9564026938356013, 0.0326025525772906, 0.0326025525772906, 0.9291727484527821, 0.9986211032990286, 0.20519887925193653, 0.694519283621939, 0.05862825121483901, 0.042843722041613116, 0.008275751820666786, 0.027084278685818572, 0.9569778468989228, 0.008275751820666786, 0.046098462251110535, 0.023049231125555267, 0.9277315528035994, 0.9882282184351906, 0.9968608561215322, 0.9388337350783554, 0.9911225547154969, 0.9538582249920651, 0.09736976823725162, 0.05036367322616463, 0.24342442059312905, 0.6077216569290532, 0.006243794411473148, 0.9350082131181038, 0.057755098306126615, 0.9948995226195835, 0.08263722372857474, 0.46415861178386375, 0.22937621913445513, 0.22397004561950162, 0.006105004701803441, 0.9951157663939608, 0.15221406579021687, 0.1935391515251174, 0.35126322874665433, 0.30305062872260374, 0.02636274234214281, 0.9490587243171411, 0.010545096936857123, 0.010545096936857123, 0.0634121551686033, 0.03658393567419421, 0.7828962234277561, 0.11706859415742148, 0.04066029061108301, 0.0665987518629808, 0.756421613264803, 0.13670270119243427, 0.965828572196079, 0.9959105589646674, 0.9428793848284109, 0.010963713777074547, 0.04385485510829819, 0.9859224813936156, 0.9855107074706981, 0.8986074859509192, 0.08320439684730734, 0.9637852622259296, 0.9741620082384673, 0.36613693575058365, 0.6318998828841849, 0.0022812270140223283, 0.9697308617546961, 0.1542586688385036, 0.46978776418998824, 0.20193862102495017, 0.17459276609448818, 0.042103773722558, 0.0016193759124060766, 0.9117086386846212, 0.045342525547370144, 0.9748615864245821, 0.018052992341195964, 0.8347404016564102, 0.019189434520837014, 0.06716302082292955, 0.07915641739845268, 0.8461257051165988, 0.059827070058749404, 0.1025606915292847, 0.9787960033174598, 0.983129455650467, 0.017323867059920124, 0.006400660910383367, 0.012801321820766733, 0.9729004583782717, 0.006400660910383367, 0.6435779387802032, 0.07450818418764098, 0.03347469144662131, 0.24836061395880324, 0.9832876079334512, 0.9748419340937132, 0.09180683581625498, 0.007650569651354582, 0.8951166492084861, 0.021735329808984568, 0.6675851298473832, 0.29265069064239935, 0.017465890025076883, 0.9963926977982152, 0.9731300855325482, 0.18859778421517454, 0.19488437702234704, 0.25954647446754975, 0.35653962063535377, 0.04009879861815089, 0.7292040785745217, 0.23019680688197733, 0.023659564061170396, 0.009463825624468158, 0.9700421265079862, 0.9609422309177266, 0.018130985489013707, 0.03880758385420567, 0.019403791927102836, 0.9410839084644875, 0.02613994423346451, 0.9671779366381869, 0.06541170205620028, 0.915763828786804, 0.013082340411240055, 0.9895706702746818, 0.02157823153820558, 0.040758881794388316, 0.273324266150604, 0.6641300151203273, 0.03885618544042837, 0.0055508836343469104, 0.37412955695498173, 0.5817326048795561, 0.02697562147203184, 0.05934636723847004, 0.9171711300490825, 0.9903174031375024, 0.9899514740046983, 0.99466059812894, 0.993510422141474, 0.9519094988451505, 0.018218363614261254, 0.02732754542139188, 0.9802727389808956, 0.9273163015022761, 0.059443352660402314, 0.011888670532080464, 0.9966424720643001, 0.8520678987346215, 0.12512885226172765, 0.0059585167743679834, 0.011917033548735967, 0.1698328878921029, 0.21835657014698945, 0.32086284891043726, 0.2905355475011332, 0.14096824643406528, 0.10122719823722773, 0.281186661770077, 0.4761427472639971, 0.09770850577991091, 0.5943934101611247, 0.2312434636791225, 0.07653832952759689, 0.5701174327478858, 0.04282572264772852, 0.17933271358736316, 0.2060987902421935, 0.09235851603082212, 0.6638268339715341, 0.15585499580201234, 0.09043438028018, 0.024857227356255646, 0.9694318668939701, 0.9794976514019262, 0.057110919122534354, 0.03807394608168957, 0.08566637868380153, 0.8185898407563258, 0.18117106821802118, 0.1593704002581763, 0.309719834464003, 0.3495624345285471, 0.050430955474510604, 0.8694296723805628, 0.052448193693491026, 0.026224096846745513, 0.9662961417490835, 0.026841559493030097, 0.9627848161565488, 0.02292344800372735, 0.962797711447502, 0.9628570529118556, 0.03480206215344057, 0.2506737644681902, 0.22211599383257358, 0.29351042042161507, 0.23322179352420228, 0.9880961592060484, 0.05136480236668047, 0.9245664426002485, 0.012841200591670118, 0.012841200591670118, 0.7698397709523629, 0.043007808433092896, 0.02580468505985574, 0.15912889120244372, 0.24756882018727155, 0.22062255404443928, 0.24251639528549052, 0.2888302902184835, 0.9850270197060347, 0.9627451460598316, 0.9993592343938262, 0.9878924725377397, 0.9937885709006243, 0.08388963932021404, 0.00917542930064841, 0.3132753718364243, 0.59378135331339, 0.02145516525666588, 0.02145516525666588, 0.9654824365499647, 0.01592811511313965, 0.9875431370146583, 0.9741618544435457, 0.996859814399888, 0.6452583820216469, 0.0293299264555294, 0.32262919101082344, 0.990368029678407, 0.9890363695573962, 0.004379350045622238, 0.991922785333437, 0.004379350045622238, 0.8464720836458777, 0.007297173134878256, 0.1313491164278086, 0.007297173134878256, 0.9801043591521701, 0.9868835131474288, 0.9556303012491906, 0.9821824572914243, 0.9743464910048624, 0.010256278852682762, 0.013675038470243683, 0.9927772033775116, 0.21616022677400723, 0.199396780616023, 0.30350660412350405, 0.2810082948062094, 0.9637981366374153, 0.9837995232837979, 0.004778419735538897, 0.9891328852565516, 0.015659371116524136, 0.9865403803410204, 0.06797776423496218, 0.1608487942461077, 0.47871664954198717, 0.2920171562206122, 0.0622363206274098, 0.00889090294677283, 0.10224538388788754, 0.8224085225764867, 0.079160421876673, 0.4385915266139991, 0.2332023239069556, 0.2492483553684434, 0.9673204696046458, 0.03022876467514518, 0.9519191614696103, 0.9897288748872959, 0.9890677811528383, 0.5819951448376871, 0.24836735480334418, 0.1260371651240851, 0.04077672989308636, 0.09635282550098291, 0.15035276067186346, 0.6956462236719316, 0.057176401945638215, 0.9802512893308347, 0.012957057495948466, 0.004319019165316155, 0.021595095826580778, 0.9631412738655026, 0.9944039450670056, 0.8113417612309223, 0.14514829673397234, 0.04093926318137681, 0.9983640084269615, 0.9892124861123692, 0.009511658520311243, 0.2939447795596493, 0.11898647444974456, 0.270221619544747, 0.316926590824086, 0.9709145279416149, 0.08043234381550536, 0.0034970584267611025, 0.05245587640141654, 0.8649391175522461, 0.14202761743349648, 0.5411999737992181, 0.25415468382836215, 0.0642861847330563, 0.05503404168920535, 0.19167028312447382, 0.604425595793514, 0.1489714576759524, 0.011629682489745802, 0.005814841244872901, 0.9652636466489015, 0.011629682489745802, 0.01156632144093557, 0.02313264288187114, 0.9657878403181201, 0.030068596122354654, 0.30469510737319383, 0.6182103362756116, 0.046907009950873255, 0.06357363003467066, 0.9257909873798914, 0.010595605005778443, 0.04621809583730554, 0.9372002767009179, 0.015406031945768513, 0.07298627136275684, 0.04865751424183789, 0.875835256353082, 0.3189905543393736, 0.1301826316357984, 0.2362254375378064, 0.3146798711726253, 0.9383346418077454, 0.059576802654460026, 0.08468256593796544, 0.012702384890694817, 0.8616451084187985, 0.04234128296898272, 0.03142295258395036, 0.8030310104787315, 0.09776029692784556, 0.06633734434389521, 0.9813742669741821, 0.9612111727366446, 0.036272119725911114, 0.034911969475949954, 0.23120945822751762, 0.7311752097793293, 0.003293582026033015, 0.010517917630905389, 0.486161526050738, 0.5031070600116411, 0.0285421684893806, 0.8888846758121388, 0.012232357924020259, 0.06931669490278146, 0.9976842768983698, 0.9860687874745863, 0.014008700578300717, 0.9479220724650151, 0.037356534875468576, 0.9541647129365989, 0.021685561657649975, 0.021685561657649975, 0.5373826412353196, 0.14263860230320213, 0.023220237584242208, 0.2985459117973998, 0.9991765784220263, 0.14252676542106704, 0.19062954875067714, 0.4641027799023495, 0.20220984844113885, 0.29822960284838185, 0.018639350178023865, 0.05281149217106762, 0.6306313476898074, 0.9895981919387511, 0.12202025535861888, 0.4390550259778876, 0.10676772343879153, 0.333376769104798, 0.9861490059317645, 0.02704056032168871, 0.4957436058976263, 0.41800199497277124, 0.059714570710395896, 0.015798440996144945, 0.0868914254787972, 0.8926119162821894, 0.9751289605182831, 0.9539842973379636, 0.021681461303135537, 0.9187963375083954, 0.008834580168349955, 0.07067664134679964, 0.9449067245677675, 0.04991876455147472, 0.009983752910294944, 0.9384727735677247, 0.1152947116813058, 0.23936184707749356, 0.20552535560580598, 0.44112759251977873, 0.9789260813658339, 0.007742304630431408, 0.8206842908257291, 0.14968455618834053, 0.02322691389129422, 0.015485300244756287, 0.9322150747343285, 0.04490737070979323, 0.006194120097902515, 0.9808752455593264, 0.2502967035271818, 0.032517178577890285, 0.5031605527315655, 0.21392880643348872, 0.15690404008427894, 0.15916165217182252, 0.23704926919207608, 0.4470071933336292, 0.27799239183745816, 0.3041745007639778, 0.20483649924865338, 0.21253711952115914, 0.9046356989673353, 0.09398812456803483, 0.20609390441719544, 0.01944282117143353, 0.01944282117143353, 0.754381461451621, 0.987509205748227, 0.929756718982477, 0.06887086807277608, 0.00853486052496821, 0.09174975064340825, 0.20697036773047908, 0.691323702522425, 0.9498057841424616, 0.9519850489720167, 0.004470907094104254, 0.9075941401031635, 0.03129634965872978, 0.058121792223355305, 0.9876384614605315, 0.4110799953006716, 0.10125123036962354, 0.28755349424973087, 0.20047743613185462, 0.0027867930637896048, 0.05016227514821289, 0.944722848624676, 0.8737041401522876, 0.12563066067549233, 0.12911849098064818, 0.2772973306298682, 0.26438548153180336, 0.32894472702212746, 0.05431047013401472, 0.932329737300586, 0.01357761753350368, 0.11183362919177221, 0.2638771025873277, 0.2682750542971165, 0.3556058096772083, 0.0025924895495299254, 0.9955159870194914, 0.03183385725377933, 0.050934171606046935, 0.9168150889088448, 0.9975533827208587, 0.012399439548006864, 0.9873627788227688, 0.000229619250889016, 0.011786736136679493, 0.007857824091119662, 0.9743701872988381, 0.003928912045559831, 0.9882274590386754, 0.11125904023626165, 0.259168117256233, 0.28338332013118406, 0.3462119546175436, 0.0021153821285427614, 0.7023068666761967, 0.22634588775407546, 0.06980761024191112, 0.2780458092780238, 0.4201581117979027, 0.10998256455886275, 0.19277842776609652, 0.19880102500626445, 0.08211346685041358, 0.08643522826359325, 0.6309771663242306, 0.15453734801146762, 0.1329353531281442, 0.17281595906658745, 0.5400498720830857, 0.5828820378023373, 0.008876376210187878, 0.07101100968150302, 0.33730229598713934, 0.8660644272037262, 0.05329627244330623, 0.07994440866495935, 0.03180126468334093, 0.34745826228094717, 0.5877344843328565, 0.032979089301242444, 0.007483086538114899, 0.9952505095692816, 0.005371025060789107, 0.013427562651972768, 0.9802120735940121, 0.9474774046660894, 0.019780993042716882, 0.6074413280200976, 0.3082538082490048, 0.0651124354322764, 0.9826291395930311, 0.3731911375102194, 0.0068162764842049205, 0.26413071376294067, 0.3561504462997071, 0.1934036127824121, 0.43490760594594224, 0.11824676843691517, 0.25352908825880965, 0.734750949529986, 0.20363883994464033, 0.038526267016553574, 0.0220150097237449, 0.34057184288790127, 0.2592641506669158, 0.0828417996213814, 0.31756023188196203, 0.9922902342370884, 0.10481663387347989, 0.1031260430045528, 0.22653917643623073, 0.5646573502216498, 0.9942123516223319, 0.27623853110927116, 0.21273542050943872, 0.25274238018733314, 0.2584576601413181, 0.19479979906049932, 0.16619283556210432, 0.24792701698609004, 0.3909618344780651, 0.9944669258582964, 0.9813950999584301, 0.0190562155331734], \"Term\": [\"2020\", \"2020\", \"2020\", \"2020\", \"2024\", \"2024\", \"2024\", \"2024\", \"abortion\", \"abortion\", \"abortion\", \"according\", \"according\", \"according\", \"according\", \"administration\", \"administration\", \"administration\", \"administration\", \"agreement\", \"agreement\", \"agreement\", \"agreement\", \"ai\", \"ai\", \"alito\", \"altman\", \"amazon\", \"amazon\", \"amazon\", \"ar15style\", \"arrest\", \"arrest\", \"arrest\", \"arrested\", \"arrested\", \"arrested\", \"asylum\", \"asylum\", \"attorney\", \"attorney\", \"attorney\", \"ballots\", \"belgrade\", \"biden\", \"biden\", \"biden\", \"biden\", \"bill\", \"bill\", \"bill\", \"bill\", \"bonds\", \"border\", \"border\", \"border\", \"borrow\", \"borrowers\", \"borrowing\", \"brazilian\", \"brown\", \"brown\", \"brown\", \"brown\", \"brownsville\", \"bud\", \"budget\", \"budget\", \"budget\", \"budget\", \"camilla\", \"campaign\", \"campaign\", \"campaign\", \"campaign\", \"cancer\", \"cancer\", \"cancer\", \"candidacy\", \"candidate\", \"candidate\", \"candidates\", \"candidates\", \"candidates\", \"candidates\", \"carbon\", \"carbon\", \"care\", \"care\", \"care\", \"care\", \"carroll\", \"case\", \"case\", \"case\", \"case\", \"catastrophic\", \"caucus\", \"caucus\", \"cdc\", \"ceiling\", \"ceiling\", \"circuit\", \"circuit\", \"city\", \"city\", \"city\", \"city\", \"clarence\", \"classified\", \"classified\", \"classified\", \"collins\", \"collins\", \"comer\", \"commandments\", \"committee\", \"committee\", \"committee\", \"committee\", \"company\", \"company\", \"company\", \"company\", \"concessions\", \"congress\", \"congress\", \"congress\", \"congress\", \"coronation\", \"could\", \"could\", \"could\", \"could\", \"country\", \"country\", \"country\", \"country\", \"court\", \"court\", \"court\", \"court\", \"crow\", \"crow\", \"crow\", \"crown\", \"cuts\", \"cuts\", \"cuts\", \"data\", \"data\", \"data\", \"data\", \"deadline\", \"deadline\", \"deal\", \"deal\", \"deal\", \"deal\", \"death\", \"death\", \"death\", \"death\", \"debt\", \"default\", \"democrats\", \"democrats\", \"democrats\", \"democrats\", \"department\", \"department\", \"department\", \"department\", \"der\", \"desantis\", \"disorder\", \"documents\", \"documents\", \"documents\", \"donald\", \"donald\", \"donald\", \"donald\", \"drug\", \"drug\", \"drug\", \"drug\", \"drugs\", \"drugs\", \"drugs\", \"durham\", \"economic\", \"economic\", \"economic\", \"economic\", \"election\", \"election\", \"election\", \"election\", \"elections\", \"elections\", \"elections\", \"electorate\", \"erdogan\", \"ethnically\", \"execution\", \"expectancy\", \"family\", \"family\", \"family\", \"family\", \"fbi\", \"fbi\", \"fbi\", \"fda\", \"federal\", \"federal\", \"federal\", \"federal\", \"feinstein\", \"feinstein\", \"first\", \"first\", \"first\", \"first\", \"fiscal\", \"fiscal\", \"fiscal\", \"fiscal\", \"florida\", \"florida\", \"florida\", \"florida\", \"former\", \"former\", \"former\", \"former\", \"ftc\", \"g7\", \"garcia\", \"garcia\", \"garcia\", \"garland\", \"gaza\", \"genderaffirming\", \"genderaffirming\", \"gianforte\", \"ginni\", \"gop\", \"gop\", \"gop\", \"gorsuch\", \"government\", \"government\", \"government\", \"government\", \"governor\", \"governor\", \"governor\", \"governor\", \"graves\", \"graves\", \"gun\", \"gun\", \"gun\", \"gun\", \"guns\", \"guns\", \"guns\", \"hakeem\", \"haley\", \"haley\", \"hampshire\", \"hampshire\", \"hampshire\", \"hampshire\", \"health\", \"health\", \"health\", \"health\", \"hiroshima\", \"holy\", \"hospital\", \"hospital\", \"hospital\", \"house\", \"house\", \"house\", \"house\", \"hunter\", \"idf\", \"including\", \"including\", \"including\", \"including\", \"investigation\", \"investigation\", \"investigation\", \"iowa\", \"iowa\", \"iowa\", \"ireland\", \"ireland\", \"israel\", \"israel\", \"israel\", \"israeli\", \"israeli\", \"japan\", \"japan\", \"japan\", \"jeffries\", \"judge\", \"judge\", \"judge\", \"judge\", \"justice\", \"justice\", \"justice\", \"justice\", \"justices\", \"justices\", \"justices\", \"kavanaugh\", \"keepers\", \"khan\", \"kilicdaroglu\", \"king\", \"king\", \"king\", \"kohberger\", \"korea\", \"korea\", \"korea\", \"korean\", \"labor\", \"labor\", \"labor\", \"labor\", \"last\", \"last\", \"last\", \"last\", \"law\", \"law\", \"law\", \"law\", \"lawmakers\", \"lawmakers\", \"lawmakers\", \"lawmakers\", \"laws\", \"laws\", \"laws\", \"laws\", \"leaders\", \"leaders\", \"leaders\", \"leaders\", \"leo\", \"leo\", \"library\", \"light\", \"light\", \"light\", \"light\", \"like\", \"like\", \"like\", \"like\", \"limit\", \"limit\", \"limit\", \"limit\", \"loan\", \"loan\", \"lord\", \"lord\", \"mainland\", \"mall\", \"mall\", \"many\", \"many\", \"many\", \"many\", \"maralago\", \"markets\", \"markets\", \"markets\", \"markets\", \"mass\", \"mass\", \"mass\", \"mass\", \"may\", \"may\", \"may\", \"may\", \"mayorkas\", \"mayors\", \"mccarthy\", \"mchenry\", \"meadows\", \"media\", \"media\", \"media\", \"media\", \"medication\", \"medication\", \"medication\", \"medications\", \"medications\", \"meggs\", \"mehta\", \"mental\", \"mental\", \"mental\", \"mifepristone\", \"migrant\", \"migrants\", \"migrants\", \"migrants\", \"montana\", \"montana\", \"montana\", \"montana\", \"moody\", \"mueller\", \"myanmar\", \"negotiation\", \"negotiations\", \"negotiations\", \"negotiations\", \"negotiators\", \"new\", \"new\", \"new\", \"new\", \"nigeria\", \"nikki\", \"nomination\", \"nomination\", \"nominee\", \"nominee\", \"office\", \"office\", \"office\", \"office\", \"officers\", \"officers\", \"officers\", \"officers\", \"officials\", \"officials\", \"officials\", \"officials\", \"outbreak\", \"outbreak\", \"outbreaks\", \"pac\", \"palestinian\", \"pandemic\", \"pandemic\", \"pandemic\", \"pandemic\", \"party\", \"party\", \"party\", \"party\", \"passengers\", \"patients\", \"patients\", \"patients\", \"patients\", \"paxton\", \"payments\", \"payments\", \"payments\", \"pence\", \"penny\", \"penny\", \"people\", \"people\", \"people\", \"people\", \"pill\", \"police\", \"police\", \"police\", \"police\", \"policy\", \"policy\", \"policy\", \"policy\", \"political\", \"political\", \"political\", \"political\", \"polling\", \"polling\", \"polling\", \"polling\", \"polls\", \"polls\", \"polls\", \"president\", \"president\", \"president\", \"president\", \"presidential\", \"presidential\", \"presidential\", \"primary\", \"primary\", \"primary\", \"prison\", \"prison\", \"prison\", \"public\", \"public\", \"public\", \"public\", \"queen\", \"queen\", \"race\", \"race\", \"race\", \"race\", \"raise\", \"raise\", \"raise\", \"raise\", \"ramaswamy\", \"religion\", \"religion\", \"republican\", \"republican\", \"republican\", \"republican\", \"republicans\", \"republicans\", \"republicans\", \"requirements\", \"requirements\", \"requirements\", \"requirements\", \"rhodes\", \"roberts\", \"ron\", \"ron\", \"ron\", \"royal\", \"royal\", \"royal\", \"safety\", \"safety\", \"safety\", \"safety\", \"santos\", \"say\", \"say\", \"say\", \"say\", \"school\", \"school\", \"school\", \"school\", \"schumer\", \"security\", \"security\", \"security\", \"security\", \"seekers\", \"senate\", \"senate\", \"senate\", \"senate\", \"sentence\", \"sentence\", \"sentence\", \"serbia\", \"serbian\", \"serbian\", \"shootings\", \"shootings\", \"shootings\", \"shoppers\", \"sleep\", \"sleep\", \"sleep\", \"social\", \"social\", \"social\", \"social\", \"spainhouer\", \"speaker\", \"speaker\", \"speaker\", \"speaker\", \"spending\", \"spending\", \"spending\", \"spending\", \"stamps\", \"state\", \"state\", \"state\", \"state\", \"statement\", \"statement\", \"statement\", \"statement\", \"states\", \"states\", \"states\", \"states\", \"stores\", \"stores\", \"students\", \"students\", \"students\", \"students\", \"subpoena\", \"sunak\", \"sunak\", \"supreme\", \"supreme\", \"supreme\", \"supreme\", \"swimsuit\", \"syrian\", \"talks\", \"talks\", \"talks\", \"talks\", \"tarrio\", \"texas\", \"texas\", \"texas\", \"texas\", \"thomas\", \"thomas\", \"thomas\", \"tiktok\", \"tiktok\", \"time\", \"time\", \"time\", \"time\", \"title\", \"title\", \"title\", \"told\", \"told\", \"told\", \"told\", \"treasury\", \"treasury\", \"treatment\", \"treatment\", \"treatment\", \"trillion\", \"trump\", \"trump\", \"trump\", \"turkey\", \"turkey\", \"turkey\", \"turkey\", \"turkish\", \"two\", \"two\", \"two\", \"two\", \"ukraine\", \"ukraine\", \"ukraine\", \"ukraine\", \"united\", \"united\", \"united\", \"united\", \"university\", \"university\", \"university\", \"university\", \"use\", \"use\", \"use\", \"use\", \"violence\", \"violence\", \"violence\", \"violence\", \"virus\", \"virus\", \"virus\", \"vote\", \"vote\", \"vote\", \"vote\", \"voter\", \"voter\", \"voters\", \"voters\", \"voters\", \"wastewater\", \"white\", \"white\", \"white\", \"white\", \"willis\", \"women\", \"women\", \"women\", \"women\", \"work\", \"work\", \"work\", \"work\", \"workers\", \"workers\", \"workers\", \"workers\", \"world\", \"world\", \"world\", \"world\", \"wray\", \"wrote\", \"wrote\", \"wrote\", \"wrote\", \"xdate\", \"year\", \"year\", \"year\", \"year\", \"years\", \"years\", \"years\", \"years\", \"yellen\", \"zelensky\", \"zelensky\"]}, \"R\": 30, \"lambda.step\": 0.01, \"plot.opts\": {\"xlab\": \"PC1\", \"ylab\": \"PC2\"}, \"topic.order\": [1, 2, 3, 4]};\n",
       "\n",
       "function LDAvis_load_lib(url, callback){\n",
       "  var s = document.createElement('script');\n",
       "  s.src = url;\n",
       "  s.async = true;\n",
       "  s.onreadystatechange = s.onload = callback;\n",
       "  s.onerror = function(){console.warn(\"failed to load library \" + url);};\n",
       "  document.getElementsByTagName(\"head\")[0].appendChild(s);\n",
       "}\n",
       "\n",
       "if(typeof(LDAvis) !== \"undefined\"){\n",
       "   // already loaded: just create the visualization\n",
       "   !function(LDAvis){\n",
       "       new LDAvis(\"#\" + \"ldavis_el4618816429264945442177020388\", ldavis_el4618816429264945442177020388_data);\n",
       "   }(LDAvis);\n",
       "}else if(typeof define === \"function\" && define.amd){\n",
       "   // require.js is available: use it to load d3/LDAvis\n",
       "   require.config({paths: {d3: \"https://d3js.org/d3.v5\"}});\n",
       "   require([\"d3\"], function(d3){\n",
       "      window.d3 = d3;\n",
       "      LDAvis_load_lib(\"https://cdn.jsdelivr.net/gh/bmabey/pyLDAvis@3.4.0/pyLDAvis/js/ldavis.v3.0.0.js\", function(){\n",
       "        new LDAvis(\"#\" + \"ldavis_el4618816429264945442177020388\", ldavis_el4618816429264945442177020388_data);\n",
       "      });\n",
       "    });\n",
       "}else{\n",
       "    // require.js not available: dynamically load d3 & LDAvis\n",
       "    LDAvis_load_lib(\"https://d3js.org/d3.v5.js\", function(){\n",
       "         LDAvis_load_lib(\"https://cdn.jsdelivr.net/gh/bmabey/pyLDAvis@3.4.0/pyLDAvis/js/ldavis.v3.0.0.js\", function(){\n",
       "                 new LDAvis(\"#\" + \"ldavis_el4618816429264945442177020388\", ldavis_el4618816429264945442177020388_data);\n",
       "            })\n",
       "         });\n",
       "}\n",
       "</script>"
      ],
      "text/plain": [
       "<IPython.core.display.HTML object>"
      ]
     },
     "execution_count": 221,
     "metadata": {},
     "output_type": "execute_result"
    }
   ],
   "source": [
    "lda_display_left = pyLDAvis.lda_model.prepare(Left_lda_para_model, Left_count_text_vectors, Lcount_text_vectorizer, sort_topics=False)\n",
    "pyLDAvis.display(lda_display_left)"
   ]
  },
  {
   "cell_type": "code",
   "execution_count": 222,
   "id": "94859206",
   "metadata": {},
   "outputs": [
    {
     "data": {
      "text/html": [
       "\n",
       "<link rel=\"stylesheet\" type=\"text/css\" href=\"https://cdn.jsdelivr.net/gh/bmabey/pyLDAvis@3.4.0/pyLDAvis/js/ldavis.v1.0.0.css\">\n",
       "\n",
       "\n",
       "<div id=\"ldavis_el4618816429264974562628639385\" style=\"background-color:white;\"></div>\n",
       "<script type=\"text/javascript\">\n",
       "\n",
       "var ldavis_el4618816429264974562628639385_data = {\"mdsDat\": {\"x\": [0.0037518721035156607, 0.033309075759204713, -0.14484949289819612, 0.10778854503547573], \"y\": [0.04400604178543714, 0.11484125367721822, -0.051977754057012146, -0.10686954140564318], \"topics\": [1, 2, 3, 4], \"cluster\": [1, 1, 1, 1], \"Freq\": [32.62771690516026, 29.12002749543146, 22.10411624331914, 16.14813935608913]}, \"tinfo\": {\"Term\": [\"border\", \"trump\", \"migrants\", \"police\", \"desantis\", \"title\", \"texas\", \"administration\", \"biden\", \"president\", \"china\", \"42\", \"fbi\", \"city\", \"bill\", \"debt\", \"illegal\", \"immigration\", \"presidential\", \"percent\", \"court\", \"chinese\", \"hunter\", \"investigation\", \"2024\", \"former\", \"crisis\", \"states\", \"family\", \"election\", \"durham\", \"lgbtq\", \"reparations\", \"israel\", \"pride\", \"bud\", \"beer\", \"mulvaney\", \"antisemitism\", \"pronouns\", \"queer\", \"cuny\", \"sales\", \"anheuserbusch\", \"drag\", \"lgbt\", \"dodgers\", \"schiff\", \"treatments\", \"surgeries\", \"comey\", \"pollak\", \"biography\", \"jews\", \"joelpollak\", \"editoratlarge\", \"puberty\", \"inclusive\", \"rhoda\", \"israeli\", \"gender\", \"gay\", \"default\", \"debt\", \"ceiling\", \"mccarthy\", \"trans\", \"dei\", \"schools\", \"students\", \"collusion\", \"patient\", \"transgender\", \"teachers\", \"spending\", \"target\", \"discrimination\", \"light\", \"education\", \"kids\", \"limit\", \"school\", \"women\", \"children\", \"parents\", \"bill\", \"care\", \"speaker\", \"deal\", \"health\", \"report\", \"california\", \"also\", \"people\", \"would\", \"one\", \"like\", \"house\", \"state\", \"click\", \"social\", \"use\", \"time\", \"make\", \"may\", \"new\", \"could\", \"told\", \"year\", \"republicans\", \"app\", \"public\", \"law\", \"musk\", \"candidates\", \"nomination\", \"feinstein\", \"elon\", \"beijing\", \"ramaswamy\", \"christie\", \"carlson\", \"turkey\", \"coronation\", \"nato\", \"candidacy\", \"frontrunner\", \"royal\", \"altman\", \"xi\", \"pence\", \"turkish\", \"putin\", \"vivek\", \"licht\", \"lula\", \"japan\", \"erdogan\", \"kennedy\", \"zelensky\", \"fetterman\", \"chinese\", \"kaitlan\", \"china\", \"hampshire\", \"trump\", \"desantis\", \"ukraine\", \"communist\", \"polls\", \"donald\", \"presidential\", \"candidate\", \"poll\", \"2024\", \"primary\", \"hall\", \"russian\", \"percent\", \"election\", \"voters\", \"iowa\", \"ron\", \"russia\", \"party\", \"campaign\", \"president\", \"former\", \"ai\", \"think\", \"republican\", \"biden\", \"twitter\", \"media\", \"country\", \"people\", \"may\", \"would\", \"first\", \"like\", \"new\", \"2023\", \"going\", \"one\", \"also\", \"white\", \"neely\", \"sloot\", \"comer\", \"whistleblower\", \"holloway\", \"natalee\", \"subpoena\", \"suspect\", \"sentenced\", \"morell\", \"khan\", \"suspects\", \"counts\", \"investigators\", \"shooting\", \"chokehold\", \"dealings\", \"joran\", \"homicide\", \"passengers\", \"extradition\", \"awr\", \"sheriffs\", \"bragg\", \"holloways\", \"subpoenaed\", \"gardner\", \"neelys\", \"kohberger\", \"disappearance\", \"police\", \"prosecutors\", \"murder\", \"penny\", \"charges\", \"der\", \"subway\", \"wray\", \"prosecutor\", \"arrested\", \"prison\", \"jail\", \"incident\", \"hunter\", \"allegedly\", \"doj\", \"gun\", \"arrest\", \"records\", \"charged\", \"van\", \"alleged\", \"investigation\", \"officers\", \"fbi\", \"criminal\", \"death\", \"attorney\", \"family\", \"justice\", \"crime\", \"case\", \"court\", \"county\", \"according\", \"department\", \"told\", \"two\", \"man\", \"city\", \"biden\", \"office\", \"law\", \"also\", \"report\", \"click\", \"one\", \"new\", \"may\", \"time\", \"years\", \"app\", \"people\", \"house\", \"former\", \"would\", \"migrants\", \"migrant\", \"mayorkas\", \"asylum\", \"paxton\", \"migration\", \"aliens\", \"surge\", \"cbp\", \"cartels\", \"paso\", \"alejandro\", \"epa\", \"border\", \"expiration\", \"inflow\", \"emissions\", \"immigrants\", \"seekers\", \"usmexico\", \"crossings\", \"wages\", \"influx\", \"cartel\", \"rockland\", \"grid\", \"electricity\", \"expulsion\", \"obrador\", \"expire\", \"immigration\", \"dhs\", \"fentanyl\", \"patrol\", \"title\", \"42\", \"abbott\", \"illegal\", \"admin\", \"texas\", \"southern\", \"mexico\", \"crisis\", \"administration\", \"crossing\", \"adams\", \"housing\", \"abortion\", \"energy\", \"city\", \"states\", \"policy\", \"biden\", \"federal\", \"new\", \"house\", \"state\", \"americans\", \"york\", \"end\", \"bill\", \"security\", \"would\", \"country\", \"people\", \"law\", \"also\", \"president\", \"united\", \"may\", \"national\"], \"Freq\": [2496.0, 3324.0, 1435.0, 1651.0, 2021.0, 891.0, 1128.0, 1323.0, 5045.0, 3860.0, 1081.0, 751.0, 1229.0, 1342.0, 1642.0, 1161.0, 691.0, 608.0, 1063.0, 1426.0, 1148.0, 805.0, 668.0, 784.0, 944.0, 2044.0, 649.0, 1604.0, 1109.0, 1017.0, 484.5136454126571, 343.3989722842675, 275.15545140604297, 250.42413947654703, 501.53843486460585, 343.86332467457163, 167.37302826279432, 139.68246368093986, 136.70207996142187, 118.88341040671206, 94.19051357490228, 92.21190145974248, 158.8419260920834, 86.28266380186294, 386.31085484811086, 86.26592096020869, 86.24781679650067, 83.29102279857602, 79.35361715110969, 78.34872202029673, 79.32476264185826, 77.35731740999842, 73.40807743434928, 70.45424052411417, 70.44260191093278, 69.44330459490426, 67.48705408883707, 66.49913917850182, 66.48792893264488, 66.48182867456161, 578.2256159670413, 172.04363939245297, 214.36648262121923, 1119.322774289252, 598.309917463478, 548.5308244405959, 361.6556151702536, 93.4095497561386, 490.2886386544745, 621.4317754992312, 194.03259863780795, 124.19865074858032, 632.2274185421193, 254.81037539838204, 610.996347824896, 484.64081269269604, 153.76234445112195, 415.78853891765624, 456.5986052038675, 436.795576913814, 338.33961870698437, 1120.48812651984, 907.5205133525038, 813.0182583249294, 459.55220877525824, 1117.426830001595, 538.0864284633204, 327.16390589497684, 530.4073810030479, 747.0885928173082, 919.205658672343, 494.28031959723677, 1333.2687893111245, 1316.547862317647, 1273.257544496904, 1185.3601062548312, 946.7208785521809, 1076.1595513297195, 905.59842322919, 793.381910073676, 577.2042835338326, 555.2349857962078, 683.2397776870289, 613.1648344141122, 740.5193402125382, 759.8797839145687, 642.8802497727695, 690.0883644819826, 625.0616150791917, 616.7533062054692, 627.8983642894572, 601.8034994465344, 595.6193602885185, 329.7277643680584, 277.5785822889763, 270.67300652233104, 170.48943211194472, 159.65495564500807, 158.67446409299498, 151.78687718123265, 129.16128424906995, 130.13859141655064, 118.31665509418433, 115.38174634005361, 106.52404730388403, 106.51770923382756, 101.60529581760763, 100.60020216158735, 95.69968999871377, 92.73584013861812, 209.83360299764615, 88.80573858503901, 146.33254512118197, 82.89830607900208, 80.94104150854854, 77.00306242672876, 121.83696720653923, 128.65435230448884, 331.3431050121758, 72.08268729461477, 65.18628677105148, 795.196059580549, 69.99262534458636, 1066.9955862623917, 249.79058532873992, 3165.007386225177, 1922.8264313723525, 424.5634839341155, 256.0666410448355, 200.6175265142071, 619.6419880342269, 980.2693501913631, 494.5029412842436, 457.64190145783436, 864.2424246104068, 467.88802497770274, 353.47946428292016, 366.2352899241323, 1212.681948743929, 882.8572810476899, 610.0899772947835, 310.8105038609327, 468.2931202919054, 492.8592827537102, 851.9529212484046, 1064.3614339028456, 2632.753212871845, 1385.7738485314208, 815.6170272781826, 1037.5085143851506, 1042.9874015120608, 2148.8894801755564, 744.8366506740382, 746.7942260775832, 792.2114520311632, 1136.518806574276, 996.0286283955877, 1114.8830632456, 814.5739120669421, 869.6370558223766, 1011.982096578826, 798.7461317798754, 784.6493149130949, 923.8264658485401, 953.2591027248644, 695.2441704815805, 270.8072912486522, 176.70105999834152, 312.36662707531065, 151.18051491520131, 126.70458273514951, 120.82266248739754, 111.99150201519063, 315.4504867154014, 107.0885042781085, 100.23214149354713, 180.98907507658126, 99.24784299923537, 103.1286421951259, 108.92282627902166, 300.35856346490755, 77.68308101908117, 75.70878709944182, 72.78822977757261, 72.77834393879424, 70.82003188014453, 66.90380566737844, 66.90069220946886, 64.94363613570094, 62.954431710521256, 59.06385287822321, 54.15996989486653, 51.204515217530606, 49.25401062394222, 46.31972565328513, 46.317457242538325, 1605.7867202552363, 257.09597054065625, 298.977583575497, 189.10374662012921, 442.1392259823279, 203.7990047589218, 175.10676685270312, 127.20766584575128, 130.027517097437, 332.393769769478, 337.9727288845874, 177.34376253183487, 341.47901943845034, 630.6534926773683, 430.9285078731647, 237.2495721800723, 362.80752576569074, 247.256694746298, 278.22466573821407, 279.40396031536386, 231.26972000705578, 407.34290050363074, 633.5366069027447, 340.16572781223357, 918.8471759002086, 398.7857684181085, 427.6126827032361, 556.2469377645755, 797.5797428258002, 689.8529922331948, 419.42468175058565, 507.69324880903696, 715.6549841000306, 421.2525770177904, 848.0444008511557, 634.7075109127702, 928.3269225874097, 746.4184011658722, 444.58870568410646, 552.1305606673832, 939.7334013154093, 513.9586122279401, 585.3352529751043, 753.3400716119457, 588.4563171214987, 595.16638554442, 673.7122476943917, 670.7246338631945, 591.4292739326074, 503.8009023969148, 488.11997255769415, 472.15895910247076, 496.4321015401602, 485.6788199735225, 474.01764514304614, 469.38057654333016, 1435.0515466573124, 403.4651371551492, 324.6767854241412, 282.2593458913441, 203.38203652724295, 219.07001420871023, 152.094658462118, 181.4986404026029, 141.25844471186466, 114.6245009676835, 111.67311273504656, 94.91112214766257, 94.90266081441321, 2476.1023395449506, 86.03655374372937, 84.06607692423476, 73.21006879106417, 266.2886547865336, 70.21976061043772, 67.29080360393293, 66.31108368151371, 65.29619776569021, 63.345666351387024, 62.359556390573665, 60.39944349400124, 59.40159178213044, 59.39298404410197, 84.50114479258399, 48.560746498975206, 47.5700293235051, 591.2795812439306, 217.42894622982092, 224.93526513992614, 343.1854404674353, 838.1561803231771, 701.6355229978482, 176.45936204856352, 631.1394504254646, 93.64416801428912, 923.502170766243, 330.130878547896, 243.94991383919253, 507.69569433977614, 919.9329202500746, 105.94309355716028, 236.83350895918866, 196.9016924185779, 307.6461474652487, 294.0172237349576, 676.446803287114, 723.1236839512842, 498.7956513712452, 1376.9402184110597, 524.9835073372578, 855.0623647602364, 768.8735125665852, 683.3069948638521, 427.5738171985967, 444.75050777916584, 365.60133896308577, 487.2616796225067, 434.24607500972934, 635.8490221994045, 474.4497284278396, 571.4012148474478, 454.60685939628627, 534.1694430125747, 529.1490482428641, 382.9209895415901, 447.47414017363917, 392.93767405289674], \"Total\": [2496.0, 3324.0, 1435.0, 1651.0, 2021.0, 891.0, 1128.0, 1323.0, 5045.0, 3860.0, 1081.0, 751.0, 1229.0, 1342.0, 1642.0, 1161.0, 691.0, 608.0, 1063.0, 1426.0, 1148.0, 805.0, 668.0, 784.0, 944.0, 2044.0, 649.0, 1604.0, 1109.0, 1017.0, 485.55952797446236, 344.14466783663204, 275.90826315108256, 251.18486964869732, 503.3597782593375, 345.13039109549345, 168.11457035460865, 140.42443572022847, 137.45757150840126, 119.65655902913126, 94.9334963471747, 92.95562040090279, 160.20092906945214, 87.02205491641791, 389.62801289942104, 87.02195865293459, 87.0217550113227, 84.05509073260079, 80.0994887888716, 79.11043248062306, 80.09928016017608, 78.12147837142378, 74.16580384005174, 71.19908393182301, 71.19901353082753, 70.21002255508543, 68.23229087191864, 67.24336369134997, 67.24328148568591, 67.24326468303371, 586.3773109913371, 174.04057218432766, 218.53389271301802, 1161.805856760624, 622.9157662485411, 571.515627776296, 373.71318778548687, 94.92906780244184, 527.86491463137, 676.9359013121109, 201.70417337805574, 127.54541402655678, 705.4568655583215, 271.82115235606364, 683.0184650152808, 537.7157037528707, 160.1534884945144, 464.4669102029149, 514.9509771713685, 493.12782559286285, 383.4979261210596, 1485.2993961533527, 1181.6269781371727, 1056.6799428228405, 557.964402247005, 1642.0066937747615, 725.0216356645111, 389.3738265915518, 725.9873543432974, 1142.650594300324, 1848.6719891006098, 728.3326157070913, 3574.037406660509, 3520.8999852795305, 3493.3702064852387, 3132.3662863378327, 2255.6620219071197, 2927.740728223243, 2605.3634680590476, 2082.4836630112304, 991.4315645084346, 967.0834366180848, 1922.7085210666178, 1345.1776071838096, 2775.4513827143724, 3297.648879116826, 1739.2786237426637, 2469.5300391318747, 1567.5862775169264, 1501.4712162922024, 1716.1088521387655, 1601.43046057944, 1702.1075126974324, 330.6594577294045, 278.50331707828803, 271.61473536728323, 171.235056720317, 160.40993574551385, 159.4258002651708, 152.53708446019508, 129.9026479800919, 130.88675800320664, 119.07757428209436, 116.12517086795185, 107.26822653302479, 107.26822430342662, 102.3477038313399, 101.36360734299488, 96.443086310373, 93.4907644797636, 211.57949894211785, 89.55435412860523, 147.61915769155212, 83.64971912272468, 81.68149268350088, 77.74506926685123, 123.01602983137121, 129.90512908257696, 334.6016813226098, 72.82454306584742, 65.9358257422325, 805.0030556972822, 70.85658478423643, 1081.5475230129182, 254.8768599022654, 3324.7918122169176, 2021.7131825768192, 437.9538063875551, 263.7399931180393, 205.69314442679223, 652.5462593398165, 1063.2258368967516, 524.5369001846865, 486.2452572788504, 944.0401279380515, 505.9265747841392, 377.8478200558613, 395.6241381842695, 1426.6462235749764, 1017.9294672421697, 688.1227860672191, 333.6098056359964, 523.7531082175615, 561.2608629644524, 1053.3345014073159, 1364.6071672431087, 3860.2549684034716, 2044.8805648519742, 1167.8815517765686, 1672.107310731976, 1799.4147123947946, 5045.552699519204, 1273.851784644689, 1394.1747454218792, 1625.9741971669325, 3520.8999852795305, 2775.4513827143724, 3493.3702064852387, 1918.8143707641188, 2255.6620219071197, 3297.648879116826, 1860.438628312577, 1802.0106146037024, 3132.3662863378327, 3574.037406660509, 1497.5434415971567, 271.5512670512231, 177.44119952614494, 313.70702646159265, 151.95329964642423, 127.44524199635933, 121.56336454207693, 112.7405931925705, 317.63408777035266, 107.83904461301873, 100.97680848522425, 182.3451695547562, 99.99652915448664, 103.91799023853868, 109.80078911947692, 302.9331053495331, 78.42962360255466, 76.46906876550237, 73.52802627228917, 73.52809142081068, 71.56744705805077, 67.64616011459489, 67.64618174934532, 65.68553615449486, 63.7251395866225, 59.80364507393787, 54.90209205899873, 51.96125196826209, 50.000552282490986, 47.059577351759394, 47.05958991055991, 1651.0764073924422, 261.7823933381895, 304.9243539071541, 192.15758796466773, 453.96642118500455, 207.84364141973444, 178.4314983209682, 129.41152413267054, 132.35372101537556, 342.18709466185607, 351.0388057298115, 182.37599244294634, 355.93955008792085, 668.7218561700053, 455.99550516905765, 253.04693740753703, 400.16060226025087, 265.758848543031, 306.02518181184564, 308.95832014453146, 251.04123947795702, 475.8137327502592, 784.5732516194417, 390.46086735286383, 1229.0320024642945, 471.9474819708689, 514.2327636292645, 716.5331703957731, 1109.774341785167, 937.8299807404194, 544.7068538381046, 718.9407942527905, 1148.630930112952, 590.2134541343539, 1799.181917705731, 1241.5301662313573, 2469.5300391318747, 1699.5039916686583, 730.3675142707752, 1342.8598176104933, 5045.552699519204, 1135.9582375319612, 1702.1075126974324, 3574.037406660509, 1848.6719891006098, 2082.4836630112304, 3132.3662863378327, 3297.648879116826, 2775.4513827143724, 1922.7085210666178, 1735.890231021025, 1716.1088521387655, 3520.8999852795305, 2927.740728223243, 2044.8805648519742, 3493.3702064852387, 1435.7936973356877, 404.3089299715372, 325.419307404524, 283.0159926557336, 204.1261664059897, 219.90396638889757, 152.84779392221068, 182.43109842410294, 142.00043211085912, 115.37510004691981, 112.41673850445879, 95.65266597770317, 95.65263519929513, 2496.8209957543363, 86.7775541517325, 84.80531469536872, 73.95795523412595, 269.2072759768288, 70.99952858029857, 68.04120007407354, 67.05509408852527, 66.06896617628036, 64.09674199412578, 63.11059617196164, 61.13836344202396, 60.152207395082876, 60.15221719824134, 85.78883528090333, 49.30488190115477, 48.31876550291759, 608.4030016791367, 221.88661496243182, 230.7255255354759, 353.9574147057948, 891.478599057533, 751.3158013713205, 182.41999969889704, 691.1328210608428, 96.64449658033696, 1128.5476144847785, 373.6767519921866, 279.8494016369545, 649.8541694403293, 1323.2229670247248, 111.44404230634393, 292.56210161766444, 238.68620825155887, 425.2020202846146, 422.03364545283415, 1342.8598176104933, 1604.66101983969, 968.0444747805373, 5045.552699519204, 1193.2592717368275, 3297.648879116826, 2927.740728223243, 2605.3634680590476, 1054.489033334871, 1169.9073314251634, 783.584921276437, 1642.0066937747615, 1241.1693796128195, 3493.3702064852387, 1625.9741971669325, 3520.8999852795305, 1702.1075126974324, 3574.037406660509, 3860.2549684034716, 967.274261278528, 2775.4513827143724, 1404.3092193565267], \"Category\": [\"Default\", \"Default\", \"Default\", \"Default\", \"Default\", \"Default\", \"Default\", \"Default\", \"Default\", \"Default\", \"Default\", \"Default\", \"Default\", \"Default\", \"Default\", \"Default\", \"Default\", \"Default\", \"Default\", \"Default\", \"Default\", \"Default\", \"Default\", \"Default\", \"Default\", \"Default\", \"Default\", \"Default\", \"Default\", \"Default\", \"Topic1\", \"Topic1\", \"Topic1\", \"Topic1\", \"Topic1\", \"Topic1\", \"Topic1\", \"Topic1\", \"Topic1\", \"Topic1\", \"Topic1\", \"Topic1\", \"Topic1\", \"Topic1\", \"Topic1\", \"Topic1\", \"Topic1\", \"Topic1\", \"Topic1\", \"Topic1\", \"Topic1\", \"Topic1\", \"Topic1\", \"Topic1\", \"Topic1\", \"Topic1\", \"Topic1\", \"Topic1\", \"Topic1\", \"Topic1\", \"Topic1\", \"Topic1\", \"Topic1\", \"Topic1\", \"Topic1\", \"Topic1\", \"Topic1\", \"Topic1\", \"Topic1\", \"Topic1\", \"Topic1\", \"Topic1\", \"Topic1\", \"Topic1\", \"Topic1\", \"Topic1\", \"Topic1\", \"Topic1\", \"Topic1\", \"Topic1\", \"Topic1\", \"Topic1\", \"Topic1\", \"Topic1\", \"Topic1\", \"Topic1\", \"Topic1\", \"Topic1\", \"Topic1\", \"Topic1\", \"Topic1\", \"Topic1\", \"Topic1\", \"Topic1\", \"Topic1\", \"Topic1\", \"Topic1\", \"Topic1\", \"Topic1\", \"Topic1\", \"Topic1\", \"Topic1\", \"Topic1\", \"Topic1\", \"Topic1\", \"Topic1\", \"Topic1\", \"Topic1\", \"Topic1\", \"Topic1\", \"Topic1\", \"Topic1\", \"Topic1\", \"Topic2\", \"Topic2\", \"Topic2\", \"Topic2\", \"Topic2\", \"Topic2\", \"Topic2\", \"Topic2\", \"Topic2\", \"Topic2\", \"Topic2\", \"Topic2\", \"Topic2\", \"Topic2\", \"Topic2\", \"Topic2\", \"Topic2\", \"Topic2\", \"Topic2\", \"Topic2\", \"Topic2\", \"Topic2\", \"Topic2\", \"Topic2\", \"Topic2\", \"Topic2\", \"Topic2\", \"Topic2\", \"Topic2\", \"Topic2\", \"Topic2\", \"Topic2\", \"Topic2\", \"Topic2\", \"Topic2\", \"Topic2\", \"Topic2\", \"Topic2\", \"Topic2\", \"Topic2\", \"Topic2\", \"Topic2\", \"Topic2\", \"Topic2\", \"Topic2\", \"Topic2\", \"Topic2\", \"Topic2\", \"Topic2\", \"Topic2\", \"Topic2\", \"Topic2\", \"Topic2\", \"Topic2\", \"Topic2\", \"Topic2\", \"Topic2\", \"Topic2\", \"Topic2\", \"Topic2\", \"Topic2\", \"Topic2\", \"Topic2\", \"Topic2\", \"Topic2\", \"Topic2\", \"Topic2\", \"Topic2\", \"Topic2\", \"Topic2\", \"Topic2\", \"Topic2\", \"Topic2\", \"Topic3\", \"Topic3\", \"Topic3\", \"Topic3\", \"Topic3\", \"Topic3\", \"Topic3\", \"Topic3\", \"Topic3\", \"Topic3\", \"Topic3\", \"Topic3\", \"Topic3\", \"Topic3\", \"Topic3\", \"Topic3\", \"Topic3\", \"Topic3\", \"Topic3\", \"Topic3\", \"Topic3\", \"Topic3\", \"Topic3\", \"Topic3\", \"Topic3\", \"Topic3\", \"Topic3\", \"Topic3\", \"Topic3\", \"Topic3\", \"Topic3\", \"Topic3\", \"Topic3\", \"Topic3\", \"Topic3\", \"Topic3\", \"Topic3\", \"Topic3\", \"Topic3\", \"Topic3\", \"Topic3\", \"Topic3\", \"Topic3\", \"Topic3\", \"Topic3\", \"Topic3\", \"Topic3\", \"Topic3\", \"Topic3\", \"Topic3\", \"Topic3\", \"Topic3\", \"Topic3\", \"Topic3\", \"Topic3\", \"Topic3\", \"Topic3\", \"Topic3\", \"Topic3\", \"Topic3\", \"Topic3\", \"Topic3\", \"Topic3\", \"Topic3\", \"Topic3\", \"Topic3\", \"Topic3\", \"Topic3\", \"Topic3\", \"Topic3\", \"Topic3\", \"Topic3\", \"Topic3\", \"Topic3\", \"Topic3\", \"Topic3\", \"Topic3\", \"Topic3\", \"Topic3\", \"Topic3\", \"Topic3\", \"Topic3\", \"Topic3\", \"Topic3\", \"Topic3\", \"Topic3\", \"Topic4\", \"Topic4\", \"Topic4\", \"Topic4\", \"Topic4\", \"Topic4\", \"Topic4\", \"Topic4\", \"Topic4\", \"Topic4\", \"Topic4\", \"Topic4\", \"Topic4\", \"Topic4\", \"Topic4\", \"Topic4\", \"Topic4\", \"Topic4\", \"Topic4\", \"Topic4\", \"Topic4\", \"Topic4\", \"Topic4\", \"Topic4\", \"Topic4\", \"Topic4\", \"Topic4\", \"Topic4\", \"Topic4\", \"Topic4\", \"Topic4\", \"Topic4\", \"Topic4\", \"Topic4\", \"Topic4\", \"Topic4\", \"Topic4\", \"Topic4\", \"Topic4\", \"Topic4\", \"Topic4\", \"Topic4\", \"Topic4\", \"Topic4\", \"Topic4\", \"Topic4\", \"Topic4\", \"Topic4\", \"Topic4\", \"Topic4\", \"Topic4\", \"Topic4\", \"Topic4\", \"Topic4\", \"Topic4\", \"Topic4\", \"Topic4\", \"Topic4\", \"Topic4\", \"Topic4\", \"Topic4\", \"Topic4\", \"Topic4\", \"Topic4\", \"Topic4\", \"Topic4\", \"Topic4\", \"Topic4\", \"Topic4\", \"Topic4\", \"Topic4\"], \"logprob\": [30.0, 29.0, 28.0, 27.0, 26.0, 25.0, 24.0, 23.0, 22.0, 21.0, 20.0, 19.0, 18.0, 17.0, 16.0, 15.0, 14.0, 13.0, 12.0, 11.0, 10.0, 9.0, 8.0, 7.0, 6.0, 5.0, 4.0, 3.0, 2.0, 1.0, -6.4337, -6.778, -6.9996, -7.0937, -6.3992, -6.7766, -7.4967, -7.6775, -7.6991, -7.8387, -8.0716, -8.0928, -7.549, -8.1593, -6.6602, -8.1595, -8.1597, -8.1945, -8.243, -8.2557, -8.2433, -8.2685, -8.3209, -8.3619, -8.3621, -8.3764, -8.405, -8.4197, -8.4199, -8.42, -6.2569, -7.4691, -7.2492, -5.5964, -6.2228, -6.3096, -6.7262, -8.0799, -6.4219, -6.1849, -7.3489, -7.795, -6.1676, -7.0764, -6.2018, -6.4335, -7.5815, -6.5867, -6.4931, -6.5374, -6.7928, -5.5954, -5.8062, -5.9161, -6.4866, -5.5981, -6.3289, -6.8264, -6.3432, -6.0007, -5.7934, -6.4138, -5.4215, -5.4341, -5.4676, -5.5391, -5.7639, -5.6357, -5.8083, -5.9406, -6.2587, -6.2975, -6.09, -6.1983, -6.0095, -5.9837, -6.1509, -6.0801, -6.179, -6.1924, -6.1745, -6.217, -6.2273, -6.7049, -6.877, -6.9022, -7.3645, -7.4301, -7.4363, -7.4807, -7.6421, -7.6346, -7.7298, -7.7549, -7.8348, -7.8348, -7.8821, -7.892, -7.9419, -7.9734, -7.1568, -8.0167, -7.5173, -8.0855, -8.1094, -8.1593, -7.7005, -7.646, -6.7, -8.2253, -8.3259, -5.8246, -8.2548, -5.5306, -6.9825, -4.4432, -4.9416, -6.4521, -6.9577, -7.2018, -6.074, -5.6153, -6.2996, -6.3771, -5.7413, -6.3549, -6.6353, -6.5999, -5.4026, -5.72, -6.0895, -6.764, -6.3541, -6.3029, -5.7556, -5.533, -4.6274, -5.2691, -5.7992, -5.5586, -5.5533, -4.8304, -5.89, -5.8874, -5.8283, -5.4674, -5.5994, -5.4866, -5.8005, -5.7351, -5.5835, -5.8201, -5.8379, -5.6746, -5.6433, -5.9589, -6.6261, -7.053, -6.4833, -7.209, -7.3856, -7.4332, -7.5091, -6.4735, -7.5538, -7.62, -7.0291, -7.6299, -7.5915, -7.5369, -6.5225, -7.8749, -7.9006, -7.9399, -7.9401, -7.9673, -8.0242, -8.0243, -8.054, -8.0851, -8.1489, -8.2355, -8.2917, -8.3305, -8.3919, -8.392, -4.8461, -6.678, -6.5271, -6.9852, -6.1359, -6.9104, -7.0621, -7.3817, -7.3597, -6.4212, -6.4045, -7.0494, -6.3942, -5.7807, -6.1615, -6.7584, -6.3336, -6.7171, -6.5991, -6.5948, -6.7839, -6.2178, -5.7762, -6.3981, -5.4044, -6.2391, -6.1693, -5.9063, -5.5459, -5.691, -6.1886, -5.9976, -5.6543, -6.1843, -5.4846, -5.7743, -5.3941, -5.6122, -6.1303, -5.9137, -5.3819, -5.9853, -5.8553, -5.603, -5.85, -5.8386, -5.7147, -5.7191, -5.8449, -6.0053, -6.0369, -6.0702, -6.02, -6.0419, -6.0662, -6.0761, -4.6446, -5.9134, -6.1307, -6.2707, -6.5984, -6.5241, -6.889, -6.7123, -6.9629, -7.1719, -7.198, -7.3606, -7.3607, -4.0991, -7.4588, -7.4819, -7.6202, -6.329, -7.6619, -7.7045, -7.7192, -7.7346, -7.7649, -7.7806, -7.8126, -7.8292, -7.8294, -7.4768, -8.0307, -8.0513, -5.5312, -6.5317, -6.4977, -6.0753, -5.1823, -5.3601, -6.7404, -5.466, -7.374, -5.0854, -6.114, -6.4166, -5.6836, -5.0892, -7.2506, -6.4462, -6.6308, -6.1846, -6.2299, -5.3967, -5.33, -5.7013, -4.6859, -5.6502, -5.1624, -5.2686, -5.3866, -5.8554, -5.816, -6.012, -5.7247, -5.8399, -5.4586, -5.7514, -5.5654, -5.7941, -5.6328, -5.6423, -5.9657, -5.8099, -5.9399], \"loglift\": [30.0, 29.0, 28.0, 27.0, 26.0, 25.0, 24.0, 23.0, 22.0, 21.0, 20.0, 19.0, 18.0, 17.0, 16.0, 15.0, 14.0, 13.0, 12.0, 11.0, 10.0, 9.0, 8.0, 7.0, 6.0, 5.0, 4.0, 3.0, 2.0, 1.0, 1.1179, 1.1178, 1.1173, 1.117, 1.1164, 1.1163, 1.1156, 1.1147, 1.1145, 1.1135, 1.1122, 1.112, 1.1115, 1.1115, 1.1115, 1.1113, 1.1111, 1.1109, 1.1107, 1.1103, 1.1103, 1.1102, 1.1097, 1.1095, 1.1093, 1.109, 1.109, 1.1089, 1.1087, 1.1086, 1.106, 1.1085, 1.1008, 1.0828, 1.0797, 1.079, 1.0872, 1.1039, 1.0462, 1.0345, 1.0812, 1.0934, 1.0104, 1.0554, 1.0086, 1.0161, 1.0793, 1.0093, 0.9997, 0.9987, 0.9947, 0.8382, 0.8561, 0.8579, 0.926, 0.7351, 0.8218, 0.9459, 0.8061, 0.6951, 0.4213, 0.7324, 0.1339, 0.1363, 0.1107, 0.1483, 0.2518, 0.1192, 0.0633, 0.155, 0.5791, 0.5651, 0.0854, 0.3344, -0.2012, -0.3478, 0.1247, -0.155, 0.2006, 0.2303, 0.1146, 0.1413, 0.07, 1.2309, 1.2304, 1.2303, 1.2294, 1.229, 1.229, 1.2288, 1.228, 1.228, 1.2273, 1.2273, 1.2268, 1.2267, 1.2265, 1.2262, 1.226, 1.2256, 1.2255, 1.2253, 1.225, 1.2247, 1.2246, 1.2242, 1.2241, 1.2241, 1.224, 1.2235, 1.2223, 1.2215, 1.2215, 1.2202, 1.2136, 1.1845, 1.1836, 1.2027, 1.2042, 1.2088, 1.182, 1.1525, 1.1748, 1.1731, 1.1454, 1.1556, 1.1671, 1.1566, 1.0713, 1.0914, 1.1134, 1.163, 1.1218, 1.1038, 1.0216, 0.9853, 0.851, 0.8447, 0.8747, 0.7565, 0.6884, 0.3802, 0.6971, 0.6095, 0.5147, 0.103, 0.209, 0.0916, 0.3769, 0.2806, 0.0524, 0.3882, 0.4023, 0.0127, -0.0878, 0.4664, 1.5067, 1.5052, 1.5051, 1.5043, 1.5036, 1.5033, 1.5027, 1.5025, 1.5024, 1.502, 1.5019, 1.5019, 1.5018, 1.5014, 1.5009, 1.4998, 1.4994, 1.4993, 1.4992, 1.4989, 1.4984, 1.4983, 1.498, 1.4972, 1.497, 1.4958, 1.4947, 1.4944, 1.4936, 1.4935, 1.4816, 1.4913, 1.4897, 1.4934, 1.483, 1.4898, 1.4906, 1.4922, 1.4917, 1.4804, 1.4715, 1.4814, 1.4679, 1.4508, 1.4529, 1.4449, 1.4114, 1.4372, 1.4142, 1.4089, 1.4274, 1.354, 1.2956, 1.3715, 1.2185, 1.341, 1.3249, 1.2562, 1.1791, 1.2023, 1.248, 1.1615, 1.0363, 1.1722, 0.7573, 0.8385, 0.531, 0.6866, 1.013, 0.6206, -0.1713, 0.7163, 0.442, -0.0475, 0.3647, 0.2569, -0.0273, -0.0832, -0.0366, 0.1701, 0.2407, 0.2189, -0.4496, -0.287, 0.0476, -0.4978, 1.8228, 1.8213, 1.8211, 1.8207, 1.8197, 1.8196, 1.8184, 1.8182, 1.8181, 1.8168, 1.8167, 1.8156, 1.8155, 1.815, 1.8148, 1.8146, 1.8132, 1.8125, 1.8123, 1.8123, 1.8122, 1.8116, 1.8116, 1.8114, 1.8112, 1.8108, 1.8107, 1.8082, 1.8082, 1.8077, 1.7948, 1.8031, 1.7979, 1.7925, 1.7617, 1.755, 1.7901, 1.7326, 1.7918, 1.6229, 1.6995, 1.6861, 1.5765, 1.4598, 1.7727, 1.612, 1.6309, 1.4998, 1.4619, 1.1377, 1.0263, 1.1603, 0.5247, 1.0023, 0.4736, 0.4863, 0.485, 0.9207, 0.8562, 1.061, 0.6085, 0.7732, 0.1197, 0.5917, 0.005, 0.5032, -0.0774, -0.1639, 0.8967, -0.0016, 0.5497]}, \"token.table\": {\"Topic\": [1, 2, 3, 4, 1, 2, 3, 4, 1, 2, 3, 4, 2, 4, 1, 2, 3, 4, 1, 2, 3, 4, 1, 3, 4, 1, 4, 1, 2, 3, 4, 1, 2, 4, 4, 1, 2, 3, 4, 1, 2, 3, 4, 1, 2, 3, 4, 2, 1, 2, 3, 4, 1, 1, 1, 2, 3, 4, 2, 3, 4, 3, 4, 4, 1, 2, 3, 4, 3, 1, 2, 1, 2, 3, 4, 1, 2, 3, 4, 1, 2, 4, 3, 1, 2, 1, 2, 3, 4, 1, 2, 3, 4, 2, 1, 2, 3, 4, 2, 1, 2, 3, 4, 2, 4, 4, 1, 2, 3, 4, 4, 1, 2, 4, 1, 2, 3, 4, 1, 2, 3, 4, 1, 2, 3, 4, 1, 2, 3, 4, 1, 2, 3, 4, 3, 2, 1, 2, 3, 4, 1, 2, 3, 4, 1, 2, 2, 3, 1, 1, 2, 3, 2, 1, 2, 3, 4, 1, 2, 3, 4, 3, 1, 2, 3, 4, 1, 2, 3, 4, 1, 2, 3, 4, 1, 2, 3, 4, 1, 2, 3, 4, 1, 4, 4, 1, 1, 2, 3, 4, 3, 1, 2, 3, 4, 1, 2, 4, 1, 2, 4, 1, 2, 1, 2, 3, 4, 2, 3, 1, 2, 4, 1, 4, 3, 1, 3, 1, 1, 3, 4, 1, 2, 3, 4, 1, 4, 1, 3, 1, 1, 2, 3, 4, 1, 2, 3, 4, 4, 2, 4, 1, 2, 3, 4, 1, 2, 3, 4, 4, 1, 2, 4, 4, 3, 4, 3, 1, 2, 3, 4, 1, 2, 3, 1, 2, 3, 4, 2, 2, 3, 4, 2, 1, 2, 3, 4, 1, 2, 3, 4, 2, 3, 1, 2, 3, 1, 2, 3, 1, 2, 3, 4, 4, 1, 2, 3, 4, 1, 2, 3, 4, 2, 3, 4, 1, 2, 3, 4, 3, 3, 3, 1, 2, 3, 4, 1, 3, 4, 2, 3, 1, 2, 3, 4, 1, 2, 4, 2, 4, 1, 2, 3, 4, 1, 4, 4, 1, 2, 3, 4, 3, 1, 2, 3, 4, 1, 1, 1, 2, 3, 1, 2, 1, 1, 3, 1, 2, 3, 4, 2, 2, 4, 2, 3, 1, 2, 3, 4, 3, 1, 2, 3, 4, 1, 1, 2, 1, 2, 3, 4, 1, 2, 3, 4, 1, 2, 3, 4, 2, 1, 2, 3, 4, 1, 2, 3, 4, 1, 2, 3, 4, 4, 1, 2, 3, 4, 1, 2, 3, 4, 3, 4, 4, 4, 4, 3, 1, 1, 3, 4, 2, 3, 1, 2, 3, 4, 2, 3, 3, 1, 2, 3, 4, 2, 4, 1, 2, 3, 4, 3, 4, 1, 2, 3, 4, 1, 2, 3, 4, 1, 2, 3, 4, 4, 3, 1, 3, 3, 4, 4, 2, 3, 2, 3, 4, 1, 2, 3, 4, 1, 2, 4, 1, 2, 3, 4, 1, 2, 3, 4, 1, 2, 4, 1, 1, 2, 4, 1, 2, 3, 4, 1, 2, 3, 4, 1, 4, 1, 2, 3, 4, 1, 2, 3, 4, 1, 2, 3, 1, 3, 1, 1, 2, 3, 4, 1, 2, 1, 2, 1, 2, 3, 4, 1, 1, 2, 3, 4, 1, 2, 3, 4, 1, 2, 3, 4, 1, 4, 1, 2, 4, 2, 1, 2, 3, 4, 1, 2, 3, 1, 4, 1, 1, 2, 3, 4, 1, 2, 3, 4, 1, 2, 3, 4, 4, 3, 3, 1, 3, 4, 3, 1, 2, 3, 4, 1, 2, 3, 4, 1, 2, 3, 4, 1, 2, 3, 4, 1, 2, 3, 4, 1, 2, 3, 4, 1, 2, 3, 3, 3, 2, 3, 4, 1, 3, 4, 3, 1, 2, 3, 4, 1, 2, 3, 1, 2, 3, 4, 1, 2, 3, 4, 1, 2, 3, 4, 1, 2, 3, 4, 1, 2, 3, 4, 1, 3, 1, 3, 1, 1, 2, 3, 4, 2, 2, 1, 2, 3, 4, 1, 2, 3, 4, 2, 4, 1, 2, 3, 4, 1, 2, 3, 4, 4, 1, 2, 3, 2, 1, 2, 4, 4, 3, 1, 2, 3, 4, 1, 2, 3, 4, 1, 2, 3, 4, 2, 3, 2, 1, 2, 3, 4, 1, 2, 3, 4, 1, 2, 3, 4, 2], \"Freq\": [0.3042293313987807, 0.42946861446576995, 0.12093922184580505, 0.14566457386761408, 0.046608188251598674, 0.9152153329404831, 0.0010592770057181516, 0.03707469520013531, 0.003992994682827547, 0.05457092733197647, 0.007985989365655094, 0.9343607557816459, 0.027409275344002927, 0.964806492108903, 0.21166409308158346, 0.05409193489862688, 0.01175911628231019, 0.7243615629903079, 0.23955331907159214, 0.1717447229538793, 0.4713253238345943, 0.11727552279374928, 0.003418077715707869, 0.18457619664822494, 0.810084418622765, 0.02069440134480368, 0.972636863205773, 0.1292299213824066, 0.1443445320704074, 0.031740682444801625, 0.6952720916480356, 0.3014004283778106, 0.6987009930576519, 0.9931767089706073, 0.9944533453806853, 0.04203325508155818, 0.10087981219573965, 0.855376740909709, 0.0021016627540779093, 0.021930040727687783, 0.02631604887322534, 0.9451847553633436, 0.006579012218306335, 0.3729675569471786, 0.2666452226336543, 0.2106860993107468, 0.14941085927216308, 0.9954057224076481, 0.31484443128823675, 0.2750147140770743, 0.0037933064010630935, 0.405883784913751, 0.9882552196980459, 0.9966711800348278, 0.36594415279504633, 0.19987077135143455, 0.27504082821538517, 0.1590808180144071, 0.030102478407994234, 0.929414020846822, 0.04139090781099207, 0.9702294597874219, 0.026301401018333725, 0.996410122812496, 0.006978044013284518, 0.036285828869079495, 0.7759584942772384, 0.18142914434539745, 0.9904476242023583, 0.9933701739697062, 0.9973291633821968, 0.11495271866950647, 0.42591964210477484, 0.18630268198161395, 0.27291360966881106, 0.6802651927271752, 0.01827032746805305, 0.004263076409212379, 0.29658831589806117, 0.9842811136711207, 0.008010185765823243, 0.9916609978089175, 0.9886208238800827, 0.9967247419391105, 0.002897455645171833, 0.6782615378557599, 0.0810069448046353, 0.1647598877382413, 0.07551494854669392, 0.13703577446232584, 0.7797115723417898, 0.06302180002010707, 0.019785913959801057, 0.9974994989879957, 0.020970879257735657, 0.9436895665981045, 0.026690209964390834, 0.007625774275540238, 0.9981927788739889, 0.7420468211364502, 0.04137807552805484, 0.06068784410781377, 0.1558574178223399, 0.9932249983364634, 0.9824023818609553, 0.9967488648177356, 0.12796603104935425, 0.10432013400762576, 0.7065950410116517, 0.061201145284473776, 0.9929547248836673, 0.960001387669806, 0.03210706982173264, 0.00802676745543316, 0.02589346030965465, 0.058260285696722966, 0.9030344282992059, 0.009710047616120494, 0.01541964267252995, 0.008811224384302829, 0.9736402944654625, 0.004405612192151414, 0.7693909641439128, 0.016088125941508633, 0.11924140403706399, 0.09463603495005078, 0.0064722075091991965, 0.9865493446165061, 0.005547606436456454, 0.0018492021454854846, 0.003726693928386946, 0.9875738910225407, 0.004968925237849261, 0.003726693928386946, 0.9945221769170819, 0.9930513504218156, 0.046914800170358234, 0.03797864775695667, 0.41106301101647214, 0.5034032526216217, 0.38079530422502217, 0.21272675885458361, 0.2857165271297455, 0.1205291568228002, 0.9618045911047376, 0.03470428936975857, 0.0031876876054685076, 0.9945585329061744, 0.9862760294727015, 0.01137483915326153, 0.9706529410783172, 0.015166452204348707, 0.9903107064597451, 0.3696934989152926, 0.315073153041338, 0.18743402899904413, 0.12763912404229386, 0.18388975699674207, 0.48709260047297565, 0.03690095458128603, 0.29151754119215967, 0.9911662048464229, 0.03896895239999793, 0.011860115947825458, 0.7133012591477882, 0.23550801667824836, 0.03656526992170573, 0.009576618312827691, 0.6233507919986024, 0.3308286326249566, 0.020194348432541243, 0.1230019404527512, 0.7692210902940709, 0.08628494330267622, 0.019069918462994422, 0.04025871675521044, 0.8454330518594193, 0.09746847214419371, 0.11694931505241107, 0.0692463049652434, 0.032314942317113585, 0.7817138427187477, 0.044865565682333255, 0.951149992465465, 0.9842652657062513, 0.9897196060143394, 0.7300402642404417, 0.10330758456232665, 0.038568164903268615, 0.12672397039645403, 0.9938659019512739, 0.04667147194320503, 0.027225025300202932, 0.8323079163204897, 0.09528758855071026, 0.9631557574688284, 0.02840405719076974, 0.007746561052028111, 0.9792531370913161, 0.013727847716233404, 0.004575949238744468, 0.9796788502499946, 0.010534181185483812, 0.24244275989980987, 0.019330984178057932, 0.5114656230444494, 0.22713906409218068, 0.019245236335722733, 0.9815070531218595, 0.02819391023970541, 0.9511734980869037, 0.02077446017662504, 0.018027225304587436, 0.9779769727738684, 0.9774840810858375, 0.9615775556788752, 0.03746406061086526, 0.9882586255449599, 0.04742203214526072, 0.9365851348688994, 0.01185550803631518, 0.018389500864108, 0.9501242113122468, 0.004597375216027, 0.02605179289081967, 0.9906885214119407, 0.0076996517208181925, 0.9988476634846474, 0.0020594797185250462, 0.9827656720358398, 0.8874631183541123, 0.07961922943658338, 0.011651594551695128, 0.023303189103390257, 0.09627386096357636, 0.8674471350085502, 0.03143636276361677, 0.005894318018178144, 0.980844975432177, 0.9974444491632726, 0.987047299629994, 0.18249457859277993, 0.27693233254988286, 0.07401878012854012, 0.4670840263283738, 0.1255824045571817, 0.16349407385746295, 0.014216875987605473, 0.6966269233926682, 0.9931770285477723, 0.007697925455771101, 0.993032383794472, 0.9910396857881828, 0.9934028632644113, 0.011656528459975501, 0.9908049190979176, 0.9904479409695942, 0.14147020172357927, 0.11623984727606196, 0.7190651017542438, 0.02342818627269466, 0.24490818741617315, 0.007322836168589895, 0.7477429376593459, 0.2547644147424207, 0.077099757093101, 0.22794710792742906, 0.4399714399334568, 0.9927873605792402, 0.004334154175959356, 0.017336616703837425, 0.9751846895908552, 0.9858070217260798, 0.2871564901718858, 0.4247414509801941, 0.18031968348361616, 0.10787911699742353, 0.06552949952345997, 0.6777901965635487, 0.23179837891134347, 0.024940331908182525, 0.9966027197648432, 0.9815006003156117, 0.9882753075405517, 0.005745786671747393, 0.005745786671747393, 0.9857134462157576, 0.005116159755445109, 0.008526932925741849, 0.27469316550549855, 0.4356245149935684, 0.13151975802990537, 0.1576017353607305, 0.9808451352829811, 0.017492976471100565, 0.05497792605203035, 0.9071357798585007, 0.01999197310982922, 0.007939704401514022, 0.9342385512448166, 0.04763822640908413, 0.007939704401514022, 0.9808658192660743, 0.011770389831192891, 0.007846926554128594, 0.6537431509913215, 0.051634331872139186, 0.04375790836621965, 0.2511703940221008, 0.9965064055010225, 0.986561938274092, 0.9928178277090269, 0.36751888226557267, 0.20391149880348222, 0.16599830555861367, 0.2626598703180533, 0.13825683621074691, 0.03351680877836288, 0.8253514161671861, 0.056824821335493304, 0.9435911121762178, 0.02459729806190673, 0.02459729806190673, 0.03761939703585735, 0.912993828062538, 0.0037146098535838683, 0.007429219707167737, 0.988086221053309, 0.027942005468548897, 0.9713956018771999, 0.014047329100587296, 0.016856794920704757, 0.9580278446600536, 0.011237863280469837, 0.9815094959101531, 0.9905039595895433, 0.9828892708115134, 0.18863758061406302, 0.0025491564947846355, 0.8080826088467294, 0.0012745782473923177, 0.9927068910351313, 0.008992541434088773, 0.9322267953338695, 0.026977624302266322, 0.03297265192499217, 0.9952828781034684, 0.9815109410750039, 0.02193271135317518, 0.005483177838293795, 0.9705224773780017, 0.008129021895526844, 0.991740671254275, 0.9831587168597394, 0.983159688998944, 0.9928187073819474, 0.1343527106059487, 0.09703251321540739, 0.7357410342706714, 0.03412132332849491, 0.9879110066221115, 0.9892359138532325, 0.00896588441558821, 0.005484104692445452, 0.9926229493326267, 0.8861799665727985, 0.026362333101707963, 0.05475253798047039, 0.03244594843287134, 0.9774843419472449, 0.35015414452608984, 0.03936296591148996, 0.34369156803315865, 0.26731566402579005, 0.9882563129036154, 0.9966738760073557, 0.991656706297698, 0.8956504561719136, 0.03014208265963171, 0.06028416531926342, 0.015071041329815855, 0.4198323998908885, 0.3856960801531922, 0.11171886459609705, 0.08290249079154821, 0.8813606983973697, 0.010430304123045795, 0.031290912369137384, 0.07561970489208202, 0.9904165077749965, 0.4557019063700765, 0.30256227714946354, 0.10035849487758619, 0.14124528908697315, 0.2464512680026827, 0.13144067626809744, 0.6092823014510766, 0.01369173711126015, 0.2669835993579203, 0.3588605465053828, 0.21293833633000123, 0.1610548838231989, 0.9987114857816265, 0.9606036533700717, 0.0017497334305465787, 0.006998933722186315, 0.033244935180384995, 0.32564067129376884, 0.5358008402124347, 0.11476323217401545, 0.023669916635890687, 0.12506726759203549, 0.8718975226416188, 0.9967625499351959, 0.9994472065609701, 0.9958892674664225, 0.9903264076189614, 0.9969774796099299, 0.013118007626304435, 0.9805710700662564, 0.0032795019065761087, 0.9980056287095705, 0.9953656716873617, 0.1765992821108423, 0.3531985642216846, 0.19084115970042637, 0.27985289463532675, 0.9974994782547075, 0.9979699337911059, 0.9799891753827416, 0.23046722918649323, 0.3068853104430673, 0.2034783036633381, 0.25927563283480487, 0.9977367377861441, 0.9938163952655643, 0.15405495925643675, 0.19983129000692082, 0.45248142318747714, 0.19366909163666335, 0.8707658780380114, 0.1280538055938252, 0.3783082474002196, 0.29498465873232316, 0.21517279219219243, 0.11141736569002249, 0.8244253542833775, 0.005376687093152462, 0.1487550095772181, 0.02150674837260985, 0.10063279979757414, 0.8088598625238979, 0.05981006025704878, 0.03132907918226365, 0.9962929141157901, 0.9920711569103409, 0.9722027322298035, 0.02352103384426944, 0.02825198621227325, 0.9690431270809725, 0.9944829885074614, 0.992534725954002, 0.0047263558378762, 0.00520406199199311, 0.9835677164866978, 0.01040812398398622, 0.37405209051839655, 0.32292879796462937, 0.1408730728148251, 0.1621744447122281, 0.05958029299443408, 0.8502458282617475, 0.09042185642684701, 0.0012113309784122079, 0.012718975273328182, 0.9726987756650028, 0.013324640762534286, 0.2200312129753012, 0.15701757921242152, 0.1084660909033175, 0.515472184388147, 0.028792054607066995, 0.941911500716906, 0.028792054607066995, 0.9856444297419491, 0.009723221479128175, 0.9771837586523815, 0.014584832218692261, 0.12382601768859111, 0.6820792982720929, 0.05699105416629716, 0.13703758024532364, 0.0761832502457009, 0.9217232745776158, 0.0009405339536506284, 0.0009405339536506284, 0.9972985957200639, 0.0019866505890837926, 0.04743771368452022, 0.9250354168481443, 0.015812571228173405, 0.009882857017608378, 0.014243439524029186, 0.005697375809611675, 0.9628565118243729, 0.014243439524029186, 0.9945129708353772, 0.015111022075213584, 0.9822164348888829, 0.015279866414975089, 0.9817314171621495, 0.9819397699216663, 0.3759139187237518, 0.1529882227364106, 0.23479008877098118, 0.23666341394734539, 0.006774188497196848, 0.9890315205907398, 0.9901668390705756, 0.9964789909149259, 0.039212459343878424, 0.04901557417984803, 0.9084219747998501, 0.003267704945323202, 0.9967080973193426, 0.49711360664208426, 0.11034948395537017, 0.31806615963606694, 0.07410725147983192, 0.2178486133851253, 0.5796329177568512, 0.020562241569514375, 0.18172575657381623, 0.410930288443122, 0.335670770462453, 0.013986282102602209, 0.23909882261115203, 0.9815106958164947, 0.9813805378826759, 0.06491608253306395, 0.8935507831021745, 0.040095227446892444, 0.9964128413290926, 0.11759237879406555, 0.8783794355374897, 0.0017817027090009931, 0.0017817027090009931, 0.035387122899663, 0.9251204986626183, 0.03791477453535321, 0.9925036073359381, 0.006242161052427283, 0.9874476284136402, 0.7540567261392486, 0.011445503878899308, 0.22352395810556297, 0.010772238944846408, 0.928267794312845, 0.01704981663023593, 0.032205209190445644, 0.02273308884031457, 0.19175465001742442, 0.27957505695817764, 0.17805788930189412, 0.349670244149421, 0.9859220391982162, 0.9922194728631949, 0.9895633621246168, 0.0033010588223633423, 0.9903176467090027, 0.006602117644726685, 0.9975135451782159, 0.5819867156298222, 0.292506321547051, 0.11397660115454056, 0.011095067369026072, 0.034789426772452316, 0.056198304786269124, 0.02676109751727101, 0.8831162180699433, 0.8398099144527731, 0.017977582266573124, 0.0308187124569825, 0.10786549359943874, 0.8945585387451135, 0.06881219528808566, 0.007320446307243155, 0.027817695967523988, 0.3477441866009409, 0.2467985783492329, 0.14355002846440607, 0.262151522570025, 0.2224768942388002, 0.216245048461803, 0.11030367025285052, 0.4505624496768979, 0.9173689839707277, 0.0014772447406936034, 0.07977121599745458, 0.993430997907688, 0.9835690767843723, 0.016813174961987403, 0.9807685394492652, 0.9921554031277275, 0.9859635139664412, 0.9917071628273818, 0.0031482767073885134, 0.9900343625632537, 0.9019636150014723, 0.04835268863925418, 0.01859718793817469, 0.03161521949489697, 0.9381168381847294, 0.011036668684526227, 0.051504453861122394, 0.053165678815768974, 0.028355028701743452, 0.10012869510303157, 0.8187514537628422, 0.2757000086305431, 0.62077355522452, 0.05322624895470355, 0.05083405799044721, 0.35522805069855695, 0.2938562937696701, 0.26213021603524556, 0.08841693794839632, 0.04262581293614162, 0.001121731919372148, 0.01570424687121007, 0.94001134843386, 0.2794053885015948, 0.21947495734473096, 0.37578000076736223, 0.12512502180723592, 0.9686572800523959, 0.03211018607908495, 0.895873342305365, 0.10347904112071463, 0.9862734605988602, 0.022257032674373074, 0.9519393028971727, 0.002706936406342671, 0.02315934480982063, 0.9909506530630059, 0.9938098584485446, 0.26298192932503556, 0.584840409991497, 0.08321219256254857, 0.06908182024060636, 0.17416846412309533, 0.268313579865309, 0.43895160214807133, 0.11768139467776711, 0.9704219801298131, 0.02968349586279428, 0.1292291183627454, 0.3390972065838439, 0.13543211604415717, 0.39595801866345187, 0.5738905031202365, 0.12408443310707816, 0.11374406368148832, 0.1892287604882942, 0.9846975057327026, 0.003983409268052973, 0.0756847760930065, 0.9201675409202369, 0.9922328594819134, 0.03923718346010782, 0.8864697003950285, 0.07411467986909255, 0.9838204494765633, 0.993726364293224, 0.2844658713510597, 0.46409338166428754, 0.12954549070916804, 0.12153236757251847, 0.7684320151791525, 0.028773886030937428, 0.18195251460739845, 0.022003559906010974, 0.3644045505502822, 0.3191760203170186, 0.1342543080974724, 0.18205914701490927, 0.015454574184209695, 0.9813654606973157, 0.9947506635281624, 0.39870213777962304, 0.31449624628056666, 0.11992960304411061, 0.1664980127367706, 0.2828519863904073, 0.32260104354099406, 0.2811237665142948, 0.11291036523934793, 0.10257222668552544, 0.14445588591544833, 0.3726790902907424, 0.3803720072921568, 0.9886776760809625], \"Term\": [\"2023\", \"2023\", \"2023\", \"2023\", \"2024\", \"2024\", \"2024\", \"2024\", \"42\", \"42\", \"42\", \"42\", \"abbott\", \"abbott\", \"abortion\", \"abortion\", \"abortion\", \"abortion\", \"according\", \"according\", \"according\", \"according\", \"adams\", \"adams\", \"adams\", \"admin\", \"admin\", \"administration\", \"administration\", \"administration\", \"administration\", \"ai\", \"ai\", \"alejandro\", \"aliens\", \"alleged\", \"alleged\", \"alleged\", \"alleged\", \"allegedly\", \"allegedly\", \"allegedly\", \"allegedly\", \"also\", \"also\", \"also\", \"also\", \"altman\", \"americans\", \"americans\", \"americans\", \"americans\", \"anheuserbusch\", \"antisemitism\", \"app\", \"app\", \"app\", \"app\", \"arrest\", \"arrest\", \"arrest\", \"arrested\", \"arrested\", \"asylum\", \"attorney\", \"attorney\", \"attorney\", \"attorney\", \"awr\", \"beer\", \"beijing\", \"biden\", \"biden\", \"biden\", \"biden\", \"bill\", \"bill\", \"bill\", \"bill\", \"biography\", \"border\", \"border\", \"bragg\", \"bud\", \"bud\", \"california\", \"california\", \"california\", \"california\", \"campaign\", \"campaign\", \"campaign\", \"campaign\", \"candidacy\", \"candidate\", \"candidate\", \"candidate\", \"candidate\", \"candidates\", \"care\", \"care\", \"care\", \"care\", \"carlson\", \"cartel\", \"cartels\", \"case\", \"case\", \"case\", \"case\", \"cbp\", \"ceiling\", \"ceiling\", \"ceiling\", \"charged\", \"charged\", \"charged\", \"charged\", \"charges\", \"charges\", \"charges\", \"charges\", \"children\", \"children\", \"children\", \"children\", \"china\", \"china\", \"china\", \"china\", \"chinese\", \"chinese\", \"chinese\", \"chinese\", \"chokehold\", \"christie\", \"city\", \"city\", \"city\", \"city\", \"click\", \"click\", \"click\", \"click\", \"collusion\", \"collusion\", \"comer\", \"comer\", \"comey\", \"communist\", \"communist\", \"communist\", \"coronation\", \"could\", \"could\", \"could\", \"could\", \"country\", \"country\", \"country\", \"country\", \"counts\", \"county\", \"county\", \"county\", \"county\", \"court\", \"court\", \"court\", \"court\", \"crime\", \"crime\", \"crime\", \"crime\", \"criminal\", \"criminal\", \"criminal\", \"criminal\", \"crisis\", \"crisis\", \"crisis\", \"crisis\", \"crossing\", \"crossing\", \"crossings\", \"cuny\", \"deal\", \"deal\", \"deal\", \"deal\", \"dealings\", \"death\", \"death\", \"death\", \"death\", \"debt\", \"debt\", \"debt\", \"default\", \"default\", \"default\", \"dei\", \"dei\", \"department\", \"department\", \"department\", \"department\", \"der\", \"der\", \"desantis\", \"desantis\", \"desantis\", \"dhs\", \"dhs\", \"disappearance\", \"discrimination\", \"discrimination\", \"dodgers\", \"doj\", \"doj\", \"doj\", \"donald\", \"donald\", \"donald\", \"donald\", \"drag\", \"drag\", \"durham\", \"durham\", \"editoratlarge\", \"education\", \"education\", \"education\", \"education\", \"election\", \"election\", \"election\", \"election\", \"electricity\", \"elon\", \"emissions\", \"end\", \"end\", \"end\", \"end\", \"energy\", \"energy\", \"energy\", \"energy\", \"epa\", \"erdogan\", \"erdogan\", \"expiration\", \"expire\", \"expulsion\", \"expulsion\", \"extradition\", \"family\", \"family\", \"family\", \"family\", \"fbi\", \"fbi\", \"fbi\", \"federal\", \"federal\", \"federal\", \"federal\", \"feinstein\", \"fentanyl\", \"fentanyl\", \"fentanyl\", \"fetterman\", \"first\", \"first\", \"first\", \"first\", \"former\", \"former\", \"former\", \"former\", \"frontrunner\", \"gardner\", \"gay\", \"gay\", \"gay\", \"gender\", \"gender\", \"gender\", \"going\", \"going\", \"going\", \"going\", \"grid\", \"gun\", \"gun\", \"gun\", \"gun\", \"hall\", \"hall\", \"hall\", \"hall\", \"hampshire\", \"hampshire\", \"hampshire\", \"health\", \"health\", \"health\", \"health\", \"holloway\", \"holloways\", \"homicide\", \"house\", \"house\", \"house\", \"house\", \"housing\", \"housing\", \"housing\", \"hunter\", \"hunter\", \"illegal\", \"illegal\", \"illegal\", \"illegal\", \"immigrants\", \"immigrants\", \"immigrants\", \"immigration\", \"immigration\", \"incident\", \"incident\", \"incident\", \"incident\", \"inclusive\", \"inflow\", \"influx\", \"investigation\", \"investigation\", \"investigation\", \"investigation\", \"investigators\", \"iowa\", \"iowa\", \"iowa\", \"iowa\", \"israel\", \"israeli\", \"jail\", \"jail\", \"jail\", \"japan\", \"japan\", \"jews\", \"joelpollak\", \"joran\", \"justice\", \"justice\", \"justice\", \"justice\", \"kaitlan\", \"kennedy\", \"kennedy\", \"khan\", \"khan\", \"kids\", \"kids\", \"kids\", \"kids\", \"kohberger\", \"law\", \"law\", \"law\", \"law\", \"lgbt\", \"lgbtq\", \"licht\", \"light\", \"light\", \"light\", \"light\", \"like\", \"like\", \"like\", \"like\", \"limit\", \"limit\", \"limit\", \"limit\", \"lula\", \"make\", \"make\", \"make\", \"make\", \"man\", \"man\", \"man\", \"man\", \"may\", \"may\", \"may\", \"may\", \"mayorkas\", \"mccarthy\", \"mccarthy\", \"mccarthy\", \"mccarthy\", \"media\", \"media\", \"media\", \"media\", \"mexico\", \"mexico\", \"migrant\", \"migrants\", \"migration\", \"morell\", \"mulvaney\", \"murder\", \"murder\", \"murder\", \"musk\", \"natalee\", \"national\", \"national\", \"national\", \"national\", \"nato\", \"neely\", \"neelys\", \"new\", \"new\", \"new\", \"new\", \"nomination\", \"obrador\", \"office\", \"office\", \"office\", \"office\", \"officers\", \"officers\", \"one\", \"one\", \"one\", \"one\", \"parents\", \"parents\", \"parents\", \"parents\", \"party\", \"party\", \"party\", \"party\", \"paso\", \"passengers\", \"patient\", \"patient\", \"patrol\", \"patrol\", \"paxton\", \"pence\", \"pence\", \"penny\", \"penny\", \"penny\", \"people\", \"people\", \"people\", \"people\", \"percent\", \"percent\", \"percent\", \"police\", \"police\", \"police\", \"police\", \"policy\", \"policy\", \"policy\", \"policy\", \"poll\", \"poll\", \"poll\", \"pollak\", \"polls\", \"polls\", \"polls\", \"president\", \"president\", \"president\", \"president\", \"presidential\", \"presidential\", \"presidential\", \"presidential\", \"pride\", \"pride\", \"primary\", \"primary\", \"primary\", \"primary\", \"prison\", \"prison\", \"prison\", \"prison\", \"pronouns\", \"prosecutor\", \"prosecutor\", \"prosecutors\", \"prosecutors\", \"puberty\", \"public\", \"public\", \"public\", \"public\", \"putin\", \"putin\", \"queer\", \"ramaswamy\", \"records\", \"records\", \"records\", \"records\", \"reparations\", \"report\", \"report\", \"report\", \"report\", \"republican\", \"republican\", \"republican\", \"republican\", \"republicans\", \"republicans\", \"republicans\", \"republicans\", \"rhoda\", \"rockland\", \"ron\", \"ron\", \"ron\", \"royal\", \"russia\", \"russia\", \"russia\", \"russia\", \"russian\", \"russian\", \"russian\", \"sales\", \"sales\", \"schiff\", \"school\", \"school\", \"school\", \"school\", \"schools\", \"schools\", \"schools\", \"schools\", \"security\", \"security\", \"security\", \"security\", \"seekers\", \"sentenced\", \"sheriffs\", \"shooting\", \"shooting\", \"shooting\", \"sloot\", \"social\", \"social\", \"social\", \"social\", \"southern\", \"southern\", \"southern\", \"southern\", \"speaker\", \"speaker\", \"speaker\", \"speaker\", \"spending\", \"spending\", \"spending\", \"spending\", \"state\", \"state\", \"state\", \"state\", \"states\", \"states\", \"states\", \"states\", \"students\", \"students\", \"students\", \"subpoena\", \"subpoenaed\", \"subway\", \"subway\", \"surge\", \"surgeries\", \"suspect\", \"suspect\", \"suspects\", \"target\", \"target\", \"target\", \"target\", \"teachers\", \"teachers\", \"teachers\", \"texas\", \"texas\", \"texas\", \"texas\", \"think\", \"think\", \"think\", \"think\", \"time\", \"time\", \"time\", \"time\", \"title\", \"title\", \"title\", \"title\", \"told\", \"told\", \"told\", \"told\", \"trans\", \"trans\", \"transgender\", \"transgender\", \"treatments\", \"trump\", \"trump\", \"trump\", \"trump\", \"turkey\", \"turkish\", \"twitter\", \"twitter\", \"twitter\", \"twitter\", \"two\", \"two\", \"two\", \"two\", \"ukraine\", \"ukraine\", \"united\", \"united\", \"united\", \"united\", \"use\", \"use\", \"use\", \"use\", \"usmexico\", \"van\", \"van\", \"van\", \"vivek\", \"voters\", \"voters\", \"voters\", \"wages\", \"whistleblower\", \"white\", \"white\", \"white\", \"white\", \"women\", \"women\", \"women\", \"women\", \"would\", \"would\", \"would\", \"would\", \"wray\", \"wray\", \"xi\", \"year\", \"year\", \"year\", \"year\", \"years\", \"years\", \"years\", \"years\", \"york\", \"york\", \"york\", \"york\", \"zelensky\"]}, \"R\": 30, \"lambda.step\": 0.01, \"plot.opts\": {\"xlab\": \"PC1\", \"ylab\": \"PC2\"}, \"topic.order\": [1, 2, 3, 4]};\n",
       "\n",
       "function LDAvis_load_lib(url, callback){\n",
       "  var s = document.createElement('script');\n",
       "  s.src = url;\n",
       "  s.async = true;\n",
       "  s.onreadystatechange = s.onload = callback;\n",
       "  s.onerror = function(){console.warn(\"failed to load library \" + url);};\n",
       "  document.getElementsByTagName(\"head\")[0].appendChild(s);\n",
       "}\n",
       "\n",
       "if(typeof(LDAvis) !== \"undefined\"){\n",
       "   // already loaded: just create the visualization\n",
       "   !function(LDAvis){\n",
       "       new LDAvis(\"#\" + \"ldavis_el4618816429264974562628639385\", ldavis_el4618816429264974562628639385_data);\n",
       "   }(LDAvis);\n",
       "}else if(typeof define === \"function\" && define.amd){\n",
       "   // require.js is available: use it to load d3/LDAvis\n",
       "   require.config({paths: {d3: \"https://d3js.org/d3.v5\"}});\n",
       "   require([\"d3\"], function(d3){\n",
       "      window.d3 = d3;\n",
       "      LDAvis_load_lib(\"https://cdn.jsdelivr.net/gh/bmabey/pyLDAvis@3.4.0/pyLDAvis/js/ldavis.v3.0.0.js\", function(){\n",
       "        new LDAvis(\"#\" + \"ldavis_el4618816429264974562628639385\", ldavis_el4618816429264974562628639385_data);\n",
       "      });\n",
       "    });\n",
       "}else{\n",
       "    // require.js not available: dynamically load d3 & LDAvis\n",
       "    LDAvis_load_lib(\"https://d3js.org/d3.v5.js\", function(){\n",
       "         LDAvis_load_lib(\"https://cdn.jsdelivr.net/gh/bmabey/pyLDAvis@3.4.0/pyLDAvis/js/ldavis.v3.0.0.js\", function(){\n",
       "                 new LDAvis(\"#\" + \"ldavis_el4618816429264974562628639385\", ldavis_el4618816429264974562628639385_data);\n",
       "            })\n",
       "         });\n",
       "}\n",
       "</script>"
      ],
      "text/plain": [
       "<IPython.core.display.HTML object>"
      ]
     },
     "execution_count": 222,
     "metadata": {},
     "output_type": "execute_result"
    }
   ],
   "source": [
    "lda_display_right = pyLDAvis.lda_model.prepare(Right_lda_para_model, Right_count_text_vectors, Rcount_text_vectorizer, sort_topics=False)\n",
    "pyLDAvis.display(lda_display_right)"
   ]
  },
  {
   "attachments": {},
   "cell_type": "markdown",
   "id": "59f93149",
   "metadata": {},
   "source": [
    "Only one missing value for relevant article text:"
   ]
  },
  {
   "cell_type": "code",
   "execution_count": 223,
   "id": "1920f0c9",
   "metadata": {},
   "outputs": [],
   "source": [
    "#api_data_complete_df2.isna().sum()"
   ]
  },
  {
   "attachments": {},
   "cell_type": "markdown",
   "id": "b0b526da",
   "metadata": {},
   "source": [
    "----------------\n"
   ]
  },
  {
   "attachments": {},
   "cell_type": "markdown",
   "id": "7ca66e1e",
   "metadata": {},
   "source": [
    "## Modeling:"
   ]
  },
  {
   "cell_type": "code",
   "execution_count": 44,
   "id": "1cc021e4",
   "metadata": {},
   "outputs": [],
   "source": [
    "# Obtain total counts of words in the entire corpus:\n",
    "\n",
    "word_dist=Counter([item for sublist in api_data_complete_df['tokens'] \n",
    "                   for item in sublist])"
   ]
  },
  {
   "attachments": {},
   "cell_type": "markdown",
   "id": "afdc6763",
   "metadata": {},
   "source": [
    "### Prepare data for modeling (Target defined, clean text as X)"
   ]
  },
  {
   "cell_type": "code",
   "execution_count": 46,
   "id": "fea18003",
   "metadata": {},
   "outputs": [],
   "source": [
    "# generate the dict data to then be filtered through\n",
    "# the filtered_words list:\n",
    "\n",
    "news_data=dict()\n",
    "\n",
    "    \n",
    "news_data=[(api_data_complete_df.at[index,'cleaner_text'],\n",
    "            api_data_complete_df.at[index,'Political_Lean']) for (index,row) in api_data_complete_df.iterrows()]"
   ]
  },
  {
   "attachments": {},
   "cell_type": "markdown",
   "id": "b07be997",
   "metadata": {},
   "source": [
    "### Feature Words filtering:"
   ]
  },
  {
   "cell_type": "code",
   "execution_count": 47,
   "id": "262340e5",
   "metadata": {},
   "outputs": [
    {
     "name": "stdout",
     "output_type": "stream",
     "text": [
      "With a word cutoff of 5, we have 22181 as features in the model.\n"
     ]
    }
   ],
   "source": [
    "word_cutoff=5\n",
    "feature_words2=[]\n",
    "for word, count in word_dist.items() :\n",
    "    #for convention_data_df['word_dist']\n",
    "    if count > word_cutoff :\n",
    "        feature_words2.append(word)\n",
    "            \n",
    "print(f\"With a word cutoff of {word_cutoff}, we have {len(feature_words2)} as features in the model.\")"
   ]
  },
  {
   "cell_type": "code",
   "execution_count": 155,
   "id": "a1743060",
   "metadata": {},
   "outputs": [],
   "source": [
    "#feature_words2"
   ]
  },
  {
   "cell_type": "code",
   "execution_count": 324,
   "id": "caa4a191",
   "metadata": {},
   "outputs": [],
   "source": [
    "# remove cnn and fox-news from the key featurewords:\n",
    "\n",
    "#feature_words2.remove(\"cnn\")\n",
    "#feature_words2.remove(\"fox\")\n",
    "#feature_words2.remove(\"wpost\")\n",
    "#feature_words2.remove(\"breitbart\")\n"
   ]
  },
  {
   "cell_type": "code",
   "execution_count": 48,
   "id": "746e1127",
   "metadata": {},
   "outputs": [],
   "source": [
    "# Filter the data through the feature words set\n",
    "# determined above:\n",
    "\n",
    "featuresets=dict()\n",
    "featuresets = [(conv_features(text,feature_words2), \n",
    "                lean) for (text, lean) in news_data]"
   ]
  },
  {
   "cell_type": "code",
   "execution_count": 156,
   "id": "0526cf7e",
   "metadata": {},
   "outputs": [],
   "source": [
    "#featuresets"
   ]
  },
  {
   "cell_type": "code",
   "execution_count": null,
   "id": "99da419d",
   "metadata": {},
   "outputs": [],
   "source": [
    "#api_record_df['full_text']"
   ]
  },
  {
   "attachments": {},
   "cell_type": "markdown",
   "id": "928d7fcc",
   "metadata": {},
   "source": [
    "### Rough Naive-Bayes Classifier setup and run-through:"
   ]
  },
  {
   "cell_type": "code",
   "execution_count": 49,
   "id": "1370a24e",
   "metadata": {},
   "outputs": [],
   "source": [
    "random.seed(42)\n",
    "random.shuffle(featuresets)\n",
    "test_size = 20\n"
   ]
  },
  {
   "cell_type": "code",
   "execution_count": 50,
   "id": "d9e34df4",
   "metadata": {},
   "outputs": [],
   "source": [
    "test_set=dict()\n",
    "train_set=dict()\n",
    "test_set, train_set = featuresets[:test_size], featuresets[test_size:]"
   ]
  },
  {
   "cell_type": "code",
   "execution_count": 51,
   "id": "47c92a7b",
   "metadata": {},
   "outputs": [
    {
     "name": "stdout",
     "output_type": "stream",
     "text": [
      "0.2\n"
     ]
    }
   ],
   "source": [
    "classifier = nltk.NaiveBayesClassifier.train(train_set)\n",
    "print(nltk.classify.accuracy(classifier, test_set))"
   ]
  },
  {
   "cell_type": "code",
   "execution_count": 52,
   "id": "51c9f8f9",
   "metadata": {},
   "outputs": [
    {
     "name": "stdout",
     "output_type": "stream",
     "text": [
      "      |      R        |\n",
      "      |      i      L |\n",
      "      |      g      e |\n",
      "      |      h      f |\n",
      "      |      t      t |\n",
      "------+---------------+\n",
      "Right |     <.> 80.0% |\n",
      " Left |      . <20.0%>|\n",
      "------+---------------+\n",
      "(row = reference; col = test)\n",
      "\n"
     ]
    }
   ],
   "source": [
    "# Confusion Matrix:\n",
    "\n",
    "predicted_labels = [classifier.classify(features) for features, \n",
    "                    label in test_set]\n",
    "gold_labels = [label for features, label in test_set]\n",
    "\n",
    "cm = ConfusionMatrix(gold_labels, predicted_labels)\n",
    "print(cm.pretty_format(sort_by_count=True, show_percents=True))"
   ]
  },
  {
   "attachments": {},
   "cell_type": "markdown",
   "id": "745281c9",
   "metadata": {},
   "source": [
    "### Linear SVC (SVM) implementation:"
   ]
  },
  {
   "cell_type": "code",
   "execution_count": 55,
   "id": "ed33feeb",
   "metadata": {},
   "outputs": [
    {
     "name": "stdout",
     "output_type": "stream",
     "text": [
      "Size of Training Data  3221\n",
      "Size of Test Data  806\n"
     ]
    }
   ],
   "source": [
    "X_train, X_test, Y_train, Y_test = train_test_split(api_data_complete_df2['cleaner_text'],\n",
    "                                                    api_data_complete_df2['Political_Lean'],\n",
    "                                                    test_size=0.2,\n",
    "                                                    random_state=42,\n",
    "                                                    stratify=api_data_complete_df2['Political_Lean'])\n",
    "\n",
    "print('Size of Training Data ', X_train.shape[0])\n",
    "print('Size of Test Data ', X_test.shape[0])"
   ]
  },
  {
   "cell_type": "code",
   "execution_count": 56,
   "id": "c168c326",
   "metadata": {},
   "outputs": [],
   "source": [
    "# TF-IDF Vectorization for Training/Test Data:\n",
    "\n",
    "tfidf = TfidfVectorizer(min_df = 10, max_df=0.7, ngram_range=(1,2), stop_words=sw)\n",
    "X_train_tf = tfidf.fit_transform(X_train)\n",
    "X_test_tf = tfidf.transform(X_test)"
   ]
  },
  {
   "cell_type": "code",
   "execution_count": 157,
   "id": "bfee6923",
   "metadata": {},
   "outputs": [
    {
     "data": {
      "text/html": [
       "<style>#sk-container-id-2 {color: black;background-color: white;}#sk-container-id-2 pre{padding: 0;}#sk-container-id-2 div.sk-toggleable {background-color: white;}#sk-container-id-2 label.sk-toggleable__label {cursor: pointer;display: block;width: 100%;margin-bottom: 0;padding: 0.3em;box-sizing: border-box;text-align: center;}#sk-container-id-2 label.sk-toggleable__label-arrow:before {content: \"▸\";float: left;margin-right: 0.25em;color: #696969;}#sk-container-id-2 label.sk-toggleable__label-arrow:hover:before {color: black;}#sk-container-id-2 div.sk-estimator:hover label.sk-toggleable__label-arrow:before {color: black;}#sk-container-id-2 div.sk-toggleable__content {max-height: 0;max-width: 0;overflow: hidden;text-align: left;background-color: #f0f8ff;}#sk-container-id-2 div.sk-toggleable__content pre {margin: 0.2em;color: black;border-radius: 0.25em;background-color: #f0f8ff;}#sk-container-id-2 input.sk-toggleable__control:checked~div.sk-toggleable__content {max-height: 200px;max-width: 100%;overflow: auto;}#sk-container-id-2 input.sk-toggleable__control:checked~label.sk-toggleable__label-arrow:before {content: \"▾\";}#sk-container-id-2 div.sk-estimator input.sk-toggleable__control:checked~label.sk-toggleable__label {background-color: #d4ebff;}#sk-container-id-2 div.sk-label input.sk-toggleable__control:checked~label.sk-toggleable__label {background-color: #d4ebff;}#sk-container-id-2 input.sk-hidden--visually {border: 0;clip: rect(1px 1px 1px 1px);clip: rect(1px, 1px, 1px, 1px);height: 1px;margin: -1px;overflow: hidden;padding: 0;position: absolute;width: 1px;}#sk-container-id-2 div.sk-estimator {font-family: monospace;background-color: #f0f8ff;border: 1px dotted black;border-radius: 0.25em;box-sizing: border-box;margin-bottom: 0.5em;}#sk-container-id-2 div.sk-estimator:hover {background-color: #d4ebff;}#sk-container-id-2 div.sk-parallel-item::after {content: \"\";width: 100%;border-bottom: 1px solid gray;flex-grow: 1;}#sk-container-id-2 div.sk-label:hover label.sk-toggleable__label {background-color: #d4ebff;}#sk-container-id-2 div.sk-serial::before {content: \"\";position: absolute;border-left: 1px solid gray;box-sizing: border-box;top: 0;bottom: 0;left: 50%;z-index: 0;}#sk-container-id-2 div.sk-serial {display: flex;flex-direction: column;align-items: center;background-color: white;padding-right: 0.2em;padding-left: 0.2em;position: relative;}#sk-container-id-2 div.sk-item {position: relative;z-index: 1;}#sk-container-id-2 div.sk-parallel {display: flex;align-items: stretch;justify-content: center;background-color: white;position: relative;}#sk-container-id-2 div.sk-item::before, #sk-container-id-2 div.sk-parallel-item::before {content: \"\";position: absolute;border-left: 1px solid gray;box-sizing: border-box;top: 0;bottom: 0;left: 50%;z-index: -1;}#sk-container-id-2 div.sk-parallel-item {display: flex;flex-direction: column;z-index: 1;position: relative;background-color: white;}#sk-container-id-2 div.sk-parallel-item:first-child::after {align-self: flex-end;width: 50%;}#sk-container-id-2 div.sk-parallel-item:last-child::after {align-self: flex-start;width: 50%;}#sk-container-id-2 div.sk-parallel-item:only-child::after {width: 0;}#sk-container-id-2 div.sk-dashed-wrapped {border: 1px dashed gray;margin: 0 0.4em 0.5em 0.4em;box-sizing: border-box;padding-bottom: 0.4em;background-color: white;}#sk-container-id-2 div.sk-label label {font-family: monospace;font-weight: bold;display: inline-block;line-height: 1.2em;}#sk-container-id-2 div.sk-label-container {text-align: center;}#sk-container-id-2 div.sk-container {/* jupyter's `normalize.less` sets `[hidden] { display: none; }` but bootstrap.min.css set `[hidden] { display: none !important; }` so we also need the `!important` here to be able to override the default hidden behavior on the sphinx rendered scikit-learn.org. See: https://github.com/scikit-learn/scikit-learn/issues/21755 */display: inline-block !important;position: relative;}#sk-container-id-2 div.sk-text-repr-fallback {display: none;}</style><div id=\"sk-container-id-2\" class=\"sk-top-container\"><div class=\"sk-text-repr-fallback\"><pre>LinearSVC(random_state=0, tol=1e-05)</pre><b>In a Jupyter environment, please rerun this cell to show the HTML representation or trust the notebook. <br />On GitHub, the HTML representation is unable to render, please try loading this page with nbviewer.org.</b></div><div class=\"sk-container\" hidden><div class=\"sk-item\"><div class=\"sk-estimator sk-toggleable\"><input class=\"sk-toggleable__control sk-hidden--visually\" id=\"sk-estimator-id-2\" type=\"checkbox\" checked><label for=\"sk-estimator-id-2\" class=\"sk-toggleable__label sk-toggleable__label-arrow\">LinearSVC</label><div class=\"sk-toggleable__content\"><pre>LinearSVC(random_state=0, tol=1e-05)</pre></div></div></div></div></div>"
      ],
      "text/plain": [
       "LinearSVC(random_state=0, tol=1e-05)"
      ]
     },
     "execution_count": 157,
     "metadata": {},
     "output_type": "execute_result"
    }
   ],
   "source": [
    "# Train Lineary SVC Model with Training Data:\n",
    "\n",
    "model1 = LinearSVC(random_state=0, tol=1e-5)\n",
    "model1.fit(X_train_tf, Y_train)"
   ]
  },
  {
   "cell_type": "code",
   "execution_count": 66,
   "id": "8556d09c",
   "metadata": {},
   "outputs": [
    {
     "name": "stdout",
     "output_type": "stream",
     "text": [
      "Accuracy Score -  0.9528535980148883\n"
     ]
    }
   ],
   "source": [
    "Y_pred = model1.predict(X_test_tf)\n",
    "print ('Accuracy Score - ', accuracy_score(Y_test, Y_pred))\n",
    "#print ('F1 Score - ', recall_score(Y_test, Y_pred))"
   ]
  },
  {
   "cell_type": "code",
   "execution_count": 159,
   "id": "b9a55748",
   "metadata": {},
   "outputs": [
    {
     "data": {
      "image/png": "[encoded data removed]",
      "text/plain": [
       "<Figure size 432x288 with 2 Axes>"
      ]
     },
     "metadata": {
      "needs_background": "light"
     },
     "output_type": "display_data"
    }
   ],
   "source": [
    "Y_pred = model1.predict(X_test_tf)\n",
    "confusion_matrix(Y_test, Y_pred)\n",
    "cm = confusion_matrix(Y_test, Y_pred)\n",
    "disp = ConfusionMatrixDisplay(confusion_matrix=cm, display_labels = model1.classes_)\n",
    "disp.plot()\n",
    "plt.show()"
   ]
  },
  {
   "attachments": {},
   "cell_type": "markdown",
   "id": "3b5f50f6",
   "metadata": {},
   "source": [
    "#### Test Results Linear SVC: "
   ]
  },
  {
   "cell_type": "code",
   "execution_count": 225,
   "id": "e7114ddf",
   "metadata": {},
   "outputs": [],
   "source": [
    "TNmodel1=cm[0][0]\n",
    "FPmodel1=cm[0][1]\n",
    "FNmodel1=cm[1][0]\n",
    "TPmodel1=cm[1][1]"
   ]
  },
  {
   "cell_type": "code",
   "execution_count": 228,
   "id": "5571cbee",
   "metadata": {},
   "outputs": [
    {
     "name": "stdout",
     "output_type": "stream",
     "text": [
      "╒═══════════════╤══════════════╕\n",
      "│ Measurement   │   CART Model │\n",
      "╞═══════════════╪══════════════╡\n",
      "│ Accuracy      │    0.952854  │\n",
      "├───────────────┼──────────────┤\n",
      "│ Error Rate    │    0.0471464 │\n",
      "├───────────────┼──────────────┤\n",
      "│ Sensitivity   │    0.992754  │\n",
      "├───────────────┼──────────────┤\n",
      "│ Recall        │    0.992754  │\n",
      "├───────────────┼──────────────┤\n",
      "│ Specificity   │    0.866142  │\n",
      "├───────────────┼──────────────┤\n",
      "│ Precision     │    0.941581  │\n",
      "├───────────────┼──────────────┤\n",
      "│ F1            │    0.96649   │\n",
      "├───────────────┼──────────────┤\n",
      "│ F2            │    0.982079  │\n",
      "├───────────────┼──────────────┤\n",
      "│ F0.5          │    0.951389  │\n",
      "╘═══════════════╧══════════════╛\n"
     ]
    }
   ],
   "source": [
    "# Results:\n",
    "\n",
    "TANmodel1=TNmodel1+FPmodel1\n",
    "TAPmodel1=TPmodel1+FNmodel1\n",
    "TPPmodel1=FPmodel1+TPmodel1\n",
    "TPNmodel1=TNmodel1+FNmodel1\n",
    "GTmodel1=TANmodel1+TAPmodel1\n",
    "AccuracyM1=(TNmodel1+TPmodel1)/GTmodel1\n",
    "ErrorRateM1=1-AccuracyM1\n",
    "SensitivityM1=TPmodel1/(TAPmodel1)\n",
    "RecallM1=SensitivityM1\n",
    "SpecificityM1=TNmodel1/TANmodel1\n",
    "PrecisionM1=TPmodel1/TPPmodel1\n",
    "F1M1=2*PrecisionM1*RecallM1/(PrecisionM1 + RecallM1)\n",
    "F2M1=5*(PrecisionM1*RecallM1)/((4*PrecisionM1)+RecallM1)\n",
    "Fp5M1=(1.25)*(PrecisionM1*RecallM1)/((0.25*PrecisionM1)+RecallM1)\n",
    "\n",
    "header = [\"Accuracy\", \"Error Rate\", \"Sensitivity\", \"Recall\", \"Specificity\",\n",
    "          \"Precision\", \"F1\", \"F2\", \"F0.5\"]\n",
    "data1 = [[\"Accuracy\", AccuracyM1], [\"Error Rate\", ErrorRateM1],\n",
    "         [\"Sensitivity\", SensitivityM1],\n",
    "         [\"Recall\", RecallM1], [\"Specificity\", SpecificityM1],\n",
    "         [\"Precision\", PrecisionM1],\n",
    "         [\"F1\", F1M1], [\"F2\", F2M1], [\"F0.5\", Fp5M1]]\n",
    "\n",
    "col_names=[\"Measurement\", \"CART Model\"]\n",
    "\n",
    "ModelEvaluationTable = tabulate(data1, headers=col_names,\n",
    "                                tablefmt=\"fancy_grid\")\n",
    "\n",
    "print(ModelEvaluationTable)"
   ]
  },
  {
   "attachments": {},
   "cell_type": "markdown",
   "id": "4d9c6f91",
   "metadata": {},
   "source": [
    "----"
   ]
  },
  {
   "attachments": {},
   "cell_type": "markdown",
   "id": "4f629a65",
   "metadata": {},
   "source": [
    "## Apply Classifier to Business Client Data:"
   ]
  },
  {
   "cell_type": "code",
   "execution_count": null,
   "id": "a34d379a",
   "metadata": {},
   "outputs": [],
   "source": [
    "#Centered data Prep classification:\n",
    "\n",
    "X_data = api_data_complete_df23['cleaner_text']"
   ]
  },
  {
   "cell_type": "code",
   "execution_count": null,
   "id": "ca79866c",
   "metadata": {},
   "outputs": [],
   "source": [
    "# TF-IDF Vectorization for Business application:\n",
    "\n",
    "X_Data_Centered = tfidf.transform(X_data)"
   ]
  },
  {
   "attachments": {},
   "cell_type": "markdown",
   "id": "5973e9ab",
   "metadata": {},
   "source": [
    "### Linear SVD:"
   ]
  },
  {
   "cell_type": "code",
   "execution_count": 208,
   "id": "7618d464",
   "metadata": {},
   "outputs": [],
   "source": [
    "Data_Classification_Centered = model1.predict(X_Data_Centered)\n"
   ]
  },
  {
   "cell_type": "code",
   "execution_count": 213,
   "id": "dff04058",
   "metadata": {},
   "outputs": [
    {
     "name": "stdout",
     "output_type": "stream",
     "text": [
      "0                  NaN\n",
      "1              Reuters\n",
      "2                  NaN\n",
      "3        Lisa Richwine\n",
      "4     Dawn Chmielewski\n",
      "            ...       \n",
      "35                 NaN\n",
      "39      Kirsty Needham\n",
      "41        Florence Tan\n",
      "42           Joyce Lee\n",
      "48       Nichola Groom\n",
      "Name: Author, Length: 23, dtype: object\n"
     ]
    }
   ],
   "source": [
    "print(api_data_complete_df23['Author'])"
   ]
  },
  {
   "cell_type": "code",
   "execution_count": 209,
   "id": "b1eb94d8",
   "metadata": {},
   "outputs": [
    {
     "data": {
      "text/plain": [
       "array(['Left', 'Left', 'Left', 'Right', 'Left', 'Left', 'Left', 'Left',\n",
       "       'Left', 'Left', 'Left', 'Left', 'Right', 'Left', 'Right', 'Right',\n",
       "       'Left', 'Right', 'Left', 'Right', 'Right', 'Left', 'Right'],\n",
       "      dtype=object)"
      ]
     },
     "execution_count": 209,
     "metadata": {},
     "output_type": "execute_result"
    }
   ],
   "source": [
    "Data_Classification_Centered"
   ]
  },
  {
   "attachments": {},
   "cell_type": "markdown",
   "id": "1a5ba00b",
   "metadata": {},
   "source": [
    "### SKLEARN SVC for probability testing:"
   ]
  },
  {
   "cell_type": "code",
   "execution_count": 210,
   "id": "ad03b374",
   "metadata": {},
   "outputs": [
    {
     "name": "stdout",
     "output_type": "stream",
     "text": [
      "[[0.82384571 0.17615429]\n",
      " [0.69748878 0.30251122]\n",
      " [0.82384571 0.17615429]\n",
      " [0.21148731 0.78851269]\n",
      " [0.7840795  0.2159205 ]\n",
      " [0.70713851 0.29286149]\n",
      " [0.70713851 0.29286149]\n",
      " [0.90912016 0.09087984]\n",
      " [0.69653185 0.30346815]\n",
      " [0.87517866 0.12482134]\n",
      " [0.87953816 0.12046184]\n",
      " [0.91090842 0.08909158]\n",
      " [0.07625658 0.92374342]\n",
      " [0.99040779 0.00959221]\n",
      " [0.00723159 0.99276841]\n",
      " [0.00723159 0.99276841]\n",
      " [0.91269056 0.08730944]\n",
      " [0.40496648 0.59503352]\n",
      " [0.88869085 0.11130915]\n",
      " [0.03909477 0.96090523]\n",
      " [0.74443724 0.25556276]\n",
      " [0.96795832 0.03204168]\n",
      " [0.43923826 0.56076174]]\n"
     ]
    }
   ],
   "source": [
    "from sklearn.svm import SVC\n",
    "svm = SVC(kernel='linear', probability=True)\n",
    "svm.fit(X_train_tf, Y_train)\n",
    "\n",
    "print(svm.predict_proba(X_Data_Centered))"
   ]
  },
  {
   "attachments": {},
   "cell_type": "markdown",
   "id": "673c242f",
   "metadata": {},
   "source": [
    "----"
   ]
  },
  {
   "attachments": {},
   "cell_type": "markdown",
   "id": "bff0feec-4930-4d28-a6c2-d83288b781b7",
   "metadata": {},
   "source": [
    "## Initiate MySQL connection"
   ]
  },
  {
   "cell_type": "code",
   "execution_count": 14,
   "id": "0d1e9561-e376-4262-aa6f-c59d45124989",
   "metadata": {},
   "outputs": [],
   "source": [
    "'''Set local environment variables to hide user name & password citation:\n",
    "https://www.geeksforgeeks.org/how-to-hide-sensitive-credentials-using-python/'''\n",
    "\n",
    "user_name = \"sqluser\"\n",
    "user_pass = \"password\"\n",
    "\n",
    "#user_name = os.environ['MySQLUSRAC']\n",
    "#user_pass = os.environ['MySQLPWDAC']\n",
    "\n",
    "# Instantiate connection\n",
    "db_conn = mysql.connect(host='localhost',\n",
    "                        port=int(3306),\n",
    "                        user=user_name,\n",
    "                        passwd=user_pass,\n",
    "                        db='509_final_proj')\n",
    "\n",
    "# Create a cursor object\n",
    "cursor = db_conn.cursor()"
   ]
  },
  {
   "cell_type": "code",
   "execution_count": 15,
   "id": "e753d762-a5ea-455a-8db6-b329eed96d1f",
   "metadata": {},
   "outputs": [
    {
     "name": "stderr",
     "output_type": "stream",
     "text": [
      "c:\\Users\\Susy\\anaconda3\\envs\\humans\\lib\\site-packages\\pandas\\io\\sql.py:761: UserWarning: pandas only support SQLAlchemy connectable(engine/connection) ordatabase string URI or sqlite3 DBAPI2 connectionother DBAPI2 objects are not tested, please consider using SQLAlchemy\n",
      "  warnings.warn(\n"
     ]
    },
    {
     "data": {
      "text/html": [
       "<div>\n",
       "<style scoped>\n",
       "    .dataframe tbody tr th:only-of-type {\n",
       "        vertical-align: middle;\n",
       "    }\n",
       "\n",
       "    .dataframe tbody tr th {\n",
       "        vertical-align: top;\n",
       "    }\n",
       "\n",
       "    .dataframe thead th {\n",
       "        text-align: right;\n",
       "    }\n",
       "</style>\n",
       "<table border=\"1\" class=\"dataframe\">\n",
       "  <thead>\n",
       "    <tr style=\"text-align: right;\">\n",
       "      <th></th>\n",
       "      <th>Tables_in_509_final_proj</th>\n",
       "    </tr>\n",
       "  </thead>\n",
       "  <tbody>\n",
       "  </tbody>\n",
       "</table>\n",
       "</div>"
      ],
      "text/plain": [
       "Empty DataFrame\n",
       "Columns: [Tables_in_509_final_proj]\n",
       "Index: []"
      ]
     },
     "metadata": {},
     "output_type": "display_data"
    },
    {
     "name": "stdout",
     "output_type": "stream",
     "text": [
      "<class 'pandas.core.frame.DataFrame'>\n"
     ]
    }
   ],
   "source": [
    "tbl_names = pd.read_sql('SHOW TABLES', db_conn)\n",
    "\n",
    "display(tbl_names)\n",
    "print(type(tbl_names))"
   ]
  },
  {
   "attachments": {},
   "cell_type": "markdown",
   "id": "7afd8db1-f81b-4b75-adbf-546c19cfab8b",
   "metadata": {},
   "source": [
    "### Establish logging policy"
   ]
  },
  {
   "cell_type": "code",
   "execution_count": 20,
   "id": "45f9b045-77c7-46b9-98ed-cb15b224bf27",
   "metadata": {},
   "outputs": [],
   "source": [
    "'''Logging citations (see additional code in following code blocks:\n",
    "OpenAI. (2021). ChatGPT [Computer software]. https://openai.com/;\n",
    "https://docs.python.org/3/howto/logging.html#logging-basic-example;\n",
    "https://docs.python.org/3/howto/logging.html#logging-to-a-file;\n",
    "https://docs.python.org/3/howto/logging-cookbook.html#using-a-rotating-log-file-handler;\n",
    "https://docs.python.org/3/howto/logging-cookbook.html#using-a-timed-rotating-file-handler'''\n",
    "\n",
    "# Set up logging\n",
    "logging.basicConfig(level=logging.INFO,\n",
    "                    filename='pymysql.log',\n",
    "                    filemode='a',\n",
    "                    format='>>>>>>>>>>>>>><<<<<<<<<<<<<<\\n%(asctime)s - %(levelname)s - %(message)s')"
   ]
  },
  {
   "attachments": {},
   "cell_type": "markdown",
   "id": "e5204295-2b32-45bf-b851-45f40fc5fdcf",
   "metadata": {},
   "source": [
    "### Update individual tables"
   ]
  },
  {
   "attachments": {},
   "cell_type": "markdown",
   "id": "b3e51a9b-96b9-4e0d-ba5f-ef6acc5b60ef",
   "metadata": {},
   "source": [
    "#### Update `news_articles` table from API"
   ]
  },
  {
   "cell_type": "code",
   "execution_count": 21,
   "id": "7dead612-d53c-4ea6-b574-1248c09b21aa",
   "metadata": {},
   "outputs": [],
   "source": [
    "nat_tbl_name = 'nar_temp'\n",
    "nwa_tbl_name = 'news_articles'"
   ]
  },
  {
   "cell_type": "code",
   "execution_count": 22,
   "id": "d6f4422f-123d-4d05-bcc8-7e41cfe08d5a",
   "metadata": {},
   "outputs": [],
   "source": [
    "'''Using cursor and loading into temp file:\n",
    "OpenAI. (2021). ChatGPT [Computer software]. https://openai.com/;\n",
    "https://pynative.com/python-mysql-insert-data-into-database-table/'''\n",
    "\n",
    "# Execute query and measure execution time\n",
    "start_time = time.time()\n",
    "\n",
    "# Wipe temp table\n",
    "try:\n",
    "    nat_dlt_tble_stmnt = f\"\"\"DELETE FROM {nat_tbl_name}\"\"\"\n",
    "    cursor.execute(nat_dlt_tble_stmnt)\n",
    "    logging.info(f'Successfully executed query:\\n{nat_dlt_tble_stmnt}\\n\\nRecords scanned: {cursor.rowcount}')\n",
    "except mysql.Error as e:\n",
    "    logging.error(f'Error executing query:\\n{nat_dlt_tble_stmnt}\\n\\n{e}')\n",
    "finally:\n",
    "    end_time = time.time()\n",
    "    logging.info(f'Time taken: {end_time - start_time:.3f} seconds\\n>>>>>>>>>>>>>><<<<<<<<<<<<<<\\n\\n')\n",
    "\n",
    "# Execute query and measure execution time\n",
    "start_time = time.time()\n",
    "\n",
    "# Load data from CSV file into a temporary table\n",
    "try:\n",
    "    nat_csv_load_stmnt = f\"\"\"\n",
    "    INSERT INTO {nat_tbl_name}\n",
    "    (\n",
    "    source_name,\n",
    "    author,\n",
    "    title,\n",
    "    url,\n",
    "    publish_date,\n",
    "    content\n",
    "    )\n",
    "    VALUES (%s, %s, %s, %s, %s, %s)\n",
    "    \"\"\"\n",
    "\n",
    "    # Execute the query with multiple values\n",
    "    cursor.executemany(nat_csv_load_stmnt, api_record_lst02)\n",
    "    #cursor.execute(nat_csv_load_stmnt)\n",
    "    logging.info(f'Successfully executed query:\\n{nat_csv_load_stmnt}\\n\\nRecords scanned: {cursor.rowcount}')\n",
    "except mysql.Error as e:\n",
    "    logging.error(f'Error executing query:\\n{nat_csv_load_stmnt}\\n\\n{e}')\n",
    "finally:\n",
    "    end_time = time.time()\n",
    "    logging.info(f'Time taken: {end_time - start_time:.3f} seconds\\n>>>>>>>>>>>>>><<<<<<<<<<<<<<\\n\\n')\n",
    "\n",
    "# Execute query and measure execution time\n",
    "start_time = time.time()\n",
    "\n",
    "# Insert new records into main table\n",
    "try:\n",
    "    nwa_load_stmnt = f\"\"\"\n",
    "    INSERT INTO {nwa_tbl_name}\n",
    "    (\n",
    "    source_name,\n",
    "    author,\n",
    "    title,\n",
    "    url,\n",
    "    publish_date,\n",
    "    content\n",
    "    )\n",
    "    SELECT\n",
    "        tp.source_name,\n",
    "        tp.author,\n",
    "        tp.title,\n",
    "        tp.url,\n",
    "        tp.publish_date,\n",
    "        tp.content\n",
    "    FROM {nat_tbl_name} AS tp\n",
    "    LEFT JOIN {nwa_tbl_name} AS mn\n",
    "        ON tp.title = mn.title\n",
    "            AND CAST(LEFT(tp.publish_date, 10) AS DATE) = CAST(LEFT(mn.publish_date, 10) AS DATE)\n",
    "            AND tp.author = mn.author\n",
    "    \"\"\"\n",
    "    cursor.execute(nwa_load_stmnt)\n",
    "    logging.info(f'Successfully executed query:\\n{nwa_load_stmnt}\\n\\nRecords scanned: {cursor.rowcount}')\n",
    "except mysql.Error as e:\n",
    "    logging.error(f'Error executing query:\\n{nwa_load_stmnt}\\n\\n{e}')\n",
    "finally:\n",
    "    end_time = time.time()\n",
    "    logging.info(f'Time taken: {end_time - start_time:.3f} seconds\\n>>>>>>>>>>>>>><<<<<<<<<<<<<<\\n\\n')\n",
    "\n",
    "# Execute query and measure execution time\n",
    "start_time = time.time()\n",
    "\n",
    "# Wipe temp table\n",
    "try:\n",
    "    cursor.execute(nat_dlt_tble_stmnt)\n",
    "    logging.info(f'Successfully executed query:\\n{nat_dlt_tble_stmnt}\\n\\nRecords scanned: {cursor.rowcount}')\n",
    "except mysql.Error as e:\n",
    "    logging.error(f'Error executing query:\\n{nat_dlt_tble_stmnt}\\n\\n{e}')\n",
    "finally:\n",
    "    end_time = time.time()\n",
    "    logging.info(f'Time taken: {end_time - start_time:.3f} seconds\\n>>>>>>>>>>>>>><<<<<<<<<<<<<<\\n\\n')"
   ]
  },
  {
   "attachments": {},
   "cell_type": "markdown",
   "id": "5699729c-2960-4519-b287-9a6f315a7e35",
   "metadata": {},
   "source": [
    "### Commit changes and close cursor and connection instances"
   ]
  },
  {
   "cell_type": "code",
   "execution_count": 23,
   "id": "ce9228f3-083f-4fc1-850d-fc5e4bde40b0",
   "metadata": {},
   "outputs": [],
   "source": [
    "# Commit the changes to the database\n",
    "db_conn.commit()\n",
    "\n",
    "# Close the cursor and database connection\n",
    "cursor.close()\n",
    "db_conn.close()"
   ]
  },
  {
   "cell_type": "code",
   "execution_count": null,
   "id": "afcfbc12",
   "metadata": {},
   "outputs": [],
   "source": []
  }
 ],
 "metadata": {
  "kernelspec": {
   "display_name": "Python 3 (ipykernel)",
   "language": "python",
   "name": "python3"
  },
  "language_info": {
   "codemirror_mode": {
    "name": "ipython",
    "version": 3
   },
   "file_extension": ".py",
   "mimetype": "text/x-python",
   "name": "python",
   "nbconvert_exporter": "python",
   "pygments_lexer": "ipython3",
   "version": "3.8.16"
  }
 },
 "nbformat": 4,
 "nbformat_minor": 5
}
