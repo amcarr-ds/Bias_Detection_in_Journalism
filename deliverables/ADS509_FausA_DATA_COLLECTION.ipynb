{
 "cells": [
  {
   "attachments": {},
   "cell_type": "markdown",
   "metadata": {},
   "source": [
    "# Data Collection \n",
    "\n",
    "### API and WEBSCRAPE articles\n",
    "\n",
    "These articles will be used to:\n",
    "\n",
    "* TRAIN and TEST MODEL \n",
    "    * from CNN, FOX, BREITBERT, and WASHINGTON POST\n",
    "* CLASSIFY Stakeholder's Data using trained MODEL \n",
    "    * from THE HILL\n"
   ]
  },
  {
   "cell_type": "code",
   "execution_count": null,
   "metadata": {},
   "outputs": [],
   "source": [
    "#! pip install pyLDavis\n",
    "\n",
    "import pyLDAvis\n",
    "\n",
    "pyLDAvis.enable_notebook()\n",
    "from tqdm.auto import tqdm\n",
    "\n",
    "import pyLDAvis.lda_model\n",
    "import pyLDAvis.gensim_models\n",
    "\n",
    "import numpy as np\n",
    "import pandas as pd\n",
    "import pymysql as mysql\n",
    "import matplotlib.pyplot as plt\n",
    "import os\n",
    "import shutil\n",
    "import re\n",
    "import logging\n",
    "import time\n",
    "import zipfile\n",
    "import requests\n",
    "from bs4 import BeautifulSoup\n",
    "import datetime\n",
    "import re\n",
    "import regex as rex\n",
    "from collections import defaultdict, Counter\n",
    "import random\n",
    "import requests\n",
    "from bs4 import BeautifulSoup\n",
    "import datetime\n",
    "import json\n",
    "from wordcloud import WordCloud \n",
    "from tabulate import tabulate\n",
    "from sklearn.svm import SVC\n",
    "\n",
    "\n",
    "import sqlite3\n",
    "import nltk\n",
    "from string import punctuation\n",
    "from nltk.corpus import stopwords\n",
    "import re\n",
    "import emoji\n",
    "from nltk.metrics import ConfusionMatrix\n",
    "import itertools\n",
    "import collections\n",
    "\n",
    "from sklearn.model_selection import train_test_split\n",
    "from sklearn.feature_extraction.text import TfidfVectorizer, CountVectorizer\n",
    "from sklearn.decomposition import NMF\n",
    "from sklearn.svm import SVC\n",
    "from sklearn.metrics import accuracy_score, f1_score, recall_score, precision_recall_curve\n",
    "from sklearn.metrics import confusion_matrix\n",
    "from sklearn.metrics import classification_report\n",
    "## Depracated:\n",
    "# from sklearn.metrics import plot_confusion_matrix\n",
    "## New version:\n",
    "from sklearn.metrics import ConfusionMatrixDisplay\n",
    "from sklearn.model_selection import cross_val_score\n",
    "from sklearn.pipeline import Pipeline\n",
    "from sklearn.model_selection import GridSearchCV\n",
    "from sklearn.svm import LinearSVC\n",
    "from sklearn.decomposition import LatentDirichletAllocation\n",
    "\n",
    "#import mysql.connector\n",
    "\n",
    "# Set pandas global options\n",
    "pd.options.display.max_rows = 17\n",
    "\n",
    "import warnings\n",
    "warnings.filterwarnings('ignore')\n",
    "warnings.simplefilter('ignore')"
   ]
  },
  {
   "attachments": {},
   "cell_type": "markdown",
   "metadata": {},
   "source": [
    "## Connect to NewsAPI client"
   ]
  },
  {
   "cell_type": "code",
   "execution_count": null,
   "metadata": {},
   "outputs": [],
   "source": [
    "from newsapi import NewsApiClient\n",
    "\n",
    "api_key = os.environ['NewsAPIKey']\n",
    "\n",
    "# Init\n",
    "newsapi = NewsApiClient(api_key=api_key)"
   ]
  },
  {
   "attachments": {},
   "cell_type": "markdown",
   "metadata": {},
   "source": [
    "## Pull article URLs and info from API"
   ]
  },
  {
   "attachments": {},
   "cell_type": "markdown",
   "metadata": {},
   "source": [
    "### /v2/top-headlines/sources\n",
    "sources = newsapi.get_sources()\n",
    "print(sources)"
   ]
  },
  {
   "cell_type": "code",
   "execution_count": null,
   "metadata": {},
   "outputs": [],
   "source": [
    "def news_api_urls(q=None,\n",
    "                  s=None,\n",
    "                  d_from='2023-05-01',\n",
    "                  d_to='2023-05-31',\n",
    "                  api_lst=[]):\n",
    "    all_articles = newsapi.get_everything(q=q,\n",
    "                                          sources=s,\n",
    "                                          from_param=d_from,\n",
    "                                          to=d_to,\n",
    "                                          language='en',\n",
    "                                          sort_by='relevancy',\n",
    "                                          page=1)\n",
    "\n",
    "    print(type(all_articles))\n",
    "    print(all_articles)\n",
    "    #print('Article list: ', all_articles['articles'])\n",
    "    for article in all_articles['articles']:\n",
    "        print('Source ID:', article['source']['id'])\n",
    "        print('Source name:', article['source']['name'])\n",
    "        print('Author:', article['author'])\n",
    "        print('Title:', article['title'])\n",
    "        print('URL:', article['url'])\n",
    "        print('Publish date:', article['publishedAt'])\n",
    "        print('Article text:', article['content'], '\\n')\n",
    "\n",
    "    # Create a list of tuples from the dictionary data\n",
    "    source_data01 = [(a['source']['name'],\n",
    "                      a['author'],\n",
    "                      a['title'],\n",
    "                      a['url'],\n",
    "                      a['publishedAt'],\n",
    "                      a['content'])\n",
    "                     for a in all_articles['articles']]\n",
    "\n",
    "    api_lst.extend(source_data01)\n",
    "    #print(api_lst)\n",
    "    print(len(api_lst))"
   ]
  },
  {
   "attachments": {},
   "cell_type": "markdown",
   "metadata": {},
   "source": [
    "## Data Collection:\n",
    "\n",
    "### Connect to API to access URLs"
   ]
  },
  {
   "attachments": {},
   "cell_type": "markdown",
   "metadata": {},
   "source": [
    "#### Set API filter parameters"
   ]
  },
  {
   "attachments": {},
   "cell_type": "markdown",
   "metadata": {},
   "source": [
    "**Extract Training Data for Classifier**\n",
    "\n",
    "Two Left leaning and Two Right leaning news sources are queried, collected, cleaned, and prepared for model training and test"
   ]
  },
  {
   "cell_type": "code",
   "execution_count": null,
   "metadata": {},
   "outputs": [],
   "source": [
    "# Parameters to extract API News data from 4 sources:\n",
    "\n",
    "source_lst = ['the-washington-post','cnn','fox-news','breitbart-news']\n",
    "\n",
    "\n",
    "date_lst = ['2023-05-18', '2023-05-19', '2023-05-21', '2023-05-22', '2023-05-23'] \n",
    "\n",
    "\n",
    "q_word_lst = ['justice OR surveillance', 'healthcare OR \"health care\"',\n",
    "              '(political AND (bias OR party)) OR republican OR democrat OR election',\n",
    "              'security AND (social OR national)', '(policy AND (drug OR \"affirmative action\")) OR regulate OR regulation']\n",
    "\n"
   ]
  },
  {
   "attachments": {},
   "cell_type": "markdown",
   "metadata": {},
   "source": [
    "**Extract Client Data for Business Application of our Classifer**\n",
    "\n",
    "Data from what is considered a Centered news source is extracted, preprocessed, and prepared to run through our trained Classifier. We report back the data gathered, the overall lean found in that data, and give details on the lean, if a political lean is found in the data."
   ]
  },
  {
   "cell_type": "code",
   "execution_count": null,
   "metadata": {},
   "outputs": [],
   "source": [
    "# Parameters to extract API News data from 1 centered source:\n",
    "\n",
    "source_lst = ['associated-press']\n",
    "\n",
    "\n",
    "date_lst = ['2023-05-18', '2023-05-19', '2023-05-20', '2023-05-21', '2023-05-22', '2023-05-23',\n",
    "            '2023-05-24', '2023-05-25', '2023-05-17', '2023-05-16', '2023-05-15', '2023-05-14',\n",
    "            '2023-05-26', '2023-05-27', '2023-05-28', '2023-05-29', '2023-05-30', '2023-05-31',\n",
    "            '2023-05-13', '2023-05-12']\n",
    "\n",
    "#, '2023-05-11', '2023-05-10', '2023-05-09', '2023-05-08']\n",
    "\n",
    "q_word_lst = ['justice OR surveillance', 'healthcare OR \"health care\"',\n",
    "              '(political AND (bias OR party)) OR republican OR democrat OR election',\n",
    "              'security AND (social OR national)', '(policy AND (drug OR \"affirmative action\")) OR regulate OR regulation']\n",
    "\n"
   ]
  },
  {
   "cell_type": "code",
   "execution_count": null,
   "metadata": {},
   "outputs": [],
   "source": [
    "# Parameters to extract API News data from 1 centered source:\n",
    "\n",
    "source_lst = ['the-hill']\n",
    "\n",
    "\n",
    "date_lst = ['2023-05-18', '2023-05-19', '2023-05-20', '2023-05-21', '2023-05-22', '2023-05-23',\n",
    "            '2023-05-24', '2023-05-25', '2023-05-17', '2023-05-16', '2023-05-15', '2023-05-14',\n",
    "            '2023-05-26', '2023-05-27', '2023-05-28', '2023-05-29', '2023-05-30', '2023-05-31']\n",
    "#date_lst = ['2023-06-01','2023-06-02','2023-06-03','2023-06-04','2023-06-05','2023-06-06','2023-06-07',\n",
    "#            '2023-06-08','2023-06-09','2023-06-10','2023-06-11','2023-06-12','2023-06-13','2023-06-14',\n",
    "#            '2023-06-15']\n",
    "\n",
    "q_word_lst = ['justice OR surveillance', 'healthcare OR \"health care\"',\n",
    "              '(political AND (bias OR party)) OR republican OR democrat OR election',\n",
    "              'security AND (social OR national)', '(policy AND (drug OR \"affirmative action\")) OR regulate OR regulation']\n",
    "\n"
   ]
  },
  {
   "attachments": {},
   "cell_type": "markdown",
   "metadata": {},
   "source": [
    "#### Access API (collect URLs)"
   ]
  },
  {
   "attachments": {},
   "cell_type": "markdown",
   "metadata": {},
   "source": [
    "Using the defined parameters above, extract URL and other data information from the desired news sources."
   ]
  },
  {
   "cell_type": "code",
   "execution_count": 1,
   "metadata": {},
   "outputs": [],
   "source": [
    "api_record_lst01 = []\n",
    "for s in source_lst:\n",
    "    print(f'Source: {s}')\n",
    "    for d in date_lst:\n",
    "        print(f'Date: {d}')\n",
    "        for q in q_word_lst:\n",
    "            print(f'Query word: {q}')\n",
    "            time.sleep(5 + 11 * random.random())\n",
    "            news_api_urls(q=q,\n",
    "                          s=s,\n",
    "                          d_from=d,\n",
    "                          d_to=d,\n",
    "                          api_lst=api_record_lst01)\n",
    "            print(s, d, q)\n",
    "    time.sleep(10 + 13 * random.random())\n",
    "\n",
    "#print(api_record_lst01)\n",
    "#print(len(api_record_lst01))"
   ]
  },
  {
   "attachments": {},
   "cell_type": "markdown",
   "metadata": {},
   "source": [
    "#### Save into DataFrames:"
   ]
  },
  {
   "attachments": {},
   "cell_type": "markdown",
   "metadata": {},
   "source": [
    "Four sources data (used to TRAIN and TEST the MODEL):"
   ]
  },
  {
   "cell_type": "code",
   "execution_count": null,
   "metadata": {},
   "outputs": [],
   "source": [
    "api_record_df2 = pd.DataFrame (list (api_record_lst01),\n",
    "                                   columns = ['Source','Author','Title','URL','date','content'])"
   ]
  },
  {
   "attachments": {},
   "cell_type": "markdown",
   "metadata": {},
   "source": [
    "Centered Client data (stakeholder's data that will be CLASSIFIED using above mentioned MODEL):"
   ]
  },
  {
   "cell_type": "code",
   "execution_count": null,
   "metadata": {},
   "outputs": [],
   "source": [
    "api_record_df = pd.DataFrame (list (api_record_lst01),\n",
    "                                   columns = ['Source','Author','Title','URL','date','content'])\n",
    "#api_record_df.to_csv(\"News_API_Reuters2.csv\", sep=',')\n",
    "api_record_df.to_csv(\"News_API_TheHill3.csv\", sep=',')"
   ]
  },
  {
   "cell_type": "code",
   "execution_count": null,
   "metadata": {},
   "outputs": [
    {
     "data": {
      "text/plain": [
       "(69, 6)"
      ]
     },
     "metadata": {},
     "output_type": "display_data"
    }
   ],
   "source": [
    "api_record_df.shape"
   ]
  },
  {
   "attachments": {},
   "cell_type": "markdown",
   "metadata": {},
   "source": [
    "#### Code to combine different dataframes for training (my portion): (no need to run again)"
   ]
  },
  {
   "cell_type": "code",
   "execution_count": null,
   "metadata": {},
   "outputs": [],
   "source": [
    "api_record_df_final = pd.concat([api_record_df2, api_record_df])\n"
   ]
  },
  {
   "cell_type": "code",
   "execution_count": null,
   "metadata": {},
   "outputs": [],
   "source": [
    "api_record_df_final.to_csv(\"News_API_FOX_CNN_Breitbert_May18_23_May31.csv\", sep=',')\n",
    "api_record_df.to_csv(\"News_API_FOX_CNN_Breitbert_May20_May31.csv\", sep=',')\n",
    "api_record_df2.to_csv(\"News_API_FOX_CNN_Breitbert_May1819_May2123.csv\", sep=',')"
   ]
  },
  {
   "cell_type": "code",
   "execution_count": null,
   "metadata": {},
   "outputs": [],
   "source": [
    "api_record_df_filtered = api_record_df[api_record_df.Source != 'The Washington Post']"
   ]
  },
  {
   "cell_type": "code",
   "execution_count": null,
   "metadata": {},
   "outputs": [],
   "source": [
    "api_data_df3=pd.read_csv('News_API_FOX_CNN_Breitbert_May18_23_May31_2.csv')\n"
   ]
  },
  {
   "cell_type": "code",
   "execution_count": null,
   "metadata": {},
   "outputs": [],
   "source": [
    "api_record_df_final3 = api_data_df3[api_data_df3.Source != 'The Washington Post']"
   ]
  },
  {
   "cell_type": "code",
   "execution_count": null,
   "metadata": {},
   "outputs": [],
   "source": [
    "api_record_df_final3.to_csv(\"News_API_FOX_CNN_Breitbert_May18_23_May31_3.csv\", sep=',')\n",
    "api_record_df_final3.shape\n",
    "api_record_df_filtered\n",
    "api_record_df2.shape"
   ]
  },
  {
   "cell_type": "code",
   "execution_count": null,
   "metadata": {},
   "outputs": [],
   "source": [
    "api_record_df_final2 = pd.concat([api_record_df2, api_record_df_filtered])\n",
    "api_record_df_final2.shape"
   ]
  },
  {
   "cell_type": "code",
   "execution_count": null,
   "metadata": {},
   "outputs": [],
   "source": [
    "api_record_df_final2.to_csv(\"News_API_FOX_CNN_Breitbert_May18_23_May31_2.csv\", sep=',')\n",
    "api_data_df_final3=pd.read_csv('News_API_FOX_CNN_Breitbert_May18_23_May31_2.csv')\n",
    "\n"
   ]
  },
  {
   "attachments": {},
   "cell_type": "markdown",
   "metadata": {},
   "source": [
    "### HTML scrape of URLs (to collect Article content)"
   ]
  },
  {
   "attachments": {},
   "cell_type": "markdown",
   "metadata": {},
   "source": [
    "#### FOX, CNN, Breitbert:"
   ]
  },
  {
   "cell_type": "code",
   "execution_count": null,
   "metadata": {},
   "outputs": [],
   "source": [
    "slct_tbl_full_df02 = api_record_df_final3.copy()\n",
    "\n",
    "\n",
    "\n",
    "slct_tbl_full_df02['article_parsed'] = ''\n",
    "\n",
    "total_urls = len(slct_tbl_full_df02)\n",
    "\n",
    "# Start timer\n",
    "start_time = datetime.date.today()\n",
    "\n",
    "\n",
    "for i, row in enumerate(slct_tbl_full_df02.itertuples(), 1):\n",
    "    print(row[5])\n",
    "    article=[]\n",
    "    #url = slct_tbl_full_df02.at[i,'URL']\n",
    "    url=row[5]\n",
    "    response = requests.get(url)\n",
    "    time.sleep(5 + 10*random.random())\n",
    "\n",
    "    soup = BeautifulSoup(response.text, 'html.parser')\n",
    "\n",
    "    try:\n",
    "        script_tag = soup.find('script', {'type': 'application/ld+json'})\n",
    "        if script_tag == None:\n",
    "            print('\\nJSON Object == None: Index:', i-1, '; source:',\n",
    "                  row[2],\n",
    "                  '; URL:', row[5]) \n",
    "        else:\n",
    "            article_json = json.loads(script_tag.string)\n",
    "            article_content = article_json['articleBody']\n",
    "            slct_tbl_full_df02.at[row.Index, 'article_parsed'] = article_content\n",
    "\n",
    "    except KeyError:\n",
    "        print('\\nMissing JSON key: Index:', i-1, '; source:',\n",
    "              row[2],\n",
    "              '; URL:', row[5]) \n",
    "        article_body = soup.find('div', class_='article__content-container') \n",
    "\n",
    "        if article_body is None: #forfoxandbreitbert(sometimes)\n",
    "            print('Class != article__content-container')\n",
    "            article_body = soup.find('p', class_=\"speakable\")\n",
    "            if article_body is None: #breitbert(most)\n",
    "                print('Class != speakable')\n",
    "                article_body = soup.find('div', class_='entry-content')\n",
    "                if article_body is None: #WashPost\n",
    "                    print('Class != entry-content')\n",
    "                    article_body = soup.find('div',class_='article-body')\n",
    "\n",
    "        if article_body is not None:\n",
    "            article_text = article_body.get_text()\n",
    "            slct_tbl_full_df02.at[row.Index, 'article_parsed'] = article_text\n",
    "        else:\n",
    "            print('Could not parse')\n",
    "\n",
    "    print('.', end='')\n",
    "        \n",
    "# End timer script\n",
    "end_time = datetime.date.today()\n",
    "time_elapse = end_time - start_time\n",
    "print(f'Start Time = {start_time}')\n",
    "print(f'End Time = {end_time}')\n",
    "print(f'Elapsed Time = {time_elapse}')"
   ]
  },
  {
   "cell_type": "code",
   "execution_count": null,
   "metadata": {},
   "outputs": [],
   "source": [
    "slct_tbl_full_df02.to_csv(\"News_API_FOX_CNN_Breitbert_May18_23_May31_3.csv\", sep=',')"
   ]
  },
  {
   "attachments": {},
   "cell_type": "markdown",
   "metadata": {},
   "source": [
    "#### The Hill:"
   ]
  },
  {
   "cell_type": "code",
   "execution_count": null,
   "metadata": {},
   "outputs": [
    {
     "name": "stdout",
     "output_type": "stream",
     "text": [
      "https://thehill.com/homenews/house/4010248-greene-plans-file-articles-impeachment-biden/\n",
      "\n",
      "Missing JSON key: Index: 0 ; source: The Hill ; URL: https://thehill.com/homenews/house/4010248-greene-plans-file-articles-impeachment-biden/\n",
      ".https://thehill.com/policy/energy-environment/4011061-markey-bill-would-restore-ban-on-u-s-fossil-fuel-exports/\n",
      "\n",
      "Missing JSON key: Index: 1 ; source: The Hill ; URL: https://thehill.com/policy/energy-environment/4011061-markey-bill-would-restore-ban-on-u-s-fossil-fuel-exports/\n",
      ".https://thehill.com/policy/healthcare/4009038-what-a-default-could-mean-for-medicaid-and-other-federal-benefits/\n",
      "\n",
      "Missing JSON key: Index: 2 ; source: The Hill ; URL: https://thehill.com/policy/healthcare/4009038-what-a-default-could-mean-for-medicaid-and-other-federal-benefits/\n",
      ".https://thehill.com/business/4010770-with-biden-in-japan-harris-pushes-white-house-message-on-debt-ceiling/\n",
      "\n",
      "Missing JSON key: Index: 3 ; source: The Hill ; URL: https://thehill.com/business/4010770-with-biden-in-japan-harris-pushes-white-house-message-on-debt-ceiling/\n",
      ".https://thehill.com/homenews/house/4010248-greene-plans-file-articles-impeachment-biden/\n",
      "\n",
      "Missing JSON key: Index: 4 ; source: The Hill ; URL: https://thehill.com/homenews/house/4010248-greene-plans-file-articles-impeachment-biden/\n",
      ".https://thehill.com/homenews/house/4011190-conservatives-make-last-minute-push-for-border-security-in-debt-ceiling-package/\n",
      "\n",
      "Missing JSON key: Index: 5 ; source: The Hill ; URL: https://thehill.com/homenews/house/4011190-conservatives-make-last-minute-push-for-border-security-in-debt-ceiling-package/\n",
      ".https://thehill.com/policy/healthcare/4009038-what-a-default-could-mean-for-medicaid-and-other-federal-benefits/\n",
      "\n",
      "Missing JSON key: Index: 6 ; source: The Hill ; URL: https://thehill.com/policy/healthcare/4009038-what-a-default-could-mean-for-medicaid-and-other-federal-benefits/\n",
      ".https://thehill.com/business/4010770-with-biden-in-japan-harris-pushes-white-house-message-on-debt-ceiling/\n",
      "\n",
      "Missing JSON key: Index: 7 ; source: The Hill ; URL: https://thehill.com/business/4010770-with-biden-in-japan-harris-pushes-white-house-message-on-debt-ceiling/\n",
      ".https://thehill.com/homenews/house/4010248-greene-plans-file-articles-impeachment-biden/\n",
      "\n",
      "Missing JSON key: Index: 8 ; source: The Hill ; URL: https://thehill.com/homenews/house/4010248-greene-plans-file-articles-impeachment-biden/\n",
      ".https://thehill.com/blogs/blog-briefing-room/4011488-hyundai-kia-agree-to-pay-200-million-to-settle-lawsuit-after-rise-in-thefts/\n",
      "\n",
      "Missing JSON key: Index: 9 ; source: The Hill ; URL: https://thehill.com/blogs/blog-briefing-room/4011488-hyundai-kia-agree-to-pay-200-million-to-settle-lawsuit-after-rise-in-thefts/\n",
      ".https://thehill.com/policy/healthcare/4009038-what-a-default-could-mean-for-medicaid-and-other-federal-benefits/\n",
      "\n",
      "Missing JSON key: Index: 10 ; source: The Hill ; URL: https://thehill.com/policy/healthcare/4009038-what-a-default-could-mean-for-medicaid-and-other-federal-benefits/\n",
      ".https://thehill.com/homenews/senate/4011114-cruz-opens-a-probe-into-anheuser-busch-over-dylan-mulvaney-partnership/\n",
      "\n",
      "Missing JSON key: Index: 11 ; source: The Hill ; URL: https://thehill.com/homenews/senate/4011114-cruz-opens-a-probe-into-anheuser-busch-over-dylan-mulvaney-partnership/\n",
      ".https://thehill.com/homenews/state-watch/4012940-florida-health-care-providers-are-pausing-gender-affirming-care-for-adults/\n",
      "\n",
      "Missing JSON key: Index: 12 ; source: The Hill ; URL: https://thehill.com/homenews/state-watch/4012940-florida-health-care-providers-are-pausing-gender-affirming-care-for-adults/\n",
      ".https://thehill.com/business/4012762-66-progressive-lawmakers-urge-biden-to-use-14th-amendment-in-debt-ceiling-fight/\n",
      "\n",
      "Missing JSON key: Index: 13 ; source: The Hill ; URL: https://thehill.com/business/4012762-66-progressive-lawmakers-urge-biden-to-use-14th-amendment-in-debt-ceiling-fight/\n",
      ".https://thehill.com/homenews/campaign/4011971-youngkin-fuels-2024-speculation-with-campaign-style-video/\n",
      "\n",
      "Missing JSON key: Index: 14 ; source: The Hill ; URL: https://thehill.com/homenews/campaign/4011971-youngkin-fuels-2024-speculation-with-campaign-style-video/\n",
      ".https://thehill.com/business/ap-american-airlines-and-jetblue-must-abandon-their-partnership-in-the-northeast-federal-judge-rules/\n",
      "\n",
      "Missing JSON key: Index: 15 ; source: The Hill ; URL: https://thehill.com/business/ap-american-airlines-and-jetblue-must-abandon-their-partnership-in-the-northeast-federal-judge-rules/\n",
      ".https://thehill.com/homenews/administration/4013134-white-house-optimistic-about-path-forward-despite-serious-differences-on-budget-talks/\n",
      "\n",
      "Missing JSON key: Index: 16 ; source: The Hill ; URL: https://thehill.com/homenews/administration/4013134-white-house-optimistic-about-path-forward-despite-serious-differences-on-budget-talks/\n",
      ".https://thehill.com/homenews/senate/4014417-senate-democrat-calls-potential-for-debt-default-a-manufactured-crisis/\n",
      "\n",
      "Missing JSON key: Index: 17 ; source: The Hill ; URL: https://thehill.com/homenews/senate/4014417-senate-democrat-calls-potential-for-debt-default-a-manufactured-crisis/\n",
      ".https://thehill.com/homenews/senate/4014204-van-hollen-lawmakers-should-move-to-plan-b-as-debt-ceiling-talks-stall/\n",
      "\n",
      "Missing JSON key: Index: 18 ; source: The Hill ; URL: https://thehill.com/homenews/senate/4014204-van-hollen-lawmakers-should-move-to-plan-b-as-debt-ceiling-talks-stall/\n",
      ".https://thehill.com/homenews/administration/4014239-yellen-sidesteps-question-on-which-bills-would-go-unpaid-if-us-defaults-on-debt/\n",
      "\n",
      "Missing JSON key: Index: 19 ; source: The Hill ; URL: https://thehill.com/homenews/administration/4014239-yellen-sidesteps-question-on-which-bills-would-go-unpaid-if-us-defaults-on-debt/\n",
      ".https://thehill.com/homenews/senate/4014417-senate-democrat-calls-potential-for-debt-default-a-manufactured-crisis/\n",
      "\n",
      "Missing JSON key: Index: 20 ; source: The Hill ; URL: https://thehill.com/homenews/senate/4014417-senate-democrat-calls-potential-for-debt-default-a-manufactured-crisis/\n",
      ".https://thehill.com/homenews/administration/4014239-yellen-sidesteps-question-on-which-bills-would-go-unpaid-if-us-defaults-on-debt/\n",
      "\n",
      "Missing JSON key: Index: 21 ; source: The Hill ; URL: https://thehill.com/homenews/administration/4014239-yellen-sidesteps-question-on-which-bills-would-go-unpaid-if-us-defaults-on-debt/\n",
      ".https://thehill.com/homenews/senate/4014204-van-hollen-lawmakers-should-move-to-plan-b-as-debt-ceiling-talks-stall/\n",
      "\n",
      "Missing JSON key: Index: 22 ; source: The Hill ; URL: https://thehill.com/homenews/senate/4014204-van-hollen-lawmakers-should-move-to-plan-b-as-debt-ceiling-talks-stall/\n",
      ".https://thehill.com/homenews/administration/4014242-yellen-calls-debt-ceiling-constraint-on-nations-ability-to-pay-its-bills/\n",
      "\n",
      "Missing JSON key: Index: 23 ; source: The Hill ; URL: https://thehill.com/homenews/administration/4014242-yellen-calls-debt-ceiling-constraint-on-nations-ability-to-pay-its-bills/\n",
      ".https://thehill.com/homenews/4011270-this-brewery-made-tipping-optional-heres-why/\n",
      "\n",
      "Missing JSON key: Index: 24 ; source: The Hill ; URL: https://thehill.com/homenews/4011270-this-brewery-made-tipping-optional-heres-why/\n",
      ".https://thehill.com/homenews/house/4015577-these-are-the-biggest-sticking-points-in-the-debt-ceiling-fight/\n",
      "\n",
      "Missing JSON key: Index: 25 ; source: The Hill ; URL: https://thehill.com/homenews/house/4015577-these-are-the-biggest-sticking-points-in-the-debt-ceiling-fight/\n",
      ".https://thehill.com/homenews/senate/4016038-mccarthy-has-little-room-to-maneuver-in-debt-ceiling-talks/\n",
      "\n",
      "Missing JSON key: Index: 26 ; source: The Hill ; URL: https://thehill.com/homenews/senate/4016038-mccarthy-has-little-room-to-maneuver-in-debt-ceiling-talks/\n",
      ".https://thehill.com/blogs/blog-briefing-room/4012827-does-god-exist-only-half-of-americans-say-a-definite-yes/\n",
      "\n",
      "Missing JSON key: Index: 27 ; source: The Hill ; URL: https://thehill.com/blogs/blog-briefing-room/4012827-does-god-exist-only-half-of-americans-say-a-definite-yes/\n",
      ".https://thehill.com/homenews/administration/4015863-debt-ceiling-yellen-says-treasury-to-run-out-of-funds-by-early-june-and-possibly-june-1/\n",
      "\n",
      "Missing JSON key: Index: 28 ; source: The Hill ; URL: https://thehill.com/homenews/administration/4015863-debt-ceiling-yellen-says-treasury-to-run-out-of-funds-by-early-june-and-possibly-june-1/\n",
      ".https://thehill.com/policy/defense/4015404-anti-putin-group-claims-it-has-liberated-town-inside-russias-belgorod-region/\n",
      "\n",
      "Missing JSON key: Index: 29 ; source: The Hill ; URL: https://thehill.com/policy/defense/4015404-anti-putin-group-claims-it-has-liberated-town-inside-russias-belgorod-region/\n",
      ".https://thehill.com/business/4015711-health-insurance-for-600000-americans-at-stake-in-debt-ceiling-debate/\n",
      "\n",
      "Missing JSON key: Index: 30 ; source: The Hill ; URL: https://thehill.com/business/4015711-health-insurance-for-600000-americans-at-stake-in-debt-ceiling-debate/\n",
      ".https://thehill.com/business/budget/4016872-house-republicans-cancel-markups-for-spending-bills-amid-debt-ceiling-talks/\n",
      "\n",
      "Missing JSON key: Index: 31 ; source: The Hill ; URL: https://thehill.com/business/budget/4016872-house-republicans-cancel-markups-for-spending-bills-amid-debt-ceiling-talks/\n",
      ".https://thehill.com/homenews/senate/4017344-rick-scott-issues-travel-advisory-for-socialists-warning-florida-is-openly-hostile-to-them/\n",
      "\n",
      "Missing JSON key: Index: 32 ; source: The Hill ; URL: https://thehill.com/homenews/senate/4017344-rick-scott-issues-travel-advisory-for-socialists-warning-florida-is-openly-hostile-to-them/\n",
      ".https://thehill.com/homenews/media/4016941-trump-attacks-foxs-laura-ingraham-over-hit-piece-on-his-poll-numbers/\n",
      "\n",
      "Missing JSON key: Index: 33 ; source: The Hill ; URL: https://thehill.com/homenews/media/4016941-trump-attacks-foxs-laura-ingraham-over-hit-piece-on-his-poll-numbers/\n",
      ".https://thehill.com/homenews/house/4016326-jeffries-suggests-hed-support-spending-freeze/\n",
      "\n",
      "Missing JSON key: Index: 34 ; source: The Hill ; URL: https://thehill.com/homenews/house/4016326-jeffries-suggests-hed-support-spending-freeze/\n",
      ".https://thehill.com/homenews/house/4016098-mccarthy-end-game-on-debt-ceiling-begins-to-come-into-focus/\n",
      "\n",
      "Missing JSON key: Index: 35 ; source: The Hill ; URL: https://thehill.com/homenews/house/4016098-mccarthy-end-game-on-debt-ceiling-begins-to-come-into-focus/\n",
      ".https://thehill.com/business/4017263-house-gop-presses-fhfa-chief-on-new-mortgage-fees/\n",
      "\n",
      "Missing JSON key: Index: 36 ; source: The Hill ; URL: https://thehill.com/business/4017263-house-gop-presses-fhfa-chief-on-new-mortgage-fees/\n",
      ".https://thehill.com/business/4015711-health-insurance-for-600000-americans-at-stake-in-debt-ceiling-debate/\n",
      "\n",
      "Missing JSON key: Index: 37 ; source: The Hill ; URL: https://thehill.com/business/4015711-health-insurance-for-600000-americans-at-stake-in-debt-ceiling-debate/\n",
      ".https://thehill.com/business/4016240-mulvaney-14th-amendment-doesnt-really-solve-the-problem/\n",
      "\n",
      "Missing JSON key: Index: 38 ; source: The Hill ; URL: https://thehill.com/business/4016240-mulvaney-14th-amendment-doesnt-really-solve-the-problem/\n",
      ".https://thehill.com/policy/national-security/4017839-trump-faces-intensifying-legal-problems/\n",
      "\n",
      "Missing JSON key: Index: 39 ; source: The Hill ; URL: https://thehill.com/policy/national-security/4017839-trump-faces-intensifying-legal-problems/\n",
      ".https://thehill.com/policy/defense/4018797-who-are-the-anti-putin-groups-that-marched-into-russian-territory/\n",
      "\n",
      "Missing JSON key: Index: 40 ; source: The Hill ; URL: https://thehill.com/policy/defense/4018797-who-are-the-anti-putin-groups-that-marched-into-russian-territory/\n",
      ".https://thehill.com/homenews/4018653-newsom-knocks-target-ceo-for-pulling-lgbtq-merchandise-from-stores/\n",
      "\n",
      "Missing JSON key: Index: 41 ; source: The Hill ; URL: https://thehill.com/homenews/4018653-newsom-knocks-target-ceo-for-pulling-lgbtq-merchandise-from-stores/\n",
      ".https://thehill.com/policy/healthcare/4017827-chicago-mpox-outbreak-raises-alarm-over-summer-spread/\n",
      "\n",
      "Missing JSON key: Index: 42 ; source: The Hill ; URL: https://thehill.com/policy/healthcare/4017827-chicago-mpox-outbreak-raises-alarm-over-summer-spread/\n",
      ".https://thehill.com/homenews/house/4019483-democrats-unanimously-back-debt-ceiling-discharge-petition/\n",
      "\n",
      "Missing JSON key: Index: 43 ; source: The Hill ; URL: https://thehill.com/homenews/house/4019483-democrats-unanimously-back-debt-ceiling-discharge-petition/\n",
      ".https://thehill.com/blogs/blog-briefing-room/4018452-6-in-10-say-spending-cuts-should-accompany-increase-in-debt-ceiling-poll/\n",
      "\n",
      "Missing JSON key: Index: 44 ; source: The Hill ; URL: https://thehill.com/blogs/blog-briefing-room/4018452-6-in-10-say-spending-cuts-should-accompany-increase-in-debt-ceiling-poll/\n",
      ".https://thehill.com/business/4016740-how-us-farmland-became-a-battleground-in-the-fight-against-china/\n",
      "\n",
      "Missing JSON key: Index: 45 ; source: The Hill ; URL: https://thehill.com/business/4016740-how-us-farmland-became-a-battleground-in-the-fight-against-china/\n",
      ".https://thehill.com/homenews/4019168-greene-says-no-one-is-concerned-about-debt-default-in-republican-conference/\n",
      "\n",
      "Missing JSON key: Index: 46 ; source: The Hill ; URL: https://thehill.com/homenews/4019168-greene-says-no-one-is-concerned-about-debt-default-in-republican-conference/\n",
      ".https://thehill.com/homenews/administration/4019080-yellen-says-its-almost-certain-debt-ceiling-deadline-would-be-in-early-june/\n",
      "\n",
      "Missing JSON key: Index: 47 ; source: The Hill ; URL: https://thehill.com/homenews/administration/4019080-yellen-says-its-almost-certain-debt-ceiling-deadline-would-be-in-early-june/\n",
      ".https://thehill.com/homenews/house/4019823-democrats-erupt-in-laughter-after-greene-calls-for-decorum-in-house/\n",
      "\n",
      "Missing JSON key: Index: 48 ; source: The Hill ; URL: https://thehill.com/homenews/house/4019823-democrats-erupt-in-laughter-after-greene-calls-for-decorum-in-house/\n",
      ".https://thehill.com/homenews/4019017-haley-says-shed-sign-abortion-ban-but-more-republicans-are-needed-in-congress/\n",
      "\n",
      "Missing JSON key: Index: 49 ; source: The Hill ; URL: https://thehill.com/homenews/4019017-haley-says-shed-sign-abortion-ban-but-more-republicans-are-needed-in-congress/\n",
      ".https://thehill.com/policy/national-security/4017839-trump-faces-intensifying-legal-problems/\n",
      "\n",
      "Missing JSON key: Index: 50 ; source: The Hill ; URL: https://thehill.com/policy/national-security/4017839-trump-faces-intensifying-legal-problems/\n",
      ".https://thehill.com/homenews/campaign/4018939-7-in-10-independents-concerned-about-bidens-mental-fitness-survey/\n",
      "\n",
      "Missing JSON key: Index: 51 ; source: The Hill ; URL: https://thehill.com/homenews/campaign/4018939-7-in-10-independents-concerned-about-bidens-mental-fitness-survey/\n",
      ".https://thehill.com/homenews/house/4019823-democrats-erupt-in-laughter-after-greene-calls-for-decorum-in-house/\n",
      "\n",
      "Missing JSON key: Index: 52 ; source: The Hill ; URL: https://thehill.com/homenews/house/4019823-democrats-erupt-in-laughter-after-greene-calls-for-decorum-in-house/\n",
      ".https://thehill.com/business/4018837-moodys-chief-economist-everyone-is-going-to-get-hurt-if-us-defaults-on-debt/\n",
      "\n",
      "Missing JSON key: Index: 53 ; source: The Hill ; URL: https://thehill.com/business/4018837-moodys-chief-economist-everyone-is-going-to-get-hurt-if-us-defaults-on-debt/\n",
      ".https://thehill.com/business/4016740-how-us-farmland-became-a-battleground-in-the-fight-against-china/\n",
      "\n",
      "Missing JSON key: Index: 54 ; source: The Hill ; URL: https://thehill.com/business/4016740-how-us-farmland-became-a-battleground-in-the-fight-against-china/\n",
      ".https://thehill.com/policy/national-security/4017839-trump-faces-intensifying-legal-problems/\n",
      "\n",
      "Missing JSON key: Index: 55 ; source: The Hill ; URL: https://thehill.com/policy/national-security/4017839-trump-faces-intensifying-legal-problems/\n",
      ".https://thehill.com/homenews/campaign/4020983-desantis-says-hell-consider-pardoning-jan-6-defendants-including-trump/\n",
      "\n",
      "Missing JSON key: Index: 56 ; source: The Hill ; URL: https://thehill.com/homenews/campaign/4020983-desantis-says-hell-consider-pardoning-jan-6-defendants-including-trump/\n",
      ".https://thehill.com/regulation/court-battles/4020888-kavanaugh-joins-supreme-court-liberals-in-disagreeing-with-new-wetlands-test/\n",
      "\n",
      "Missing JSON key: Index: 57 ; source: The Hill ; URL: https://thehill.com/regulation/court-battles/4020888-kavanaugh-joins-supreme-court-liberals-in-disagreeing-with-new-wetlands-test/\n",
      ".https://thehill.com/homenews/senate/4019680-democrats-seek-unlikely-debt-ceiling-savior-mitch-mcconnell/\n",
      "\n",
      "Missing JSON key: Index: 58 ; source: The Hill ; URL: https://thehill.com/homenews/senate/4019680-democrats-seek-unlikely-debt-ceiling-savior-mitch-mcconnell/\n",
      ".https://thehill.com/latino/4020967-mexican-president-tells-florida-hispanics-dont-give-one-single-vote-to-desantis/\n",
      "\n",
      "Missing JSON key: Index: 59 ; source: The Hill ; URL: https://thehill.com/latino/4020967-mexican-president-tells-florida-hispanics-dont-give-one-single-vote-to-desantis/\n",
      ".https://thehill.com/homenews/house/4021122-house-leaves-town-with-no-debt-limit-deal/\n",
      "\n",
      "Missing JSON key: Index: 60 ; source: The Hill ; URL: https://thehill.com/homenews/house/4021122-house-leaves-town-with-no-debt-limit-deal/\n",
      ".https://thehill.com/homenews/house/4021057-35-house-conservatives-pitch-irs-and-covid-19-funding-repeal-to-push-back-debt-x-date/\n",
      "\n",
      "Missing JSON key: Index: 61 ; source: The Hill ; URL: https://thehill.com/homenews/house/4021057-35-house-conservatives-pitch-irs-and-covid-19-funding-repeal-to-push-back-debt-x-date/\n",
      ".https://thehill.com/business/4019217-gop-attack-on-irs-funding-runs-counter-to-deficit-reduction-effort/\n",
      "\n",
      "Missing JSON key: Index: 62 ; source: The Hill ; URL: https://thehill.com/business/4019217-gop-attack-on-irs-funding-runs-counter-to-deficit-reduction-effort/\n",
      ".https://thehill.com/opinion/national-security/4018271-is-iran-unlocking-the-gates-to-armageddon/\n",
      "\n",
      "Missing JSON key: Index: 63 ; source: The Hill ; URL: https://thehill.com/opinion/national-security/4018271-is-iran-unlocking-the-gates-to-armageddon/\n",
      ".https://thehill.com/business/4009135-senators-fight-over-source-of-us-deficit-as-default-looms/\n",
      "\n",
      "Missing JSON key: Index: 64 ; source: The Hill ; URL: https://thehill.com/business/4009135-senators-fight-over-source-of-us-deficit-as-default-looms/\n",
      ".https://thehill.com/homenews/campaign/4008113-desantis-sees-both-endorsed-candidates-lose/\n",
      "\n",
      "Missing JSON key: Index: 65 ; source: The Hill ; URL: https://thehill.com/homenews/campaign/4008113-desantis-sees-both-endorsed-candidates-lose/\n",
      ".https://thehill.com/homenews/campaign/4008323-trump-taunts-desantis-over-crafts-loss-in-kentucky-gop-race-rons-magic-is-gone/\n",
      "\n",
      "Missing JSON key: Index: 66 ; source: The Hill ; URL: https://thehill.com/homenews/campaign/4008323-trump-taunts-desantis-over-crafts-loss-in-kentucky-gop-race-rons-magic-is-gone/\n",
      ".https://thehill.com/business/4009135-senators-fight-over-source-of-us-deficit-as-default-looms/\n",
      "\n",
      "Missing JSON key: Index: 67 ; source: The Hill ; URL: https://thehill.com/business/4009135-senators-fight-over-source-of-us-deficit-as-default-looms/\n",
      ".https://thehill.com/blogs/blog-briefing-room/4008216-un-sees-two-in-three-chance-world-will-temporarily-reach-temperature-threshold-soon/\n",
      "\n",
      "Missing JSON key: Index: 68 ; source: The Hill ; URL: https://thehill.com/blogs/blog-briefing-room/4008216-un-sees-two-in-three-chance-world-will-temporarily-reach-temperature-threshold-soon/\n",
      ".Start Time = 2023-06-17\n",
      "End Time = 2023-06-17\n",
      "Elapsed Time = 0:00:00\n"
     ]
    }
   ],
   "source": [
    "slct_tbl_full_df02 = api_record_df.copy()\n",
    "\n",
    "\n",
    "slct_tbl_full_df02['article_parsed'] = ''\n",
    "\n",
    "total_urls = len(slct_tbl_full_df02)\n",
    "\n",
    "# Start timer\n",
    "start_time = datetime.date.today()\n",
    "\n",
    "\n",
    "for i, row in enumerate(slct_tbl_full_df02.itertuples(), 1):\n",
    "    print(row[4])\n",
    "    article=[]\n",
    "    #url = slct_tbl_full_df02.at[i,'URL']\n",
    "    url=row[4]\n",
    "    response = requests.get(url)\n",
    "    time.sleep(5 + 10*random.random())\n",
    "\n",
    "    soup = BeautifulSoup(response.text, 'html.parser')\n",
    "\n",
    "    try:\n",
    "        script_tag = soup.find('script', {'type': 'application/ld+json'})\n",
    "        if script_tag == None:\n",
    "            print('\\nJSON Object == None: Index:', i-1, '; source:',\n",
    "                  row[1],\n",
    "                  '; URL:', row[4]) \n",
    "        else:\n",
    "            article_json = json.loads(script_tag.string)\n",
    "            article_content = article_json['articleBody']\n",
    "            slct_tbl_full_df02.at[row.Index, 'article_parsed'] = article_content\n",
    "\n",
    "    except KeyError:\n",
    "        print('\\nMissing JSON key: Index:', i-1, '; source:',\n",
    "              row[1],\n",
    "              '; URL:', row[4]) \n",
    "        #article_body = soup.find('div', class_='article__content__6hMn9') #Reuters scrape attempt\n",
    "        #article_body = soup.find('div', class_='Article') #AP scrape attempt\n",
    "        article_body = soup.find('div', class_='article__text | body-copy | flow') #theHill\n",
    "\n",
    "        if article_body is None: #forfoxandbreitbert(sometimes)\n",
    "            print('Class != article__content-container')\n",
    "            article_body = soup.find('p', class_=\"speakable\")\n",
    "            if article_body is None: #breitbert(most)\n",
    "                print('Class != speakable')\n",
    "                article_body = soup.find('div', class_='entry-content')\n",
    "                if article_body is None: #WashPost\n",
    "                    print('Class != entry-content')\n",
    "                    article_body = soup.find('div',class_='article-body')\n",
    "\n",
    "        if article_body is not None:\n",
    "            article_text = article_body.get_text()\n",
    "            slct_tbl_full_df02.at[row.Index, 'article_parsed'] = article_text\n",
    "        else:\n",
    "            print('Could not parse')\n",
    "\n",
    "    print('.', end='')\n",
    "        \n",
    "# End timer script\n",
    "end_time = datetime.date.today()\n",
    "time_elapse = end_time - start_time\n",
    "print(f'Start Time = {start_time}')\n",
    "print(f'End Time = {end_time}')\n",
    "print(f'Elapsed Time = {time_elapse}')"
   ]
  },
  {
   "attachments": {},
   "cell_type": "markdown",
   "metadata": {},
   "source": [
    "#### Check Data:"
   ]
  },
  {
   "cell_type": "code",
   "execution_count": null,
   "metadata": {},
   "outputs": [
    {
     "data": {
      "text/plain": [
       "Source            0\n",
       "Author            0\n",
       "Title             0\n",
       "URL               0\n",
       "date              0\n",
       "content           0\n",
       "article_parsed    0\n",
       "dtype: int64"
      ]
     },
     "metadata": {},
     "output_type": "display_data"
    }
   ],
   "source": [
    "slct_tbl_full_df02.isnull().sum()"
   ]
  },
  {
   "cell_type": "code",
   "execution_count": null,
   "metadata": {},
   "outputs": [],
   "source": [
    "api_record_df_latest=slct_tbl_full_df02.copy()"
   ]
  },
  {
   "attachments": {},
   "cell_type": "markdown",
   "metadata": {},
   "source": [
    "Make sure Word count for parsed article is correct:"
   ]
  },
  {
   "cell_type": "code",
   "execution_count": null,
   "metadata": {},
   "outputs": [],
   "source": [
    "api_record_df_latest['word_count'] = api_record_df_latest['article_parsed'].apply(lambda x: len(str(x).split(\" \")))"
   ]
  },
  {
   "attachments": {},
   "cell_type": "markdown",
   "metadata": {},
   "source": [
    "Only include rows with a word_count greater than 1:"
   ]
  },
  {
   "cell_type": "code",
   "execution_count": null,
   "metadata": {},
   "outputs": [],
   "source": [
    "api_record_df_latest = api_record_df_latest[api_record_df_latest['word_count']>1]"
   ]
  },
  {
   "attachments": {},
   "cell_type": "markdown",
   "metadata": {},
   "source": [
    "Save Data to CSV:"
   ]
  },
  {
   "cell_type": "code",
   "execution_count": null,
   "metadata": {},
   "outputs": [],
   "source": [
    "api_record_df_latest.to_csv(\"News_API_TheHill_wordcount3.csv\", sep=',')\n"
   ]
  }
 ],
 "metadata": {
  "kernelspec": {
   "display_name": "humans",
   "language": "python",
   "name": "python3"
  },
  "language_info": {
   "codemirror_mode": {
    "name": "ipython",
    "version": 3
   },
   "file_extension": ".py",
   "mimetype": "text/x-python",
   "name": "python",
   "nbconvert_exporter": "python",
   "pygments_lexer": "ipython3",
   "version": "3.9.7"
  },
  "orig_nbformat": 4
 },
 "nbformat": 4,
 "nbformat_minor": 2
}
